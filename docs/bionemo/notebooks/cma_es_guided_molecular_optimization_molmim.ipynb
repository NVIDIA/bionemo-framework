{
 "cells": [
  {
   "cell_type": "markdown",
   "metadata": {
    "tags": [
     "hide-output"
    ]
   },
   "source": [
    "# MolMIM Property Guided Molecular Optimization Using CMA-ES\n",
    "\n",
    "Here we demonstrate how to load a [MolMIM](https://arxiv.org/abs/2208.09016) checkpoint from the BioNeMo Framework and use it to optimize some molecules of interest with a custom user-defined scoring function. We use [CMA-ES](https://en.wikipedia.org/wiki/CMA-ES) to traverse the latent space of our MolMIM model and select novel, related molecules expected to improve performance as measured by the scoring function. To sample these molecules, we must complete the following steps:\n",
    "\n",
    "1. Load the desired MolMIM checkpoint.\n",
    "2. Encode the starting molecules into MolMIM's latent space.\n",
    "3. Run CMA-ES, which will iteratively perform the following:\n",
    "    1. Decode latent representations into SMILES strings.\n",
    "    2. Apply the user defined scoring function to these SMILES strings to generate SMILES/scores pairings.\n",
    "    3. Ask the CMA-ES algorithm for a new set of latent space representations from which to sample.\n",
    "\n",
    "Note: this notebook is derived from [a previous tutorial made for the BioNeMo Service version of MolMIM](https://github.com/NVIDIA/BioNeMo/blob/main/examples/service/notebooks/cma_custom_oracles.ipynb).\n",
    "\n",
    "### Setup your environment for this test\n",
    "For this tutorial, we assume you are running within the latest BioNeMo Framework Docker container.\n",
    "\n",
    "From within the Docker container, download the example checkpoint, or use your own: \n",
    "\n",
    "```\n",
    "python download_models.py --download_dir models molmim_70m_24_3\n",
    "```\n",
    "\n",
    "### Load your checkpoint into the molmim inference wrapper"
   ]
  },
  {
   "cell_type": "code",
   "execution_count": 1,
   "metadata": {
    "tags": [
     "hide-output"
    ]
   },
   "outputs": [
    {
     "name": "stdout",
     "output_type": "stream",
     "text": [
      "[NeMo I 2024-03-13 22:59:11 megatron_hiddens:110] Registered hidden transform sampled_var_cond_gaussian at bionemo.model.core.hiddens_support.SampledVarGaussianHiddenTransform\n",
      "[NeMo I 2024-03-13 22:59:11 megatron_hiddens:110] Registered hidden transform interp_var_cond_gaussian at bionemo.model.core.hiddens_support.InterpVarGaussianHiddenTransform\n",
      "[NeMo I 2024-03-13 22:59:11 utils:321] Restoring model from /workspace/bionemo/models/molecule/molmim/molmim_convergence_prod_March2024_pretrain_small_canonicalized_logv_ub2048_seq128_long_run_250k_val_f56de5c50.nemo\n",
      "[NeMo I 2024-03-13 22:59:11 utils:325] Loading model class: bionemo.model.molecule.molmim.molmim_model.MolMIMModel\n",
      "Interactive mode selected, using strategy='auto'\n"
     ]
    },
    {
     "name": "stderr",
     "output_type": "stream",
     "text": [
      "GPU available: True (cuda), used: True\n",
      "TPU available: False, using: 0 TPU cores\n",
      "IPU available: False, using: 0 IPUs\n",
      "HPU available: False, using: 0 HPUs\n"
     ]
    },
    {
     "name": "stdout",
     "output_type": "stream",
     "text": [
      "[NeMo I 2024-03-13 22:59:11 exp_manager:394] Experiments will be logged at /workspace/bionemo/test_results/nemo_experiments/molmim_infer/MolMIM_Inference/2024-03-13_22-59-11\n",
      "[NeMo I 2024-03-13 22:59:11 utils:294] \n",
      "    \n",
      "    ************** Trainer configuration ***********\n",
      "[NeMo I 2024-03-13 22:59:11 utils:295] \n",
      "    name: MolMIM_Inference\n",
      "    desc: Minimum configuration for initializing a MolMIM model for inference.\n",
      "    trainer:\n",
      "      precision: 16-mixed\n",
      "      devices: 1\n",
      "      num_nodes: 1\n",
      "      accelerator: gpu\n",
      "      logger: false\n",
      "      accumulate_grad_batches: 1\n",
      "    exp_manager:\n",
      "      explicit_log_dir: null\n",
      "      exp_dir: ${oc.env:BIONEMO_HOME}/test_results/nemo_experiments/molmim_infer\n",
      "      name: ${name}\n",
      "      create_checkpoint_callback: false\n",
      "      create_wandb_logger: false\n",
      "      create_tensorboard_logger: false\n",
      "      wandb_logger_kwargs:\n",
      "        offline: true\n",
      "    model:\n",
      "      encoder:\n",
      "        num_layers: 6\n",
      "        hidden_size: 512\n",
      "        ffn_hidden_size: 2048\n",
      "        num_attention_heads: 8\n",
      "        init_method_std: 0.02\n",
      "        hidden_dropout: 0.1\n",
      "        attention_dropout: 0.1\n",
      "        ffn_dropout: 0.0\n",
      "        position_embedding_type: learned_absolute\n",
      "        relative_attention_num_buckets: 32\n",
      "        relative_attention_max_distance: 128\n",
      "        relative_position_bias_self_attention_only: true\n",
      "        kv_channels: null\n",
      "        apply_query_key_layer_scaling: false\n",
      "        layernorm_epsilon: 1.0e-05\n",
      "        persist_layer_norm: true\n",
      "        bias_activation_fusion: true\n",
      "        grad_div_ar_fusion: true\n",
      "        masked_softmax_fusion: true\n",
      "        bias_dropout_add_fusion: true\n",
      "        bias: true\n",
      "        normalization: layernorm\n",
      "        arch: perceiver\n",
      "        activation: gelu\n",
      "        headscale: false\n",
      "        transformer_block_type: pre_ln\n",
      "        hidden_steps: 1\n",
      "        num_self_attention_per_cross_attention: 1\n",
      "        openai_gelu: false\n",
      "        onnx_safe: false\n",
      "        fp32_residual_connection: false\n",
      "        activations_checkpoint_method: null\n",
      "        activations_checkpoint_num_layers: 1\n",
      "        activations_checkpoint_granularity: null\n",
      "        megatron_legacy: false\n",
      "        normalize_attention_scores: true\n",
      "        num_moe_experts: 1\n",
      "        moe_frequency: 1\n",
      "        moe_dropout: 0.0\n",
      "        use_flash_attention: false\n",
      "      decoder:\n",
      "        num_layers: 6\n",
      "        hidden_size: 512\n",
      "        ffn_hidden_size: 2048\n",
      "        num_attention_heads: 8\n",
      "        init_method_std: 0.02\n",
      "        hidden_dropout: 0.1\n",
      "        attention_dropout: 0.1\n",
      "        ffn_dropout: 0.0\n",
      "        position_embedding_type: learned_absolute\n",
      "        relative_attention_num_buckets: 32\n",
      "        relative_attention_max_distance: 128\n",
      "        relative_position_bias_self_attention_only: true\n",
      "        kv_channels: null\n",
      "        apply_query_key_layer_scaling: false\n",
      "        layernorm_epsilon: 1.0e-05\n",
      "        persist_layer_norm: true\n",
      "        bias_activation_fusion: true\n",
      "        grad_div_ar_fusion: true\n",
      "        masked_softmax_fusion: true\n",
      "        bias_dropout_add_fusion: true\n",
      "        bias: true\n",
      "        normalization: layernorm\n",
      "        arch: transformer\n",
      "        activation: gelu\n",
      "        headscale: false\n",
      "        transformer_block_type: pre_ln\n",
      "        hidden_steps: 32\n",
      "        num_self_attention_per_cross_attention: 1\n",
      "        openai_gelu: false\n",
      "        onnx_safe: false\n",
      "        fp32_residual_connection: false\n",
      "        activations_checkpoint_method: null\n",
      "        activations_checkpoint_num_layers: 1\n",
      "        activations_checkpoint_granularity: null\n",
      "        megatron_legacy: false\n",
      "        normalize_attention_scores: true\n",
      "        num_moe_experts: 1\n",
      "        moe_frequency: 1\n",
      "        moe_dropout: 0.0\n",
      "        use_flash_attention: false\n",
      "      name: MolMIM-small\n",
      "      micro_batch_size: ${model.data.batch_size}\n",
      "      global_batch_size: 128\n",
      "      tensor_model_parallel_size: 1\n",
      "      pipeline_model_parallel_size: 1\n",
      "      resume_from_checkpoint: null\n",
      "      pipeline_model_parallel_split_rank: 0\n",
      "      make_vocab_size_divisible_by: 128\n",
      "      pre_process: true\n",
      "      post_process: true\n",
      "      megatron_amp_O2: false\n",
      "      seq_length: 128\n",
      "      max_position_embeddings: 128\n",
      "      gradient_as_bucket_view: true\n",
      "      bias_gelu_fusion: true\n",
      "      share_token_embeddings: true\n",
      "      share_decoder_tokens_head_embeddings: false\n",
      "      hidden_size: 512\n",
      "      training_callbacks: []\n",
      "      hiddens:\n",
      "        enc_output_name: z\n",
      "        enc_inference_output_name: z_mean\n",
      "        token_aggregation_method: mean\n",
      "        hidden_aggregation_method: mean\n",
      "        transform:\n",
      "          q_z_given_x:\n",
      "            cls_name: sampled_var_cond_gaussian\n",
      "            hidden_size: 512\n",
      "            min_logvar: -6.0\n",
      "            max_logvar: 0.0\n",
      "            map_var_to_hiddens: false\n",
      "        loss:\n",
      "          mim:\n",
      "            cls_name: a_mim\n",
      "            loss_weight: 1.0\n",
      "      tokenizer:\n",
      "        library: regex\n",
      "        type: null\n",
      "        model: nemo:048c1f797f464dd5b6a90f60f9405827_molmim.model\n",
      "        vocab_file: nemo:dd344353154640acbbaea1d4536fa7d0_molmim.vocab\n",
      "        merge_file: null\n",
      "        vocab_path: ${oc.env:BIONEMO_HOME}/tokenizers/molecule/molmim/vocab/molmim.vocab\n",
      "        model_path: ${oc.env:BIONEMO_HOME}/tokenizers/molecule/molmim/vocab/molmim.model\n",
      "      data:\n",
      "        links_file: /workspace/bionemo/examples/molecule/megamolbart/dataset/ZINC-downloader.txt\n",
      "        dataset_path: ${oc.env:BIONEMO_HOME}/examples/tests/test_data/molecule/physchem/SAMPL/test/x000\n",
      "        dataset:\n",
      "          train: x_OP_000..175_CL_\n",
      "          test: x_OP_000..175_CL_\n",
      "          val: x_OP_000..004_CL_\n",
      "        canonicalize_target_smile: true\n",
      "        canonicalize_encoder_input: true\n",
      "        canonicalize_decoder_output: true\n",
      "        encoder_augment: false\n",
      "        decoder_independent_augment: false\n",
      "        encoder_mask: false\n",
      "        decoder_mask: false\n",
      "        mask_prob: 0.0\n",
      "        span_lambda: 3.0\n",
      "        micro_batch_size: 2048\n",
      "        num_workers: 4\n",
      "        dataloader_type: single\n",
      "        max_seq_length: 128\n",
      "        seed: 42\n",
      "        skip_lines: 0\n",
      "        drop_last: false\n",
      "        pin_memory: false\n",
      "        data_impl: ''\n",
      "        index_mapping_type: online\n",
      "        data_impl_kwargs:\n",
      "          csv_mmap:\n",
      "            newline_int: 10\n",
      "            header_lines: 1\n",
      "            workers: 10\n",
      "            sort_dataset_paths: true\n",
      "            data_sep: ','\n",
      "            data_col: 1\n",
      "          csv_fields_mmap:\n",
      "            newline_int: 10\n",
      "            header_lines: 1\n",
      "            workers: null\n",
      "            sort_dataset_paths: false\n",
      "            data_sep: ','\n",
      "            data_fields:\n",
      "              id: 0\n",
      "              sequence: 1\n",
      "          fasta_fields_mmap:\n",
      "            data_fields:\n",
      "              id: 0\n",
      "              sequence: 1\n",
      "        use_upsampling: true\n",
      "        index_mapping_dir: null\n",
      "        batch_size: 128\n",
      "        output_fname: ${oc.env:BIONEMO_HOME}/test_results/nemo_experiments/molmim_infer/x000.pkl\n",
      "        data_fields_map:\n",
      "          sequence: smiles\n",
      "          id: iupac\n",
      "      optim:\n",
      "        name: fused_adam\n",
      "        lr: 0.0005\n",
      "        weight_decay: 0.001\n",
      "        betas:\n",
      "        - 0.9\n",
      "        - 0.999\n",
      "        sched:\n",
      "          name: CosineAnnealing\n",
      "          warmup_steps: 10000.0\n",
      "          constant_steps: 50000.0\n",
      "          max_steps: 1000000\n",
      "          min_lr: 5.0e-05\n",
      "      dwnstr_task_validation:\n",
      "        enabled: false\n",
      "        dataset:\n",
      "          class: bionemo.model.core.dwnstr_task_callbacks.SingleValuePredictionCallback\n",
      "          task_type: regression\n",
      "          infer_target: bionemo.model.molecule.molmim.infer.MolMIMInference\n",
      "          max_seq_length: 128\n",
      "          emb_batch_size: 128\n",
      "          batch_size: 128\n",
      "          num_epochs: 10\n",
      "          shuffle: true\n",
      "          num_workers: 8\n",
      "          dataset_path: /data/physchem/\n",
      "          task_name: SAMPL\n",
      "          dataset:\n",
      "            train: x000\n",
      "            test: x000\n",
      "          sequence_column: smiles\n",
      "          target_column: expt\n",
      "          random_seed: 1234\n",
      "          optim:\n",
      "            name: adam\n",
      "            lr: 0.0001\n",
      "            betas:\n",
      "            - 0.9\n",
      "            - 0.999\n",
      "            eps: 1.0e-08\n",
      "            weight_decay: 0.01\n",
      "            sched:\n",
      "              name: WarmupAnnealing\n",
      "              min_lr: 1.0e-05\n",
      "              last_epoch: -1\n",
      "              warmup_ratio: 0.01\n",
      "              max_steps: 1000\n",
      "      precision: 32\n",
      "      target: bionemo.model.molecule.molmim.molmim_model.MolMIMModel\n",
      "      nemo_version: 1.22.0\n",
      "      downstream_task:\n",
      "        restore_from_path: /workspace/bionemo/models/molecule/molmim/molmim_convergence_prod_March2024_pretrain_small_canonicalized_logv_ub2048_seq128_long_run_250k_val_f56de5c50.nemo\n",
      "        outputs:\n",
      "        - embeddings\n",
      "    target: bionemo.model.molecule.molmim.molmim_model.MolMIMModel\n",
      "    infer_target: bionemo.model.molecule.molmim.infer.MolMIMInference\n",
      "    formatters:\n",
      "      simple:\n",
      "        format: '[%(asctime)s][%(name)s][%(levelname)s] - %(message)s'\n",
      "    handlers:\n",
      "      console:\n",
      "        class: logging.StreamHandler\n",
      "        formatter: simple\n",
      "        stream: ext://sys.stdout\n",
      "      file:\n",
      "        class: logging.FileHandler\n",
      "        formatter: simple\n",
      "        filename: /logs/inference.log\n",
      "    root:\n",
      "      level: INFO\n",
      "      handlers:\n",
      "      - console\n",
      "    disable_existing_loggers: false\n",
      "    infer_config:\n",
      "      name: MolMIM_Inference\n",
      "      desc: Store the infer config in this block so we can pull the model path from it\n",
      "        later.\n",
      "      trainer:\n",
      "        precision: 16-mixed\n",
      "        devices: 1\n",
      "        num_nodes: 1\n",
      "        accelerator: gpu\n",
      "        logger: false\n",
      "      exp_manager:\n",
      "        explicit_log_dir: null\n",
      "        exp_dir: null\n",
      "        name: ${name}\n",
      "        create_checkpoint_callback: false\n",
      "      model:\n",
      "        micro_batch_size: ${model.data.batch_size}\n",
      "        downstream_task:\n",
      "          restore_from_path: ${oc.env:BIONEMO_HOME}/models/molecule/molmim/molmim_convergence_prod_March2024_pretrain_small_canonicalized_logv_ub2048_seq128_long_run_250k_val_f56de5c50.nemo\n",
      "          outputs:\n",
      "          - embeddings\n",
      "        data:\n",
      "          num_workers: 4\n",
      "          batch_size: 128\n",
      "          dataset_path: ${oc.env:BIONEMO_HOME}/examples/tests/test_data/molecule/physchem/SAMPL/test/x000\n",
      "          output_fname: ''\n",
      "          index_mapping_dir: null\n",
      "          data_fields_map:\n",
      "            sequence: smiles\n",
      "            id: iupac\n",
      "          data_impl: ''\n",
      "          data_impl_kwargs:\n",
      "            csv_fields_mmap:\n",
      "              newline_int: 10\n",
      "              header_lines: 1\n",
      "              workers: null\n",
      "              sort_dataset_paths: false\n",
      "              data_sep: ','\n",
      "              data_fields:\n",
      "                id: 0\n",
      "                sequence: 1\n",
      "            fasta_fields_mmap:\n",
      "              data_fields:\n",
      "                id: 0\n",
      "                sequence: 1\n",
      "        training_callbacks: []\n",
      "        tokenizer:\n",
      "          vocab_path: ${oc.env:BIONEMO_HOME}/tokenizers/molecule/molmim/vocab/molmim.vocab\n",
      "          model_path: ${oc.env:BIONEMO_HOME}/tokenizers/molecule/molmim/vocab/molmim.model\n",
      "      target: bionemo.model.molecule.molmim.molmim_model.MolMIMModel\n",
      "      infer_target: bionemo.model.molecule.molmim.infer.MolMIMInference\n",
      "      formatters:\n",
      "        simple:\n",
      "          format: '[%(asctime)s][%(name)s][%(levelname)s] - %(message)s'\n",
      "      handlers:\n",
      "        console:\n",
      "          class: logging.StreamHandler\n",
      "          formatter: simple\n",
      "          stream: ext://sys.stdout\n",
      "        file:\n",
      "          class: logging.FileHandler\n",
      "          formatter: simple\n",
      "          filename: /logs/inference.log\n",
      "      root:\n",
      "        level: INFO\n",
      "        handlers:\n",
      "        - console\n",
      "      disable_existing_loggers: false\n",
      "      hydra:\n",
      "        searchpath:\n",
      "        - file://${oc.env:BIONEMO_HOME}/examples/conf/\n",
      "    \n"
     ]
    },
    {
     "name": "stderr",
     "output_type": "stream",
     "text": [
      "[NeMo W 2024-03-13 22:59:12 megatron_base_model:821] The model: MolMIMModel() does not have field.name: context_parallel_size in its cfg. Add this key to cfg or config_mapping to make to make it configurable.\n",
      "[NeMo W 2024-03-13 22:59:12 megatron_base_model:821] The model: MolMIMModel() does not have field.name: virtual_pipeline_model_parallel_size in its cfg. Add this key to cfg or config_mapping to make to make it configurable.\n",
      "[NeMo W 2024-03-13 22:59:12 megatron_base_model:821] The model: MolMIMModel() does not have field.name: sequence_parallel in its cfg. Add this key to cfg or config_mapping to make to make it configurable.\n",
      "[NeMo W 2024-03-13 22:59:12 megatron_base_model:821] The model: MolMIMModel() does not have field.name: expert_model_parallel_size in its cfg. Add this key to cfg or config_mapping to make to make it configurable.\n",
      "[NeMo W 2024-03-13 22:59:12 megatron_base_model:821] The model: MolMIMModel() does not have field.name: use_cpu_initialization in its cfg. Add this key to cfg or config_mapping to make to make it configurable.\n",
      "[NeMo W 2024-03-13 22:59:12 megatron_base_model:821] The model: MolMIMModel() does not have field.name: gradient_accumulation_fusion in its cfg. Add this key to cfg or config_mapping to make to make it configurable.\n",
      "[NeMo W 2024-03-13 22:59:12 megatron_base_model:821] The model: MolMIMModel() does not have field.name: tp_comm_overlap in its cfg. Add this key to cfg or config_mapping to make to make it configurable.\n",
      "[NeMo W 2024-03-13 22:59:12 megatron_base_model:821] The model: MolMIMModel() does not have field.name: tp_comm_split_ag in its cfg. Add this key to cfg or config_mapping to make to make it configurable.\n",
      "[NeMo W 2024-03-13 22:59:12 megatron_base_model:821] The model: MolMIMModel() does not have field.name: tp_comm_split_rs in its cfg. Add this key to cfg or config_mapping to make to make it configurable.\n",
      "[NeMo W 2024-03-13 22:59:12 megatron_base_model:821] The model: MolMIMModel() does not have field.name: tp_comm_bulk_wgrad in its cfg. Add this key to cfg or config_mapping to make to make it configurable.\n",
      "[NeMo W 2024-03-13 22:59:12 megatron_base_model:821] The model: MolMIMModel() does not have field.name: tp_comm_bulk_dgrad in its cfg. Add this key to cfg or config_mapping to make to make it configurable.\n",
      "[NeMo W 2024-03-13 22:59:12 megatron_base_model:821] The model: MolMIMModel() does not have field.name: finalize_model_grads_func in its cfg. Add this key to cfg or config_mapping to make to make it configurable.\n",
      "[NeMo W 2024-03-13 22:59:12 megatron_base_model:821] The model: MolMIMModel() does not have field.name: overlap_p2p_comm in its cfg. Add this key to cfg or config_mapping to make to make it configurable.\n",
      "[NeMo W 2024-03-13 22:59:12 megatron_base_model:821] The model: MolMIMModel() does not have field.name: batch_p2p_comm in its cfg. Add this key to cfg or config_mapping to make to make it configurable.\n",
      "[NeMo W 2024-03-13 22:59:12 megatron_base_model:821] The model: MolMIMModel() does not have field.name: barrier_with_L1_time in its cfg. Add this key to cfg or config_mapping to make to make it configurable.\n"
     ]
    },
    {
     "name": "stdout",
     "output_type": "stream",
     "text": [
      "[NeMo I 2024-03-13 22:59:12 megatron_init:234] Rank 0 has data parallel group: [0]\n",
      "[NeMo I 2024-03-13 22:59:12 megatron_init:237] All data parallel group ranks: [[0]]\n",
      "[NeMo I 2024-03-13 22:59:12 megatron_init:238] Ranks 0 has data parallel rank: 0\n",
      "[NeMo I 2024-03-13 22:59:12 megatron_init:246] Rank 0 has model parallel group: [0]\n",
      "[NeMo I 2024-03-13 22:59:12 megatron_init:247] All model parallel group ranks: [[0]]\n",
      "[NeMo I 2024-03-13 22:59:12 megatron_init:257] Rank 0 has tensor model parallel group: [0]\n",
      "[NeMo I 2024-03-13 22:59:12 megatron_init:261] All tensor model parallel group ranks: [[0]]\n",
      "[NeMo I 2024-03-13 22:59:12 megatron_init:262] Rank 0 has tensor model parallel rank: 0\n",
      "[NeMo I 2024-03-13 22:59:12 megatron_init:276] Rank 0 has pipeline model parallel group: [0]\n",
      "[NeMo I 2024-03-13 22:59:12 megatron_init:288] Rank 0 has embedding group: [0]\n",
      "[NeMo I 2024-03-13 22:59:12 megatron_init:294] All pipeline model parallel group ranks: [[0]]\n",
      "[NeMo I 2024-03-13 22:59:12 megatron_init:295] Rank 0 has pipeline model parallel rank 0\n",
      "[NeMo I 2024-03-13 22:59:12 megatron_init:296] All embedding group ranks: [[0]]\n",
      "[NeMo I 2024-03-13 22:59:12 megatron_init:297] Rank 0 has embedding rank: 0\n"
     ]
    },
    {
     "name": "stderr",
     "output_type": "stream",
     "text": [
      "[NeMo W 2024-03-13 22:59:12 megatron_base_model:821] The model: MolMIMModel() does not have field.name: context_parallel_size in its cfg. Add this key to cfg or config_mapping to make to make it configurable.\n",
      "[NeMo W 2024-03-13 22:59:12 megatron_base_model:821] The model: MolMIMModel() does not have field.name: virtual_pipeline_model_parallel_size in its cfg. Add this key to cfg or config_mapping to make to make it configurable.\n",
      "[NeMo W 2024-03-13 22:59:12 megatron_base_model:821] The model: MolMIMModel() does not have field.name: sequence_parallel in its cfg. Add this key to cfg or config_mapping to make to make it configurable.\n",
      "[NeMo W 2024-03-13 22:59:12 megatron_base_model:821] The model: MolMIMModel() does not have field.name: expert_model_parallel_size in its cfg. Add this key to cfg or config_mapping to make to make it configurable.\n",
      "[NeMo W 2024-03-13 22:59:12 megatron_base_model:821] The model: MolMIMModel() does not have field.name: use_cpu_initialization in its cfg. Add this key to cfg or config_mapping to make to make it configurable.\n",
      "[NeMo W 2024-03-13 22:59:12 megatron_base_model:821] The model: MolMIMModel() does not have field.name: gradient_accumulation_fusion in its cfg. Add this key to cfg or config_mapping to make to make it configurable.\n",
      "[NeMo W 2024-03-13 22:59:12 megatron_base_model:821] The model: MolMIMModel() does not have field.name: tp_comm_overlap in its cfg. Add this key to cfg or config_mapping to make to make it configurable.\n",
      "[NeMo W 2024-03-13 22:59:12 megatron_base_model:821] The model: MolMIMModel() does not have field.name: tp_comm_split_ag in its cfg. Add this key to cfg or config_mapping to make to make it configurable.\n",
      "[NeMo W 2024-03-13 22:59:12 megatron_base_model:821] The model: MolMIMModel() does not have field.name: tp_comm_split_rs in its cfg. Add this key to cfg or config_mapping to make to make it configurable.\n",
      "[NeMo W 2024-03-13 22:59:12 megatron_base_model:821] The model: MolMIMModel() does not have field.name: tp_comm_bulk_wgrad in its cfg. Add this key to cfg or config_mapping to make to make it configurable.\n",
      "[NeMo W 2024-03-13 22:59:12 megatron_base_model:821] The model: MolMIMModel() does not have field.name: tp_comm_bulk_dgrad in its cfg. Add this key to cfg or config_mapping to make to make it configurable.\n",
      "[NeMo W 2024-03-13 22:59:12 megatron_base_model:821] The model: MolMIMModel() does not have field.name: finalize_model_grads_func in its cfg. Add this key to cfg or config_mapping to make to make it configurable.\n",
      "[NeMo W 2024-03-13 22:59:12 megatron_base_model:821] The model: MolMIMModel() does not have field.name: overlap_p2p_comm in its cfg. Add this key to cfg or config_mapping to make to make it configurable.\n",
      "[NeMo W 2024-03-13 22:59:12 megatron_base_model:821] The model: MolMIMModel() does not have field.name: batch_p2p_comm in its cfg. Add this key to cfg or config_mapping to make to make it configurable.\n",
      "[NeMo W 2024-03-13 22:59:12 megatron_base_model:821] The model: MolMIMModel() does not have field.name: barrier_with_L1_time in its cfg. Add this key to cfg or config_mapping to make to make it configurable.\n",
      "[NeMo W 2024-03-13 22:59:12 modelPT:251] You tried to register an artifact under config key=tokenizer.vocab_file but an artifact for it has already been registered.\n"
     ]
    },
    {
     "name": "stdout",
     "output_type": "stream",
     "text": [
      "[NeMo I 2024-03-13 22:59:12 tokenizer_utils:199] Using regex tokenization\n",
      "[NeMo I 2024-03-13 22:59:12 regex_tokenizer:240] Loading vocabulary from file = /tmp/tmpj7j6smqf/dd344353154640acbbaea1d4536fa7d0_molmim.vocab\n",
      "[NeMo I 2024-03-13 22:59:12 regex_tokenizer:254] Loading regex from file = /tmp/tmpj7j6smqf/048c1f797f464dd5b6a90f60f9405827_molmim.model\n",
      "[NeMo I 2024-03-13 22:59:12 megatron_base_model:315] Padded vocab_size: 640, original vocab_size: 523, dummy tokens: 117.\n",
      "[NeMo I 2024-03-13 22:59:12 megatron_hiddens:121] NOTE: Adding hiddens transforms and losses\n",
      "[NeMo I 2024-03-13 22:59:12 megatron_hiddens:149] Added transform q_z_given_x with cfg={'cls_name': 'sampled_var_cond_gaussian', 'hidden_size': 512, 'min_logvar': -6.0, 'max_logvar': 0.0, 'map_var_to_hiddens': False}\n",
      "[NeMo I 2024-03-13 22:59:12 megatron_hiddens:177] Added loss mim with cfg={'cls_name': 'a_mim', 'loss_weight': 1.0}\n",
      "[NeMo I 2024-03-13 22:59:12 nlp_overrides:752] Model MolMIMModel was successfully restored from /workspace/bionemo/models/molecule/molmim/molmim_convergence_prod_March2024_pretrain_small_canonicalized_logv_ub2048_seq128_long_run_250k_val_f56de5c50.nemo.\n"
     ]
    }
   ],
   "source": [
    "from bionemo.utils.hydra import load_model_config\n",
    "import os\n",
    "from bionemo.model.molecule.molmim.infer import MolMIMInference\n",
    "bionemo_home=f\"/workspace/bionemo\"\n",
    "os.environ['BIONEMO_HOME'] = bionemo_home\n",
    "checkpoint_path = f\"{bionemo_home}/models/molecule/molmim/molmim_70m_24_3.nemo\"\n",
    "cfg = load_model_config(config_name=\"molmim_infer.yaml\", config_path=f\"{bionemo_home}/examples/tests/conf/\") # reasonable starting config for molmim inference\n",
    "# This is the field of the config that we need to set to our desired checkpoint path.\n",
    "cfg.model.downstream_task.restore_from_path = checkpoint_path\n",
    "model = MolMIMInference(cfg, interactive=True)"
   ]
  },
  {
   "cell_type": "markdown",
   "metadata": {},
   "source": [
    "### Setup user-defined molecule scoring function\n",
    "This is the section where you as a user can pull in your own scoring functions that you want to optimize. For this example, we will be optimizing a combination of Tanimoto similarity to the input molecule and Quantitative Estimate of Druglikeness (QED) following the example from the initial [MolMIM publication](https://arxiv.org/abs/2208.09016):\n",
    "\n",
    "$$\n",
    "  score = min(QED / 0.9, 1) + min(Tanimoto / 0.4, 1)\n",
    "$$\n",
    "\n",
    "In this case, we will allow the model to optimize up to a maximum QED of 0.9 and Tanimoto similarity of 0.4. Once these maxima are achieved, we perform no further optimization. "
   ]
  },
  {
   "cell_type": "code",
   "execution_count": 2,
   "metadata": {},
   "outputs": [],
   "source": [
    "from typing import List, Optional\n",
    "\n",
    "import numpy as np\n",
    "\n",
    "from guided_molecule_gen.oracles import qed, tanimoto_similarity\n",
    "\n",
    "def score_mixing_function(qeds, similarities):\n",
    "    # We want to maximize QED and tanimoto similarity up to 0.9 and 0.4, respectively.\n",
    "    return np.clip(qeds / 0.9, a_min=0.0, a_max=1.0) + np.clip(similarities / 0.4, a_min=0.0, a_max=1.0)\n",
    "\n",
    "def try_canon(smiles:str) -> Optional[str]:\n",
    "    try:\n",
    "        return Chem.MolToSmiles(Chem.MolFromSmiles(smiles), canonical=True)\n",
    "    except:\n",
    "        return None\n",
    "\n",
    "def canonicalize(smiles: List[str]) -> List[str]:\n",
    "    return [try_canon(s) for s in smiles]\n",
    "\n",
    "\n",
    "def scoring_function(smiles: List[str], reference:str, **kwargs) -> np.ndarray:\n",
    "    \"\"\"Takes a list of SMILES strings and returns an array of scores.\n",
    "\n",
    "    Args:\n",
    "        smiles (List[str]): Smiles strings to generate a score for (one each)\n",
    "        reference (str): Reference molecule (SMILES string) is also used for this scoring function.\n",
    "\n",
    "    Returns:\n",
    "        np.ndarray: Array of scores, one for each input SMILES string.\n",
    "    \"\"\"\n",
    "    #csmiles = canonicalize(smiles)\n",
    "    scores: np.ndarray = score_mixing_function(qed(smiles), tanimoto_similarity(smiles, reference))\n",
    "    return -1 * scores"
   ]
  },
  {
   "cell_type": "markdown",
   "metadata": {},
   "source": [
    "### Define starting molecules\n",
    "In this section, we will define the starting molecules for the optimization process. As a set of examples, we will use imatinib, erlotinib, and gifitinib. We ensure that the SMILES strings representing these molecules are canonicalized using RDKit. MolMIM was trained on a corpus of RDKit-cononicalized SMILES strings, so any inputs and outputs should be RDKit-canonicalized as well to achieve peak performance."
   ]
  },
  {
   "cell_type": "code",
   "execution_count": 3,
   "metadata": {},
   "outputs": [
    {
     "data": {
      "image/png": "[encoded data removed]",
      "text/plain": [
       "<rdkit.Chem.rdchem.Mol at 0x7ff9030f9460>"
      ]
     },
     "execution_count": 3,
     "metadata": {},
     "output_type": "execute_result"
    }
   ],
   "source": [
    "from rdkit import Chem\n",
    "from rdkit.Chem.QED import qed as rdkit_qed\n",
    "starting_smiles = [\n",
    "    \"CC1=C(C=C(C=C1)NC(=O)C2=CC=C(C=C2)CN3CCN(CC3)C)NC4=NC=CC(=N4)C5=CN=CC=C5\", # imatinib\n",
    "    \"COCCOC1=C(C=C2C(=C1)C(=NC=N2)NC3=CC=CC(=C3)C#C)OCCOC\", # erlotinib\n",
    "    \"C1COCCN1CCCOc2c(OC)cc3ncnc(c3c2)Nc4cc(Cl)c(F)cc4\", # gifitinib\n",
    "]\n",
    "\n",
    "# Canonicalize all SMILES strings and print the structure of imatinib\n",
    "molecules = [Chem.MolFromSmiles(s) for s in starting_smiles]\n",
    "starting_qed = [rdkit_qed(m) for m in molecules]\n",
    "canonicalized_smiles = [Chem.MolToSmiles(m, canonical=True) for m in molecules]\n",
    "molecules[0]"
   ]
  },
  {
   "cell_type": "markdown",
   "metadata": {},
   "source": [
    "### Setup the optimizer and wrap the inference API for CMA-ES\n",
    "The CMA-ES library expects certain formats for input/output of the inference model to function properly. We provide a wrapper for this and show how to setup optimization below."
   ]
  },
  {
   "cell_type": "code",
   "execution_count": 4,
   "metadata": {},
   "outputs": [],
   "source": [
    "from bionemo.model.core.controlled_generation import ControlledGenerationPerceiverEncoderInferenceWrapper\n",
    "\n",
    "controlled_gen_kwargs = {\n",
    "    \"sampling_method\": \"beam-search\",\n",
    "    \"sampling_kwarg_overrides\": {\"beam_size\": 3, \"keep_only_best_tokens\": True, \"return_scores\": False},\n",
    "}\n",
    "\n",
    "model_wrapped = ControlledGenerationPerceiverEncoderInferenceWrapper(\n",
    "    model, enforce_perceiver=True, hidden_steps=1, **controlled_gen_kwargs\n",
    ")  # just flatten the position for this."
   ]
  },
  {
   "cell_type": "markdown",
   "metadata": {},
   "source": [
    "### Tune CMA-ES\n",
    "Different models will have different optimal settings for CMA-ES. Here, we perform a grid search over possible values of `sigma`, then perform more steps of optimization with the best. We will use the [Optuna library](https://optuna.org/) to perform this optimization over the `sigma` hyperparameter. This process is referred to as hyperparatemer optimization or HPO."
   ]
  },
  {
   "cell_type": "code",
   "execution_count": 5,
   "metadata": {
    "tags": [
     "hide-output"
    ]
   },
   "outputs": [
    {
     "name": "stdout",
     "output_type": "stream",
     "text": [
      "Defaulting to user installation because normal site-packages is not writeable\n",
      "Looking in indexes: https://pypi.org/simple, https://pypi.ngc.nvidia.com\n",
      "Requirement already satisfied: optuna in /workspace/bionemo/.local/lib/python3.10/site-packages (3.5.0)\n",
      "Requirement already satisfied: alembic>=1.5.0 in /workspace/bionemo/.local/lib/python3.10/site-packages (from optuna) (1.13.1)\n",
      "Requirement already satisfied: colorlog in /workspace/bionemo/.local/lib/python3.10/site-packages (from optuna) (6.8.2)\n",
      "Requirement already satisfied: numpy in /usr/local/lib/python3.10/dist-packages (from optuna) (1.23.5)\n",
      "Requirement already satisfied: packaging>=20.0 in /usr/local/lib/python3.10/dist-packages (from optuna) (23.1)\n",
      "Requirement already satisfied: sqlalchemy>=1.3.0 in /workspace/bionemo/.local/lib/python3.10/site-packages (from optuna) (2.0.28)\n",
      "Requirement already satisfied: tqdm in /usr/local/lib/python3.10/dist-packages (from optuna) (4.66.1)\n",
      "Requirement already satisfied: PyYAML in /usr/local/lib/python3.10/dist-packages (from optuna) (6.0.1)\n",
      "Requirement already satisfied: Mako in /workspace/bionemo/.local/lib/python3.10/site-packages (from alembic>=1.5.0->optuna) (1.3.2)\n",
      "Requirement already satisfied: typing-extensions>=4 in /usr/local/lib/python3.10/dist-packages (from alembic>=1.5.0->optuna) (4.7.1)\n",
      "Requirement already satisfied: greenlet!=0.4.17 in /usr/local/lib/python3.10/dist-packages (from sqlalchemy>=1.3.0->optuna) (3.0.3)\n",
      "Requirement already satisfied: MarkupSafe>=0.9.2 in /usr/local/lib/python3.10/dist-packages (from Mako->alembic>=1.5.0->optuna) (2.1.3)\n",
      "\n",
      "\u001b[1m[\u001b[0m\u001b[34;49mnotice\u001b[0m\u001b[1;39;49m]\u001b[0m\u001b[39;49m A new release of pip is available: \u001b[0m\u001b[31;49m23.2.1\u001b[0m\u001b[39;49m -> \u001b[0m\u001b[32;49m24.0\u001b[0m\n",
      "\u001b[1m[\u001b[0m\u001b[34;49mnotice\u001b[0m\u001b[1;39;49m]\u001b[0m\u001b[39;49m To update, run: \u001b[0m\u001b[32;49mpython -m pip install --upgrade pip\u001b[0m\n"
     ]
    }
   ],
   "source": [
    "!pip install optuna"
   ]
  },
  {
   "cell_type": "code",
   "execution_count": 6,
   "metadata": {
    "tags": [
     "hide-output"
    ]
   },
   "outputs": [
    {
     "name": "stderr",
     "output_type": "stream",
     "text": [
      "[I 2024-03-13 22:59:16,202] A new study created in memory with name: no-name-3ba43b4b-78b1-451a-85db-af9209468573\n",
      "[NeMo W 2024-03-13 22:59:16 nemo_logging:349] /usr/local/lib/python3.10/dist-packages/nemo/collections/nlp/modules/common/megatron/fused_bias_dropout_add.py:70: UserWarning: nvfuser integration in TorchScript is deprecated. (Triggered internally at /opt/pytorch/pytorch/torch/csrc/jit/codegen/cuda/interface.cpp:235.)\n",
      "      return bias_dropout_add_fused_inference_(*args)\n",
      "    \n"
     ]
    },
    {
     "name": "stdout",
     "output_type": "stream",
     "text": [
      "(5_w,10)-aCMA-ES (mu_w=3.2,w_1=45%) in dimension 512 (seed=491046, Wed Mar 13 22:59:17 2024)\n",
      "(5_w,10)-aCMA-ES (mu_w=3.2,w_1=45%) in dimension 512 (seed=480318, Wed Mar 13 22:59:17 2024)\n",
      "(5_w,10)-aCMA-ES (mu_w=3.2,w_1=45%) in dimension 512 (seed=396339, Wed Mar 13 22:59:17 2024)\n",
      "[NeMo I 2024-03-13 22:59:17 megatron_lm_encoder_decoder_model:1192] Decoding using the beam search method with beam size=3...\n",
      "[NeMo I 2024-03-13 22:59:20 megatron_lm_encoder_decoder_model:1192] Decoding using the beam search method with beam size=3...\n",
      "[NeMo I 2024-03-13 22:59:22 megatron_lm_encoder_decoder_model:1192] Decoding using the beam search method with beam size=3...\n",
      "[NeMo I 2024-03-13 22:59:24 megatron_lm_encoder_decoder_model:1192] Decoding using the beam search method with beam size=3...\n",
      "[NeMo I 2024-03-13 22:59:26 megatron_lm_encoder_decoder_model:1192] Decoding using the beam search method with beam size=3...\n",
      "[NeMo I 2024-03-13 22:59:27 megatron_lm_encoder_decoder_model:1192] Decoding using the beam search method with beam size=3...\n",
      "[NeMo I 2024-03-13 22:59:29 megatron_lm_encoder_decoder_model:1192] Decoding using the beam search method with beam size=3...\n",
      "[NeMo I 2024-03-13 22:59:31 megatron_lm_encoder_decoder_model:1192] Decoding using the beam search method with beam size=3...\n",
      "[NeMo I 2024-03-13 22:59:33 megatron_lm_encoder_decoder_model:1192] Decoding using the beam search method with beam size=3...\n",
      "[NeMo I 2024-03-13 22:59:35 megatron_lm_encoder_decoder_model:1192] Decoding using the beam search method with beam size=3...\n"
     ]
    },
    {
     "name": "stderr",
     "output_type": "stream",
     "text": [
      "[I 2024-03-13 22:59:37,497] Trial 0 finished with value: -1.6638290331236025 and parameters: {'sigma': 0.10108044811747341}. Best is trial 0 with value: -1.6638290331236025.\n"
     ]
    },
    {
     "name": "stdout",
     "output_type": "stream",
     "text": [
      "(5_w,10)-aCMA-ES (mu_w=3.2,w_1=45%) in dimension 512 (seed=487459, Wed Mar 13 22:59:37 2024)\n",
      "(5_w,10)-aCMA-ES (mu_w=3.2,w_1=45%) in dimension 512 (seed=440097, Wed Mar 13 22:59:37 2024)\n",
      "(5_w,10)-aCMA-ES (mu_w=3.2,w_1=45%) in dimension 512 (seed=475093, Wed Mar 13 22:59:37 2024)\n",
      "[NeMo I 2024-03-13 22:59:37 megatron_lm_encoder_decoder_model:1192] Decoding using the beam search method with beam size=3...\n",
      "[NeMo I 2024-03-13 22:59:39 megatron_lm_encoder_decoder_model:1192] Decoding using the beam search method with beam size=3...\n",
      "[NeMo I 2024-03-13 22:59:41 megatron_lm_encoder_decoder_model:1192] Decoding using the beam search method with beam size=3...\n",
      "[NeMo I 2024-03-13 22:59:43 megatron_lm_encoder_decoder_model:1192] Decoding using the beam search method with beam size=3...\n",
      "[NeMo I 2024-03-13 22:59:45 megatron_lm_encoder_decoder_model:1192] Decoding using the beam search method with beam size=3...\n",
      "[NeMo I 2024-03-13 22:59:47 megatron_lm_encoder_decoder_model:1192] Decoding using the beam search method with beam size=3...\n",
      "[NeMo I 2024-03-13 22:59:48 megatron_lm_encoder_decoder_model:1192] Decoding using the beam search method with beam size=3...\n",
      "[NeMo I 2024-03-13 22:59:50 megatron_lm_encoder_decoder_model:1192] Decoding using the beam search method with beam size=3...\n",
      "[NeMo I 2024-03-13 22:59:52 megatron_lm_encoder_decoder_model:1192] Decoding using the beam search method with beam size=3...\n",
      "[NeMo I 2024-03-13 22:59:54 megatron_lm_encoder_decoder_model:1192] Decoding using the beam search method with beam size=3...\n"
     ]
    },
    {
     "name": "stderr",
     "output_type": "stream",
     "text": [
      "[I 2024-03-13 22:59:56,644] Trial 1 finished with value: -1.61569207444316 and parameters: {'sigma': 0.0464091330072367}. Best is trial 0 with value: -1.6638290331236025.\n"
     ]
    },
    {
     "name": "stdout",
     "output_type": "stream",
     "text": [
      "(5_w,10)-aCMA-ES (mu_w=3.2,w_1=45%) in dimension 512 (seed=445648, Wed Mar 13 22:59:56 2024)\n",
      "(5_w,10)-aCMA-ES (mu_w=3.2,w_1=45%) in dimension 512 (seed=473902, Wed Mar 13 22:59:56 2024)\n",
      "(5_w,10)-aCMA-ES (mu_w=3.2,w_1=45%) in dimension 512 (seed=520987, Wed Mar 13 22:59:56 2024)\n",
      "[NeMo I 2024-03-13 22:59:56 megatron_lm_encoder_decoder_model:1192] Decoding using the beam search method with beam size=3...\n",
      "[NeMo I 2024-03-13 22:59:58 megatron_lm_encoder_decoder_model:1192] Decoding using the beam search method with beam size=3...\n",
      "[NeMo I 2024-03-13 23:00:00 megatron_lm_encoder_decoder_model:1192] Decoding using the beam search method with beam size=3...\n",
      "[NeMo I 2024-03-13 23:00:02 megatron_lm_encoder_decoder_model:1192] Decoding using the beam search method with beam size=3...\n",
      "[NeMo I 2024-03-13 23:00:04 megatron_lm_encoder_decoder_model:1192] Decoding using the beam search method with beam size=3...\n",
      "[NeMo I 2024-03-13 23:00:06 megatron_lm_encoder_decoder_model:1192] Decoding using the beam search method with beam size=3...\n",
      "[NeMo I 2024-03-13 23:00:08 megatron_lm_encoder_decoder_model:1192] Decoding using the beam search method with beam size=3...\n",
      "[NeMo I 2024-03-13 23:00:10 megatron_lm_encoder_decoder_model:1192] Decoding using the beam search method with beam size=3...\n",
      "[NeMo I 2024-03-13 23:00:12 megatron_lm_encoder_decoder_model:1192] Decoding using the beam search method with beam size=3...\n",
      "[NeMo I 2024-03-13 23:00:14 megatron_lm_encoder_decoder_model:1192] Decoding using the beam search method with beam size=3...\n"
     ]
    },
    {
     "name": "stderr",
     "output_type": "stream",
     "text": [
      "[I 2024-03-13 23:00:16,018] Trial 2 finished with value: -1.6638290331236025 and parameters: {'sigma': 0.15744424462048}. Best is trial 0 with value: -1.6638290331236025.\n"
     ]
    },
    {
     "name": "stdout",
     "output_type": "stream",
     "text": [
      "(5_w,10)-aCMA-ES (mu_w=3.2,w_1=45%) in dimension 512 (seed=413619, Wed Mar 13 23:00:16 2024)\n",
      "(5_w,10)-aCMA-ES (mu_w=3.2,w_1=45%) in dimension 512 (seed=419228, Wed Mar 13 23:00:16 2024)\n",
      "(5_w,10)-aCMA-ES (mu_w=3.2,w_1=45%) in dimension 512 (seed=419611, Wed Mar 13 23:00:16 2024)\n",
      "[NeMo I 2024-03-13 23:00:16 megatron_lm_encoder_decoder_model:1192] Decoding using the beam search method with beam size=3...\n",
      "[NeMo I 2024-03-13 23:00:17 megatron_lm_encoder_decoder_model:1192] Decoding using the beam search method with beam size=3...\n",
      "[NeMo I 2024-03-13 23:00:19 megatron_lm_encoder_decoder_model:1192] Decoding using the beam search method with beam size=3...\n",
      "[NeMo I 2024-03-13 23:00:21 megatron_lm_encoder_decoder_model:1192] Decoding using the beam search method with beam size=3...\n",
      "[NeMo I 2024-03-13 23:00:23 megatron_lm_encoder_decoder_model:1192] Decoding using the beam search method with beam size=3...\n",
      "[NeMo I 2024-03-13 23:00:25 megatron_lm_encoder_decoder_model:1192] Decoding using the beam search method with beam size=3...\n",
      "[NeMo I 2024-03-13 23:00:27 megatron_lm_encoder_decoder_model:1192] Decoding using the beam search method with beam size=3...\n",
      "[NeMo I 2024-03-13 23:00:29 megatron_lm_encoder_decoder_model:1192] Decoding using the beam search method with beam size=3...\n",
      "[NeMo I 2024-03-13 23:00:31 megatron_lm_encoder_decoder_model:1192] Decoding using the beam search method with beam size=3...\n",
      "[NeMo I 2024-03-13 23:00:33 megatron_lm_encoder_decoder_model:1192] Decoding using the beam search method with beam size=3...\n"
     ]
    },
    {
     "name": "stderr",
     "output_type": "stream",
     "text": [
      "[I 2024-03-13 23:00:35,362] Trial 3 finished with value: -1.8530729612244656 and parameters: {'sigma': 0.45084357718140655}. Best is trial 3 with value: -1.8530729612244656.\n"
     ]
    },
    {
     "name": "stdout",
     "output_type": "stream",
     "text": [
      "(5_w,10)-aCMA-ES (mu_w=3.2,w_1=45%) in dimension 512 (seed=477928, Wed Mar 13 23:00:35 2024)\n",
      "(5_w,10)-aCMA-ES (mu_w=3.2,w_1=45%) in dimension 512 (seed=453793, Wed Mar 13 23:00:35 2024)\n",
      "(5_w,10)-aCMA-ES (mu_w=3.2,w_1=45%) in dimension 512 (seed=411672, Wed Mar 13 23:00:35 2024)\n",
      "[NeMo I 2024-03-13 23:00:35 megatron_lm_encoder_decoder_model:1192] Decoding using the beam search method with beam size=3...\n",
      "[NeMo I 2024-03-13 23:00:37 megatron_lm_encoder_decoder_model:1192] Decoding using the beam search method with beam size=3...\n",
      "[NeMo I 2024-03-13 23:00:39 megatron_lm_encoder_decoder_model:1192] Decoding using the beam search method with beam size=3...\n",
      "[NeMo I 2024-03-13 23:00:41 megatron_lm_encoder_decoder_model:1192] Decoding using the beam search method with beam size=3...\n",
      "[NeMo I 2024-03-13 23:00:43 megatron_lm_encoder_decoder_model:1192] Decoding using the beam search method with beam size=3...\n",
      "[NeMo I 2024-03-13 23:00:45 megatron_lm_encoder_decoder_model:1192] Decoding using the beam search method with beam size=3...\n",
      "[NeMo I 2024-03-13 23:00:46 megatron_lm_encoder_decoder_model:1192] Decoding using the beam search method with beam size=3...\n",
      "[NeMo I 2024-03-13 23:00:48 megatron_lm_encoder_decoder_model:1192] Decoding using the beam search method with beam size=3...\n",
      "[NeMo I 2024-03-13 23:00:50 megatron_lm_encoder_decoder_model:1192] Decoding using the beam search method with beam size=3...\n",
      "[NeMo I 2024-03-13 23:00:52 megatron_lm_encoder_decoder_model:1192] Decoding using the beam search method with beam size=3...\n"
     ]
    },
    {
     "name": "stderr",
     "output_type": "stream",
     "text": [
      "[I 2024-03-13 23:00:54,653] Trial 4 finished with value: -1.5379594116516337 and parameters: {'sigma': 1.4504620074926753}. Best is trial 3 with value: -1.8530729612244656.\n"
     ]
    },
    {
     "name": "stdout",
     "output_type": "stream",
     "text": [
      "(5_w,10)-aCMA-ES (mu_w=3.2,w_1=45%) in dimension 512 (seed=506658, Wed Mar 13 23:00:54 2024)\n",
      "(5_w,10)-aCMA-ES (mu_w=3.2,w_1=45%) in dimension 512 (seed=492442, Wed Mar 13 23:00:54 2024)\n",
      "(5_w,10)-aCMA-ES (mu_w=3.2,w_1=45%) in dimension 512 (seed=456880, Wed Mar 13 23:00:54 2024)\n",
      "[NeMo I 2024-03-13 23:00:54 megatron_lm_encoder_decoder_model:1192] Decoding using the beam search method with beam size=3...\n",
      "[NeMo I 2024-03-13 23:00:56 megatron_lm_encoder_decoder_model:1192] Decoding using the beam search method with beam size=3...\n",
      "[NeMo I 2024-03-13 23:00:58 megatron_lm_encoder_decoder_model:1192] Decoding using the beam search method with beam size=3...\n",
      "[NeMo I 2024-03-13 23:01:00 megatron_lm_encoder_decoder_model:1192] Decoding using the beam search method with beam size=3...\n",
      "[NeMo I 2024-03-13 23:01:02 megatron_lm_encoder_decoder_model:1192] Decoding using the beam search method with beam size=3...\n",
      "[NeMo I 2024-03-13 23:01:04 megatron_lm_encoder_decoder_model:1192] Decoding using the beam search method with beam size=3...\n",
      "[NeMo I 2024-03-13 23:01:06 megatron_lm_encoder_decoder_model:1192] Decoding using the beam search method with beam size=3...\n",
      "[NeMo I 2024-03-13 23:01:07 megatron_lm_encoder_decoder_model:1192] Decoding using the beam search method with beam size=3...\n",
      "[NeMo I 2024-03-13 23:01:09 megatron_lm_encoder_decoder_model:1192] Decoding using the beam search method with beam size=3...\n",
      "[NeMo I 2024-03-13 23:01:11 megatron_lm_encoder_decoder_model:1192] Decoding using the beam search method with beam size=3...\n"
     ]
    },
    {
     "name": "stderr",
     "output_type": "stream",
     "text": [
      "[I 2024-03-13 23:01:13,691] Trial 5 finished with value: -1.5689882868681668 and parameters: {'sigma': 1.503569374238365}. Best is trial 3 with value: -1.8530729612244656.\n"
     ]
    },
    {
     "name": "stdout",
     "output_type": "stream",
     "text": [
      "(5_w,10)-aCMA-ES (mu_w=3.2,w_1=45%) in dimension 512 (seed=481307, Wed Mar 13 23:01:13 2024)\n",
      "(5_w,10)-aCMA-ES (mu_w=3.2,w_1=45%) in dimension 512 (seed=542525, Wed Mar 13 23:01:13 2024)\n",
      "(5_w,10)-aCMA-ES (mu_w=3.2,w_1=45%) in dimension 512 (seed=471643, Wed Mar 13 23:01:13 2024)\n",
      "[NeMo I 2024-03-13 23:01:13 megatron_lm_encoder_decoder_model:1192] Decoding using the beam search method with beam size=3...\n",
      "[NeMo I 2024-03-13 23:01:15 megatron_lm_encoder_decoder_model:1192] Decoding using the beam search method with beam size=3...\n",
      "[NeMo I 2024-03-13 23:01:17 megatron_lm_encoder_decoder_model:1192] Decoding using the beam search method with beam size=3...\n",
      "[NeMo I 2024-03-13 23:01:19 megatron_lm_encoder_decoder_model:1192] Decoding using the beam search method with beam size=3...\n",
      "[NeMo I 2024-03-13 23:01:21 megatron_lm_encoder_decoder_model:1192] Decoding using the beam search method with beam size=3...\n",
      "[NeMo I 2024-03-13 23:01:23 megatron_lm_encoder_decoder_model:1192] Decoding using the beam search method with beam size=3...\n",
      "[NeMo I 2024-03-13 23:01:25 megatron_lm_encoder_decoder_model:1192] Decoding using the beam search method with beam size=3...\n",
      "[NeMo I 2024-03-13 23:01:26 megatron_lm_encoder_decoder_model:1192] Decoding using the beam search method with beam size=3...\n",
      "[NeMo I 2024-03-13 23:01:28 megatron_lm_encoder_decoder_model:1192] Decoding using the beam search method with beam size=3...\n",
      "[NeMo I 2024-03-13 23:01:30 megatron_lm_encoder_decoder_model:1192] Decoding using the beam search method with beam size=3...\n"
     ]
    },
    {
     "name": "stderr",
     "output_type": "stream",
     "text": [
      "[I 2024-03-13 23:01:32,635] Trial 6 finished with value: -1.2443509072248136 and parameters: {'sigma': 1.6192892107065138}. Best is trial 3 with value: -1.8530729612244656.\n"
     ]
    },
    {
     "name": "stdout",
     "output_type": "stream",
     "text": [
      "(5_w,10)-aCMA-ES (mu_w=3.2,w_1=45%) in dimension 512 (seed=438798, Wed Mar 13 23:01:32 2024)\n",
      "(5_w,10)-aCMA-ES (mu_w=3.2,w_1=45%) in dimension 512 (seed=534689, Wed Mar 13 23:01:32 2024)\n",
      "(5_w,10)-aCMA-ES (mu_w=3.2,w_1=45%) in dimension 512 (seed=476276, Wed Mar 13 23:01:32 2024)\n",
      "[NeMo I 2024-03-13 23:01:32 megatron_lm_encoder_decoder_model:1192] Decoding using the beam search method with beam size=3...\n",
      "[NeMo I 2024-03-13 23:01:34 megatron_lm_encoder_decoder_model:1192] Decoding using the beam search method with beam size=3...\n",
      "[NeMo I 2024-03-13 23:01:36 megatron_lm_encoder_decoder_model:1192] Decoding using the beam search method with beam size=3...\n",
      "[NeMo I 2024-03-13 23:01:38 megatron_lm_encoder_decoder_model:1192] Decoding using the beam search method with beam size=3...\n",
      "[NeMo I 2024-03-13 23:01:40 megatron_lm_encoder_decoder_model:1192] Decoding using the beam search method with beam size=3...\n",
      "[NeMo I 2024-03-13 23:01:42 megatron_lm_encoder_decoder_model:1192] Decoding using the beam search method with beam size=3...\n",
      "[NeMo I 2024-03-13 23:01:44 megatron_lm_encoder_decoder_model:1192] Decoding using the beam search method with beam size=3...\n",
      "[NeMo I 2024-03-13 23:01:45 megatron_lm_encoder_decoder_model:1192] Decoding using the beam search method with beam size=3...\n",
      "[NeMo I 2024-03-13 23:01:47 megatron_lm_encoder_decoder_model:1192] Decoding using the beam search method with beam size=3...\n",
      "[NeMo I 2024-03-13 23:01:49 megatron_lm_encoder_decoder_model:1192] Decoding using the beam search method with beam size=3...\n"
     ]
    },
    {
     "name": "stderr",
     "output_type": "stream",
     "text": [
      "[I 2024-03-13 23:01:51,651] Trial 7 finished with value: -1.9071303470843353 and parameters: {'sigma': 0.3941460593453885}. Best is trial 7 with value: -1.9071303470843353.\n"
     ]
    },
    {
     "name": "stdout",
     "output_type": "stream",
     "text": [
      "(5_w,10)-aCMA-ES (mu_w=3.2,w_1=45%) in dimension 512 (seed=500662, Wed Mar 13 23:01:51 2024)\n",
      "(5_w,10)-aCMA-ES (mu_w=3.2,w_1=45%) in dimension 512 (seed=442219, Wed Mar 13 23:01:51 2024)\n",
      "(5_w,10)-aCMA-ES (mu_w=3.2,w_1=45%) in dimension 512 (seed=489787, Wed Mar 13 23:01:51 2024)\n",
      "[NeMo I 2024-03-13 23:01:51 megatron_lm_encoder_decoder_model:1192] Decoding using the beam search method with beam size=3...\n",
      "[NeMo I 2024-03-13 23:01:53 megatron_lm_encoder_decoder_model:1192] Decoding using the beam search method with beam size=3...\n",
      "[NeMo I 2024-03-13 23:01:55 megatron_lm_encoder_decoder_model:1192] Decoding using the beam search method with beam size=3...\n",
      "[NeMo I 2024-03-13 23:01:57 megatron_lm_encoder_decoder_model:1192] Decoding using the beam search method with beam size=3...\n",
      "[NeMo I 2024-03-13 23:01:59 megatron_lm_encoder_decoder_model:1192] Decoding using the beam search method with beam size=3...\n",
      "[NeMo I 2024-03-13 23:02:01 megatron_lm_encoder_decoder_model:1192] Decoding using the beam search method with beam size=3...\n",
      "[NeMo I 2024-03-13 23:02:02 megatron_lm_encoder_decoder_model:1192] Decoding using the beam search method with beam size=3...\n",
      "[NeMo I 2024-03-13 23:02:04 megatron_lm_encoder_decoder_model:1192] Decoding using the beam search method with beam size=3...\n",
      "[NeMo I 2024-03-13 23:02:06 megatron_lm_encoder_decoder_model:1192] Decoding using the beam search method with beam size=3...\n",
      "[NeMo I 2024-03-13 23:02:08 megatron_lm_encoder_decoder_model:1192] Decoding using the beam search method with beam size=3...\n"
     ]
    },
    {
     "name": "stderr",
     "output_type": "stream",
     "text": [
      "[I 2024-03-13 23:02:10,612] Trial 8 finished with value: -1.8977260716725437 and parameters: {'sigma': 0.7063269022279628}. Best is trial 7 with value: -1.9071303470843353.\n"
     ]
    },
    {
     "name": "stdout",
     "output_type": "stream",
     "text": [
      "(5_w,10)-aCMA-ES (mu_w=3.2,w_1=45%) in dimension 512 (seed=470178, Wed Mar 13 23:02:10 2024)\n",
      "(5_w,10)-aCMA-ES (mu_w=3.2,w_1=45%) in dimension 512 (seed=463074, Wed Mar 13 23:02:10 2024)\n",
      "(5_w,10)-aCMA-ES (mu_w=3.2,w_1=45%) in dimension 512 (seed=500131, Wed Mar 13 23:02:10 2024)\n",
      "[NeMo I 2024-03-13 23:02:10 megatron_lm_encoder_decoder_model:1192] Decoding using the beam search method with beam size=3...\n",
      "[NeMo I 2024-03-13 23:02:12 megatron_lm_encoder_decoder_model:1192] Decoding using the beam search method with beam size=3...\n",
      "[NeMo I 2024-03-13 23:02:14 megatron_lm_encoder_decoder_model:1192] Decoding using the beam search method with beam size=3...\n",
      "[NeMo I 2024-03-13 23:02:16 megatron_lm_encoder_decoder_model:1192] Decoding using the beam search method with beam size=3...\n",
      "[NeMo I 2024-03-13 23:02:18 megatron_lm_encoder_decoder_model:1192] Decoding using the beam search method with beam size=3...\n",
      "[NeMo I 2024-03-13 23:02:20 megatron_lm_encoder_decoder_model:1192] Decoding using the beam search method with beam size=3...\n",
      "[NeMo I 2024-03-13 23:02:22 megatron_lm_encoder_decoder_model:1192] Decoding using the beam search method with beam size=3...\n",
      "[NeMo I 2024-03-13 23:02:23 megatron_lm_encoder_decoder_model:1192] Decoding using the beam search method with beam size=3...\n",
      "[NeMo I 2024-03-13 23:02:25 megatron_lm_encoder_decoder_model:1192] Decoding using the beam search method with beam size=3...\n",
      "[NeMo I 2024-03-13 23:02:27 megatron_lm_encoder_decoder_model:1192] Decoding using the beam search method with beam size=3...\n"
     ]
    },
    {
     "name": "stderr",
     "output_type": "stream",
     "text": [
      "[I 2024-03-13 23:02:29,660] Trial 9 finished with value: -1.6307466029359299 and parameters: {'sigma': 1.5854897395713927}. Best is trial 7 with value: -1.9071303470843353.\n"
     ]
    },
    {
     "name": "stdout",
     "output_type": "stream",
     "text": [
      "(5_w,10)-aCMA-ES (mu_w=3.2,w_1=45%) in dimension 512 (seed=537190, Wed Mar 13 23:02:29 2024)\n",
      "(5_w,10)-aCMA-ES (mu_w=3.2,w_1=45%) in dimension 512 (seed=475863, Wed Mar 13 23:02:29 2024)\n",
      "(5_w,10)-aCMA-ES (mu_w=3.2,w_1=45%) in dimension 512 (seed=453330, Wed Mar 13 23:02:29 2024)\n",
      "[NeMo I 2024-03-13 23:02:29 megatron_lm_encoder_decoder_model:1192] Decoding using the beam search method with beam size=3...\n",
      "[NeMo I 2024-03-13 23:02:31 megatron_lm_encoder_decoder_model:1192] Decoding using the beam search method with beam size=3...\n",
      "[NeMo I 2024-03-13 23:02:33 megatron_lm_encoder_decoder_model:1192] Decoding using the beam search method with beam size=3...\n",
      "[NeMo I 2024-03-13 23:02:35 megatron_lm_encoder_decoder_model:1192] Decoding using the beam search method with beam size=3...\n",
      "[NeMo I 2024-03-13 23:02:37 megatron_lm_encoder_decoder_model:1192] Decoding using the beam search method with beam size=3...\n",
      "[NeMo I 2024-03-13 23:02:39 megatron_lm_encoder_decoder_model:1192] Decoding using the beam search method with beam size=3...\n",
      "[NeMo I 2024-03-13 23:02:41 megatron_lm_encoder_decoder_model:1192] Decoding using the beam search method with beam size=3...\n",
      "[NeMo I 2024-03-13 23:02:43 megatron_lm_encoder_decoder_model:1192] Decoding using the beam search method with beam size=3...\n",
      "[NeMo I 2024-03-13 23:02:44 megatron_lm_encoder_decoder_model:1192] Decoding using the beam search method with beam size=3...\n",
      "[NeMo I 2024-03-13 23:02:46 megatron_lm_encoder_decoder_model:1192] Decoding using the beam search method with beam size=3...\n"
     ]
    },
    {
     "name": "stderr",
     "output_type": "stream",
     "text": [
      "[I 2024-03-13 23:02:48,830] Trial 10 finished with value: -1.951846742386083 and parameters: {'sigma': 1.0220150227356417}. Best is trial 10 with value: -1.951846742386083.\n"
     ]
    },
    {
     "name": "stdout",
     "output_type": "stream",
     "text": [
      "(5_w,10)-aCMA-ES (mu_w=3.2,w_1=45%) in dimension 512 (seed=541404, Wed Mar 13 23:02:48 2024)\n",
      "(5_w,10)-aCMA-ES (mu_w=3.2,w_1=45%) in dimension 512 (seed=556059, Wed Mar 13 23:02:48 2024)\n",
      "(5_w,10)-aCMA-ES (mu_w=3.2,w_1=45%) in dimension 512 (seed=481449, Wed Mar 13 23:02:48 2024)\n",
      "[NeMo I 2024-03-13 23:02:48 megatron_lm_encoder_decoder_model:1192] Decoding using the beam search method with beam size=3...\n",
      "[NeMo I 2024-03-13 23:02:50 megatron_lm_encoder_decoder_model:1192] Decoding using the beam search method with beam size=3...\n",
      "[NeMo I 2024-03-13 23:02:52 megatron_lm_encoder_decoder_model:1192] Decoding using the beam search method with beam size=3...\n",
      "[NeMo I 2024-03-13 23:02:54 megatron_lm_encoder_decoder_model:1192] Decoding using the beam search method with beam size=3...\n",
      "[NeMo I 2024-03-13 23:02:56 megatron_lm_encoder_decoder_model:1192] Decoding using the beam search method with beam size=3...\n",
      "[NeMo I 2024-03-13 23:02:58 megatron_lm_encoder_decoder_model:1192] Decoding using the beam search method with beam size=3...\n",
      "[NeMo I 2024-03-13 23:03:00 megatron_lm_encoder_decoder_model:1192] Decoding using the beam search method with beam size=3...\n",
      "[NeMo I 2024-03-13 23:03:02 megatron_lm_encoder_decoder_model:1192] Decoding using the beam search method with beam size=3...\n",
      "[NeMo I 2024-03-13 23:03:04 megatron_lm_encoder_decoder_model:1192] Decoding using the beam search method with beam size=3...\n",
      "[NeMo I 2024-03-13 23:03:06 megatron_lm_encoder_decoder_model:1192] Decoding using the beam search method with beam size=3...\n"
     ]
    },
    {
     "name": "stderr",
     "output_type": "stream",
     "text": [
      "[I 2024-03-13 23:03:08,046] Trial 11 finished with value: -1.9034795821783188 and parameters: {'sigma': 1.0472518667789568}. Best is trial 10 with value: -1.951846742386083.\n"
     ]
    },
    {
     "name": "stdout",
     "output_type": "stream",
     "text": [
      "(5_w,10)-aCMA-ES (mu_w=3.2,w_1=45%) in dimension 512 (seed=431288, Wed Mar 13 23:03:08 2024)\n",
      "(5_w,10)-aCMA-ES (mu_w=3.2,w_1=45%) in dimension 512 (seed=390910, Wed Mar 13 23:03:08 2024)\n",
      "(5_w,10)-aCMA-ES (mu_w=3.2,w_1=45%) in dimension 512 (seed=438836, Wed Mar 13 23:03:08 2024)\n",
      "[NeMo I 2024-03-13 23:03:08 megatron_lm_encoder_decoder_model:1192] Decoding using the beam search method with beam size=3...\n",
      "[NeMo I 2024-03-13 23:03:10 megatron_lm_encoder_decoder_model:1192] Decoding using the beam search method with beam size=3...\n",
      "[NeMo I 2024-03-13 23:03:11 megatron_lm_encoder_decoder_model:1192] Decoding using the beam search method with beam size=3...\n",
      "[NeMo I 2024-03-13 23:03:13 megatron_lm_encoder_decoder_model:1192] Decoding using the beam search method with beam size=3...\n",
      "[NeMo I 2024-03-13 23:03:15 megatron_lm_encoder_decoder_model:1192] Decoding using the beam search method with beam size=3...\n",
      "[NeMo I 2024-03-13 23:03:17 megatron_lm_encoder_decoder_model:1192] Decoding using the beam search method with beam size=3...\n",
      "[NeMo I 2024-03-13 23:03:19 megatron_lm_encoder_decoder_model:1192] Decoding using the beam search method with beam size=3...\n",
      "[NeMo I 2024-03-13 23:03:21 megatron_lm_encoder_decoder_model:1192] Decoding using the beam search method with beam size=3...\n",
      "[NeMo I 2024-03-13 23:03:23 megatron_lm_encoder_decoder_model:1192] Decoding using the beam search method with beam size=3...\n",
      "[NeMo I 2024-03-13 23:03:25 megatron_lm_encoder_decoder_model:1192] Decoding using the beam search method with beam size=3...\n"
     ]
    },
    {
     "name": "stderr",
     "output_type": "stream",
     "text": [
      "[I 2024-03-13 23:03:27,269] Trial 12 finished with value: -1.9057530051718903 and parameters: {'sigma': 0.9735827927171052}. Best is trial 10 with value: -1.951846742386083.\n"
     ]
    },
    {
     "name": "stdout",
     "output_type": "stream",
     "text": [
      "(5_w,10)-aCMA-ES (mu_w=3.2,w_1=45%) in dimension 512 (seed=409015, Wed Mar 13 23:03:27 2024)\n",
      "(5_w,10)-aCMA-ES (mu_w=3.2,w_1=45%) in dimension 512 (seed=408214, Wed Mar 13 23:03:27 2024)\n",
      "(5_w,10)-aCMA-ES (mu_w=3.2,w_1=45%) in dimension 512 (seed=469364, Wed Mar 13 23:03:27 2024)\n",
      "[NeMo I 2024-03-13 23:03:27 megatron_lm_encoder_decoder_model:1192] Decoding using the beam search method with beam size=3...\n",
      "[NeMo I 2024-03-13 23:03:29 megatron_lm_encoder_decoder_model:1192] Decoding using the beam search method with beam size=3...\n",
      "[NeMo I 2024-03-13 23:03:31 megatron_lm_encoder_decoder_model:1192] Decoding using the beam search method with beam size=3...\n",
      "[NeMo I 2024-03-13 23:03:33 megatron_lm_encoder_decoder_model:1192] Decoding using the beam search method with beam size=3...\n",
      "[NeMo I 2024-03-13 23:03:34 megatron_lm_encoder_decoder_model:1192] Decoding using the beam search method with beam size=3...\n",
      "[NeMo I 2024-03-13 23:03:36 megatron_lm_encoder_decoder_model:1192] Decoding using the beam search method with beam size=3...\n",
      "[NeMo I 2024-03-13 23:03:38 megatron_lm_encoder_decoder_model:1192] Decoding using the beam search method with beam size=3...\n",
      "[NeMo I 2024-03-13 23:03:40 megatron_lm_encoder_decoder_model:1192] Decoding using the beam search method with beam size=3...\n",
      "[NeMo I 2024-03-13 23:03:42 megatron_lm_encoder_decoder_model:1192] Decoding using the beam search method with beam size=3...\n",
      "[NeMo I 2024-03-13 23:03:44 megatron_lm_encoder_decoder_model:1192] Decoding using the beam search method with beam size=3...\n"
     ]
    },
    {
     "name": "stderr",
     "output_type": "stream",
     "text": [
      "[I 2024-03-13 23:03:46,311] Trial 13 finished with value: -1.4503097460584626 and parameters: {'sigma': 1.9421121281973073}. Best is trial 10 with value: -1.951846742386083.\n"
     ]
    },
    {
     "name": "stdout",
     "output_type": "stream",
     "text": [
      "(5_w,10)-aCMA-ES (mu_w=3.2,w_1=45%) in dimension 512 (seed=470968, Wed Mar 13 23:03:46 2024)\n",
      "(5_w,10)-aCMA-ES (mu_w=3.2,w_1=45%) in dimension 512 (seed=469164, Wed Mar 13 23:03:46 2024)\n",
      "(5_w,10)-aCMA-ES (mu_w=3.2,w_1=45%) in dimension 512 (seed=407132, Wed Mar 13 23:03:46 2024)\n",
      "[NeMo I 2024-03-13 23:03:46 megatron_lm_encoder_decoder_model:1192] Decoding using the beam search method with beam size=3...\n",
      "[NeMo I 2024-03-13 23:03:48 megatron_lm_encoder_decoder_model:1192] Decoding using the beam search method with beam size=3...\n",
      "[NeMo I 2024-03-13 23:03:50 megatron_lm_encoder_decoder_model:1192] Decoding using the beam search method with beam size=3...\n",
      "[NeMo I 2024-03-13 23:03:52 megatron_lm_encoder_decoder_model:1192] Decoding using the beam search method with beam size=3...\n",
      "[NeMo I 2024-03-13 23:03:54 megatron_lm_encoder_decoder_model:1192] Decoding using the beam search method with beam size=3...\n",
      "[NeMo I 2024-03-13 23:03:55 megatron_lm_encoder_decoder_model:1192] Decoding using the beam search method with beam size=3...\n",
      "[NeMo I 2024-03-13 23:03:57 megatron_lm_encoder_decoder_model:1192] Decoding using the beam search method with beam size=3...\n",
      "[NeMo I 2024-03-13 23:03:59 megatron_lm_encoder_decoder_model:1192] Decoding using the beam search method with beam size=3...\n",
      "[NeMo I 2024-03-13 23:04:01 megatron_lm_encoder_decoder_model:1192] Decoding using the beam search method with beam size=3...\n",
      "[NeMo I 2024-03-13 23:04:03 megatron_lm_encoder_decoder_model:1192] Decoding using the beam search method with beam size=3...\n"
     ]
    },
    {
     "name": "stderr",
     "output_type": "stream",
     "text": [
      "[I 2024-03-13 23:04:05,542] Trial 14 finished with value: -1.95405250193934 and parameters: {'sigma': 0.6557724913208024}. Best is trial 14 with value: -1.95405250193934.\n"
     ]
    },
    {
     "name": "stdout",
     "output_type": "stream",
     "text": [
      "(5_w,10)-aCMA-ES (mu_w=3.2,w_1=45%) in dimension 512 (seed=485192, Wed Mar 13 23:04:05 2024)\n",
      "(5_w,10)-aCMA-ES (mu_w=3.2,w_1=45%) in dimension 512 (seed=477090, Wed Mar 13 23:04:05 2024)\n",
      "(5_w,10)-aCMA-ES (mu_w=3.2,w_1=45%) in dimension 512 (seed=461439, Wed Mar 13 23:04:05 2024)\n",
      "[NeMo I 2024-03-13 23:04:05 megatron_lm_encoder_decoder_model:1192] Decoding using the beam search method with beam size=3...\n",
      "[NeMo I 2024-03-13 23:04:07 megatron_lm_encoder_decoder_model:1192] Decoding using the beam search method with beam size=3...\n",
      "[NeMo I 2024-03-13 23:04:09 megatron_lm_encoder_decoder_model:1192] Decoding using the beam search method with beam size=3...\n",
      "[NeMo I 2024-03-13 23:04:11 megatron_lm_encoder_decoder_model:1192] Decoding using the beam search method with beam size=3...\n",
      "[NeMo I 2024-03-13 23:04:13 megatron_lm_encoder_decoder_model:1192] Decoding using the beam search method with beam size=3...\n",
      "[NeMo I 2024-03-13 23:04:15 megatron_lm_encoder_decoder_model:1192] Decoding using the beam search method with beam size=3...\n",
      "[NeMo I 2024-03-13 23:04:17 megatron_lm_encoder_decoder_model:1192] Decoding using the beam search method with beam size=3...\n",
      "[NeMo I 2024-03-13 23:04:19 megatron_lm_encoder_decoder_model:1192] Decoding using the beam search method with beam size=3...\n",
      "[NeMo I 2024-03-13 23:04:20 megatron_lm_encoder_decoder_model:1192] Decoding using the beam search method with beam size=3...\n",
      "[NeMo I 2024-03-13 23:04:22 megatron_lm_encoder_decoder_model:1192] Decoding using the beam search method with beam size=3...\n"
     ]
    },
    {
     "name": "stderr",
     "output_type": "stream",
     "text": [
      "[I 2024-03-13 23:04:24,803] Trial 15 finished with value: -1.9040276981484159 and parameters: {'sigma': 1.0948816998025819}. Best is trial 14 with value: -1.95405250193934.\n"
     ]
    },
    {
     "name": "stdout",
     "output_type": "stream",
     "text": [
      "(5_w,10)-aCMA-ES (mu_w=3.2,w_1=45%) in dimension 512 (seed=506741, Wed Mar 13 23:04:24 2024)\n",
      "(5_w,10)-aCMA-ES (mu_w=3.2,w_1=45%) in dimension 512 (seed=500945, Wed Mar 13 23:04:24 2024)\n",
      "(5_w,10)-aCMA-ES (mu_w=3.2,w_1=45%) in dimension 512 (seed=534069, Wed Mar 13 23:04:24 2024)\n",
      "[NeMo I 2024-03-13 23:04:24 megatron_lm_encoder_decoder_model:1192] Decoding using the beam search method with beam size=3...\n",
      "[NeMo I 2024-03-13 23:04:26 megatron_lm_encoder_decoder_model:1192] Decoding using the beam search method with beam size=3...\n",
      "[NeMo I 2024-03-13 23:04:28 megatron_lm_encoder_decoder_model:1192] Decoding using the beam search method with beam size=3...\n",
      "[NeMo I 2024-03-13 23:04:30 megatron_lm_encoder_decoder_model:1192] Decoding using the beam search method with beam size=3...\n",
      "[NeMo I 2024-03-13 23:04:32 megatron_lm_encoder_decoder_model:1192] Decoding using the beam search method with beam size=3...\n",
      "[NeMo I 2024-03-13 23:04:34 megatron_lm_encoder_decoder_model:1192] Decoding using the beam search method with beam size=3...\n",
      "[NeMo I 2024-03-13 23:04:36 megatron_lm_encoder_decoder_model:1192] Decoding using the beam search method with beam size=3...\n",
      "[NeMo I 2024-03-13 23:04:38 megatron_lm_encoder_decoder_model:1192] Decoding using the beam search method with beam size=3...\n",
      "[NeMo I 2024-03-13 23:04:40 megatron_lm_encoder_decoder_model:1192] Decoding using the beam search method with beam size=3...\n",
      "[NeMo I 2024-03-13 23:04:41 megatron_lm_encoder_decoder_model:1192] Decoding using the beam search method with beam size=3...\n"
     ]
    },
    {
     "name": "stderr",
     "output_type": "stream",
     "text": [
      "[I 2024-03-13 23:04:43,874] Trial 16 finished with value: -1.9347129885374599 and parameters: {'sigma': 0.7716166573703596}. Best is trial 14 with value: -1.95405250193934.\n"
     ]
    },
    {
     "name": "stdout",
     "output_type": "stream",
     "text": [
      "(5_w,10)-aCMA-ES (mu_w=3.2,w_1=45%) in dimension 512 (seed=544657, Wed Mar 13 23:04:43 2024)\n",
      "(5_w,10)-aCMA-ES (mu_w=3.2,w_1=45%) in dimension 512 (seed=461724, Wed Mar 13 23:04:43 2024)\n",
      "(5_w,10)-aCMA-ES (mu_w=3.2,w_1=45%) in dimension 512 (seed=497719, Wed Mar 13 23:04:43 2024)\n",
      "[NeMo I 2024-03-13 23:04:43 megatron_lm_encoder_decoder_model:1192] Decoding using the beam search method with beam size=3...\n",
      "[NeMo I 2024-03-13 23:04:45 megatron_lm_encoder_decoder_model:1192] Decoding using the beam search method with beam size=3...\n",
      "[NeMo I 2024-03-13 23:04:47 megatron_lm_encoder_decoder_model:1192] Decoding using the beam search method with beam size=3...\n",
      "[NeMo I 2024-03-13 23:04:49 megatron_lm_encoder_decoder_model:1192] Decoding using the beam search method with beam size=3...\n",
      "[NeMo I 2024-03-13 23:04:51 megatron_lm_encoder_decoder_model:1192] Decoding using the beam search method with beam size=3...\n",
      "[NeMo I 2024-03-13 23:04:53 megatron_lm_encoder_decoder_model:1192] Decoding using the beam search method with beam size=3...\n",
      "[NeMo I 2024-03-13 23:04:55 megatron_lm_encoder_decoder_model:1192] Decoding using the beam search method with beam size=3...\n",
      "[NeMo I 2024-03-13 23:04:57 megatron_lm_encoder_decoder_model:1192] Decoding using the beam search method with beam size=3...\n",
      "[NeMo I 2024-03-13 23:04:59 megatron_lm_encoder_decoder_model:1192] Decoding using the beam search method with beam size=3...\n",
      "[NeMo I 2024-03-13 23:05:01 megatron_lm_encoder_decoder_model:1192] Decoding using the beam search method with beam size=3...\n"
     ]
    },
    {
     "name": "stderr",
     "output_type": "stream",
     "text": [
      "[I 2024-03-13 23:05:03,024] Trial 17 finished with value: -1.7578547785696081 and parameters: {'sigma': 1.2403588768444334}. Best is trial 14 with value: -1.95405250193934.\n"
     ]
    },
    {
     "name": "stdout",
     "output_type": "stream",
     "text": [
      "(5_w,10)-aCMA-ES (mu_w=3.2,w_1=45%) in dimension 512 (seed=388018, Wed Mar 13 23:05:03 2024)\n",
      "(5_w,10)-aCMA-ES (mu_w=3.2,w_1=45%) in dimension 512 (seed=384231, Wed Mar 13 23:05:03 2024)\n",
      "(5_w,10)-aCMA-ES (mu_w=3.2,w_1=45%) in dimension 512 (seed=416486, Wed Mar 13 23:05:03 2024)\n",
      "[NeMo I 2024-03-13 23:05:03 megatron_lm_encoder_decoder_model:1192] Decoding using the beam search method with beam size=3...\n",
      "[NeMo I 2024-03-13 23:05:04 megatron_lm_encoder_decoder_model:1192] Decoding using the beam search method with beam size=3...\n",
      "[NeMo I 2024-03-13 23:05:06 megatron_lm_encoder_decoder_model:1192] Decoding using the beam search method with beam size=3...\n",
      "[NeMo I 2024-03-13 23:05:08 megatron_lm_encoder_decoder_model:1192] Decoding using the beam search method with beam size=3...\n",
      "[NeMo I 2024-03-13 23:05:10 megatron_lm_encoder_decoder_model:1192] Decoding using the beam search method with beam size=3...\n",
      "[NeMo I 2024-03-13 23:05:12 megatron_lm_encoder_decoder_model:1192] Decoding using the beam search method with beam size=3...\n",
      "[NeMo I 2024-03-13 23:05:14 megatron_lm_encoder_decoder_model:1192] Decoding using the beam search method with beam size=3...\n",
      "[NeMo I 2024-03-13 23:05:16 megatron_lm_encoder_decoder_model:1192] Decoding using the beam search method with beam size=3...\n",
      "[NeMo I 2024-03-13 23:05:18 megatron_lm_encoder_decoder_model:1192] Decoding using the beam search method with beam size=3...\n",
      "[NeMo I 2024-03-13 23:05:20 megatron_lm_encoder_decoder_model:1192] Decoding using the beam search method with beam size=3...\n"
     ]
    },
    {
     "name": "stderr",
     "output_type": "stream",
     "text": [
      "[I 2024-03-13 23:05:22,445] Trial 18 finished with value: -1.9341462793460014 and parameters: {'sigma': 0.6951438660357158}. Best is trial 14 with value: -1.95405250193934.\n"
     ]
    },
    {
     "name": "stdout",
     "output_type": "stream",
     "text": [
      "(5_w,10)-aCMA-ES (mu_w=3.2,w_1=45%) in dimension 512 (seed=425690, Wed Mar 13 23:05:22 2024)\n",
      "(5_w,10)-aCMA-ES (mu_w=3.2,w_1=45%) in dimension 512 (seed=452622, Wed Mar 13 23:05:22 2024)\n",
      "(5_w,10)-aCMA-ES (mu_w=3.2,w_1=45%) in dimension 512 (seed=505702, Wed Mar 13 23:05:22 2024)\n",
      "[NeMo I 2024-03-13 23:05:22 megatron_lm_encoder_decoder_model:1192] Decoding using the beam search method with beam size=3...\n",
      "[NeMo I 2024-03-13 23:05:24 megatron_lm_encoder_decoder_model:1192] Decoding using the beam search method with beam size=3...\n",
      "[NeMo I 2024-03-13 23:05:26 megatron_lm_encoder_decoder_model:1192] Decoding using the beam search method with beam size=3...\n",
      "[NeMo I 2024-03-13 23:05:28 megatron_lm_encoder_decoder_model:1192] Decoding using the beam search method with beam size=3...\n",
      "[NeMo I 2024-03-13 23:05:30 megatron_lm_encoder_decoder_model:1192] Decoding using the beam search method with beam size=3...\n",
      "[NeMo I 2024-03-13 23:05:32 megatron_lm_encoder_decoder_model:1192] Decoding using the beam search method with beam size=3...\n",
      "[NeMo I 2024-03-13 23:05:34 megatron_lm_encoder_decoder_model:1192] Decoding using the beam search method with beam size=3...\n",
      "[NeMo I 2024-03-13 23:05:36 megatron_lm_encoder_decoder_model:1192] Decoding using the beam search method with beam size=3...\n",
      "[NeMo I 2024-03-13 23:05:37 megatron_lm_encoder_decoder_model:1192] Decoding using the beam search method with beam size=3...\n",
      "[NeMo I 2024-03-13 23:05:39 megatron_lm_encoder_decoder_model:1192] Decoding using the beam search method with beam size=3...\n"
     ]
    },
    {
     "name": "stderr",
     "output_type": "stream",
     "text": [
      "[I 2024-03-13 23:05:41,852] Trial 19 finished with value: -1.8831218707878783 and parameters: {'sigma': 0.49497034947070095}. Best is trial 14 with value: -1.95405250193934.\n"
     ]
    },
    {
     "name": "stdout",
     "output_type": "stream",
     "text": [
      "(5_w,10)-aCMA-ES (mu_w=3.2,w_1=45%) in dimension 512 (seed=521582, Wed Mar 13 23:05:41 2024)\n",
      "(5_w,10)-aCMA-ES (mu_w=3.2,w_1=45%) in dimension 512 (seed=498971, Wed Mar 13 23:05:41 2024)\n",
      "(5_w,10)-aCMA-ES (mu_w=3.2,w_1=45%) in dimension 512 (seed=463964, Wed Mar 13 23:05:41 2024)\n",
      "[NeMo I 2024-03-13 23:05:41 megatron_lm_encoder_decoder_model:1192] Decoding using the beam search method with beam size=3...\n",
      "[NeMo I 2024-03-13 23:05:43 megatron_lm_encoder_decoder_model:1192] Decoding using the beam search method with beam size=3...\n",
      "[NeMo I 2024-03-13 23:05:45 megatron_lm_encoder_decoder_model:1192] Decoding using the beam search method with beam size=3...\n",
      "[NeMo I 2024-03-13 23:05:47 megatron_lm_encoder_decoder_model:1192] Decoding using the beam search method with beam size=3...\n",
      "[NeMo I 2024-03-13 23:05:49 megatron_lm_encoder_decoder_model:1192] Decoding using the beam search method with beam size=3...\n",
      "[NeMo I 2024-03-13 23:05:51 megatron_lm_encoder_decoder_model:1192] Decoding using the beam search method with beam size=3...\n",
      "[NeMo I 2024-03-13 23:05:53 megatron_lm_encoder_decoder_model:1192] Decoding using the beam search method with beam size=3...\n",
      "[NeMo I 2024-03-13 23:05:55 megatron_lm_encoder_decoder_model:1192] Decoding using the beam search method with beam size=3...\n",
      "[NeMo I 2024-03-13 23:05:57 megatron_lm_encoder_decoder_model:1192] Decoding using the beam search method with beam size=3...\n",
      "[NeMo I 2024-03-13 23:05:59 megatron_lm_encoder_decoder_model:1192] Decoding using the beam search method with beam size=3...\n"
     ]
    },
    {
     "name": "stderr",
     "output_type": "stream",
     "text": [
      "[I 2024-03-13 23:06:01,136] Trial 20 finished with value: -1.8939126949254046 and parameters: {'sigma': 0.8496079255423667}. Best is trial 14 with value: -1.95405250193934.\n"
     ]
    },
    {
     "name": "stdout",
     "output_type": "stream",
     "text": [
      "(5_w,10)-aCMA-ES (mu_w=3.2,w_1=45%) in dimension 512 (seed=466998, Wed Mar 13 23:06:01 2024)\n",
      "(5_w,10)-aCMA-ES (mu_w=3.2,w_1=45%) in dimension 512 (seed=413270, Wed Mar 13 23:06:01 2024)\n",
      "(5_w,10)-aCMA-ES (mu_w=3.2,w_1=45%) in dimension 512 (seed=483265, Wed Mar 13 23:06:01 2024)\n",
      "[NeMo I 2024-03-13 23:06:01 megatron_lm_encoder_decoder_model:1192] Decoding using the beam search method with beam size=3...\n",
      "[NeMo I 2024-03-13 23:06:03 megatron_lm_encoder_decoder_model:1192] Decoding using the beam search method with beam size=3...\n",
      "[NeMo I 2024-03-13 23:06:04 megatron_lm_encoder_decoder_model:1192] Decoding using the beam search method with beam size=3...\n",
      "[NeMo I 2024-03-13 23:06:06 megatron_lm_encoder_decoder_model:1192] Decoding using the beam search method with beam size=3...\n",
      "[NeMo I 2024-03-13 23:06:08 megatron_lm_encoder_decoder_model:1192] Decoding using the beam search method with beam size=3...\n",
      "[NeMo I 2024-03-13 23:06:10 megatron_lm_encoder_decoder_model:1192] Decoding using the beam search method with beam size=3...\n",
      "[NeMo I 2024-03-13 23:06:12 megatron_lm_encoder_decoder_model:1192] Decoding using the beam search method with beam size=3...\n",
      "[NeMo I 2024-03-13 23:06:14 megatron_lm_encoder_decoder_model:1192] Decoding using the beam search method with beam size=3...\n",
      "[NeMo I 2024-03-13 23:06:16 megatron_lm_encoder_decoder_model:1192] Decoding using the beam search method with beam size=3...\n",
      "[NeMo I 2024-03-13 23:06:18 megatron_lm_encoder_decoder_model:1192] Decoding using the beam search method with beam size=3...\n"
     ]
    },
    {
     "name": "stderr",
     "output_type": "stream",
     "text": [
      "[I 2024-03-13 23:06:20,128] Trial 21 finished with value: -1.948374559375259 and parameters: {'sigma': 0.6974630852538481}. Best is trial 14 with value: -1.95405250193934.\n"
     ]
    },
    {
     "name": "stdout",
     "output_type": "stream",
     "text": [
      "(5_w,10)-aCMA-ES (mu_w=3.2,w_1=45%) in dimension 512 (seed=466192, Wed Mar 13 23:06:20 2024)\n",
      "(5_w,10)-aCMA-ES (mu_w=3.2,w_1=45%) in dimension 512 (seed=414010, Wed Mar 13 23:06:20 2024)\n",
      "(5_w,10)-aCMA-ES (mu_w=3.2,w_1=45%) in dimension 512 (seed=451568, Wed Mar 13 23:06:20 2024)\n",
      "[NeMo I 2024-03-13 23:06:20 megatron_lm_encoder_decoder_model:1192] Decoding using the beam search method with beam size=3...\n",
      "[NeMo I 2024-03-13 23:06:22 megatron_lm_encoder_decoder_model:1192] Decoding using the beam search method with beam size=3...\n",
      "[NeMo I 2024-03-13 23:06:23 megatron_lm_encoder_decoder_model:1192] Decoding using the beam search method with beam size=3...\n",
      "[NeMo I 2024-03-13 23:06:25 megatron_lm_encoder_decoder_model:1192] Decoding using the beam search method with beam size=3...\n",
      "[NeMo I 2024-03-13 23:06:27 megatron_lm_encoder_decoder_model:1192] Decoding using the beam search method with beam size=3...\n",
      "[NeMo I 2024-03-13 23:06:29 megatron_lm_encoder_decoder_model:1192] Decoding using the beam search method with beam size=3...\n",
      "[NeMo I 2024-03-13 23:06:31 megatron_lm_encoder_decoder_model:1192] Decoding using the beam search method with beam size=3...\n",
      "[NeMo I 2024-03-13 23:06:33 megatron_lm_encoder_decoder_model:1192] Decoding using the beam search method with beam size=3...\n",
      "[NeMo I 2024-03-13 23:06:35 megatron_lm_encoder_decoder_model:1192] Decoding using the beam search method with beam size=3...\n",
      "[NeMo I 2024-03-13 23:06:37 megatron_lm_encoder_decoder_model:1192] Decoding using the beam search method with beam size=3...\n"
     ]
    },
    {
     "name": "stderr",
     "output_type": "stream",
     "text": [
      "[I 2024-03-13 23:06:39,219] Trial 22 finished with value: -1.9323095962664016 and parameters: {'sigma': 0.5973588942771824}. Best is trial 14 with value: -1.95405250193934.\n"
     ]
    },
    {
     "name": "stdout",
     "output_type": "stream",
     "text": [
      "(5_w,10)-aCMA-ES (mu_w=3.2,w_1=45%) in dimension 512 (seed=408334, Wed Mar 13 23:06:39 2024)\n",
      "(5_w,10)-aCMA-ES (mu_w=3.2,w_1=45%) in dimension 512 (seed=444480, Wed Mar 13 23:06:39 2024)\n",
      "(5_w,10)-aCMA-ES (mu_w=3.2,w_1=45%) in dimension 512 (seed=454541, Wed Mar 13 23:06:39 2024)\n",
      "[NeMo I 2024-03-13 23:06:39 megatron_lm_encoder_decoder_model:1192] Decoding using the beam search method with beam size=3...\n",
      "[NeMo I 2024-03-13 23:06:41 megatron_lm_encoder_decoder_model:1192] Decoding using the beam search method with beam size=3...\n",
      "[NeMo I 2024-03-13 23:06:43 megatron_lm_encoder_decoder_model:1192] Decoding using the beam search method with beam size=3...\n",
      "[NeMo I 2024-03-13 23:06:44 megatron_lm_encoder_decoder_model:1192] Decoding using the beam search method with beam size=3...\n",
      "[NeMo I 2024-03-13 23:06:46 megatron_lm_encoder_decoder_model:1192] Decoding using the beam search method with beam size=3...\n",
      "[NeMo I 2024-03-13 23:06:48 megatron_lm_encoder_decoder_model:1192] Decoding using the beam search method with beam size=3...\n",
      "[NeMo I 2024-03-13 23:06:50 megatron_lm_encoder_decoder_model:1192] Decoding using the beam search method with beam size=3...\n",
      "[NeMo I 2024-03-13 23:06:52 megatron_lm_encoder_decoder_model:1192] Decoding using the beam search method with beam size=3...\n",
      "[NeMo I 2024-03-13 23:06:54 megatron_lm_encoder_decoder_model:1192] Decoding using the beam search method with beam size=3...\n",
      "[NeMo I 2024-03-13 23:06:56 megatron_lm_encoder_decoder_model:1192] Decoding using the beam search method with beam size=3...\n"
     ]
    },
    {
     "name": "stderr",
     "output_type": "stream",
     "text": [
      "[I 2024-03-13 23:06:58,304] Trial 23 finished with value: -1.9282642480517271 and parameters: {'sigma': 1.251129857035449}. Best is trial 14 with value: -1.95405250193934.\n"
     ]
    },
    {
     "name": "stdout",
     "output_type": "stream",
     "text": [
      "(5_w,10)-aCMA-ES (mu_w=3.2,w_1=45%) in dimension 512 (seed=422178, Wed Mar 13 23:06:58 2024)\n",
      "(5_w,10)-aCMA-ES (mu_w=3.2,w_1=45%) in dimension 512 (seed=448864, Wed Mar 13 23:06:58 2024)\n",
      "(5_w,10)-aCMA-ES (mu_w=3.2,w_1=45%) in dimension 512 (seed=423434, Wed Mar 13 23:06:58 2024)\n",
      "[NeMo I 2024-03-13 23:06:58 megatron_lm_encoder_decoder_model:1192] Decoding using the beam search method with beam size=3...\n",
      "[NeMo I 2024-03-13 23:07:00 megatron_lm_encoder_decoder_model:1192] Decoding using the beam search method with beam size=3...\n",
      "[NeMo I 2024-03-13 23:07:02 megatron_lm_encoder_decoder_model:1192] Decoding using the beam search method with beam size=3...\n",
      "[NeMo I 2024-03-13 23:07:04 megatron_lm_encoder_decoder_model:1192] Decoding using the beam search method with beam size=3...\n",
      "[NeMo I 2024-03-13 23:07:06 megatron_lm_encoder_decoder_model:1192] Decoding using the beam search method with beam size=3...\n",
      "[NeMo I 2024-03-13 23:07:07 megatron_lm_encoder_decoder_model:1192] Decoding using the beam search method with beam size=3...\n",
      "[NeMo I 2024-03-13 23:07:09 megatron_lm_encoder_decoder_model:1192] Decoding using the beam search method with beam size=3...\n",
      "[NeMo I 2024-03-13 23:07:11 megatron_lm_encoder_decoder_model:1192] Decoding using the beam search method with beam size=3...\n",
      "[NeMo I 2024-03-13 23:07:13 megatron_lm_encoder_decoder_model:1192] Decoding using the beam search method with beam size=3...\n",
      "[NeMo I 2024-03-13 23:07:15 megatron_lm_encoder_decoder_model:1192] Decoding using the beam search method with beam size=3...\n"
     ]
    },
    {
     "name": "stderr",
     "output_type": "stream",
     "text": [
      "[I 2024-03-13 23:07:17,491] Trial 24 finished with value: -1.8122987814505633 and parameters: {'sigma': 0.3281814437419297}. Best is trial 14 with value: -1.95405250193934.\n"
     ]
    },
    {
     "name": "stdout",
     "output_type": "stream",
     "text": [
      "(5_w,10)-aCMA-ES (mu_w=3.2,w_1=45%) in dimension 512 (seed=498463, Wed Mar 13 23:07:17 2024)\n",
      "(5_w,10)-aCMA-ES (mu_w=3.2,w_1=45%) in dimension 512 (seed=489295, Wed Mar 13 23:07:17 2024)\n",
      "(5_w,10)-aCMA-ES (mu_w=3.2,w_1=45%) in dimension 512 (seed=520210, Wed Mar 13 23:07:17 2024)\n",
      "[NeMo I 2024-03-13 23:07:17 megatron_lm_encoder_decoder_model:1192] Decoding using the beam search method with beam size=3...\n",
      "[NeMo I 2024-03-13 23:07:19 megatron_lm_encoder_decoder_model:1192] Decoding using the beam search method with beam size=3...\n",
      "[NeMo I 2024-03-13 23:07:21 megatron_lm_encoder_decoder_model:1192] Decoding using the beam search method with beam size=3...\n",
      "[NeMo I 2024-03-13 23:07:23 megatron_lm_encoder_decoder_model:1192] Decoding using the beam search method with beam size=3...\n",
      "[NeMo I 2024-03-13 23:07:25 megatron_lm_encoder_decoder_model:1192] Decoding using the beam search method with beam size=3...\n",
      "[NeMo I 2024-03-13 23:07:27 megatron_lm_encoder_decoder_model:1192] Decoding using the beam search method with beam size=3...\n",
      "[NeMo I 2024-03-13 23:07:28 megatron_lm_encoder_decoder_model:1192] Decoding using the beam search method with beam size=3...\n",
      "[NeMo I 2024-03-13 23:07:30 megatron_lm_encoder_decoder_model:1192] Decoding using the beam search method with beam size=3...\n",
      "[NeMo I 2024-03-13 23:07:32 megatron_lm_encoder_decoder_model:1192] Decoding using the beam search method with beam size=3...\n",
      "[NeMo I 2024-03-13 23:07:34 megatron_lm_encoder_decoder_model:1192] Decoding using the beam search method with beam size=3...\n"
     ]
    },
    {
     "name": "stderr",
     "output_type": "stream",
     "text": [
      "[I 2024-03-13 23:07:36,654] Trial 25 finished with value: -1.8963760110895127 and parameters: {'sigma': 0.9338225534817879}. Best is trial 14 with value: -1.95405250193934.\n"
     ]
    },
    {
     "name": "stdout",
     "output_type": "stream",
     "text": [
      "(5_w,10)-aCMA-ES (mu_w=3.2,w_1=45%) in dimension 512 (seed=489389, Wed Mar 13 23:07:36 2024)\n",
      "(5_w,10)-aCMA-ES (mu_w=3.2,w_1=45%) in dimension 512 (seed=501771, Wed Mar 13 23:07:36 2024)\n",
      "(5_w,10)-aCMA-ES (mu_w=3.2,w_1=45%) in dimension 512 (seed=441390, Wed Mar 13 23:07:36 2024)\n",
      "[NeMo I 2024-03-13 23:07:36 megatron_lm_encoder_decoder_model:1192] Decoding using the beam search method with beam size=3...\n",
      "[NeMo I 2024-03-13 23:07:38 megatron_lm_encoder_decoder_model:1192] Decoding using the beam search method with beam size=3...\n",
      "[NeMo I 2024-03-13 23:07:40 megatron_lm_encoder_decoder_model:1192] Decoding using the beam search method with beam size=3...\n",
      "[NeMo I 2024-03-13 23:07:42 megatron_lm_encoder_decoder_model:1192] Decoding using the beam search method with beam size=3...\n",
      "[NeMo I 2024-03-13 23:07:44 megatron_lm_encoder_decoder_model:1192] Decoding using the beam search method with beam size=3...\n",
      "[NeMo I 2024-03-13 23:07:46 megatron_lm_encoder_decoder_model:1192] Decoding using the beam search method with beam size=3...\n",
      "[NeMo I 2024-03-13 23:07:48 megatron_lm_encoder_decoder_model:1192] Decoding using the beam search method with beam size=3...\n",
      "[NeMo I 2024-03-13 23:07:50 megatron_lm_encoder_decoder_model:1192] Decoding using the beam search method with beam size=3...\n",
      "[NeMo I 2024-03-13 23:07:52 megatron_lm_encoder_decoder_model:1192] Decoding using the beam search method with beam size=3...\n",
      "[NeMo I 2024-03-13 23:07:53 megatron_lm_encoder_decoder_model:1192] Decoding using the beam search method with beam size=3...\n"
     ]
    },
    {
     "name": "stderr",
     "output_type": "stream",
     "text": [
      "[I 2024-03-13 23:07:55,939] Trial 26 finished with value: -1.7639480316580467 and parameters: {'sigma': 0.2614102181385508}. Best is trial 14 with value: -1.95405250193934.\n"
     ]
    },
    {
     "name": "stdout",
     "output_type": "stream",
     "text": [
      "(5_w,10)-aCMA-ES (mu_w=3.2,w_1=45%) in dimension 512 (seed=542544, Wed Mar 13 23:07:55 2024)\n",
      "(5_w,10)-aCMA-ES (mu_w=3.2,w_1=45%) in dimension 512 (seed=529682, Wed Mar 13 23:07:55 2024)\n",
      "(5_w,10)-aCMA-ES (mu_w=3.2,w_1=45%) in dimension 512 (seed=512140, Wed Mar 13 23:07:55 2024)\n",
      "[NeMo I 2024-03-13 23:07:55 megatron_lm_encoder_decoder_model:1192] Decoding using the beam search method with beam size=3...\n",
      "[NeMo I 2024-03-13 23:07:57 megatron_lm_encoder_decoder_model:1192] Decoding using the beam search method with beam size=3...\n",
      "[NeMo I 2024-03-13 23:07:59 megatron_lm_encoder_decoder_model:1192] Decoding using the beam search method with beam size=3...\n",
      "[NeMo I 2024-03-13 23:08:01 megatron_lm_encoder_decoder_model:1192] Decoding using the beam search method with beam size=3...\n",
      "[NeMo I 2024-03-13 23:08:03 megatron_lm_encoder_decoder_model:1192] Decoding using the beam search method with beam size=3...\n",
      "[NeMo I 2024-03-13 23:08:05 megatron_lm_encoder_decoder_model:1192] Decoding using the beam search method with beam size=3...\n",
      "[NeMo I 2024-03-13 23:08:07 megatron_lm_encoder_decoder_model:1192] Decoding using the beam search method with beam size=3...\n",
      "[NeMo I 2024-03-13 23:08:09 megatron_lm_encoder_decoder_model:1192] Decoding using the beam search method with beam size=3...\n",
      "[NeMo I 2024-03-13 23:08:11 megatron_lm_encoder_decoder_model:1192] Decoding using the beam search method with beam size=3...\n",
      "[NeMo I 2024-03-13 23:08:13 megatron_lm_encoder_decoder_model:1192] Decoding using the beam search method with beam size=3...\n"
     ]
    },
    {
     "name": "stderr",
     "output_type": "stream",
     "text": [
      "[I 2024-03-13 23:08:15,367] Trial 27 finished with value: -1.8832412360083264 and parameters: {'sigma': 0.5979999435210218}. Best is trial 14 with value: -1.95405250193934.\n"
     ]
    },
    {
     "name": "stdout",
     "output_type": "stream",
     "text": [
      "(5_w,10)-aCMA-ES (mu_w=3.2,w_1=45%) in dimension 512 (seed=411712, Wed Mar 13 23:08:15 2024)\n",
      "(5_w,10)-aCMA-ES (mu_w=3.2,w_1=45%) in dimension 512 (seed=424469, Wed Mar 13 23:08:15 2024)\n",
      "(5_w,10)-aCMA-ES (mu_w=3.2,w_1=45%) in dimension 512 (seed=485265, Wed Mar 13 23:08:15 2024)\n",
      "[NeMo I 2024-03-13 23:08:15 megatron_lm_encoder_decoder_model:1192] Decoding using the beam search method with beam size=3...\n",
      "[NeMo I 2024-03-13 23:08:17 megatron_lm_encoder_decoder_model:1192] Decoding using the beam search method with beam size=3...\n",
      "[NeMo I 2024-03-13 23:08:19 megatron_lm_encoder_decoder_model:1192] Decoding using the beam search method with beam size=3...\n",
      "[NeMo I 2024-03-13 23:08:21 megatron_lm_encoder_decoder_model:1192] Decoding using the beam search method with beam size=3...\n",
      "[NeMo I 2024-03-13 23:08:23 megatron_lm_encoder_decoder_model:1192] Decoding using the beam search method with beam size=3...\n",
      "[NeMo I 2024-03-13 23:08:25 megatron_lm_encoder_decoder_model:1192] Decoding using the beam search method with beam size=3...\n",
      "[NeMo I 2024-03-13 23:08:26 megatron_lm_encoder_decoder_model:1192] Decoding using the beam search method with beam size=3...\n",
      "[NeMo I 2024-03-13 23:08:28 megatron_lm_encoder_decoder_model:1192] Decoding using the beam search method with beam size=3...\n",
      "[NeMo I 2024-03-13 23:08:30 megatron_lm_encoder_decoder_model:1192] Decoding using the beam search method with beam size=3...\n",
      "[NeMo I 2024-03-13 23:08:32 megatron_lm_encoder_decoder_model:1192] Decoding using the beam search method with beam size=3...\n"
     ]
    },
    {
     "name": "stderr",
     "output_type": "stream",
     "text": [
      "[I 2024-03-13 23:08:34,637] Trial 28 finished with value: -1.7289019069275628 and parameters: {'sigma': 1.2314055456391053}. Best is trial 14 with value: -1.95405250193934.\n"
     ]
    },
    {
     "name": "stdout",
     "output_type": "stream",
     "text": [
      "(5_w,10)-aCMA-ES (mu_w=3.2,w_1=45%) in dimension 512 (seed=503610, Wed Mar 13 23:08:34 2024)\n",
      "(5_w,10)-aCMA-ES (mu_w=3.2,w_1=45%) in dimension 512 (seed=457296, Wed Mar 13 23:08:34 2024)\n",
      "(5_w,10)-aCMA-ES (mu_w=3.2,w_1=45%) in dimension 512 (seed=481845, Wed Mar 13 23:08:34 2024)\n",
      "[NeMo I 2024-03-13 23:08:34 megatron_lm_encoder_decoder_model:1192] Decoding using the beam search method with beam size=3...\n",
      "[NeMo I 2024-03-13 23:08:36 megatron_lm_encoder_decoder_model:1192] Decoding using the beam search method with beam size=3...\n",
      "[NeMo I 2024-03-13 23:08:38 megatron_lm_encoder_decoder_model:1192] Decoding using the beam search method with beam size=3...\n",
      "[NeMo I 2024-03-13 23:08:40 megatron_lm_encoder_decoder_model:1192] Decoding using the beam search method with beam size=3...\n",
      "[NeMo I 2024-03-13 23:08:42 megatron_lm_encoder_decoder_model:1192] Decoding using the beam search method with beam size=3...\n",
      "[NeMo I 2024-03-13 23:08:44 megatron_lm_encoder_decoder_model:1192] Decoding using the beam search method with beam size=3...\n",
      "[NeMo I 2024-03-13 23:08:46 megatron_lm_encoder_decoder_model:1192] Decoding using the beam search method with beam size=3...\n",
      "[NeMo I 2024-03-13 23:08:48 megatron_lm_encoder_decoder_model:1192] Decoding using the beam search method with beam size=3...\n",
      "[NeMo I 2024-03-13 23:08:50 megatron_lm_encoder_decoder_model:1192] Decoding using the beam search method with beam size=3...\n",
      "[NeMo I 2024-03-13 23:08:51 megatron_lm_encoder_decoder_model:1192] Decoding using the beam search method with beam size=3...\n"
     ]
    },
    {
     "name": "stderr",
     "output_type": "stream",
     "text": [
      "[I 2024-03-13 23:08:53,936] Trial 29 finished with value: -1.8958035541794096 and parameters: {'sigma': 0.86505566217451}. Best is trial 14 with value: -1.95405250193934.\n"
     ]
    },
    {
     "name": "stdout",
     "output_type": "stream",
     "text": [
      "(5_w,10)-aCMA-ES (mu_w=3.2,w_1=45%) in dimension 512 (seed=507545, Wed Mar 13 23:08:53 2024)\n",
      "(5_w,10)-aCMA-ES (mu_w=3.2,w_1=45%) in dimension 512 (seed=528691, Wed Mar 13 23:08:53 2024)\n",
      "(5_w,10)-aCMA-ES (mu_w=3.2,w_1=45%) in dimension 512 (seed=470141, Wed Mar 13 23:08:53 2024)\n",
      "[NeMo I 2024-03-13 23:08:53 megatron_lm_encoder_decoder_model:1192] Decoding using the beam search method with beam size=3...\n",
      "[NeMo I 2024-03-13 23:08:55 megatron_lm_encoder_decoder_model:1192] Decoding using the beam search method with beam size=3...\n",
      "[NeMo I 2024-03-13 23:08:57 megatron_lm_encoder_decoder_model:1192] Decoding using the beam search method with beam size=3...\n",
      "[NeMo I 2024-03-13 23:08:59 megatron_lm_encoder_decoder_model:1192] Decoding using the beam search method with beam size=3...\n",
      "[NeMo I 2024-03-13 23:09:01 megatron_lm_encoder_decoder_model:1192] Decoding using the beam search method with beam size=3...\n",
      "[NeMo I 2024-03-13 23:09:03 megatron_lm_encoder_decoder_model:1192] Decoding using the beam search method with beam size=3...\n",
      "[NeMo I 2024-03-13 23:09:05 megatron_lm_encoder_decoder_model:1192] Decoding using the beam search method with beam size=3...\n",
      "[NeMo I 2024-03-13 23:09:07 megatron_lm_encoder_decoder_model:1192] Decoding using the beam search method with beam size=3...\n",
      "[NeMo I 2024-03-13 23:09:09 megatron_lm_encoder_decoder_model:1192] Decoding using the beam search method with beam size=3...\n",
      "[NeMo I 2024-03-13 23:09:11 megatron_lm_encoder_decoder_model:1192] Decoding using the beam search method with beam size=3...\n"
     ]
    },
    {
     "name": "stderr",
     "output_type": "stream",
     "text": [
      "[I 2024-03-13 23:09:13,005] Trial 30 finished with value: -1.9067716307147304 and parameters: {'sigma': 0.5857166968700885}. Best is trial 14 with value: -1.95405250193934.\n"
     ]
    },
    {
     "name": "stdout",
     "output_type": "stream",
     "text": [
      "(5_w,10)-aCMA-ES (mu_w=3.2,w_1=45%) in dimension 512 (seed=398715, Wed Mar 13 23:09:13 2024)\n",
      "(5_w,10)-aCMA-ES (mu_w=3.2,w_1=45%) in dimension 512 (seed=470520, Wed Mar 13 23:09:13 2024)\n",
      "(5_w,10)-aCMA-ES (mu_w=3.2,w_1=45%) in dimension 512 (seed=474714, Wed Mar 13 23:09:13 2024)\n",
      "[NeMo I 2024-03-13 23:09:13 megatron_lm_encoder_decoder_model:1192] Decoding using the beam search method with beam size=3...\n",
      "[NeMo I 2024-03-13 23:09:14 megatron_lm_encoder_decoder_model:1192] Decoding using the beam search method with beam size=3...\n",
      "[NeMo I 2024-03-13 23:09:16 megatron_lm_encoder_decoder_model:1192] Decoding using the beam search method with beam size=3...\n",
      "[NeMo I 2024-03-13 23:09:18 megatron_lm_encoder_decoder_model:1192] Decoding using the beam search method with beam size=3...\n",
      "[NeMo I 2024-03-13 23:09:20 megatron_lm_encoder_decoder_model:1192] Decoding using the beam search method with beam size=3...\n",
      "[NeMo I 2024-03-13 23:09:22 megatron_lm_encoder_decoder_model:1192] Decoding using the beam search method with beam size=3...\n",
      "[NeMo I 2024-03-13 23:09:24 megatron_lm_encoder_decoder_model:1192] Decoding using the beam search method with beam size=3...\n",
      "[NeMo I 2024-03-13 23:09:26 megatron_lm_encoder_decoder_model:1192] Decoding using the beam search method with beam size=3...\n",
      "[NeMo I 2024-03-13 23:09:28 megatron_lm_encoder_decoder_model:1192] Decoding using the beam search method with beam size=3...\n",
      "[NeMo I 2024-03-13 23:09:30 megatron_lm_encoder_decoder_model:1192] Decoding using the beam search method with beam size=3...\n"
     ]
    },
    {
     "name": "stderr",
     "output_type": "stream",
     "text": [
      "[I 2024-03-13 23:09:32,289] Trial 31 finished with value: -1.936811296308668 and parameters: {'sigma': 0.7419621312379164}. Best is trial 14 with value: -1.95405250193934.\n"
     ]
    },
    {
     "name": "stdout",
     "output_type": "stream",
     "text": [
      "(5_w,10)-aCMA-ES (mu_w=3.2,w_1=45%) in dimension 512 (seed=404752, Wed Mar 13 23:09:32 2024)\n",
      "(5_w,10)-aCMA-ES (mu_w=3.2,w_1=45%) in dimension 512 (seed=449116, Wed Mar 13 23:09:32 2024)\n",
      "(5_w,10)-aCMA-ES (mu_w=3.2,w_1=45%) in dimension 512 (seed=464225, Wed Mar 13 23:09:32 2024)\n",
      "[NeMo I 2024-03-13 23:09:32 megatron_lm_encoder_decoder_model:1192] Decoding using the beam search method with beam size=3...\n",
      "[NeMo I 2024-03-13 23:09:34 megatron_lm_encoder_decoder_model:1192] Decoding using the beam search method with beam size=3...\n",
      "[NeMo I 2024-03-13 23:09:36 megatron_lm_encoder_decoder_model:1192] Decoding using the beam search method with beam size=3...\n",
      "[NeMo I 2024-03-13 23:09:38 megatron_lm_encoder_decoder_model:1192] Decoding using the beam search method with beam size=3...\n",
      "[NeMo I 2024-03-13 23:09:40 megatron_lm_encoder_decoder_model:1192] Decoding using the beam search method with beam size=3...\n",
      "[NeMo I 2024-03-13 23:09:41 megatron_lm_encoder_decoder_model:1192] Decoding using the beam search method with beam size=3...\n",
      "[NeMo I 2024-03-13 23:09:43 megatron_lm_encoder_decoder_model:1192] Decoding using the beam search method with beam size=3...\n",
      "[NeMo I 2024-03-13 23:09:45 megatron_lm_encoder_decoder_model:1192] Decoding using the beam search method with beam size=3...\n",
      "[NeMo I 2024-03-13 23:09:47 megatron_lm_encoder_decoder_model:1192] Decoding using the beam search method with beam size=3...\n",
      "[NeMo I 2024-03-13 23:09:49 megatron_lm_encoder_decoder_model:1192] Decoding using the beam search method with beam size=3...\n"
     ]
    },
    {
     "name": "stderr",
     "output_type": "stream",
     "text": [
      "[I 2024-03-13 23:09:51,566] Trial 32 finished with value: -1.9399630539649817 and parameters: {'sigma': 0.7369968274625508}. Best is trial 14 with value: -1.95405250193934.\n"
     ]
    },
    {
     "name": "stdout",
     "output_type": "stream",
     "text": [
      "(5_w,10)-aCMA-ES (mu_w=3.2,w_1=45%) in dimension 512 (seed=481154, Wed Mar 13 23:09:51 2024)\n",
      "(5_w,10)-aCMA-ES (mu_w=3.2,w_1=45%) in dimension 512 (seed=438399, Wed Mar 13 23:09:51 2024)\n",
      "(5_w,10)-aCMA-ES (mu_w=3.2,w_1=45%) in dimension 512 (seed=456449, Wed Mar 13 23:09:51 2024)\n",
      "[NeMo I 2024-03-13 23:09:51 megatron_lm_encoder_decoder_model:1192] Decoding using the beam search method with beam size=3...\n",
      "[NeMo I 2024-03-13 23:09:53 megatron_lm_encoder_decoder_model:1192] Decoding using the beam search method with beam size=3...\n",
      "[NeMo I 2024-03-13 23:09:55 megatron_lm_encoder_decoder_model:1192] Decoding using the beam search method with beam size=3...\n",
      "[NeMo I 2024-03-13 23:09:57 megatron_lm_encoder_decoder_model:1192] Decoding using the beam search method with beam size=3...\n",
      "[NeMo I 2024-03-13 23:09:59 megatron_lm_encoder_decoder_model:1192] Decoding using the beam search method with beam size=3...\n",
      "[NeMo I 2024-03-13 23:10:01 megatron_lm_encoder_decoder_model:1192] Decoding using the beam search method with beam size=3...\n",
      "[NeMo I 2024-03-13 23:10:03 megatron_lm_encoder_decoder_model:1192] Decoding using the beam search method with beam size=3...\n",
      "[NeMo I 2024-03-13 23:10:05 megatron_lm_encoder_decoder_model:1192] Decoding using the beam search method with beam size=3...\n",
      "[NeMo I 2024-03-13 23:10:07 megatron_lm_encoder_decoder_model:1192] Decoding using the beam search method with beam size=3...\n",
      "[NeMo I 2024-03-13 23:10:08 megatron_lm_encoder_decoder_model:1192] Decoding using the beam search method with beam size=3...\n"
     ]
    },
    {
     "name": "stderr",
     "output_type": "stream",
     "text": [
      "[I 2024-03-13 23:10:10,940] Trial 33 finished with value: -1.7583070938666783 and parameters: {'sigma': 1.138785253446632}. Best is trial 14 with value: -1.95405250193934.\n"
     ]
    },
    {
     "name": "stdout",
     "output_type": "stream",
     "text": [
      "(5_w,10)-aCMA-ES (mu_w=3.2,w_1=45%) in dimension 512 (seed=486757, Wed Mar 13 23:10:10 2024)\n",
      "(5_w,10)-aCMA-ES (mu_w=3.2,w_1=45%) in dimension 512 (seed=521259, Wed Mar 13 23:10:10 2024)\n",
      "(5_w,10)-aCMA-ES (mu_w=3.2,w_1=45%) in dimension 512 (seed=545330, Wed Mar 13 23:10:10 2024)\n",
      "[NeMo I 2024-03-13 23:10:10 megatron_lm_encoder_decoder_model:1192] Decoding using the beam search method with beam size=3...\n",
      "[NeMo I 2024-03-13 23:10:12 megatron_lm_encoder_decoder_model:1192] Decoding using the beam search method with beam size=3...\n",
      "[NeMo I 2024-03-13 23:10:14 megatron_lm_encoder_decoder_model:1192] Decoding using the beam search method with beam size=3...\n",
      "[NeMo I 2024-03-13 23:10:16 megatron_lm_encoder_decoder_model:1192] Decoding using the beam search method with beam size=3...\n",
      "[NeMo I 2024-03-13 23:10:18 megatron_lm_encoder_decoder_model:1192] Decoding using the beam search method with beam size=3...\n",
      "[NeMo I 2024-03-13 23:10:20 megatron_lm_encoder_decoder_model:1192] Decoding using the beam search method with beam size=3...\n",
      "[NeMo I 2024-03-13 23:10:22 megatron_lm_encoder_decoder_model:1192] Decoding using the beam search method with beam size=3...\n",
      "[NeMo I 2024-03-13 23:10:24 megatron_lm_encoder_decoder_model:1192] Decoding using the beam search method with beam size=3...\n",
      "[NeMo I 2024-03-13 23:10:26 megatron_lm_encoder_decoder_model:1192] Decoding using the beam search method with beam size=3...\n",
      "[NeMo I 2024-03-13 23:10:28 megatron_lm_encoder_decoder_model:1192] Decoding using the beam search method with beam size=3...\n"
     ]
    },
    {
     "name": "stderr",
     "output_type": "stream",
     "text": [
      "[I 2024-03-13 23:10:30,318] Trial 34 finished with value: -1.6146911347636064 and parameters: {'sigma': 0.025820948250633635}. Best is trial 14 with value: -1.95405250193934.\n"
     ]
    },
    {
     "name": "stdout",
     "output_type": "stream",
     "text": [
      "(5_w,10)-aCMA-ES (mu_w=3.2,w_1=45%) in dimension 512 (seed=487642, Wed Mar 13 23:10:30 2024)\n",
      "(5_w,10)-aCMA-ES (mu_w=3.2,w_1=45%) in dimension 512 (seed=467896, Wed Mar 13 23:10:30 2024)\n",
      "(5_w,10)-aCMA-ES (mu_w=3.2,w_1=45%) in dimension 512 (seed=445721, Wed Mar 13 23:10:30 2024)\n",
      "[NeMo I 2024-03-13 23:10:30 megatron_lm_encoder_decoder_model:1192] Decoding using the beam search method with beam size=3...\n",
      "[NeMo I 2024-03-13 23:10:32 megatron_lm_encoder_decoder_model:1192] Decoding using the beam search method with beam size=3...\n",
      "[NeMo I 2024-03-13 23:10:34 megatron_lm_encoder_decoder_model:1192] Decoding using the beam search method with beam size=3...\n",
      "[NeMo I 2024-03-13 23:10:36 megatron_lm_encoder_decoder_model:1192] Decoding using the beam search method with beam size=3...\n",
      "[NeMo I 2024-03-13 23:10:38 megatron_lm_encoder_decoder_model:1192] Decoding using the beam search method with beam size=3...\n",
      "[NeMo I 2024-03-13 23:10:40 megatron_lm_encoder_decoder_model:1192] Decoding using the beam search method with beam size=3...\n",
      "[NeMo I 2024-03-13 23:10:41 megatron_lm_encoder_decoder_model:1192] Decoding using the beam search method with beam size=3...\n",
      "[NeMo I 2024-03-13 23:10:43 megatron_lm_encoder_decoder_model:1192] Decoding using the beam search method with beam size=3...\n",
      "[NeMo I 2024-03-13 23:10:45 megatron_lm_encoder_decoder_model:1192] Decoding using the beam search method with beam size=3...\n",
      "[NeMo I 2024-03-13 23:10:47 megatron_lm_encoder_decoder_model:1192] Decoding using the beam search method with beam size=3...\n"
     ]
    },
    {
     "name": "stderr",
     "output_type": "stream",
     "text": [
      "[I 2024-03-13 23:10:49,757] Trial 35 finished with value: -1.6708456377350098 and parameters: {'sigma': 0.17458755512291924}. Best is trial 14 with value: -1.95405250193934.\n"
     ]
    },
    {
     "name": "stdout",
     "output_type": "stream",
     "text": [
      "(5_w,10)-aCMA-ES (mu_w=3.2,w_1=45%) in dimension 512 (seed=545892, Wed Mar 13 23:10:49 2024)\n",
      "(5_w,10)-aCMA-ES (mu_w=3.2,w_1=45%) in dimension 512 (seed=488672, Wed Mar 13 23:10:49 2024)\n",
      "(5_w,10)-aCMA-ES (mu_w=3.2,w_1=45%) in dimension 512 (seed=500832, Wed Mar 13 23:10:49 2024)\n",
      "[NeMo I 2024-03-13 23:10:49 megatron_lm_encoder_decoder_model:1192] Decoding using the beam search method with beam size=3...\n",
      "[NeMo I 2024-03-13 23:10:51 megatron_lm_encoder_decoder_model:1192] Decoding using the beam search method with beam size=3...\n",
      "[NeMo I 2024-03-13 23:10:53 megatron_lm_encoder_decoder_model:1192] Decoding using the beam search method with beam size=3...\n",
      "[NeMo I 2024-03-13 23:10:55 megatron_lm_encoder_decoder_model:1192] Decoding using the beam search method with beam size=3...\n",
      "[NeMo I 2024-03-13 23:10:57 megatron_lm_encoder_decoder_model:1192] Decoding using the beam search method with beam size=3...\n",
      "[NeMo I 2024-03-13 23:10:59 megatron_lm_encoder_decoder_model:1192] Decoding using the beam search method with beam size=3...\n",
      "[NeMo I 2024-03-13 23:11:01 megatron_lm_encoder_decoder_model:1192] Decoding using the beam search method with beam size=3...\n",
      "[NeMo I 2024-03-13 23:11:03 megatron_lm_encoder_decoder_model:1192] Decoding using the beam search method with beam size=3...\n",
      "[NeMo I 2024-03-13 23:11:05 megatron_lm_encoder_decoder_model:1192] Decoding using the beam search method with beam size=3...\n",
      "[NeMo I 2024-03-13 23:11:07 megatron_lm_encoder_decoder_model:1192] Decoding using the beam search method with beam size=3...\n"
     ]
    },
    {
     "name": "stderr",
     "output_type": "stream",
     "text": [
      "[I 2024-03-13 23:11:09,124] Trial 36 finished with value: -1.8869215310419776 and parameters: {'sigma': 0.48910357627197876}. Best is trial 14 with value: -1.95405250193934.\n"
     ]
    },
    {
     "name": "stdout",
     "output_type": "stream",
     "text": [
      "(5_w,10)-aCMA-ES (mu_w=3.2,w_1=45%) in dimension 512 (seed=387810, Wed Mar 13 23:11:09 2024)\n",
      "(5_w,10)-aCMA-ES (mu_w=3.2,w_1=45%) in dimension 512 (seed=399886, Wed Mar 13 23:11:09 2024)\n",
      "(5_w,10)-aCMA-ES (mu_w=3.2,w_1=45%) in dimension 512 (seed=451312, Wed Mar 13 23:11:09 2024)\n",
      "[NeMo I 2024-03-13 23:11:09 megatron_lm_encoder_decoder_model:1192] Decoding using the beam search method with beam size=3...\n",
      "[NeMo I 2024-03-13 23:11:11 megatron_lm_encoder_decoder_model:1192] Decoding using the beam search method with beam size=3...\n",
      "[NeMo I 2024-03-13 23:11:13 megatron_lm_encoder_decoder_model:1192] Decoding using the beam search method with beam size=3...\n",
      "[NeMo I 2024-03-13 23:11:14 megatron_lm_encoder_decoder_model:1192] Decoding using the beam search method with beam size=3...\n",
      "[NeMo I 2024-03-13 23:11:16 megatron_lm_encoder_decoder_model:1192] Decoding using the beam search method with beam size=3...\n",
      "[NeMo I 2024-03-13 23:11:18 megatron_lm_encoder_decoder_model:1192] Decoding using the beam search method with beam size=3...\n",
      "[NeMo I 2024-03-13 23:11:20 megatron_lm_encoder_decoder_model:1192] Decoding using the beam search method with beam size=3...\n",
      "[NeMo I 2024-03-13 23:11:22 megatron_lm_encoder_decoder_model:1192] Decoding using the beam search method with beam size=3...\n",
      "[NeMo I 2024-03-13 23:11:24 megatron_lm_encoder_decoder_model:1192] Decoding using the beam search method with beam size=3...\n",
      "[NeMo I 2024-03-13 23:11:26 megatron_lm_encoder_decoder_model:1192] Decoding using the beam search method with beam size=3...\n"
     ]
    },
    {
     "name": "stderr",
     "output_type": "stream",
     "text": [
      "[I 2024-03-13 23:11:28,477] Trial 37 finished with value: -1.846012212489682 and parameters: {'sigma': 0.7991748881852605}. Best is trial 14 with value: -1.95405250193934.\n"
     ]
    },
    {
     "name": "stdout",
     "output_type": "stream",
     "text": [
      "(5_w,10)-aCMA-ES (mu_w=3.2,w_1=45%) in dimension 512 (seed=493646, Wed Mar 13 23:11:28 2024)\n",
      "(5_w,10)-aCMA-ES (mu_w=3.2,w_1=45%) in dimension 512 (seed=463030, Wed Mar 13 23:11:28 2024)\n",
      "(5_w,10)-aCMA-ES (mu_w=3.2,w_1=45%) in dimension 512 (seed=504264, Wed Mar 13 23:11:28 2024)\n",
      "[NeMo I 2024-03-13 23:11:28 megatron_lm_encoder_decoder_model:1192] Decoding using the beam search method with beam size=3...\n",
      "[NeMo I 2024-03-13 23:11:30 megatron_lm_encoder_decoder_model:1192] Decoding using the beam search method with beam size=3...\n",
      "[NeMo I 2024-03-13 23:11:32 megatron_lm_encoder_decoder_model:1192] Decoding using the beam search method with beam size=3...\n",
      "[NeMo I 2024-03-13 23:11:34 megatron_lm_encoder_decoder_model:1192] Decoding using the beam search method with beam size=3...\n",
      "[NeMo I 2024-03-13 23:11:36 megatron_lm_encoder_decoder_model:1192] Decoding using the beam search method with beam size=3...\n",
      "[NeMo I 2024-03-13 23:11:38 megatron_lm_encoder_decoder_model:1192] Decoding using the beam search method with beam size=3...\n",
      "[NeMo I 2024-03-13 23:11:40 megatron_lm_encoder_decoder_model:1192] Decoding using the beam search method with beam size=3...\n",
      "[NeMo I 2024-03-13 23:11:42 megatron_lm_encoder_decoder_model:1192] Decoding using the beam search method with beam size=3...\n",
      "[NeMo I 2024-03-13 23:11:43 megatron_lm_encoder_decoder_model:1192] Decoding using the beam search method with beam size=3...\n",
      "[NeMo I 2024-03-13 23:11:45 megatron_lm_encoder_decoder_model:1192] Decoding using the beam search method with beam size=3...\n"
     ]
    },
    {
     "name": "stderr",
     "output_type": "stream",
     "text": [
      "[I 2024-03-13 23:11:47,859] Trial 38 finished with value: -1.7560429158054618 and parameters: {'sigma': 0.9312927369576645}. Best is trial 14 with value: -1.95405250193934.\n"
     ]
    },
    {
     "name": "stdout",
     "output_type": "stream",
     "text": [
      "(5_w,10)-aCMA-ES (mu_w=3.2,w_1=45%) in dimension 512 (seed=536573, Wed Mar 13 23:11:47 2024)\n",
      "(5_w,10)-aCMA-ES (mu_w=3.2,w_1=45%) in dimension 512 (seed=464983, Wed Mar 13 23:11:47 2024)\n",
      "(5_w,10)-aCMA-ES (mu_w=3.2,w_1=45%) in dimension 512 (seed=515330, Wed Mar 13 23:11:47 2024)\n",
      "[NeMo I 2024-03-13 23:11:47 megatron_lm_encoder_decoder_model:1192] Decoding using the beam search method with beam size=3...\n",
      "[NeMo I 2024-03-13 23:11:49 megatron_lm_encoder_decoder_model:1192] Decoding using the beam search method with beam size=3...\n",
      "[NeMo I 2024-03-13 23:11:51 megatron_lm_encoder_decoder_model:1192] Decoding using the beam search method with beam size=3...\n",
      "[NeMo I 2024-03-13 23:11:53 megatron_lm_encoder_decoder_model:1192] Decoding using the beam search method with beam size=3...\n",
      "[NeMo I 2024-03-13 23:11:55 megatron_lm_encoder_decoder_model:1192] Decoding using the beam search method with beam size=3...\n",
      "[NeMo I 2024-03-13 23:11:57 megatron_lm_encoder_decoder_model:1192] Decoding using the beam search method with beam size=3...\n",
      "[NeMo I 2024-03-13 23:11:59 megatron_lm_encoder_decoder_model:1192] Decoding using the beam search method with beam size=3...\n",
      "[NeMo I 2024-03-13 23:12:01 megatron_lm_encoder_decoder_model:1192] Decoding using the beam search method with beam size=3...\n",
      "[NeMo I 2024-03-13 23:12:03 megatron_lm_encoder_decoder_model:1192] Decoding using the beam search method with beam size=3...\n",
      "[NeMo I 2024-03-13 23:12:05 megatron_lm_encoder_decoder_model:1192] Decoding using the beam search method with beam size=3...\n"
     ]
    },
    {
     "name": "stderr",
     "output_type": "stream",
     "text": [
      "[I 2024-03-13 23:12:07,300] Trial 39 finished with value: -1.594855320103461 and parameters: {'sigma': 1.4122166336743005}. Best is trial 14 with value: -1.95405250193934.\n"
     ]
    },
    {
     "name": "stdout",
     "output_type": "stream",
     "text": [
      "(5_w,10)-aCMA-ES (mu_w=3.2,w_1=45%) in dimension 512 (seed=462843, Wed Mar 13 23:12:07 2024)\n",
      "(5_w,10)-aCMA-ES (mu_w=3.2,w_1=45%) in dimension 512 (seed=464060, Wed Mar 13 23:12:07 2024)\n",
      "(5_w,10)-aCMA-ES (mu_w=3.2,w_1=45%) in dimension 512 (seed=465580, Wed Mar 13 23:12:07 2024)\n",
      "[NeMo I 2024-03-13 23:12:07 megatron_lm_encoder_decoder_model:1192] Decoding using the beam search method with beam size=3...\n",
      "[NeMo I 2024-03-13 23:12:09 megatron_lm_encoder_decoder_model:1192] Decoding using the beam search method with beam size=3...\n",
      "[NeMo I 2024-03-13 23:12:11 megatron_lm_encoder_decoder_model:1192] Decoding using the beam search method with beam size=3...\n",
      "[NeMo I 2024-03-13 23:12:13 megatron_lm_encoder_decoder_model:1192] Decoding using the beam search method with beam size=3...\n",
      "[NeMo I 2024-03-13 23:12:15 megatron_lm_encoder_decoder_model:1192] Decoding using the beam search method with beam size=3...\n",
      "[NeMo I 2024-03-13 23:12:16 megatron_lm_encoder_decoder_model:1192] Decoding using the beam search method with beam size=3...\n",
      "[NeMo I 2024-03-13 23:12:18 megatron_lm_encoder_decoder_model:1192] Decoding using the beam search method with beam size=3...\n",
      "[NeMo I 2024-03-13 23:12:20 megatron_lm_encoder_decoder_model:1192] Decoding using the beam search method with beam size=3...\n",
      "[NeMo I 2024-03-13 23:12:22 megatron_lm_encoder_decoder_model:1192] Decoding using the beam search method with beam size=3...\n",
      "[NeMo I 2024-03-13 23:12:24 megatron_lm_encoder_decoder_model:1192] Decoding using the beam search method with beam size=3...\n"
     ]
    },
    {
     "name": "stderr",
     "output_type": "stream",
     "text": [
      "[I 2024-03-13 23:12:26,537] Trial 40 finished with value: -1.9015829138255704 and parameters: {'sigma': 0.5934226081206728}. Best is trial 14 with value: -1.95405250193934.\n"
     ]
    },
    {
     "name": "stdout",
     "output_type": "stream",
     "text": [
      "(5_w,10)-aCMA-ES (mu_w=3.2,w_1=45%) in dimension 512 (seed=472497, Wed Mar 13 23:12:26 2024)\n",
      "(5_w,10)-aCMA-ES (mu_w=3.2,w_1=45%) in dimension 512 (seed=518942, Wed Mar 13 23:12:26 2024)\n",
      "(5_w,10)-aCMA-ES (mu_w=3.2,w_1=45%) in dimension 512 (seed=480418, Wed Mar 13 23:12:26 2024)\n",
      "[NeMo I 2024-03-13 23:12:26 megatron_lm_encoder_decoder_model:1192] Decoding using the beam search method with beam size=3...\n",
      "[NeMo I 2024-03-13 23:12:28 megatron_lm_encoder_decoder_model:1192] Decoding using the beam search method with beam size=3...\n",
      "[NeMo I 2024-03-13 23:12:30 megatron_lm_encoder_decoder_model:1192] Decoding using the beam search method with beam size=3...\n",
      "[NeMo I 2024-03-13 23:12:32 megatron_lm_encoder_decoder_model:1192] Decoding using the beam search method with beam size=3...\n",
      "[NeMo I 2024-03-13 23:12:34 megatron_lm_encoder_decoder_model:1192] Decoding using the beam search method with beam size=3...\n",
      "[NeMo I 2024-03-13 23:12:36 megatron_lm_encoder_decoder_model:1192] Decoding using the beam search method with beam size=3...\n",
      "[NeMo I 2024-03-13 23:12:38 megatron_lm_encoder_decoder_model:1192] Decoding using the beam search method with beam size=3...\n",
      "[NeMo I 2024-03-13 23:12:39 megatron_lm_encoder_decoder_model:1192] Decoding using the beam search method with beam size=3...\n",
      "[NeMo I 2024-03-13 23:12:41 megatron_lm_encoder_decoder_model:1192] Decoding using the beam search method with beam size=3...\n",
      "[NeMo I 2024-03-13 23:12:43 megatron_lm_encoder_decoder_model:1192] Decoding using the beam search method with beam size=3...\n"
     ]
    },
    {
     "name": "stderr",
     "output_type": "stream",
     "text": [
      "[I 2024-03-13 23:12:45,739] Trial 41 finished with value: -1.894432637227258 and parameters: {'sigma': 0.7291228004753678}. Best is trial 14 with value: -1.95405250193934.\n"
     ]
    },
    {
     "name": "stdout",
     "output_type": "stream",
     "text": [
      "(5_w,10)-aCMA-ES (mu_w=3.2,w_1=45%) in dimension 512 (seed=514131, Wed Mar 13 23:12:45 2024)\n",
      "(5_w,10)-aCMA-ES (mu_w=3.2,w_1=45%) in dimension 512 (seed=536790, Wed Mar 13 23:12:45 2024)\n",
      "(5_w,10)-aCMA-ES (mu_w=3.2,w_1=45%) in dimension 512 (seed=459175, Wed Mar 13 23:12:45 2024)\n",
      "[NeMo I 2024-03-13 23:12:45 megatron_lm_encoder_decoder_model:1192] Decoding using the beam search method with beam size=3...\n",
      "[NeMo I 2024-03-13 23:12:47 megatron_lm_encoder_decoder_model:1192] Decoding using the beam search method with beam size=3...\n",
      "[NeMo I 2024-03-13 23:12:49 megatron_lm_encoder_decoder_model:1192] Decoding using the beam search method with beam size=3...\n",
      "[NeMo I 2024-03-13 23:12:51 megatron_lm_encoder_decoder_model:1192] Decoding using the beam search method with beam size=3...\n",
      "[NeMo I 2024-03-13 23:12:53 megatron_lm_encoder_decoder_model:1192] Decoding using the beam search method with beam size=3...\n",
      "[NeMo I 2024-03-13 23:12:55 megatron_lm_encoder_decoder_model:1192] Decoding using the beam search method with beam size=3...\n",
      "[NeMo I 2024-03-13 23:12:57 megatron_lm_encoder_decoder_model:1192] Decoding using the beam search method with beam size=3...\n",
      "[NeMo I 2024-03-13 23:12:59 megatron_lm_encoder_decoder_model:1192] Decoding using the beam search method with beam size=3...\n",
      "[NeMo I 2024-03-13 23:13:01 megatron_lm_encoder_decoder_model:1192] Decoding using the beam search method with beam size=3...\n",
      "[NeMo I 2024-03-13 23:13:02 megatron_lm_encoder_decoder_model:1192] Decoding using the beam search method with beam size=3...\n"
     ]
    },
    {
     "name": "stderr",
     "output_type": "stream",
     "text": [
      "[I 2024-03-13 23:13:04,937] Trial 42 finished with value: -1.9550231852333146 and parameters: {'sigma': 0.6705126607455854}. Best is trial 42 with value: -1.9550231852333146.\n"
     ]
    },
    {
     "name": "stdout",
     "output_type": "stream",
     "text": [
      "(5_w,10)-aCMA-ES (mu_w=3.2,w_1=45%) in dimension 512 (seed=535468, Wed Mar 13 23:13:04 2024)\n",
      "(5_w,10)-aCMA-ES (mu_w=3.2,w_1=45%) in dimension 512 (seed=505025, Wed Mar 13 23:13:04 2024)\n",
      "(5_w,10)-aCMA-ES (mu_w=3.2,w_1=45%) in dimension 512 (seed=535998, Wed Mar 13 23:13:04 2024)\n",
      "[NeMo I 2024-03-13 23:13:04 megatron_lm_encoder_decoder_model:1192] Decoding using the beam search method with beam size=3...\n",
      "[NeMo I 2024-03-13 23:13:06 megatron_lm_encoder_decoder_model:1192] Decoding using the beam search method with beam size=3...\n",
      "[NeMo I 2024-03-13 23:13:08 megatron_lm_encoder_decoder_model:1192] Decoding using the beam search method with beam size=3...\n",
      "[NeMo I 2024-03-13 23:13:10 megatron_lm_encoder_decoder_model:1192] Decoding using the beam search method with beam size=3...\n",
      "[NeMo I 2024-03-13 23:13:12 megatron_lm_encoder_decoder_model:1192] Decoding using the beam search method with beam size=3...\n",
      "[NeMo I 2024-03-13 23:13:14 megatron_lm_encoder_decoder_model:1192] Decoding using the beam search method with beam size=3...\n",
      "[NeMo I 2024-03-13 23:13:16 megatron_lm_encoder_decoder_model:1192] Decoding using the beam search method with beam size=3...\n",
      "[NeMo I 2024-03-13 23:13:18 megatron_lm_encoder_decoder_model:1192] Decoding using the beam search method with beam size=3...\n",
      "[NeMo I 2024-03-13 23:13:20 megatron_lm_encoder_decoder_model:1192] Decoding using the beam search method with beam size=3...\n",
      "[NeMo I 2024-03-13 23:13:22 megatron_lm_encoder_decoder_model:1192] Decoding using the beam search method with beam size=3...\n"
     ]
    },
    {
     "name": "stderr",
     "output_type": "stream",
     "text": [
      "[I 2024-03-13 23:13:24,163] Trial 43 finished with value: -1.8831218707878783 and parameters: {'sigma': 0.4265164603449484}. Best is trial 42 with value: -1.9550231852333146.\n"
     ]
    },
    {
     "name": "stdout",
     "output_type": "stream",
     "text": [
      "(5_w,10)-aCMA-ES (mu_w=3.2,w_1=45%) in dimension 512 (seed=427657, Wed Mar 13 23:13:24 2024)\n",
      "(5_w,10)-aCMA-ES (mu_w=3.2,w_1=45%) in dimension 512 (seed=440737, Wed Mar 13 23:13:24 2024)\n",
      "(5_w,10)-aCMA-ES (mu_w=3.2,w_1=45%) in dimension 512 (seed=435178, Wed Mar 13 23:13:24 2024)\n",
      "[NeMo I 2024-03-13 23:13:24 megatron_lm_encoder_decoder_model:1192] Decoding using the beam search method with beam size=3...\n",
      "[NeMo I 2024-03-13 23:13:26 megatron_lm_encoder_decoder_model:1192] Decoding using the beam search method with beam size=3...\n",
      "[NeMo I 2024-03-13 23:13:28 megatron_lm_encoder_decoder_model:1192] Decoding using the beam search method with beam size=3...\n",
      "[NeMo I 2024-03-13 23:13:29 megatron_lm_encoder_decoder_model:1192] Decoding using the beam search method with beam size=3...\n",
      "[NeMo I 2024-03-13 23:13:31 megatron_lm_encoder_decoder_model:1192] Decoding using the beam search method with beam size=3...\n",
      "[NeMo I 2024-03-13 23:13:33 megatron_lm_encoder_decoder_model:1192] Decoding using the beam search method with beam size=3...\n",
      "[NeMo I 2024-03-13 23:13:35 megatron_lm_encoder_decoder_model:1192] Decoding using the beam search method with beam size=3...\n",
      "[NeMo I 2024-03-13 23:13:37 megatron_lm_encoder_decoder_model:1192] Decoding using the beam search method with beam size=3...\n",
      "[NeMo I 2024-03-13 23:13:39 megatron_lm_encoder_decoder_model:1192] Decoding using the beam search method with beam size=3...\n",
      "[NeMo I 2024-03-13 23:13:41 megatron_lm_encoder_decoder_model:1192] Decoding using the beam search method with beam size=3...\n"
     ]
    },
    {
     "name": "stderr",
     "output_type": "stream",
     "text": [
      "[I 2024-03-13 23:13:43,268] Trial 44 finished with value: -1.887100077906186 and parameters: {'sigma': 0.6612265423791128}. Best is trial 42 with value: -1.9550231852333146.\n"
     ]
    },
    {
     "name": "stdout",
     "output_type": "stream",
     "text": [
      "(5_w,10)-aCMA-ES (mu_w=3.2,w_1=45%) in dimension 512 (seed=412182, Wed Mar 13 23:13:43 2024)\n",
      "(5_w,10)-aCMA-ES (mu_w=3.2,w_1=45%) in dimension 512 (seed=466005, Wed Mar 13 23:13:43 2024)\n",
      "(5_w,10)-aCMA-ES (mu_w=3.2,w_1=45%) in dimension 512 (seed=441502, Wed Mar 13 23:13:43 2024)\n",
      "[NeMo I 2024-03-13 23:13:43 megatron_lm_encoder_decoder_model:1192] Decoding using the beam search method with beam size=3...\n",
      "[NeMo I 2024-03-13 23:13:45 megatron_lm_encoder_decoder_model:1192] Decoding using the beam search method with beam size=3...\n",
      "[NeMo I 2024-03-13 23:13:47 megatron_lm_encoder_decoder_model:1192] Decoding using the beam search method with beam size=3...\n",
      "[NeMo I 2024-03-13 23:13:49 megatron_lm_encoder_decoder_model:1192] Decoding using the beam search method with beam size=3...\n",
      "[NeMo I 2024-03-13 23:13:50 megatron_lm_encoder_decoder_model:1192] Decoding using the beam search method with beam size=3...\n",
      "[NeMo I 2024-03-13 23:13:52 megatron_lm_encoder_decoder_model:1192] Decoding using the beam search method with beam size=3...\n",
      "[NeMo I 2024-03-13 23:13:54 megatron_lm_encoder_decoder_model:1192] Decoding using the beam search method with beam size=3...\n",
      "[NeMo I 2024-03-13 23:13:56 megatron_lm_encoder_decoder_model:1192] Decoding using the beam search method with beam size=3...\n",
      "[NeMo I 2024-03-13 23:13:58 megatron_lm_encoder_decoder_model:1192] Decoding using the beam search method with beam size=3...\n",
      "[NeMo I 2024-03-13 23:14:00 megatron_lm_encoder_decoder_model:1192] Decoding using the beam search method with beam size=3...\n"
     ]
    },
    {
     "name": "stderr",
     "output_type": "stream",
     "text": [
      "[I 2024-03-13 23:14:02,430] Trial 45 finished with value: -1.9286899723447475 and parameters: {'sigma': 0.8473653673439439}. Best is trial 42 with value: -1.9550231852333146.\n"
     ]
    },
    {
     "name": "stdout",
     "output_type": "stream",
     "text": [
      "(5_w,10)-aCMA-ES (mu_w=3.2,w_1=45%) in dimension 512 (seed=488713, Wed Mar 13 23:14:02 2024)\n",
      "(5_w,10)-aCMA-ES (mu_w=3.2,w_1=45%) in dimension 512 (seed=499382, Wed Mar 13 23:14:02 2024)\n",
      "(5_w,10)-aCMA-ES (mu_w=3.2,w_1=45%) in dimension 512 (seed=452736, Wed Mar 13 23:14:02 2024)\n",
      "[NeMo I 2024-03-13 23:14:02 megatron_lm_encoder_decoder_model:1192] Decoding using the beam search method with beam size=3...\n",
      "[NeMo I 2024-03-13 23:14:04 megatron_lm_encoder_decoder_model:1192] Decoding using the beam search method with beam size=3...\n",
      "[NeMo I 2024-03-13 23:14:06 megatron_lm_encoder_decoder_model:1192] Decoding using the beam search method with beam size=3...\n",
      "[NeMo I 2024-03-13 23:14:08 megatron_lm_encoder_decoder_model:1192] Decoding using the beam search method with beam size=3...\n",
      "[NeMo I 2024-03-13 23:14:10 megatron_lm_encoder_decoder_model:1192] Decoding using the beam search method with beam size=3...\n",
      "[NeMo I 2024-03-13 23:14:12 megatron_lm_encoder_decoder_model:1192] Decoding using the beam search method with beam size=3...\n",
      "[NeMo I 2024-03-13 23:14:14 megatron_lm_encoder_decoder_model:1192] Decoding using the beam search method with beam size=3...\n",
      "[NeMo I 2024-03-13 23:14:16 megatron_lm_encoder_decoder_model:1192] Decoding using the beam search method with beam size=3...\n",
      "[NeMo I 2024-03-13 23:14:17 megatron_lm_encoder_decoder_model:1192] Decoding using the beam search method with beam size=3...\n",
      "[NeMo I 2024-03-13 23:14:19 megatron_lm_encoder_decoder_model:1192] Decoding using the beam search method with beam size=3...\n"
     ]
    },
    {
     "name": "stderr",
     "output_type": "stream",
     "text": [
      "[I 2024-03-13 23:14:21,899] Trial 46 finished with value: -1.8082486125136397 and parameters: {'sigma': 1.0074322899003167}. Best is trial 42 with value: -1.9550231852333146.\n"
     ]
    },
    {
     "name": "stdout",
     "output_type": "stream",
     "text": [
      "(5_w,10)-aCMA-ES (mu_w=3.2,w_1=45%) in dimension 512 (seed=534656, Wed Mar 13 23:14:21 2024)\n",
      "(5_w,10)-aCMA-ES (mu_w=3.2,w_1=45%) in dimension 512 (seed=526796, Wed Mar 13 23:14:21 2024)\n",
      "(5_w,10)-aCMA-ES (mu_w=3.2,w_1=45%) in dimension 512 (seed=484496, Wed Mar 13 23:14:21 2024)\n",
      "[NeMo I 2024-03-13 23:14:21 megatron_lm_encoder_decoder_model:1192] Decoding using the beam search method with beam size=3...\n",
      "[NeMo I 2024-03-13 23:14:23 megatron_lm_encoder_decoder_model:1192] Decoding using the beam search method with beam size=3...\n",
      "[NeMo I 2024-03-13 23:14:25 megatron_lm_encoder_decoder_model:1192] Decoding using the beam search method with beam size=3...\n",
      "[NeMo I 2024-03-13 23:14:27 megatron_lm_encoder_decoder_model:1192] Decoding using the beam search method with beam size=3...\n",
      "[NeMo I 2024-03-13 23:14:29 megatron_lm_encoder_decoder_model:1192] Decoding using the beam search method with beam size=3...\n",
      "[NeMo I 2024-03-13 23:14:31 megatron_lm_encoder_decoder_model:1192] Decoding using the beam search method with beam size=3...\n",
      "[NeMo I 2024-03-13 23:14:33 megatron_lm_encoder_decoder_model:1192] Decoding using the beam search method with beam size=3...\n",
      "[NeMo I 2024-03-13 23:14:35 megatron_lm_encoder_decoder_model:1192] Decoding using the beam search method with beam size=3...\n",
      "[NeMo I 2024-03-13 23:14:37 megatron_lm_encoder_decoder_model:1192] Decoding using the beam search method with beam size=3...\n",
      "[NeMo I 2024-03-13 23:14:39 megatron_lm_encoder_decoder_model:1192] Decoding using the beam search method with beam size=3...\n"
     ]
    },
    {
     "name": "stderr",
     "output_type": "stream",
     "text": [
      "[I 2024-03-13 23:14:41,436] Trial 47 finished with value: -1.852477691900697 and parameters: {'sigma': 0.490762320419488}. Best is trial 42 with value: -1.9550231852333146.\n"
     ]
    },
    {
     "name": "stdout",
     "output_type": "stream",
     "text": [
      "(5_w,10)-aCMA-ES (mu_w=3.2,w_1=45%) in dimension 512 (seed=509330, Wed Mar 13 23:14:41 2024)\n",
      "(5_w,10)-aCMA-ES (mu_w=3.2,w_1=45%) in dimension 512 (seed=504254, Wed Mar 13 23:14:41 2024)\n",
      "(5_w,10)-aCMA-ES (mu_w=3.2,w_1=45%) in dimension 512 (seed=495215, Wed Mar 13 23:14:41 2024)\n",
      "[NeMo I 2024-03-13 23:14:41 megatron_lm_encoder_decoder_model:1192] Decoding using the beam search method with beam size=3...\n",
      "[NeMo I 2024-03-13 23:14:43 megatron_lm_encoder_decoder_model:1192] Decoding using the beam search method with beam size=3...\n",
      "[NeMo I 2024-03-13 23:14:45 megatron_lm_encoder_decoder_model:1192] Decoding using the beam search method with beam size=3...\n",
      "[NeMo I 2024-03-13 23:14:47 megatron_lm_encoder_decoder_model:1192] Decoding using the beam search method with beam size=3...\n",
      "[NeMo I 2024-03-13 23:14:49 megatron_lm_encoder_decoder_model:1192] Decoding using the beam search method with beam size=3...\n",
      "[NeMo I 2024-03-13 23:14:51 megatron_lm_encoder_decoder_model:1192] Decoding using the beam search method with beam size=3...\n",
      "[NeMo I 2024-03-13 23:14:53 megatron_lm_encoder_decoder_model:1192] Decoding using the beam search method with beam size=3...\n",
      "[NeMo I 2024-03-13 23:14:55 megatron_lm_encoder_decoder_model:1192] Decoding using the beam search method with beam size=3...\n",
      "[NeMo I 2024-03-13 23:14:57 megatron_lm_encoder_decoder_model:1192] Decoding using the beam search method with beam size=3...\n",
      "[NeMo I 2024-03-13 23:14:58 megatron_lm_encoder_decoder_model:1192] Decoding using the beam search method with beam size=3...\n"
     ]
    },
    {
     "name": "stderr",
     "output_type": "stream",
     "text": [
      "[I 2024-03-13 23:15:00,932] Trial 48 finished with value: -1.887318454213626 and parameters: {'sigma': 0.34918665880351546}. Best is trial 42 with value: -1.9550231852333146.\n"
     ]
    },
    {
     "name": "stdout",
     "output_type": "stream",
     "text": [
      "(5_w,10)-aCMA-ES (mu_w=3.2,w_1=45%) in dimension 512 (seed=502633, Wed Mar 13 23:15:00 2024)\n",
      "(5_w,10)-aCMA-ES (mu_w=3.2,w_1=45%) in dimension 512 (seed=540136, Wed Mar 13 23:15:00 2024)\n",
      "(5_w,10)-aCMA-ES (mu_w=3.2,w_1=45%) in dimension 512 (seed=479626, Wed Mar 13 23:15:00 2024)\n",
      "[NeMo I 2024-03-13 23:15:00 megatron_lm_encoder_decoder_model:1192] Decoding using the beam search method with beam size=3...\n",
      "[NeMo I 2024-03-13 23:15:02 megatron_lm_encoder_decoder_model:1192] Decoding using the beam search method with beam size=3...\n",
      "[NeMo I 2024-03-13 23:15:04 megatron_lm_encoder_decoder_model:1192] Decoding using the beam search method with beam size=3...\n",
      "[NeMo I 2024-03-13 23:15:06 megatron_lm_encoder_decoder_model:1192] Decoding using the beam search method with beam size=3...\n",
      "[NeMo I 2024-03-13 23:15:08 megatron_lm_encoder_decoder_model:1192] Decoding using the beam search method with beam size=3...\n",
      "[NeMo I 2024-03-13 23:15:10 megatron_lm_encoder_decoder_model:1192] Decoding using the beam search method with beam size=3...\n",
      "[NeMo I 2024-03-13 23:15:12 megatron_lm_encoder_decoder_model:1192] Decoding using the beam search method with beam size=3...\n",
      "[NeMo I 2024-03-13 23:15:14 megatron_lm_encoder_decoder_model:1192] Decoding using the beam search method with beam size=3...\n",
      "[NeMo I 2024-03-13 23:15:16 megatron_lm_encoder_decoder_model:1192] Decoding using the beam search method with beam size=3...\n",
      "[NeMo I 2024-03-13 23:15:18 megatron_lm_encoder_decoder_model:1192] Decoding using the beam search method with beam size=3...\n"
     ]
    },
    {
     "name": "stderr",
     "output_type": "stream",
     "text": [
      "[I 2024-03-13 23:15:20,455] Trial 49 finished with value: -1.7140777925795738 and parameters: {'sigma': 1.1560263659158059}. Best is trial 42 with value: -1.9550231852333146.\n"
     ]
    },
    {
     "name": "stdout",
     "output_type": "stream",
     "text": [
      "{'sigma': 0.6705126607455854}\n"
     ]
    }
   ],
   "source": [
    "from guided_molecule_gen.optimizer import MoleculeGenerationOptimizer\n",
    "import optuna\n",
    "\n",
    "def objective(trial, n_steps:int=10):\n",
    "    sigma = trial.suggest_float('sigma', 0, 2)\n",
    "    optimizer = MoleculeGenerationOptimizer(\n",
    "        model_wrapped,\n",
    "        scoring_function,\n",
    "        canonicalized_smiles,\n",
    "        popsize=10,  # larger values will be slower but more thorough\n",
    "        optimizer_args={\"sigma\": sigma},\n",
    "    )\n",
    "    optimizer.optimize(n_steps)\n",
    "    final_smiles = optimizer.generated_smis\n",
    "    final_score = np.mean([np.min(scoring_function(smis_population, reference_smis)) for smis_population,reference_smis in zip(final_smiles, canonicalized_smiles)])\n",
    "    return final_score\n",
    "\n",
    "study = optuna.create_study()\n",
    "study.optimize(objective, n_trials=50)\n",
    "print(study.best_params)"
   ]
  },
  {
   "cell_type": "markdown",
   "metadata": {},
   "source": [
    "Now, we can examine the best performing value for `sigma` found by Optuna during HPO."
   ]
  },
  {
   "cell_type": "code",
   "execution_count": 7,
   "metadata": {},
   "outputs": [
    {
     "data": {
      "text/plain": [
       "{'sigma': 0.6705126607455854}"
      ]
     },
     "execution_count": 7,
     "metadata": {},
     "output_type": "execute_result"
    }
   ],
   "source": [
    "study.best_params"
   ]
  },
  {
   "cell_type": "markdown",
   "metadata": {},
   "source": [
    "Though the above value is the optimium returned over our HPO process, we will consider the range of valid values and pick a minimum that is more likely to be robust. Since the HPO process is stochastic, high-performing and low-performing values may be in close proximity. We would like to identify a good range of `sigma` values, over which the optimizer generally performs well."
   ]
  },
  {
   "cell_type": "code",
   "execution_count": 8,
   "metadata": {},
   "outputs": [
    {
     "name": "stdout",
     "output_type": "stream",
     "text": [
      "Defaulting to user installation because normal site-packages is not writeable\n",
      "Looking in indexes: https://pypi.org/simple, https://pypi.ngc.nvidia.com\n",
      "Requirement already satisfied: statsmodels in /workspace/bionemo/.local/lib/python3.10/site-packages (0.14.1)\n",
      "Requirement already satisfied: numpy<2,>=1.18 in /usr/local/lib/python3.10/dist-packages (from statsmodels) (1.23.5)\n",
      "Requirement already satisfied: scipy!=1.9.2,>=1.4 in /usr/local/lib/python3.10/dist-packages (from statsmodels) (1.11.1)\n",
      "Requirement already satisfied: pandas!=2.1.0,>=1.0 in /usr/local/lib/python3.10/dist-packages (from statsmodels) (1.5.3)\n",
      "Requirement already satisfied: patsy>=0.5.4 in /workspace/bionemo/.local/lib/python3.10/site-packages (from statsmodels) (0.5.6)\n",
      "Requirement already satisfied: packaging>=21.3 in /usr/local/lib/python3.10/dist-packages (from statsmodels) (23.1)\n",
      "Requirement already satisfied: python-dateutil>=2.8.1 in /usr/local/lib/python3.10/dist-packages (from pandas!=2.1.0,>=1.0->statsmodels) (2.8.2)\n",
      "Requirement already satisfied: pytz>=2020.1 in /usr/local/lib/python3.10/dist-packages (from pandas!=2.1.0,>=1.0->statsmodels) (2023.3)\n",
      "Requirement already satisfied: six in /usr/local/lib/python3.10/dist-packages (from patsy>=0.5.4->statsmodels) (1.16.0)\n",
      "\n",
      "\u001b[1m[\u001b[0m\u001b[34;49mnotice\u001b[0m\u001b[1;39;49m]\u001b[0m\u001b[39;49m A new release of pip is available: \u001b[0m\u001b[31;49m23.2.1\u001b[0m\u001b[39;49m -> \u001b[0m\u001b[32;49m24.0\u001b[0m\n",
      "\u001b[1m[\u001b[0m\u001b[34;49mnotice\u001b[0m\u001b[1;39;49m]\u001b[0m\u001b[39;49m To update, run: \u001b[0m\u001b[32;49mpython -m pip install --upgrade pip\u001b[0m\n"
     ]
    }
   ],
   "source": [
    "!pip install statsmodels"
   ]
  },
  {
   "cell_type": "code",
   "execution_count": 9,
   "metadata": {},
   "outputs": [],
   "source": [
    "import statsmodels.nonparametric.smoothers_lowess\n",
    "import pandas as pd\n",
    "completed_trials = [trial for trial in study.trials if trial.state == optuna.trial.TrialState.COMPLETE]\n",
    "trials_data = [{\"sigma\": trial.params[\"sigma\"], \"loss\": trial.value, \"trial_id\": tid} for tid,trial in enumerate(completed_trials)]\n",
    "data = pd.DataFrame(trials_data)\n",
    "#  x is called (exog), y is called (endog)\n",
    "smooth_sigma_loss = statsmodels.nonparametric.smoothers_lowess.lowess(endog=data.loss, exog=data.sigma, frac=0.5, it=3, delta=0.0, xvals=None, is_sorted=False, missing='drop', return_sorted=True)"
   ]
  },
  {
   "cell_type": "code",
   "execution_count": 10,
   "metadata": {},
   "outputs": [
    {
     "data": {
      "text/plain": [
       "Text(0.5, 1.0, 'Loss vs sigma from HPO for MolMIM model')"
      ]
     },
     "execution_count": 10,
     "metadata": {},
     "output_type": "execute_result"
    },
    {
     "data": {
      "image/png": "[encoded data removed]",
      "text/plain": [
       "<Figure size 640x480 with 1 Axes>"
      ]
     },
     "metadata": {},
     "output_type": "display_data"
    }
   ],
   "source": [
    "import matplotlib.pyplot as plt\n",
    "plt.scatter(x=data[\"sigma\"], y=data[\"loss\"], label=\"observed_points\")\n",
    "plt.scatter(smooth_sigma_loss[:,0], smooth_sigma_loss[:,1], label=\"smoothed_points\")\n",
    "plt.legend()\n",
    "plt.title(\"Loss vs sigma from HPO for MolMIM model\")"
   ]
  },
  {
   "cell_type": "code",
   "execution_count": 11,
   "metadata": {},
   "outputs": [],
   "source": [
    "smoothed_best_sigma = smooth_sigma_loss[np.argmin(smooth_sigma_loss[:,1]),0]\n",
    "smooth_best = {\"sigma\": smoothed_best_sigma}"
   ]
  },
  {
   "cell_type": "markdown",
   "metadata": {},
   "source": [
    "We now compare the smoothed top choice with the best nominal choice."
   ]
  },
  {
   "cell_type": "code",
   "execution_count": 16,
   "metadata": {},
   "outputs": [
    {
     "data": {
      "text/plain": [
       "({'sigma': 0.7063269022279628}, {'sigma': 0.6705126607455854})"
      ]
     },
     "execution_count": 16,
     "metadata": {},
     "output_type": "execute_result"
    }
   ],
   "source": [
    "smooth_best, study.best_params"
   ]
  },
  {
   "cell_type": "markdown",
   "metadata": {},
   "source": [
    "### Run a larger CMA-ES optimization with discovered parameters\n",
    "Given the value of `sigma` we found to work well in our HPO above, we will increase the population size and steps and do a final larger optimizaiton run."
   ]
  },
  {
   "cell_type": "code",
   "execution_count": 12,
   "metadata": {
    "tags": [
     "hide-output"
    ]
   },
   "outputs": [
    {
     "name": "stdout",
     "output_type": "stream",
     "text": [
      "(25_w,50)-aCMA-ES (mu_w=14.0,w_1=14%) in dimension 512 (seed=504101, Wed Mar 13 23:15:23 2024)\n",
      "(25_w,50)-aCMA-ES (mu_w=14.0,w_1=14%) in dimension 512 (seed=492329, Wed Mar 13 23:15:23 2024)\n",
      "(25_w,50)-aCMA-ES (mu_w=14.0,w_1=14%) in dimension 512 (seed=496891, Wed Mar 13 23:15:23 2024)\n"
     ]
    },
    {
     "name": "stderr",
     "output_type": "stream",
     "text": [
      "  0%|          | 0/30 [00:00<?, ?it/s]"
     ]
    },
    {
     "name": "stdout",
     "output_type": "stream",
     "text": [
      "[NeMo I 2024-03-13 23:15:23 megatron_lm_encoder_decoder_model:1192] Decoding using the beam search method with beam size=3...\n"
     ]
    },
    {
     "name": "stderr",
     "output_type": "stream",
     "text": [
      "  3%|▎         | 1/30 [00:06<03:14,  6.71s/it]"
     ]
    },
    {
     "name": "stdout",
     "output_type": "stream",
     "text": [
      "[NeMo I 2024-03-13 23:15:30 megatron_lm_encoder_decoder_model:1192] Decoding using the beam search method with beam size=3...\n"
     ]
    },
    {
     "name": "stderr",
     "output_type": "stream",
     "text": [
      "  7%|▋         | 2/30 [00:12<02:56,  6.31s/it]"
     ]
    },
    {
     "name": "stdout",
     "output_type": "stream",
     "text": [
      "[NeMo I 2024-03-13 23:15:36 megatron_lm_encoder_decoder_model:1192] Decoding using the beam search method with beam size=3...\n"
     ]
    },
    {
     "name": "stderr",
     "output_type": "stream",
     "text": [
      " 10%|█         | 3/30 [00:18<02:48,  6.23s/it]"
     ]
    },
    {
     "name": "stdout",
     "output_type": "stream",
     "text": [
      "[NeMo I 2024-03-13 23:15:42 megatron_lm_encoder_decoder_model:1192] Decoding using the beam search method with beam size=3...\n"
     ]
    },
    {
     "name": "stderr",
     "output_type": "stream",
     "text": [
      " 13%|█▎        | 4/30 [00:24<02:39,  6.14s/it]"
     ]
    },
    {
     "name": "stdout",
     "output_type": "stream",
     "text": [
      "[NeMo I 2024-03-13 23:15:48 megatron_lm_encoder_decoder_model:1192] Decoding using the beam search method with beam size=3...\n"
     ]
    },
    {
     "name": "stderr",
     "output_type": "stream",
     "text": [
      " 17%|█▋        | 5/30 [00:31<02:33,  6.14s/it]"
     ]
    },
    {
     "name": "stdout",
     "output_type": "stream",
     "text": [
      "[NeMo I 2024-03-13 23:15:54 megatron_lm_encoder_decoder_model:1192] Decoding using the beam search method with beam size=3...\n"
     ]
    },
    {
     "name": "stderr",
     "output_type": "stream",
     "text": [
      " 20%|██        | 6/30 [00:37<02:26,  6.10s/it]"
     ]
    },
    {
     "name": "stdout",
     "output_type": "stream",
     "text": [
      "[NeMo I 2024-03-13 23:16:00 megatron_lm_encoder_decoder_model:1192] Decoding using the beam search method with beam size=3...\n"
     ]
    },
    {
     "name": "stderr",
     "output_type": "stream",
     "text": [
      " 23%|██▎       | 7/30 [00:43<02:20,  6.11s/it]"
     ]
    },
    {
     "name": "stdout",
     "output_type": "stream",
     "text": [
      "[NeMo I 2024-03-13 23:16:06 megatron_lm_encoder_decoder_model:1192] Decoding using the beam search method with beam size=3...\n"
     ]
    },
    {
     "name": "stderr",
     "output_type": "stream",
     "text": [
      " 27%|██▋       | 8/30 [00:49<02:13,  6.07s/it]"
     ]
    },
    {
     "name": "stdout",
     "output_type": "stream",
     "text": [
      "[NeMo I 2024-03-13 23:16:13 megatron_lm_encoder_decoder_model:1192] Decoding using the beam search method with beam size=3...\n"
     ]
    },
    {
     "name": "stderr",
     "output_type": "stream",
     "text": [
      " 30%|███       | 9/30 [00:55<02:08,  6.10s/it]"
     ]
    },
    {
     "name": "stdout",
     "output_type": "stream",
     "text": [
      "[NeMo I 2024-03-13 23:16:19 megatron_lm_encoder_decoder_model:1192] Decoding using the beam search method with beam size=3...\n"
     ]
    },
    {
     "name": "stderr",
     "output_type": "stream",
     "text": [
      " 33%|███▎      | 10/30 [01:01<02:01,  6.06s/it]"
     ]
    },
    {
     "name": "stdout",
     "output_type": "stream",
     "text": [
      "[NeMo I 2024-03-13 23:16:25 megatron_lm_encoder_decoder_model:1192] Decoding using the beam search method with beam size=3...\n"
     ]
    },
    {
     "name": "stderr",
     "output_type": "stream",
     "text": [
      " 37%|███▋      | 11/30 [01:07<01:55,  6.08s/it]"
     ]
    },
    {
     "name": "stdout",
     "output_type": "stream",
     "text": [
      "[NeMo I 2024-03-13 23:16:31 megatron_lm_encoder_decoder_model:1192] Decoding using the beam search method with beam size=3...\n"
     ]
    },
    {
     "name": "stderr",
     "output_type": "stream",
     "text": [
      " 40%|████      | 12/30 [01:13<01:48,  6.05s/it]"
     ]
    },
    {
     "name": "stdout",
     "output_type": "stream",
     "text": [
      "[NeMo I 2024-03-13 23:16:37 megatron_lm_encoder_decoder_model:1192] Decoding using the beam search method with beam size=3...\n"
     ]
    },
    {
     "name": "stderr",
     "output_type": "stream",
     "text": [
      " 43%|████▎     | 13/30 [01:19<01:43,  6.06s/it]"
     ]
    },
    {
     "name": "stdout",
     "output_type": "stream",
     "text": [
      "[NeMo I 2024-03-13 23:16:43 megatron_lm_encoder_decoder_model:1192] Decoding using the beam search method with beam size=3...\n"
     ]
    },
    {
     "name": "stderr",
     "output_type": "stream",
     "text": [
      " 47%|████▋     | 14/30 [01:25<01:36,  6.04s/it]"
     ]
    },
    {
     "name": "stdout",
     "output_type": "stream",
     "text": [
      "[NeMo I 2024-03-13 23:16:49 megatron_lm_encoder_decoder_model:1192] Decoding using the beam search method with beam size=3...\n"
     ]
    },
    {
     "name": "stderr",
     "output_type": "stream",
     "text": [
      " 50%|█████     | 15/30 [01:31<01:30,  6.05s/it]"
     ]
    },
    {
     "name": "stdout",
     "output_type": "stream",
     "text": [
      "[NeMo I 2024-03-13 23:16:55 megatron_lm_encoder_decoder_model:1192] Decoding using the beam search method with beam size=3...\n"
     ]
    },
    {
     "name": "stderr",
     "output_type": "stream",
     "text": [
      " 53%|█████▎    | 16/30 [01:37<01:24,  6.03s/it]"
     ]
    },
    {
     "name": "stdout",
     "output_type": "stream",
     "text": [
      "[NeMo I 2024-03-13 23:17:01 megatron_lm_encoder_decoder_model:1192] Decoding using the beam search method with beam size=3...\n"
     ]
    },
    {
     "name": "stderr",
     "output_type": "stream",
     "text": [
      " 57%|█████▋    | 17/30 [01:43<01:18,  6.07s/it]"
     ]
    },
    {
     "name": "stdout",
     "output_type": "stream",
     "text": [
      "[NeMo I 2024-03-13 23:17:07 megatron_lm_encoder_decoder_model:1192] Decoding using the beam search method with beam size=3...\n"
     ]
    },
    {
     "name": "stderr",
     "output_type": "stream",
     "text": [
      " 60%|██████    | 18/30 [01:49<01:12,  6.04s/it]"
     ]
    },
    {
     "name": "stdout",
     "output_type": "stream",
     "text": [
      "[NeMo I 2024-03-13 23:17:13 megatron_lm_encoder_decoder_model:1192] Decoding using the beam search method with beam size=3...\n"
     ]
    },
    {
     "name": "stderr",
     "output_type": "stream",
     "text": [
      " 63%|██████▎   | 19/30 [01:55<01:06,  6.06s/it]"
     ]
    },
    {
     "name": "stdout",
     "output_type": "stream",
     "text": [
      "[NeMo I 2024-03-13 23:17:19 megatron_lm_encoder_decoder_model:1192] Decoding using the beam search method with beam size=3...\n"
     ]
    },
    {
     "name": "stderr",
     "output_type": "stream",
     "text": [
      " 67%|██████▋   | 20/30 [02:01<01:00,  6.04s/it]"
     ]
    },
    {
     "name": "stdout",
     "output_type": "stream",
     "text": [
      "[NeMo I 2024-03-13 23:17:25 megatron_lm_encoder_decoder_model:1192] Decoding using the beam search method with beam size=3...\n"
     ]
    },
    {
     "name": "stderr",
     "output_type": "stream",
     "text": [
      " 70%|███████   | 21/30 [02:07<00:54,  6.06s/it]"
     ]
    },
    {
     "name": "stdout",
     "output_type": "stream",
     "text": [
      "[NeMo I 2024-03-13 23:17:31 megatron_lm_encoder_decoder_model:1192] Decoding using the beam search method with beam size=3...\n"
     ]
    },
    {
     "name": "stderr",
     "output_type": "stream",
     "text": [
      " 73%|███████▎  | 22/30 [02:13<00:48,  6.03s/it]"
     ]
    },
    {
     "name": "stdout",
     "output_type": "stream",
     "text": [
      "[NeMo I 2024-03-13 23:17:37 megatron_lm_encoder_decoder_model:1192] Decoding using the beam search method with beam size=3...\n"
     ]
    },
    {
     "name": "stderr",
     "output_type": "stream",
     "text": [
      " 77%|███████▋  | 23/30 [02:19<00:42,  6.05s/it]"
     ]
    },
    {
     "name": "stdout",
     "output_type": "stream",
     "text": [
      "[NeMo I 2024-03-13 23:17:43 megatron_lm_encoder_decoder_model:1192] Decoding using the beam search method with beam size=3...\n"
     ]
    },
    {
     "name": "stderr",
     "output_type": "stream",
     "text": [
      " 80%|████████  | 24/30 [02:25<00:36,  6.03s/it]"
     ]
    },
    {
     "name": "stdout",
     "output_type": "stream",
     "text": [
      "[NeMo I 2024-03-13 23:17:49 megatron_lm_encoder_decoder_model:1192] Decoding using the beam search method with beam size=3...\n"
     ]
    },
    {
     "name": "stderr",
     "output_type": "stream",
     "text": [
      " 83%|████████▎ | 25/30 [02:32<00:30,  6.05s/it]"
     ]
    },
    {
     "name": "stdout",
     "output_type": "stream",
     "text": [
      "[NeMo I 2024-03-13 23:17:55 megatron_lm_encoder_decoder_model:1192] Decoding using the beam search method with beam size=3...\n"
     ]
    },
    {
     "name": "stderr",
     "output_type": "stream",
     "text": [
      " 87%|████████▋ | 26/30 [02:38<00:24,  6.04s/it]"
     ]
    },
    {
     "name": "stdout",
     "output_type": "stream",
     "text": [
      "[NeMo I 2024-03-13 23:18:02 megatron_lm_encoder_decoder_model:1192] Decoding using the beam search method with beam size=3...\n"
     ]
    },
    {
     "name": "stderr",
     "output_type": "stream",
     "text": [
      " 90%|█████████ | 27/30 [02:44<00:18,  6.07s/it]"
     ]
    },
    {
     "name": "stdout",
     "output_type": "stream",
     "text": [
      "[NeMo I 2024-03-13 23:18:08 megatron_lm_encoder_decoder_model:1192] Decoding using the beam search method with beam size=3...\n"
     ]
    },
    {
     "name": "stderr",
     "output_type": "stream",
     "text": [
      " 93%|█████████▎| 28/30 [02:50<00:12,  6.04s/it]"
     ]
    },
    {
     "name": "stdout",
     "output_type": "stream",
     "text": [
      "[NeMo I 2024-03-13 23:18:14 megatron_lm_encoder_decoder_model:1192] Decoding using the beam search method with beam size=3...\n"
     ]
    },
    {
     "name": "stderr",
     "output_type": "stream",
     "text": [
      " 97%|█████████▋| 29/30 [02:56<00:06,  6.06s/it]"
     ]
    },
    {
     "name": "stdout",
     "output_type": "stream",
     "text": [
      "[NeMo I 2024-03-13 23:18:20 megatron_lm_encoder_decoder_model:1192] Decoding using the beam search method with beam size=3...\n"
     ]
    },
    {
     "name": "stderr",
     "output_type": "stream",
     "text": [
      "100%|██████████| 30/30 [03:02<00:00,  6.07s/it]\n"
     ]
    }
   ],
   "source": [
    "from tqdm import trange\n",
    "optimizer = MoleculeGenerationOptimizer(\n",
    "        model_wrapped,\n",
    "        scoring_function,\n",
    "        canonicalized_smiles,\n",
    "        popsize=50,  # larger values will be slower but more thorough\n",
    "        optimizer_args=smooth_best,  # Vals from HPO\n",
    "    )\n",
    "# Starting state for idx 0\n",
    "qed_scores = [qed(canonicalized_smiles)]\n",
    "tanimoto_scores = [[tanimoto_similarity([canonicalized_smiles[idx]], canonicalized_smiles[idx])[0] for idx in range(len(canonicalized_smiles))]]\n",
    "best_molecules = [canonicalized_smiles]\n",
    "fraction_bad_samples = [[0]*len(canonicalized_smiles)]\n",
    "for i in trange(30):\n",
    "    optimizer.step()\n",
    "    final_smiles = optimizer.generated_smis\n",
    "    # Population of molecules is returned, but we only want the best one.\n",
    "    _qed_scores = []\n",
    "    _tanimoto_scores = []\n",
    "    _best_molecules = []\n",
    "    _fraction_bad = []\n",
    "    for smis_population,reference_smis in zip(final_smiles, canonicalized_smiles):\n",
    "        idx = np.argmin(scoring_function(smis_population, reference_smis))\n",
    "        _fraction_bad.append(np.mean(qed(smis_population) == 0))\n",
    "        _best_molecules.append(smis_population[idx])\n",
    "        _qed_scores.append(qed([smis_population[idx]])[0])\n",
    "        _tanimoto_scores.append(tanimoto_similarity([smis_population[idx]], reference_smis)[0])\n",
    "    qed_scores.append(_qed_scores)\n",
    "    tanimoto_scores.append(_tanimoto_scores)\n",
    "    best_molecules.append(_best_molecules)\n",
    "    fraction_bad_samples.append(_fraction_bad)"
   ]
  },
  {
   "cell_type": "markdown",
   "metadata": {},
   "source": [
    "### Explore results\n",
    "Below, we create a plot disaplaying how the components of our target (QED and Tanimoto similarity) changed over each iteration. By our target definition, any value above 0.4 for Tanimoto similarity would be optimal so we expect noise around that value. Similarly, for QED any value above 0.9 would be optimal so we expect noise around that value if any molecule surpasses that threshold."
   ]
  },
  {
   "cell_type": "code",
   "execution_count": 13,
   "metadata": {},
   "outputs": [
    {
     "data": {
      "text/plain": [
       "Text(0.5, 1.0, 'Targets over time for MolMIM model')"
      ]
     },
     "execution_count": 13,
     "metadata": {},
     "output_type": "execute_result"
    },
    {
     "data": {
      "image/png": "[encoded data removed]",
      "text/plain": [
       "<Figure size 640x480 with 1 Axes>"
      ]
     },
     "metadata": {},
     "output_type": "display_data"
    }
   ],
   "source": [
    "import matplotlib.pyplot as plt\n",
    "for i, molecule in enumerate([\"imatinib\", \"erlotinib\", \"gifitinib\"]):\n",
    "    line, = plt.plot(np.arange(len(qed_scores)), [q[i] for q in qed_scores], label=f\"{molecule} QED\")\n",
    "    color = line.get_color()\n",
    "    plt.plot(np.arange(len(tanimoto_scores)), [t[i] for t in tanimoto_scores], label=f\"{molecule} Tanimoto\", linestyle=\"--\", color=color)\n",
    "plt.axhline(y=0.9, color='r', linestyle='-', label=\"QED target\")\n",
    "plt.axhline(y=0.4, color='r', linestyle='--', label=\"Tanimoto target\")\n",
    "plt.legend(loc='center left', bbox_to_anchor=(1, 0.5))\n",
    "plt.xlabel(\"Iteration\")\n",
    "plt.ylabel(\"QED or Tanimoto similarity\")\n",
    "plt.title(\"Targets over time for MolMIM model\")"
   ]
  },
  {
   "cell_type": "markdown",
   "metadata": {},
   "source": [
    "### How well did our optimization perform?\n",
    "To examine the performance of out optimization, we can quantify the number of invalid samples that were generated. An \"invalid\" SMILES is defined as a SMILES string that does not represent a chemically-valid underlying molecule."
   ]
  },
  {
   "cell_type": "code",
   "execution_count": 14,
   "metadata": {},
   "outputs": [
    {
     "data": {
      "text/plain": [
       "0.0034408602150537634"
      ]
     },
     "execution_count": 14,
     "metadata": {},
     "output_type": "execute_result"
    }
   ],
   "source": [
    "np.mean(fraction_bad_samples)"
   ]
  },
  {
   "cell_type": "markdown",
   "metadata": {},
   "source": [
    "We can finally quantify the improvement in QED over the baseline value and the fraction of our optimized molecules that maintained the desired Tanimoto similarity threshold above 0.4."
   ]
  },
  {
   "cell_type": "code",
   "execution_count": 15,
   "metadata": {},
   "outputs": [
    {
     "data": {
      "text/plain": [
       "{'mean_qed_improvement': 0.4202879778901147, 'tanimoto_above_04': 1.0}"
      ]
     },
     "execution_count": 15,
     "metadata": {},
     "output_type": "execute_result"
    }
   ],
   "source": [
    "qed_improvements = []\n",
    "tanimoto_above_04 = []\n",
    "for i in range(len(starting_qed)):\n",
    "    tanimoto_above_04.append(tanimoto_scores[-1][i] >= 0.4)\n",
    "    qed_improvements.append(qed_scores[-1][i] - starting_qed[i])\n",
    "{\"mean_qed_improvement\": np.mean(qed_improvements), \"tanimoto_above_04\": np.mean(tanimoto_above_04)}"
   ]
  },
  {
   "cell_type": "markdown",
   "metadata": {},
   "source": []
  }
 ],
 "metadata": {
  "kernelspec": {
   "display_name": "Python 3 (ipykernel)",
   "language": "python",
   "name": "python3"
  },
  "language_info": {
   "codemirror_mode": {
    "name": "ipython",
    "version": 3
   },
   "file_extension": ".py",
   "mimetype": "text/x-python",
   "name": "python",
   "nbconvert_exporter": "python",
   "pygments_lexer": "ipython3",
   "version": "3.10.12"
  }
 },
 "nbformat": 4,
 "nbformat_minor": 4
}
