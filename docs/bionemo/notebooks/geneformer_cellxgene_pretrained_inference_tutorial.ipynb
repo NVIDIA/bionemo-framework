{
 "cells": [
  {
   "cell_type": "markdown",
   "id": "9a88d40b-64de-4661-b3b0-7a4b87ba0162",
   "metadata": {
    "tags": []
   },
   "source": [
    "# BioNeMo - Geneformer inferencing for single cell downstream tasks\n",
    "\n",
    "This tutorial showcases how to run the BioNeMo container, pre-train a geneformer model, and use it for inferencing downstream single cell tasks. At the end of this tutorial, a user will learn:\n",
    "- launching the BioNeMo container\n",
    "- Download data from czi to use for inference.\n",
    "- Convert AnnData files into the sparse CSR memmap format used by BioNeMo\n",
    "- Download a pretrained checkpoint\n",
    "- Restore the geneformer checkpoint and perform inference with the czi dataset.\n",
    "\n",
    "\n",
    "### Prerequisites:\n",
    "- BioNeMo Framework container is running (refer to the [Quickstart Guide](../quickstart-fw.md))\n",
    "- Familiarity with some components of the BioNeMo framework such as the [Models](../models/megamolbart.md) and [Inferencing](../inference-grpc-fw.md)\n",
    "\n",
    "\n",
    "#### Running the BioNeMo container\n",
    "\n",
    "This example has been built by launching the container in a local machine with 2 x A6000 RTX GPUs. Refer to specific instructions for [remote and multi-node launch]\n",
    "\n",
    "Once the container is launched, navigate to http://0.0.0.0:8888, http://localhost:8888, or the IP address of the workstation/node. A JupyterLab instance should show up.\n",
    "\n",
    "#### Copy this code and input files into JupyterLab\n",
    "\n",
    "In the launched JupyterLab, run the codes in a Jupyter notebook as provided in the code cells below."
   ]
  },
  {
   "cell_type": "markdown",
   "id": "8e47327a-6549-4ff4-a32a-a32d07a1e706",
   "metadata": {},
   "source": [
    "## Getting example single cell data and setting it up for inference\n",
    "\n",
    "First, we must acquire single cell training data for inference. To do this we will install the cellxgene-census api and download a small dataset. We use the example provided by the czi api examples page to download a single h5ad file. Generally, our workflow expects a collection of h5ad files to be used for pre-training. In this case, we restrict to 100k cells from a single dataset  to keep training time and downloading time small."
   ]
  },
  {
   "cell_type": "code",
   "execution_count": 1,
   "id": "056ca29a-ffa1-4381-83b6-cad9a7b0c4d1",
   "metadata": {
    "tags": []
   },
   "outputs": [
    {
     "name": "stdout",
     "output_type": "stream",
     "text": [
      "Defaulting to user installation because normal site-packages is not writeable\n",
      "Looking in indexes: https://pypi.org/simple, https://pypi.ngc.nvidia.com\n",
      "Requirement already satisfied: cellxgene-census in /workspace/bionemo/.local/lib/python3.10/site-packages (1.11.1)\n",
      "Requirement already satisfied: tiledbsoma~=1.8.0 in /workspace/bionemo/.local/lib/python3.10/site-packages (from cellxgene-census) (1.8.1)\n",
      "Requirement already satisfied: anndata in /workspace/bionemo/.local/lib/python3.10/site-packages (from cellxgene-census) (0.10.5.post1)\n",
      "Requirement already satisfied: numpy>=1.21 in /workspace/bionemo/.local/lib/python3.10/site-packages (from cellxgene-census) (1.24.4)\n",
      "Requirement already satisfied: requests in /usr/local/lib/python3.10/dist-packages (from cellxgene-census) (2.31.0)\n",
      "Requirement already satisfied: typing-extensions in /usr/local/lib/python3.10/dist-packages (from cellxgene-census) (4.7.1)\n",
      "Requirement already satisfied: s3fs>=2021.06.1 in /workspace/bionemo/.local/lib/python3.10/site-packages (from cellxgene-census) (2024.3.1)\n",
      "Requirement already satisfied: aiobotocore<3.0.0,>=2.5.4 in /workspace/bionemo/.local/lib/python3.10/site-packages (from s3fs>=2021.06.1->cellxgene-census) (2.12.1)\n",
      "Requirement already satisfied: fsspec==2024.3.1 in /workspace/bionemo/.local/lib/python3.10/site-packages (from s3fs>=2021.06.1->cellxgene-census) (2024.3.1)\n",
      "Requirement already satisfied: aiohttp!=4.0.0a0,!=4.0.0a1 in /usr/local/lib/python3.10/dist-packages (from s3fs>=2021.06.1->cellxgene-census) (3.9.0)\n",
      "Requirement already satisfied: attrs>=22.2 in /usr/local/lib/python3.10/dist-packages (from tiledbsoma~=1.8.0->cellxgene-census) (23.1.0)\n",
      "Requirement already satisfied: numba>=0.58.0 in /workspace/bionemo/.local/lib/python3.10/site-packages (from tiledbsoma~=1.8.0->cellxgene-census) (0.59.1)\n",
      "Requirement already satisfied: pandas in /usr/local/lib/python3.10/dist-packages (from tiledbsoma~=1.8.0->cellxgene-census) (2.2.2)\n",
      "Requirement already satisfied: pyarrow-hotfix in /usr/local/lib/python3.10/dist-packages (from tiledbsoma~=1.8.0->cellxgene-census) (0.6)\n",
      "Requirement already satisfied: scanpy>=1.9.2 in /workspace/bionemo/.local/lib/python3.10/site-packages (from tiledbsoma~=1.8.0->cellxgene-census) (1.9.8)\n",
      "Requirement already satisfied: scipy in /usr/local/lib/python3.10/dist-packages (from tiledbsoma~=1.8.0->cellxgene-census) (1.11.1)\n",
      "Requirement already satisfied: somacore==1.0.9 in /workspace/bionemo/.local/lib/python3.10/site-packages (from tiledbsoma~=1.8.0->cellxgene-census) (1.0.9)\n",
      "Requirement already satisfied: tiledb~=0.26.0 in /workspace/bionemo/.local/lib/python3.10/site-packages (from tiledbsoma~=1.8.0->cellxgene-census) (0.26.4)\n",
      "Requirement already satisfied: pyarrow>=9.0.0 in /usr/local/lib/python3.10/dist-packages (from tiledbsoma~=1.8.0->cellxgene-census) (14.0.1)\n",
      "Requirement already satisfied: array-api-compat in /workspace/bionemo/.local/lib/python3.10/site-packages (from anndata->cellxgene-census) (1.4.1)\n",
      "Requirement already satisfied: exceptiongroup in /usr/local/lib/python3.10/dist-packages (from anndata->cellxgene-census) (1.1.3)\n",
      "Requirement already satisfied: h5py>=3 in /usr/local/lib/python3.10/dist-packages (from anndata->cellxgene-census) (3.10.0)\n",
      "Requirement already satisfied: natsort in /workspace/bionemo/.local/lib/python3.10/site-packages (from anndata->cellxgene-census) (8.4.0)\n",
      "Requirement already satisfied: packaging>=20 in /usr/local/lib/python3.10/dist-packages (from anndata->cellxgene-census) (23.1)\n",
      "Requirement already satisfied: charset-normalizer<4,>=2 in /usr/local/lib/python3.10/dist-packages (from requests->cellxgene-census) (3.2.0)\n",
      "Requirement already satisfied: idna<4,>=2.5 in /usr/local/lib/python3.10/dist-packages (from requests->cellxgene-census) (3.4)\n",
      "Requirement already satisfied: urllib3<3,>=1.21.1 in /usr/local/lib/python3.10/dist-packages (from requests->cellxgene-census) (1.26.16)\n",
      "Requirement already satisfied: certifi>=2017.4.17 in /usr/local/lib/python3.10/dist-packages (from requests->cellxgene-census) (2023.7.22)\n",
      "Requirement already satisfied: botocore<1.34.52,>=1.34.41 in /workspace/bionemo/.local/lib/python3.10/site-packages (from aiobotocore<3.0.0,>=2.5.4->s3fs>=2021.06.1->cellxgene-census) (1.34.51)\n",
      "Requirement already satisfied: wrapt<2.0.0,>=1.10.10 in /usr/local/lib/python3.10/dist-packages (from aiobotocore<3.0.0,>=2.5.4->s3fs>=2021.06.1->cellxgene-census) (1.14.1)\n",
      "Requirement already satisfied: aioitertools<1.0.0,>=0.5.1 in /workspace/bionemo/.local/lib/python3.10/site-packages (from aiobotocore<3.0.0,>=2.5.4->s3fs>=2021.06.1->cellxgene-census) (0.11.0)\n",
      "Requirement already satisfied: multidict<7.0,>=4.5 in /usr/local/lib/python3.10/dist-packages (from aiohttp!=4.0.0a0,!=4.0.0a1->s3fs>=2021.06.1->cellxgene-census) (6.0.4)\n",
      "Requirement already satisfied: yarl<2.0,>=1.0 in /usr/local/lib/python3.10/dist-packages (from aiohttp!=4.0.0a0,!=4.0.0a1->s3fs>=2021.06.1->cellxgene-census) (1.9.2)\n",
      "Requirement already satisfied: frozenlist>=1.1.1 in /usr/local/lib/python3.10/dist-packages (from aiohttp!=4.0.0a0,!=4.0.0a1->s3fs>=2021.06.1->cellxgene-census) (1.4.0)\n",
      "Requirement already satisfied: aiosignal>=1.1.2 in /usr/local/lib/python3.10/dist-packages (from aiohttp!=4.0.0a0,!=4.0.0a1->s3fs>=2021.06.1->cellxgene-census) (1.3.1)\n",
      "Requirement already satisfied: async-timeout<5.0,>=4.0 in /usr/local/lib/python3.10/dist-packages (from aiohttp!=4.0.0a0,!=4.0.0a1->s3fs>=2021.06.1->cellxgene-census) (4.0.3)\n",
      "Requirement already satisfied: llvmlite<0.43,>=0.42.0dev0 in /workspace/bionemo/.local/lib/python3.10/site-packages (from numba>=0.58.0->tiledbsoma~=1.8.0->cellxgene-census) (0.42.0)\n",
      "Requirement already satisfied: python-dateutil>=2.8.2 in /usr/local/lib/python3.10/dist-packages (from pandas->tiledbsoma~=1.8.0->cellxgene-census) (2.8.2)\n",
      "Requirement already satisfied: pytz>=2020.1 in /usr/local/lib/python3.10/dist-packages (from pandas->tiledbsoma~=1.8.0->cellxgene-census) (2023.3)\n",
      "Requirement already satisfied: tzdata>=2022.7 in /usr/local/lib/python3.10/dist-packages (from pandas->tiledbsoma~=1.8.0->cellxgene-census) (2024.1)\n",
      "Requirement already satisfied: joblib in /usr/local/lib/python3.10/dist-packages (from scanpy>=1.9.2->tiledbsoma~=1.8.0->cellxgene-census) (1.2.0)\n",
      "Requirement already satisfied: matplotlib>=3.6 in /workspace/bionemo/.local/lib/python3.10/site-packages (from scanpy>=1.9.2->tiledbsoma~=1.8.0->cellxgene-census) (3.8.3)\n",
      "Requirement already satisfied: networkx>=2.3 in /usr/local/lib/python3.10/dist-packages (from scanpy>=1.9.2->tiledbsoma~=1.8.0->cellxgene-census) (2.6.3)\n",
      "Requirement already satisfied: patsy in /workspace/bionemo/.local/lib/python3.10/site-packages (from scanpy>=1.9.2->tiledbsoma~=1.8.0->cellxgene-census) (0.5.6)\n",
      "Requirement already satisfied: scikit-learn>=0.24 in /usr/local/lib/python3.10/dist-packages (from scanpy>=1.9.2->tiledbsoma~=1.8.0->cellxgene-census) (1.2.0)\n",
      "Requirement already satisfied: seaborn>=0.13.0 in /workspace/bionemo/.local/lib/python3.10/site-packages (from scanpy>=1.9.2->tiledbsoma~=1.8.0->cellxgene-census) (0.13.2)\n",
      "Requirement already satisfied: session-info in /workspace/bionemo/.local/lib/python3.10/site-packages (from scanpy>=1.9.2->tiledbsoma~=1.8.0->cellxgene-census) (1.0.0)\n",
      "Requirement already satisfied: statsmodels>=0.10.0rc2 in /workspace/bionemo/.local/lib/python3.10/site-packages (from scanpy>=1.9.2->tiledbsoma~=1.8.0->cellxgene-census) (0.14.1)\n",
      "Requirement already satisfied: tqdm in /usr/local/lib/python3.10/dist-packages (from scanpy>=1.9.2->tiledbsoma~=1.8.0->cellxgene-census) (4.66.2)\n",
      "Requirement already satisfied: umap-learn>=0.3.10 in /workspace/bionemo/.local/lib/python3.10/site-packages (from scanpy>=1.9.2->tiledbsoma~=1.8.0->cellxgene-census) (0.5.5)\n",
      "Requirement already satisfied: jmespath<2.0.0,>=0.7.1 in /usr/local/lib/python3.10/dist-packages (from botocore<1.34.52,>=1.34.41->aiobotocore<3.0.0,>=2.5.4->s3fs>=2021.06.1->cellxgene-census) (1.0.1)\n",
      "Requirement already satisfied: contourpy>=1.0.1 in /usr/local/lib/python3.10/dist-packages (from matplotlib>=3.6->scanpy>=1.9.2->tiledbsoma~=1.8.0->cellxgene-census) (1.1.1)\n",
      "Requirement already satisfied: cycler>=0.10 in /usr/local/lib/python3.10/dist-packages (from matplotlib>=3.6->scanpy>=1.9.2->tiledbsoma~=1.8.0->cellxgene-census) (0.12.1)\n",
      "Requirement already satisfied: fonttools>=4.22.0 in /workspace/bionemo/.local/lib/python3.10/site-packages (from matplotlib>=3.6->scanpy>=1.9.2->tiledbsoma~=1.8.0->cellxgene-census) (4.49.0)\n",
      "Requirement already satisfied: kiwisolver>=1.3.1 in /usr/local/lib/python3.10/dist-packages (from matplotlib>=3.6->scanpy>=1.9.2->tiledbsoma~=1.8.0->cellxgene-census) (1.4.5)\n",
      "Requirement already satisfied: pillow>=8 in /usr/local/lib/python3.10/dist-packages (from matplotlib>=3.6->scanpy>=1.9.2->tiledbsoma~=1.8.0->cellxgene-census) (10.2.0)\n",
      "Requirement already satisfied: pyparsing>=2.3.1 in /usr/local/lib/python3.10/dist-packages (from matplotlib>=3.6->scanpy>=1.9.2->tiledbsoma~=1.8.0->cellxgene-census) (3.1.1)\n",
      "Requirement already satisfied: six>=1.5 in /usr/local/lib/python3.10/dist-packages (from python-dateutil>=2.8.2->pandas->tiledbsoma~=1.8.0->cellxgene-census) (1.16.0)\n",
      "Requirement already satisfied: threadpoolctl>=2.0.0 in /usr/local/lib/python3.10/dist-packages (from scikit-learn>=0.24->scanpy>=1.9.2->tiledbsoma~=1.8.0->cellxgene-census) (3.2.0)\n",
      "Requirement already satisfied: pynndescent>=0.5 in /workspace/bionemo/.local/lib/python3.10/site-packages (from umap-learn>=0.3.10->scanpy>=1.9.2->tiledbsoma~=1.8.0->cellxgene-census) (0.5.11)\n",
      "Requirement already satisfied: stdlib-list in /workspace/bionemo/.local/lib/python3.10/site-packages (from session-info->scanpy>=1.9.2->tiledbsoma~=1.8.0->cellxgene-census) (0.10.0)\n",
      "\n",
      "\u001b[1m[\u001b[0m\u001b[34;49mnotice\u001b[0m\u001b[1;39;49m]\u001b[0m\u001b[39;49m A new release of pip is available: \u001b[0m\u001b[31;49m23.2.1\u001b[0m\u001b[39;49m -> \u001b[0m\u001b[32;49m24.0\u001b[0m\n",
      "\u001b[1m[\u001b[0m\u001b[34;49mnotice\u001b[0m\u001b[1;39;49m]\u001b[0m\u001b[39;49m To update, run: \u001b[0m\u001b[32;49mpython -m pip install --upgrade pip\u001b[0m\n"
     ]
    }
   ],
   "source": [
    "!pip install cellxgene-census"
   ]
  },
  {
   "cell_type": "code",
   "execution_count": 13,
   "id": "24f579ac-0207-4e07-8f34-dac0cd955c53",
   "metadata": {
    "tags": []
   },
   "outputs": [],
   "source": [
    "# Below are paths required for setting up pre-training and inference.\n",
    "tutorial_data_dir = \"/workspace/bionemo/data/singlecell_tutorial/download_anndata\"\n",
    "tutorial_processed_dir = \"/workspace/bionemo/data/singlecell_tutorial/processed_data\"\n",
    "tutorial_output_dir = \"/workspace/bionemo/data/singlecell_tutorial/inference_output\"\n",
    "tutorial_output_inference_pickle = f\"{tutorial_output_dir}/human_covid19_bcells_pretrained_inference.pkl\"\n",
    "demo_data_download_path = f\"{tutorial_data_dir}/human_covid19_bcells.h5ad\""
   ]
  },
  {
   "cell_type": "code",
   "execution_count": 7,
   "id": "88bd2844-0251-476e-9e3f-8d4e89474f33",
   "metadata": {
    "tags": []
   },
   "outputs": [],
   "source": [
    "!mkdir -p {tutorial_data_dir}\n",
    "!mkdir -p {tutorial_processed_dir}\n",
    "!mkdir -p {tutorial_output_dir}"
   ]
  },
  {
   "cell_type": "code",
   "execution_count": 8,
   "id": "6ccf03f0-1590-434e-a314-8ff0a02f5ef2",
   "metadata": {
    "tags": []
   },
   "outputs": [
    {
     "name": "stderr",
     "output_type": "stream",
     "text": [
      "/usr/local/lib/python3.10/dist-packages/anndata/_core/anndata.py:1209: ImplicitModificationWarning: Trying to modify attribute `.obs` of view, initializing view as actual.\n",
      "  df[key] = c\n",
      "/usr/local/lib/python3.10/dist-packages/anndata/_core/anndata.py:1209: ImplicitModificationWarning: Trying to modify attribute `.obs` of view, initializing view as actual.\n",
      "  df[key] = c\n",
      "/usr/local/lib/python3.10/dist-packages/anndata/_core/anndata.py:1209: ImplicitModificationWarning: Trying to modify attribute `.obs` of view, initializing view as actual.\n",
      "  df[key] = c\n",
      "/usr/local/lib/python3.10/dist-packages/anndata/_core/anndata.py:1209: ImplicitModificationWarning: Trying to modify attribute `.obs` of view, initializing view as actual.\n",
      "  df[key] = c\n",
      "/usr/local/lib/python3.10/dist-packages/anndata/_core/anndata.py:1209: ImplicitModificationWarning: Trying to modify attribute `.obs` of view, initializing view as actual.\n",
      "  df[key] = c\n",
      "/usr/local/lib/python3.10/dist-packages/anndata/_core/anndata.py:1209: ImplicitModificationWarning: Trying to modify attribute `.obs` of view, initializing view as actual.\n",
      "  df[key] = c\n"
     ]
    }
   ],
   "source": [
    "import cellxgene_census\n",
    "\n",
    "with cellxgene_census.open_soma(census_version=\"2023-12-15\") as census:\n",
    "    filter1 = \"cell_type == 'B cell' and tissue_general == 'lung' and disease == 'COVID-19' and is_primary_data == True\"\n",
    "\n",
    "    adata = cellxgene_census.get_anndata(\n",
    "        census = census,\n",
    "        organism = \"Homo sapiens\",\n",
    "        obs_value_filter = filter1,\n",
    "        column_names = {\"obs\": [\"assay\", \"cell_type\", \"tissue\", \"tissue_general\", \"suspension_type\", \"disease\"]},\n",
    "    )\n",
    "\n",
    "    adata[:100000].write(demo_data_download_path)"
   ]
  },
  {
   "cell_type": "code",
   "execution_count": 9,
   "id": "b060e73b-a3f9-4315-ae91-c23b9a29f490",
   "metadata": {
    "tags": []
   },
   "outputs": [
    {
     "name": "stdout",
     "output_type": "stream",
     "text": [
      "-rw-r--r-- 1 jstjohn domain-users 27M Apr 26 23:42 /workspace/bionemo/data/singlecell_tutorial/download_anndata/human_covid19_bcells.h5ad\n"
     ]
    }
   ],
   "source": [
    "!ls -laht {demo_data_download_path}"
   ]
  },
  {
   "cell_type": "code",
   "execution_count": 10,
   "id": "e1812f0e-7179-4140-aa9c-8109813f3e5e",
   "metadata": {
    "tags": []
   },
   "outputs": [
    {
     "name": "stdout",
     "output_type": "stream",
     "text": [
      "Found 1 files\n",
      "Starting to create memmap files...\n",
      "Metadata already exists, loading...\n",
      "Writing data into memmaps to /workspace/bionemo/data/singlecell_tutorial/processed_data...\n",
      "Merging AnnData into numpy memaps...: 100%|███████| 1/1 [00:00<00:00,  7.37it/s]\n",
      "Saving dataframe ...\n",
      "Done creating dataset ...\n"
     ]
    }
   ],
   "source": [
    "!python /workspace/bionemo/bionemo/data/singlecell/sc_memmap.py \\\n",
    "  --data-path {tutorial_data_dir} \\\n",
    "  --save-path {tutorial_processed_dir}"
   ]
  },
  {
   "cell_type": "code",
   "execution_count": 11,
   "id": "bd212acb-9695-4ec4-bff6-8669693118f2",
   "metadata": {
    "tags": []
   },
   "outputs": [
    {
     "name": "stdout",
     "output_type": "stream",
     "text": [
      "total 18M\n",
      "-rw-r--r-- 1 jstjohn domain-users 107K Apr 26 23:42 features.csv\n",
      "-rw-r--r-- 1 jstjohn domain-users  19K Apr 26 23:42 gene_expression_ptr.npy\n",
      "-rw-r--r-- 1 jstjohn domain-users 8.5M Apr 26 23:42 gene_expression_ind.npy\n",
      "-rw-r--r-- 1 jstjohn domain-users 8.5M Apr 26 23:42 gene_expression_data.npy\n",
      "drwxr-xr-x 5 jstjohn domain-users 4.0K Apr 26 18:55 ..\n",
      "drwxr-xr-x 2 jstjohn domain-users 4.0K Apr 26 18:46 .\n",
      "-rw-r--r-- 1 jstjohn domain-users 764K Apr 26 18:46 metadata.json\n"
     ]
    }
   ],
   "source": [
    "!ls -laht {tutorial_processed_dir}"
   ]
  },
  {
   "cell_type": "markdown",
   "id": "d23771e9-0dd6-414e-8cd0-5cd9a9dd4a6b",
   "metadata": {},
   "source": [
    "# Running inference.\n",
    "\n",
    "Now we will use a pretrained nemo file and start there for inference."
   ]
  },
  {
   "cell_type": "code",
   "execution_count": 4,
   "id": "6f474c69-743d-41b0-ab08-7420c0edf45b",
   "metadata": {
    "tags": []
   },
   "outputs": [
    {
     "name": "stdout",
     "output_type": "stream",
     "text": [
      "Running command: aws s3 cp s3://bionemo-ci/models/geneformer-31M-240430-step-7000-wandb-1olz7ksb.nemo models/ --endpoint-url https://pbss.s8k.io\n",
      "\n",
      "\n",
      "Done.\n",
      "Running command: mkdir -p models/singlecell/geneformer && ln -sf ../../geneformer-31M-240430-step-7000-wandb-1olz7ksb.nemo models/singlecell/geneformer/geneformer-31M-240430.nemo\n",
      "\n",
      "\n",
      "Done.\n"
     ]
    }
   ],
   "source": [
    "!cd /workspace/bionemo/ && python download_models.py  --download_dir models geneformer_31M_240430 #--source pbss"
   ]
  },
  {
   "cell_type": "code",
   "execution_count": 12,
   "id": "1b11a330-b8f6-491a-b608-fe47e78f83ba",
   "metadata": {
    "tags": []
   },
   "outputs": [],
   "source": [
    "pretrained_nemo_file = '/workspace/bionemo/models/singlecell/geneformer/geneformer-31M-240430.nemo'"
   ]
  },
  {
   "cell_type": "code",
   "execution_count": 14,
   "id": "269a327d-a5b1-49c9-96b3-141ae99baeb3",
   "metadata": {
    "tags": []
   },
   "outputs": [
    {
     "name": "stdout",
     "output_type": "stream",
     "text": [
      "[NeMo W 2024-04-26 23:42:32 nemo_logging:349] /usr/lib/python3.10/multiprocessing/popen_fork.py:66: RuntimeWarning: os.fork() was called. os.fork() is incompatible with multithreaded code, and JAX is multithreaded, so this will likely lead to a deadlock.\n",
      "      self.pid = os.fork()\n",
      "    \n",
      "[NeMo I 2024-04-26 23:42:34 megatron_hiddens:110] Registered hidden transform sampled_var_cond_gaussian at bionemo.model.core.hiddens_support.SampledVarGaussianHiddenTransform\n",
      "[NeMo I 2024-04-26 23:42:34 megatron_hiddens:110] Registered hidden transform interp_var_cond_gaussian at bionemo.model.core.hiddens_support.InterpVarGaussianHiddenTransform\n",
      "[NeMo W 2024-04-26 23:42:34 nemo_logging:349] /usr/local/lib/python3.10/dist-packages/hydra/_internal/hydra.py:119: UserWarning: Future Hydra versions will no longer change working directory at job runtime by default.\n",
      "    See https://hydra.cc/docs/1.2/upgrades/1.1_to_1.2/changes_to_job_working_dir/ for more information.\n",
      "      ret = run_job(\n",
      "    \n",
      "[NeMo I 2024-04-26 23:42:34 loading:31] \n",
      "    \n",
      "    ************** Experiment configuration ***********\n",
      "[NeMo I 2024-04-26 23:42:34 loading:32] \n",
      "    name: geneformer_inference\n",
      "    desc: Minimum configuration for initializing a Geneformer model for inference.\n",
      "    trainer:\n",
      "      precision: 16-mixed\n",
      "      devices: 1\n",
      "      num_nodes: 1\n",
      "      accelerator: gpu\n",
      "      logger: false\n",
      "    exp_manager:\n",
      "      explicit_log_dir: null\n",
      "      exp_dir: /workspace/bionemo/data/singlecell_tutorial/inference_output\n",
      "      name: ${name}\n",
      "      create_checkpoint_callback: false\n",
      "    model:\n",
      "      micro_batch_size: ${model.data.batch_size}\n",
      "      downstream_task:\n",
      "        restore_from_path: /workspace/bionemo/models/singlecell/geneformer/geneformer-31M-240430.nemo\n",
      "        outputs:\n",
      "        - embeddings\n",
      "        - hiddens\n",
      "      data:\n",
      "        num_workers: 4\n",
      "        batch_size: 128\n",
      "        dataset_path: /workspace/bionemo/data/singlecell_tutorial/processed_data\n",
      "        output_fname: /workspace/bionemo/data/singlecell_tutorial/inference_output/human_covid19_bcells_pretrained_inference.pkl\n",
      "        index_mapping_dir: null\n",
      "        data_fields_map:\n",
      "          sequence: sequence\n",
      "          id: id\n",
      "        data_impl: geneformer\n",
      "        data_impl_kwargs:\n",
      "          csv_fields_mmap:\n",
      "            newline_int: 10\n",
      "            header_lines: 1\n",
      "            workers: null\n",
      "            sort_dataset_paths: false\n",
      "            data_sep: ','\n",
      "            data_fields:\n",
      "              id: 0\n",
      "              sequence: 1\n",
      "          fasta_fields_mmap:\n",
      "            data_fields:\n",
      "              id: 0\n",
      "              sequence: 1\n",
      "        dynamic_padding: true\n",
      "      post_process: false\n",
      "    target: bionemo.model.singlecell.geneformer.model.GeneformerModel\n",
      "    infer_target: bionemo.model.singlecell.geneformer.infer.GeneformerInference\n",
      "    formatters:\n",
      "      simple:\n",
      "        format: '[%(asctime)s][%(name)s][%(levelname)s] - %(message)s'\n",
      "    handlers:\n",
      "      console:\n",
      "        class: logging.StreamHandler\n",
      "        formatter: simple\n",
      "        stream: ext://sys.stdout\n",
      "      file:\n",
      "        class: logging.FileHandler\n",
      "        formatter: simple\n",
      "        filename: /logs/inference.log\n",
      "    root:\n",
      "      level: INFO\n",
      "      handlers:\n",
      "      - console\n",
      "    disable_existing_loggers: false\n",
      "    \n",
      "[NeMo I 2024-04-26 23:42:34 utils:333] Restoring model from /workspace/bionemo/models/singlecell/geneformer/geneformer-31M-240430.nemo\n",
      "[NeMo I 2024-04-26 23:42:34 utils:337] Loading model class: bionemo.model.singlecell.geneformer.model.GeneformerModel\n",
      "GPU available: True (cuda), used: True\n",
      "TPU available: False, using: 0 TPU cores\n",
      "IPU available: False, using: 0 IPUs\n",
      "HPU available: False, using: 0 HPUs\n",
      "[NeMo I 2024-04-26 23:42:35 exp_manager:394] Experiments will be logged at /workspace/bionemo/data/singlecell_tutorial/inference_output/geneformer_inference/2024-04-26_23-42-35\n",
      "[NeMo I 2024-04-26 23:42:35 exp_manager:835] TensorboardLogger has been set up\n",
      "[NeMo I 2024-04-26 23:42:35 utils:306] \n",
      "    \n",
      "    ************** Trainer configuration ***********\n",
      "[NeMo I 2024-04-26 23:42:35 utils:307] \n",
      "    name: geneformer_inference\n",
      "    desc: Minimum configuration for initializing a Geneformer model for inference.\n",
      "    trainer:\n",
      "      precision: 16-mixed\n",
      "      devices: 1\n",
      "      num_nodes: 1\n",
      "      accelerator: gpu\n",
      "      logger: false\n",
      "      accumulate_grad_batches: 1\n",
      "    exp_manager:\n",
      "      explicit_log_dir: null\n",
      "      exp_dir: /workspace/bionemo/data/singlecell_tutorial/inference_output\n",
      "      name: ${name}\n",
      "      create_checkpoint_callback: false\n",
      "    model:\n",
      "      tokenizer:\n",
      "        vocab_file: nemo:2c4d88f5d0c0482cab6710bb06b9ccbe_geneformer.vocab\n",
      "      micro_batch_size: ${model.data.batch_size}\n",
      "      tensor_model_parallel_size: 1\n",
      "      pipeline_model_parallel_size: 1\n",
      "      use_flash_attention: true\n",
      "      seq_length: 2048\n",
      "      encoder_seq_length: 2048\n",
      "      max_position_embeddings: 2048\n",
      "      num_layers: 6\n",
      "      hidden_size: 256\n",
      "      ffn_hidden_size: 512\n",
      "      num_attention_heads: 4\n",
      "      init_method_std: 0.02\n",
      "      hidden_dropout: 0.02\n",
      "      kv_channels: null\n",
      "      apply_query_key_layer_scaling: true\n",
      "      layernorm_epsilon: 1.0e-12\n",
      "      make_vocab_size_divisible_by: 128\n",
      "      pre_process: true\n",
      "      post_process: false\n",
      "      bert_binary_head: false\n",
      "      resume_from_checkpoint: null\n",
      "      masked_softmax_fusion: true\n",
      "      native_amp_init_scale: 4294967296\n",
      "      native_amp_growth_interval: 1000\n",
      "      fp32_residual_connection: true\n",
      "      fp16_lm_cross_entropy: false\n",
      "      seed: 1234\n",
      "      use_cpu_initialization: false\n",
      "      onnx_safe: false\n",
      "      activations_checkpoint_method: null\n",
      "      activations_checkpoint_num_layers: 1\n",
      "      data:\n",
      "        data_impl: geneformer\n",
      "        probabilistic_dirichlet_sampling_train: false\n",
      "        dataset_path: /workspace/bionemo/data/singlecell_tutorial/processed_data\n",
      "        data_prefix: ''\n",
      "        shuffle: true\n",
      "        dataset: /\n",
      "        medians_file: nemo:12e1099c3acb43a9a7beb9b199cbdcec_medians.json\n",
      "        index_mapping_dir: null\n",
      "        skip_warmup: true\n",
      "        index_mapping_type: memmap\n",
      "        train_ratio: 0.98\n",
      "        val_ratio: 0.01\n",
      "        num_workers: 4\n",
      "        dataloader_type: single\n",
      "        seq_length: 2048\n",
      "        seed: 1234\n",
      "        dynamic_padding: true\n",
      "        micro_batch_size: 32\n",
      "        batch_size: 128\n",
      "        output_fname: /workspace/bionemo/data/singlecell_tutorial/inference_output/human_covid19_bcells_pretrained_inference.pkl\n",
      "        data_fields_map:\n",
      "          sequence: sequence\n",
      "          id: id\n",
      "        data_impl_kwargs:\n",
      "          csv_fields_mmap:\n",
      "            newline_int: 10\n",
      "            header_lines: 1\n",
      "            workers: null\n",
      "            sort_dataset_paths: false\n",
      "            data_sep: ','\n",
      "            data_fields:\n",
      "              id: 0\n",
      "              sequence: 1\n",
      "          fasta_fields_mmap:\n",
      "            data_fields:\n",
      "              id: 0\n",
      "              sequence: 1\n",
      "      optim:\n",
      "        name: fused_adam\n",
      "        lr: 0.001\n",
      "        weight_decay: 0.1\n",
      "        betas:\n",
      "        - 0.9\n",
      "        - 0.999\n",
      "        sched:\n",
      "          name: CosineAnnealing\n",
      "          warmup_steps: 500\n",
      "          constant_steps: 2500\n",
      "          max_steps: 50000\n",
      "          min_lr: 2.0e-05\n",
      "      precision: bf16-mixed\n",
      "      attention_dropout: 0.02\n",
      "      activation: relu\n",
      "      global_batch_size: 128\n",
      "      target: bionemo.model.singlecell.geneformer.model.GeneformerModel\n",
      "      nemo_version: 1.22.0\n",
      "      downstream_task:\n",
      "        restore_from_path: /workspace/bionemo/models/singlecell/geneformer/geneformer-31M-240430.nemo\n",
      "        outputs:\n",
      "        - embeddings\n",
      "        - hiddens\n",
      "    target: bionemo.model.singlecell.geneformer.model.GeneformerModel\n",
      "    infer_target: bionemo.model.singlecell.geneformer.infer.GeneformerInference\n",
      "    formatters:\n",
      "      simple:\n",
      "        format: '[%(asctime)s][%(name)s][%(levelname)s] - %(message)s'\n",
      "    handlers:\n",
      "      console:\n",
      "        class: logging.StreamHandler\n",
      "        formatter: simple\n",
      "        stream: ext://sys.stdout\n",
      "      file:\n",
      "        class: logging.FileHandler\n",
      "        formatter: simple\n",
      "        filename: /logs/inference.log\n",
      "    root:\n",
      "      level: INFO\n",
      "      handlers:\n",
      "      - console\n",
      "    disable_existing_loggers: false\n",
      "    \n",
      "[NeMo W 2024-04-26 23:42:35 modelPT:251] You tried to register an artifact under config key=tokenizer.vocab_file but an artifact for it has already been registered.\n",
      "[NeMo W 2024-04-26 23:42:35 megatron_base_model:821] The model: GeneformerModel() does not have field.name: context_parallel_size in its cfg. Add this key to cfg or config_mapping to make to make it configurable.\n",
      "[NeMo W 2024-04-26 23:42:35 megatron_base_model:821] The model: GeneformerModel() does not have field.name: virtual_pipeline_model_parallel_size in its cfg. Add this key to cfg or config_mapping to make to make it configurable.\n",
      "[NeMo W 2024-04-26 23:42:35 megatron_base_model:821] The model: GeneformerModel() does not have field.name: sequence_parallel in its cfg. Add this key to cfg or config_mapping to make to make it configurable.\n",
      "[NeMo W 2024-04-26 23:42:35 megatron_base_model:821] The model: GeneformerModel() does not have field.name: expert_model_parallel_size in its cfg. Add this key to cfg or config_mapping to make to make it configurable.\n",
      "[NeMo W 2024-04-26 23:42:35 megatron_base_model:821] The model: GeneformerModel() does not have field.name: gradient_accumulation_fusion in its cfg. Add this key to cfg or config_mapping to make to make it configurable.\n",
      "[NeMo W 2024-04-26 23:42:35 megatron_base_model:821] The model: GeneformerModel() does not have field.name: tp_comm_overlap in its cfg. Add this key to cfg or config_mapping to make to make it configurable.\n",
      "[NeMo W 2024-04-26 23:42:35 megatron_base_model:821] The model: GeneformerModel() does not have field.name: tp_comm_split_ag in its cfg. Add this key to cfg or config_mapping to make to make it configurable.\n",
      "[NeMo W 2024-04-26 23:42:35 megatron_base_model:821] The model: GeneformerModel() does not have field.name: tp_comm_split_rs in its cfg. Add this key to cfg or config_mapping to make to make it configurable.\n",
      "[NeMo W 2024-04-26 23:42:35 megatron_base_model:821] The model: GeneformerModel() does not have field.name: tp_comm_bulk_wgrad in its cfg. Add this key to cfg or config_mapping to make to make it configurable.\n",
      "[NeMo W 2024-04-26 23:42:35 megatron_base_model:821] The model: GeneformerModel() does not have field.name: tp_comm_bulk_dgrad in its cfg. Add this key to cfg or config_mapping to make to make it configurable.\n",
      "[NeMo W 2024-04-26 23:42:35 megatron_base_model:821] The model: GeneformerModel() does not have field.name: finalize_model_grads_func in its cfg. Add this key to cfg or config_mapping to make to make it configurable.\n",
      "[NeMo W 2024-04-26 23:42:35 megatron_base_model:821] The model: GeneformerModel() does not have field.name: overlap_p2p_comm in its cfg. Add this key to cfg or config_mapping to make to make it configurable.\n",
      "[NeMo W 2024-04-26 23:42:35 megatron_base_model:821] The model: GeneformerModel() does not have field.name: batch_p2p_comm in its cfg. Add this key to cfg or config_mapping to make to make it configurable.\n",
      "[NeMo W 2024-04-26 23:42:35 megatron_base_model:821] The model: GeneformerModel() does not have field.name: pipeline_model_parallel_split_rank in its cfg. Add this key to cfg or config_mapping to make to make it configurable.\n",
      "[NeMo W 2024-04-26 23:42:35 megatron_base_model:821] The model: GeneformerModel() does not have field.name: barrier_with_L1_time in its cfg. Add this key to cfg or config_mapping to make to make it configurable.\n",
      "[NeMo I 2024-04-26 23:42:35 megatron_init:234] Rank 0 has data parallel group: [0]\n",
      "[NeMo I 2024-04-26 23:42:35 megatron_init:237] All data parallel group ranks: [[0]]\n",
      "[NeMo I 2024-04-26 23:42:35 megatron_init:238] Ranks 0 has data parallel rank: 0\n",
      "[NeMo I 2024-04-26 23:42:35 megatron_init:246] Rank 0 has model parallel group: [0]\n",
      "[NeMo I 2024-04-26 23:42:35 megatron_init:247] All model parallel group ranks: [[0]]\n",
      "[NeMo I 2024-04-26 23:42:35 megatron_init:257] Rank 0 has tensor model parallel group: [0]\n",
      "[NeMo I 2024-04-26 23:42:35 megatron_init:261] All tensor model parallel group ranks: [[0]]\n",
      "[NeMo I 2024-04-26 23:42:35 megatron_init:262] Rank 0 has tensor model parallel rank: 0\n",
      "[NeMo I 2024-04-26 23:42:35 megatron_init:276] Rank 0 has pipeline model parallel group: [0]\n",
      "[NeMo I 2024-04-26 23:42:35 megatron_init:288] Rank 0 has embedding group: [0]\n",
      "[NeMo I 2024-04-26 23:42:35 megatron_init:294] All pipeline model parallel group ranks: [[0]]\n",
      "[NeMo I 2024-04-26 23:42:35 megatron_init:295] Rank 0 has pipeline model parallel rank 0\n",
      "[NeMo I 2024-04-26 23:42:35 megatron_init:296] All embedding group ranks: [[0]]\n",
      "[NeMo I 2024-04-26 23:42:35 megatron_init:297] Rank 0 has embedding rank: 0\n",
      "24-04-26 23:42:35 - PID:738129 - rank:(0, 0, 0, 0) - microbatches.py:39 - INFO - setting number of micro-batches to constant 1\n",
      "[NeMo W 2024-04-26 23:42:35 megatron_base_model:821] The model: GeneformerModel() does not have field.name: context_parallel_size in its cfg. Add this key to cfg or config_mapping to make to make it configurable.\n",
      "[NeMo W 2024-04-26 23:42:35 megatron_base_model:821] The model: GeneformerModel() does not have field.name: virtual_pipeline_model_parallel_size in its cfg. Add this key to cfg or config_mapping to make to make it configurable.\n",
      "[NeMo W 2024-04-26 23:42:35 megatron_base_model:821] The model: GeneformerModel() does not have field.name: sequence_parallel in its cfg. Add this key to cfg or config_mapping to make to make it configurable.\n",
      "[NeMo W 2024-04-26 23:42:35 megatron_base_model:821] The model: GeneformerModel() does not have field.name: expert_model_parallel_size in its cfg. Add this key to cfg or config_mapping to make to make it configurable.\n",
      "[NeMo W 2024-04-26 23:42:35 megatron_base_model:821] The model: GeneformerModel() does not have field.name: gradient_accumulation_fusion in its cfg. Add this key to cfg or config_mapping to make to make it configurable.\n",
      "[NeMo W 2024-04-26 23:42:35 megatron_base_model:821] The model: GeneformerModel() does not have field.name: tp_comm_overlap in its cfg. Add this key to cfg or config_mapping to make to make it configurable.\n",
      "[NeMo W 2024-04-26 23:42:35 megatron_base_model:821] The model: GeneformerModel() does not have field.name: tp_comm_split_ag in its cfg. Add this key to cfg or config_mapping to make to make it configurable.\n",
      "[NeMo W 2024-04-26 23:42:35 megatron_base_model:821] The model: GeneformerModel() does not have field.name: tp_comm_split_rs in its cfg. Add this key to cfg or config_mapping to make to make it configurable.\n",
      "[NeMo W 2024-04-26 23:42:35 megatron_base_model:821] The model: GeneformerModel() does not have field.name: tp_comm_bulk_wgrad in its cfg. Add this key to cfg or config_mapping to make to make it configurable.\n",
      "[NeMo W 2024-04-26 23:42:35 megatron_base_model:821] The model: GeneformerModel() does not have field.name: tp_comm_bulk_dgrad in its cfg. Add this key to cfg or config_mapping to make to make it configurable.\n",
      "[NeMo W 2024-04-26 23:42:35 megatron_base_model:821] The model: GeneformerModel() does not have field.name: finalize_model_grads_func in its cfg. Add this key to cfg or config_mapping to make to make it configurable.\n",
      "[NeMo W 2024-04-26 23:42:35 megatron_base_model:821] The model: GeneformerModel() does not have field.name: overlap_p2p_comm in its cfg. Add this key to cfg or config_mapping to make to make it configurable.\n",
      "[NeMo W 2024-04-26 23:42:35 megatron_base_model:821] The model: GeneformerModel() does not have field.name: batch_p2p_comm in its cfg. Add this key to cfg or config_mapping to make to make it configurable.\n",
      "[NeMo W 2024-04-26 23:42:35 megatron_base_model:821] The model: GeneformerModel() does not have field.name: pipeline_model_parallel_split_rank in its cfg. Add this key to cfg or config_mapping to make to make it configurable.\n",
      "[NeMo W 2024-04-26 23:42:35 megatron_base_model:821] The model: GeneformerModel() does not have field.name: barrier_with_L1_time in its cfg. Add this key to cfg or config_mapping to make to make it configurable.\n",
      "[NeMo W 2024-04-26 23:42:35 modelPT:251] You tried to register an artifact under config key=tokenizer.vocab_file but an artifact for it has already been registered.\n",
      "[NeMo I 2024-04-26 23:42:35 megatron_base_model:315] Padded vocab_size: 21376, original vocab_size: 21250, dummy tokens: 126.\n",
      "[NeMo I 2024-04-26 23:42:35 nlp_overrides:752] Model GeneformerModel was successfully restored from /workspace/bionemo/models/singlecell/geneformer/geneformer-31M-240430.nemo.\n",
      "[NeMo I 2024-04-26 23:42:35 utils:474] DDP is not initialized. Initializing...\n",
      "Initializing distributed: GLOBAL_RANK: 0, MEMBER: 1/1\n",
      "----------------------------------------------------------------------------------------------------\n",
      "distributed_backend=nccl\n",
      "All distributed processes registered. Starting with 1 processes\n",
      "----------------------------------------------------------------------------------------------------\n",
      "\n",
      "[NeMo W 2024-04-26 23:42:35 nemo_logging:349] /usr/local/lib/python3.10/dist-packages/apex/transformer/pipeline_parallel/utils.py:81: UserWarning: This function is only for unittest\n",
      "      warnings.warn(\"This function is only for unittest\")\n",
      "    \n",
      "[NeMo W 2024-04-26 23:42:36 nemo_logging:349] /usr/local/lib/python3.10/dist-packages/nemo/collections/nlp/modules/common/megatron/fused_bias_dropout_add.py:70: UserWarning: nvfuser integration in TorchScript is deprecated. (Triggered internally at /opt/pytorch/pytorch/torch/csrc/jit/codegen/cuda/interface.cpp:235.)\n",
      "      return bias_dropout_add_fused_inference_(*args)\n",
      "    \n",
      "[NeMo I 2024-04-26 23:42:36 loading:43] \n",
      "    \n",
      "    ************** Restored model configuration ***********\n",
      "[NeMo I 2024-04-26 23:42:36 loading:44] \n",
      "    tokenizer:\n",
      "      vocab_file: /tmp/tmpur5acaec/2c4d88f5d0c0482cab6710bb06b9ccbe_geneformer.vocab\n",
      "    micro_batch_size: 128\n",
      "    tensor_model_parallel_size: 1\n",
      "    pipeline_model_parallel_size: 1\n",
      "    use_flash_attention: true\n",
      "    seq_length: 2048\n",
      "    encoder_seq_length: 2048\n",
      "    max_position_embeddings: 2048\n",
      "    num_layers: 6\n",
      "    hidden_size: 256\n",
      "    ffn_hidden_size: 512\n",
      "    num_attention_heads: 4\n",
      "    init_method_std: 0.02\n",
      "    hidden_dropout: 0.02\n",
      "    kv_channels: null\n",
      "    apply_query_key_layer_scaling: true\n",
      "    layernorm_epsilon: 1.0e-12\n",
      "    make_vocab_size_divisible_by: 128\n",
      "    pre_process: true\n",
      "    post_process: false\n",
      "    bert_binary_head: false\n",
      "    resume_from_checkpoint: null\n",
      "    masked_softmax_fusion: true\n",
      "    native_amp_init_scale: 4294967296\n",
      "    native_amp_growth_interval: 1000\n",
      "    fp32_residual_connection: true\n",
      "    fp16_lm_cross_entropy: false\n",
      "    seed: 1234\n",
      "    use_cpu_initialization: false\n",
      "    onnx_safe: false\n",
      "    activations_checkpoint_method: null\n",
      "    activations_checkpoint_num_layers: 1\n",
      "    data:\n",
      "      data_impl: geneformer\n",
      "      probabilistic_dirichlet_sampling_train: false\n",
      "      dataset_path: /workspace/bionemo/data/singlecell_tutorial/processed_data\n",
      "      data_prefix: ''\n",
      "      shuffle: true\n",
      "      dataset: /\n",
      "      medians_file: nemo:12e1099c3acb43a9a7beb9b199cbdcec_medians.json\n",
      "      index_mapping_dir: null\n",
      "      skip_warmup: true\n",
      "      index_mapping_type: memmap\n",
      "      train_ratio: 0.98\n",
      "      val_ratio: 0.01\n",
      "      num_workers: 4\n",
      "      dataloader_type: single\n",
      "      seq_length: 2048\n",
      "      seed: 1234\n",
      "      dynamic_padding: true\n",
      "      micro_batch_size: 32\n",
      "      batch_size: 128\n",
      "      output_fname: /workspace/bionemo/data/singlecell_tutorial/inference_output/human_covid19_bcells_pretrained_inference.pkl\n",
      "      data_fields_map:\n",
      "        sequence: sequence\n",
      "        id: id\n",
      "      data_impl_kwargs:\n",
      "        csv_fields_mmap:\n",
      "          newline_int: 10\n",
      "          header_lines: 1\n",
      "          workers: null\n",
      "          sort_dataset_paths: false\n",
      "          data_sep: ','\n",
      "          data_fields:\n",
      "            id: 0\n",
      "            sequence: 1\n",
      "        fasta_fields_mmap:\n",
      "          data_fields:\n",
      "            id: 0\n",
      "            sequence: 1\n",
      "    optim:\n",
      "      name: fused_adam\n",
      "      lr: 0.001\n",
      "      weight_decay: 0.1\n",
      "      betas:\n",
      "      - 0.9\n",
      "      - 0.999\n",
      "      sched:\n",
      "        name: CosineAnnealing\n",
      "        warmup_steps: 500\n",
      "        constant_steps: 2500\n",
      "        max_steps: 50000\n",
      "        min_lr: 2.0e-05\n",
      "    precision: 16-mixed\n",
      "    attention_dropout: 0.02\n",
      "    activation: relu\n",
      "    global_batch_size: 128\n",
      "    target: bionemo.model.singlecell.geneformer.model.GeneformerModel\n",
      "    nemo_version: 1.22.0\n",
      "    downstream_task:\n",
      "      restore_from_path: /workspace/bionemo/models/singlecell/geneformer/geneformer-31M-240430.nemo\n",
      "      outputs:\n",
      "      - embeddings\n",
      "      - hiddens\n",
      "    \n",
      "LOCAL_RANK: 0 - CUDA_VISIBLE_DEVICES: [0,1]\n",
      "[NeMo W 2024-04-26 23:42:37 nemo_logging:349] /usr/lib/python3.10/multiprocessing/popen_fork.py:66: RuntimeWarning: os.fork() was called. os.fork() is incompatible with multithreaded code, and JAX is multithreaded, so this will likely lead to a deadlock.\n",
      "      self.pid = os.fork()\n",
      "    \n",
      "Predicting DataLoader 0: 100%|██████████████████| 19/19 [00:09<00:00,  2.08it/s]\n",
      "[NeMo I 2024-04-26 23:42:47 run_inference:50] Collecting results from all GPUs...\n",
      "[NeMo I 2024-04-26 23:42:47 infer:73] Saving 2313 samples to /workspace/bionemo/data/singlecell_tutorial/inference_output/human_covid19_bcells_pretrained_inference.pkl\n"
     ]
    }
   ],
   "source": [
    "!python /workspace/bionemo/bionemo/model/infer.py \\\n",
    "  --config-dir /workspace/bionemo/examples/singlecell/geneformer/conf \\\n",
    "  --config-name infer \\\n",
    "  ++model.downstream_task.restore_from_path={pretrained_nemo_file} \\\n",
    "  ++model.data.dataset_path={tutorial_processed_dir} \\\n",
    "  ++exp_manager.exp_dir={tutorial_output_dir} \\\n",
    "  ++model.data.output_fname={tutorial_output_inference_pickle} "
   ]
  },
  {
   "cell_type": "markdown",
   "id": "a1b9a425-850d-4027-9160-5e659c163604",
   "metadata": {
    "tags": []
   },
   "source": [
    "# Load inference result and cluster with UMAP.\n",
    "Now we will inspect our result. First, we expect there to be one prediction for each cell, we can compare the shape of the anndata object to the predictions produced by our model. After this, we can simply pass our embeddings into umap, and view the result! In this case its a very poorly trained model with very few cells, so keep expectations low!\n",
    "\n",
    "The inference_results pickle file contains one set of hiddens and embeddings for each cell. The hiddens contain the embedding per-token, whereas the embeddings contain the mean embedding for all gene tokens with special tokens (CLS, MASK, etc) removed."
   ]
  },
  {
   "cell_type": "code",
   "execution_count": 15,
   "id": "2895e979-1652-49f2-96e9-b63b66191ada",
   "metadata": {
    "tags": []
   },
   "outputs": [
    {
     "data": {
      "text/plain": [
       "(2313,\n",
       " (2313, 60664),\n",
       " dict_keys(['text', 'types', 'padding_mask', 'labels', 'loss_mask', 'is_random', 'hiddens', 'embeddings']))"
      ]
     },
     "execution_count": 15,
     "metadata": {},
     "output_type": "execute_result"
    }
   ],
   "source": [
    "import pickle\n",
    "with open(tutorial_output_inference_pickle, 'rb') as inference_handle:\n",
    "    inference_results = pickle.load(inference_handle)\n",
    "len(inference_results), adata.shape, inference_results[0].keys()"
   ]
  },
  {
   "cell_type": "code",
   "execution_count": 16,
   "id": "621decfb-2fd1-44dd-86e5-69e7ddcb8235",
   "metadata": {
    "tags": []
   },
   "outputs": [
    {
     "data": {
      "text/plain": [
       "(256,)"
      ]
     },
     "execution_count": 16,
     "metadata": {},
     "output_type": "execute_result"
    }
   ],
   "source": [
    "inference_results[0]['embeddings'].shape"
   ]
  },
  {
   "cell_type": "code",
   "execution_count": 17,
   "id": "d80061f4-3311-4246-9640-177d4ca3b9a7",
   "metadata": {
    "tags": []
   },
   "outputs": [],
   "source": [
    "import umap\n",
    "reducer = umap.UMAP()\n",
    "embedding = reducer.fit_transform([x['embeddings'] for x in inference_results])"
   ]
  },
  {
   "cell_type": "code",
   "execution_count": 18,
   "id": "704d37ad-ac98-4868-9249-bd2ada17a8d7",
   "metadata": {
    "tags": []
   },
   "outputs": [
    {
     "data": {
      "text/plain": [
       "(2313, 2)"
      ]
     },
     "execution_count": 18,
     "metadata": {},
     "output_type": "execute_result"
    }
   ],
   "source": [
    "embedding.shape"
   ]
  },
  {
   "cell_type": "code",
   "execution_count": 19,
   "id": "5ea88b8a-bb3c-4058-93a0-9afb0dfedfa5",
   "metadata": {
    "tags": []
   },
   "outputs": [
    {
     "data": {
      "text/plain": [
       "<matplotlib.collections.PathCollection at 0x7fc5d3e430d0>"
      ]
     },
     "execution_count": 19,
     "metadata": {},
     "output_type": "execute_result"
    },
    {
     "data": {
      "image/png": "[encoded data removed]",
      "text/plain": [
       "<Figure size 640x480 with 1 Axes>"
      ]
     },
     "metadata": {},
     "output_type": "display_data"
    }
   ],
   "source": [
    "from matplotlib import pyplot as plt\n",
    "plt.scatter(\n",
    "    embedding[:, 0],\n",
    "    embedding[:, 1],\n",
    "    s=1\n",
    ")"
   ]
  },
  {
   "cell_type": "code",
   "execution_count": null,
   "id": "bafb8266-7451-495b-bdae-9bd51c6a214a",
   "metadata": {},
   "outputs": [],
   "source": []
  }
 ],
 "metadata": {
  "kernelspec": {
   "display_name": "Python 3 (ipykernel)",
   "language": "python",
   "name": "python3"
  },
  "language_info": {
   "codemirror_mode": {
    "name": "ipython",
    "version": 3
   },
   "file_extension": ".py",
   "mimetype": "text/x-python",
   "name": "python",
   "nbconvert_exporter": "python",
   "pygments_lexer": "ipython3",
   "version": "3.10.12"
  }
 },
 "nbformat": 4,
 "nbformat_minor": 5
}
