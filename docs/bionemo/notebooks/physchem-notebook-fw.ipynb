{
 "cells": [
  {
   "cell_type": "markdown",
   "metadata": {},
   "source": [
    "# Finetuning LLM in BioNeMo for a Downstream Task"
   ]
  },
  {
   "cell_type": "markdown",
   "metadata": {},
   "source": [
    "_This notebook covers how to fine-tune MegaMolBART (MMB) for downstream task of predicting physicochemical properties of drugs._\n",
    "\n",
    "One of the improtant tasks for chemoinformaticians is to develop models for predicting properties of small molecules.\n",
    "\n",
    "These properties may include physicochemical parameters, such as lipophilicity, solubility, hydration free energy (LogP, LogD, and so on). It can also include certain pharmacokinetic/dynamic behaviors, such as Blood-Brain-Barrier/CNS permeability and Vd.\n",
    "\n",
    "Modeling such properties can often become challenging along with choosing the appropriate and relevant descriptors/features for developing such prediction models.\n",
    "\n",
    "In this notebook, we will use the encoder of pretrained Megamolbart model and add a MLP prediction head trained for physico-chemical parameter predictions. "
   ]
  },
  {
   "cell_type": "markdown",
   "metadata": {},
   "source": [
    "## Setup\n",
    "\n",
    "Before diving in, please ensure that you have completed all steps in the [Getting Started](./index.md) section.\n",
    "\n",
    "Additionally, this tutorial depends on:\n",
    "    - the [MegaMolBART](../models/megamolbart.md) model\n",
    "    - the local [inference server](../inference-triton-fw.md)\n",
    "    - use of [NGC BCP](../bcp-specific-commands-fw.md)\n",
    "\n",
    "\n",
    "All model training and finetuning related commands should be executed inside the BioNeMo docker container.\n",
    "\n",
    "The working directory needs to be ``/workspace/bionemo/examples/molecule/megamolbart`` for updating and running the following code. "
   ]
  },
  {
   "cell_type": "markdown",
   "metadata": {},
   "source": [
    "In the section below, we will be using the one of the following datasets curated by MoleculeNet -- ESOL dataset (https://moleculenet.org/datasets-1)\n",
    "\n",
    "* Lipophilicity: Experimental results of octanol/water distribution coefficient(logD at pH 7.4) [n=4200]\n",
    "* FreeSolv: Experimental and calculated hydration free energy of small molecules in water [n=642]\n",
    "* ESOL: Water solubility data(log solubility in mols per litre) for common organic small molecules [n=1129]"
   ]
  },
  {
   "cell_type": "markdown",
   "metadata": {},
   "source": [
    "## Example: Train Model for Compound Water Solubility (ESOL) Prediction using MMB Pretrained Model"
   ]
  },
  {
   "cell_type": "markdown",
   "metadata": {},
   "source": [
    "Launch BioNeMo development container "
   ]
  },
  {
   "cell_type": "markdown",
   "metadata": {},
   "source": [
    "```shell\n",
    "./launch.sh dev\n",
    "```\n",
    "\n",
    "Locate physchem downstream task config in ``/workspace/bionemo/examples/molecule/megamolbart/conf/finetune_config.yaml``\n",
    "\n"
   ]
  },
  {
   "cell_type": "markdown",
   "metadata": {},
   "source": [
    "Download and preprocess dataset easily using BioNeMo yaml"
   ]
  },
  {
   "cell_type": "code",
   "execution_count": null,
   "metadata": {
    "vscode": {
     "languageId": "shellscript"
    }
   },
   "outputs": [],
   "source": [
    "#Set download location for datasets inside finetune_config.yaml\n",
    "data:\n",
    "    dataset_path: /data/physchem\n",
    "\n",
    "    #Let's also ensure that our dataset is split to create training, validation and test sets\n",
    "    split_data: True\n",
    "    val_frac: 0.15 # proportion of samples used for validation set\n",
    "    test_frac: 0.15 # proportion of samples used for test set"
   ]
  },
  {
   "cell_type": "markdown",
   "metadata": {},
   "source": [
    "Let's ensure that we don't try to train a model yet and instead run preprocess steps. \n",
    "\n",
    "Simply set do_training to False inside our yaml config. "
   ]
  },
  {
   "cell_type": "code",
   "execution_count": null,
   "metadata": {
    "vscode": {
     "languageId": "shellscript"
    }
   },
   "outputs": [],
   "source": [
    "do_training: False"
   ]
  },
  {
   "cell_type": "markdown",
   "metadata": {},
   "source": [
    "Now, lets run our downstream script and pass in the `finetune_config.yaml`:\n",
    "```shell\n",
    "cd /workspace/bionemo/examples/molecule/megamolbart\n",
    "python downstream_physchem.py --config-path=./conf/ --config-name=finetune_config\n",
    "```"
   ]
  },
  {
   "cell_type": "markdown",
   "metadata": {},
   "source": [
    "We should now have datasets for all three properties downloaded from MoleculeNet in our `/data/phsychem` folder.\n",
    "\n",
    "Now's we'll specify which datasets we want to use to train our MLP prediction head by once again using our yaml config.  This is done by simply setting model.data.task_name parameter to the name of the folder where we stored our ESOL dataset which is 'delaney-processed'."
   ]
  },
  {
   "cell_type": "code",
   "execution_count": null,
   "metadata": {
    "vscode": {
     "languageId": "shellscript"
    }
   },
   "outputs": [],
   "source": [
    "data:\n",
    "    task_name: SAMPL #specifies which MoleculeNet physchem dataset to use for training, expected values: SAMPL, Lipophilicity, or delaney-processed\n"
   ]
  },
  {
   "cell_type": "markdown",
   "metadata": {},
   "source": [
    "Now, let's indicated which column contains our SMILES string and our target value of interest for training the model based on the column headers in the csv file"
   ]
  },
  {
   "cell_type": "code",
   "execution_count": null,
   "metadata": {
    "vscode": {
     "languageId": "shellscript"
    }
   },
   "outputs": [],
   "source": [
    "data:\n",
    "    sequence_column: 'smiles'\n",
    "    target_column: 'measured log solubility in mols per litre'\n",
    "\n",
    "#These parameters are all nested under the data key in the yaml file"
   ]
  },
  {
   "cell_type": "markdown",
   "metadata": {},
   "source": [
    "Finally, we need to ensure that our script skips preprocessing and trains a model by setting do_training to True and we ensure that do_testing is set to True to also use of test dataset for evaluation."
   ]
  },
  {
   "cell_type": "code",
   "execution_count": null,
   "metadata": {
    "vscode": {
     "languageId": "shellscript"
    }
   },
   "outputs": [],
   "source": [
    "do_training: True\n",
    "do_testing: True"
   ]
  },
  {
   "cell_type": "markdown",
   "metadata": {},
   "source": [
    "While we have already set reasonable defaults for the other model paramters necessary for training, it is important to note the parameters of the config.\n",
    "\n",
    "The path to the pretrained megamolbart model should be already set:"
   ]
  },
  {
   "cell_type": "code",
   "execution_count": null,
   "metadata": {
    "vscode": {
     "languageId": "shellscript"
    }
   },
   "outputs": [],
   "source": [
    "restore_from_path: /model/molecule/megamolbart/megamolbart.nemo"
   ]
  },
  {
   "cell_type": "markdown",
   "metadata": {},
   "source": [
    "Under the model parameters, we can set whether we want the encoder to be frozen or not, our micro batch size and other downstream task parameters used by the MLP prediction head"
   ]
  },
  {
   "cell_type": "code",
   "execution_count": null,
   "metadata": {
    "vscode": {
     "languageId": "shellscript"
    }
   },
   "outputs": [],
   "source": [
    "model:\n",
    "    encoder_frozen: True\n",
    "    micro_batch_size: 32\n",
    "\n",
    "    downstream_task:\n",
    "        n_outputs: 1\n",
    "        hidden_layer_size: 128\n",
    "        loss_func: MSELoss\n"
   ]
  },
  {
   "cell_type": "markdown",
   "metadata": {},
   "source": [
    "Now, we are ready to train a model for our downstream task. "
   ]
  },
  {
   "cell_type": "code",
   "execution_count": null,
   "metadata": {
    "ExecuteTime": {
     "end_time": "2024-01-26T21:27:23.787204Z",
     "start_time": "2024-01-26T21:27:23.628Z"
    }
   },
   "outputs": [],
   "source": [
    "%%bash\n",
    "cd /workspace/bionemo/examples/molecule/megamolbart\n",
    "python downstream_physchem.py --config-path=./conf/ --config-name=finetune_config"
   ]
  },
  {
   "cell_type": "markdown",
   "metadata": {},
   "source": [
    "> **_NOTE_**: If the samples in the experiment folder are already processed, it will give an runtime error ``no samples left to consume``. To avoid this error, users can either delete or move the experiment folder, or set ``++exp_manager.resume_if_exists=false`` in the command line argument. \n",
    ":::\n",
    "\n",
    "Now that we've trained on the ESOL dataset, to change which dataset we train is simple. To do a run where we train using the Lipophilicity dataset instead can be done as follows:"
   ]
  },
  {
   "cell_type": "code",
   "execution_count": null,
   "metadata": {
    "vscode": {
     "languageId": "shellscript"
    }
   },
   "outputs": [],
   "source": [
    "%%bash\n",
    "python downstream_physchem.py \\\n",
    "--config-path=./conf/ --config-name=finetune_config \\\n",
    "model.data.task_name=Lipophilicity \\\n",
    "model.data.target_column=exp \\\n",
    "++exp_manager.resume_if_exists=false"
   ]
  },
  {
   "cell_type": "markdown",
   "metadata": {},
   "source": [
    "### Results and Logging"
   ]
  },
  {
   "cell_type": "markdown",
   "metadata": {},
   "source": [
    "Results of your experiment, including model checkpoints, can then be found in /result/nemo_experiments/. \n",
    "\n",
    "All logs from the experiment as well as the config parameters used to run that experiments are stores here as well.   \n"
   ]
  },
  {
   "cell_type": "markdown",
   "metadata": {},
   "source": [
    "**[Optional]** Setting up Weights and Biases account for tracking the model training process\n",
    "\n",
    "If you would like to monitor the MegaMolBART model training process, set up Weights and Biases access by following the links:\n",
    "\n",
    "1. For setting up the account: https://wandb.ai/site  \n",
    "2. Once the account is set, copy the API key: https://wandb.ai/authorize  \n",
    "3. Use this key in your .env file.  \n",
    "\n",
    "\n",
    "Monitoring the model training progress with Weights and Biases\n",
    "\n",
    "Following are examples plots showing the model training run, as logged and plotted by weights and Biases (www.wandb.ai)."
   ]
  },
  {
   "cell_type": "markdown",
   "metadata": {},
   "source": [
    "![Wandb Plots](../images/wandai_charts.png)"
   ]
  },
  {
   "cell_type": "markdown",
   "metadata": {},
   "source": [
    "[**Optional**] Model parameters can also be changed by passing them as arguments to the script. This removes the need to edit and save the yaml config each time. \n",
    "\n",
    "For example, we could run both the preprocessing step and model training using the commands below"
   ]
  },
  {
   "cell_type": "code",
   "execution_count": null,
   "metadata": {
    "ExecuteTime": {
     "end_time": "2024-01-26T21:25:03.725309Z",
     "start_time": "2024-01-26T21:25:03.276851Z"
    }
   },
   "outputs": [],
   "source": [
    "%%bash\n",
    "#Data preprocessing\n",
    "python downstream_physchem.py --config-path=./conf/ --config-name=finetune_config \\\n",
    "do_training=False \\\n",
    "model.data.dataset_path=/data/physchem \\\n",
    "model.data.split_data=True model.data.val_frac=0.15 \\\n",
    "model.data.test_frac=0.15 \n",
    "\n",
    "#Model Training for downstream task\n",
    "python downstream_physchem.py --config-path=./conf/ --config-name=finetune_config \\\n",
    "do_training=True \\\n",
    "restore_from_path=/model/molecule/megamolbart/megamolbart.nemo \\\n",
    "model.encoder_frozen=True \\\n",
    "model.micro_batch_size=32 \\\n",
    "model.data.train_ds.data_file=/data/physchem/delaney-processed_splits/train.csv \\\n",
    "model.data.validation_ds.data_file=/data/physchem/delaney-processed_splits/val.csv \\\n",
    "model.data.test_ds.data_file=/data/physchem/delaney-processed_splits/test.csv"
   ]
  },
  {
   "cell_type": "code",
   "execution_count": null,
   "metadata": {},
   "outputs": [],
   "source": []
  }
 ],
 "metadata": {
  "kernelspec": {
   "display_name": "Python 3 (ipykernel)",
   "language": "python",
   "name": "python3"
  },
  "language_info": {
   "codemirror_mode": {
    "name": "ipython",
    "version": 3
   },
   "file_extension": ".py",
   "mimetype": "text/x-python",
   "name": "python",
   "nbconvert_exporter": "python",
   "pygments_lexer": "ipython3",
   "version": "3.10.12"
  }
 },
 "nbformat": 4,
 "nbformat_minor": 4
}
