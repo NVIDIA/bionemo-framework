{
 "cells": [
  {
   "attachments": {},
   "cell_type": "markdown",
   "metadata": {},
   "source": [
    "# Finetuning LLM in BioNeMo for a Downstream Task"
   ]
  },
  {
   "attachments": {},
   "cell_type": "markdown",
   "metadata": {},
   "source": [
    "_This notebook covers how to fine-tune MegaMolBART (MMB) for downstream task of predicting physicochemical properties of drugs._\n",
    "\n",
    "One of the improtant tasks for chemoinformaticians is to develop models for predicting properties of small molecules.\n",
    "\n",
    "These properties may include physicochemical parameters, such as lipophilicity, solubility, hydration free energy (LogP, LogD, and so on). It can also include certain pharmacokinetic/dynamic behaviors, such as Blood-Brain-Barrier/CNS permeability and Vd.\n",
    "\n",
    "Modeling such properties can often become challenging along with choosing the appropriate and relevant descriptors/features for developing such prediction models.\n",
    "\n",
    "In this notebook, we will use the encoder of pretrained Megamolbart model and add a MLP prediction head trained for physico-chemical parameter predictions. "
   ]
  },
  {
   "cell_type": "markdown",
   "metadata": {},
   "source": [
    "## Prerequisites \n",
    "\n",
    "**Before diving in, ensure you have all [necessary prerequisites](../pre-reqs.md). If this is your first time using BioNeMo, we recommend following the [quickstart guide](../quickstart-fw.md) first.** \n",
    "\n",
    "Additionally, this tutorial depends on:\n",
    "    - the [MegaMolBART](../models/megamolbart.md) model\n",
    "    - the local [inference server](../inference-triton-fw.md)\n",
    "    - wse of [NGC BCP](../bcp-specific-commands-fw.md)\n",
    "\n",
    "\n",
    "All model training and finetuning related commands should be executed inside the BioNeMo docker container.\n",
    "\n",
    "The working directory needs to be ``/workspace/bionemo/examples/molecule/megamolbart`` for updating and running the following code. "
   ]
  },
  {
   "attachments": {},
   "cell_type": "markdown",
   "metadata": {},
   "source": [
    "In the section below, we will be using the one of the following datasets curated by MoleculeNet -- ESOL dataset (https://moleculenet.org/datasets-1)\n",
    "\n",
    "* Lipophilicity: Experimental results of octanol/water distribution coefficient(logD at pH 7.4) [n=4200]\n",
    "* FreeSolv: Experimental and calculated hydration free energy of small molecules in water [n=642]\n",
    "* ESOL: Water solubility data(log solubility in mols per litre) for common organic small molecules [n=1129]"
   ]
  },
  {
   "attachments": {},
   "cell_type": "markdown",
   "metadata": {},
   "source": [
    "## Example: Train Model for Compound Water Solubility (ESOL) Prediction using MMB Pretrained Model"
   ]
  },
  {
   "attachments": {},
   "cell_type": "markdown",
   "metadata": {},
   "source": [
    "Launch BioNeMo development container "
   ]
  },
  {
   "attachments": {},
   "cell_type": "markdown",
   "metadata": {},
   "source": [
    "```shell\n",
    "./launch.sh dev\n",
    "```\n",
    "\n",
    "Locate physchem downstream task config in ``/workspace/bionemo/examples/molecule/megamolbart/conf/finetune_config.yaml``\n",
    "\n"
   ]
  },
  {
   "attachments": {},
   "cell_type": "markdown",
   "metadata": {},
   "source": [
    "Download and preprocess dataset easily using BioNeMo yaml"
   ]
  },
  {
   "cell_type": "code",
   "execution_count": null,
   "metadata": {
    "vscode": {
     "languageId": "shellscript"
    }
   },
   "outputs": [],
   "source": [
    "#Set download location for datasets inside finetune_config.yaml\n",
    "data:\n",
    "    dataset_path: /data/physchem\n",
    "\n",
    "    #Let's also ensure that our dataset is split to create training, validation and test sets\n",
    "    split_data: True\n",
    "    val_frac: 0.15 # proportion of samples used for validation set\n",
    "    test_frac: 0.15 # proportion of samples used for test set"
   ]
  },
  {
   "attachments": {},
   "cell_type": "markdown",
   "metadata": {},
   "source": [
    "Let's ensure that we don't try to train a model yet and instead run preprocess steps. \n",
    "\n",
    "Simply set do_training to False inside our yaml config. "
   ]
  },
  {
   "cell_type": "code",
   "execution_count": null,
   "metadata": {
    "vscode": {
     "languageId": "shellscript"
    }
   },
   "outputs": [],
   "source": [
    "do_training: False"
   ]
  },
  {
   "attachments": {},
   "cell_type": "markdown",
   "metadata": {},
   "source": [
    "Now, lets run our downstream script and pass in the `finetune_config.yaml`:\n",
    "```shell\n",
    "cd /workspace/bionemo/examples/molecule/megamolbart\n",
    "python downstream_physchem.py --config-path=./conf/ --config-name=finetune_config\n",
    "```"
   ]
  },
  {
   "attachments": {},
   "cell_type": "markdown",
   "metadata": {},
   "source": [
    "We should now have datasets for all three properties downloaded from MoleculeNet in our `/data/phsychem` folder.\n",
    "\n",
    "Now's we'll specify which datasets we want to use to train our MLP prediction head by once again using our yaml config.  This is done by simply setting model.data.task_name parameter to the name of the folder where we stored our ESOL dataset which is 'delaney-processed'."
   ]
  },
  {
   "cell_type": "code",
   "execution_count": null,
   "metadata": {
    "vscode": {
     "languageId": "shellscript"
    }
   },
   "outputs": [],
   "source": [
    "data:\n",
    "    task_name: SAMPL #specifies which MoleculeNet physchem dataset to use for training, expected values: SAMPL, Lipophilicity, or delaney-processed\n"
   ]
  },
  {
   "attachments": {},
   "cell_type": "markdown",
   "metadata": {},
   "source": [
    "Now, let's indicated which column contains our SMILES string and our target value of interest for training the model based on the column headers in the csv file"
   ]
  },
  {
   "cell_type": "code",
   "execution_count": null,
   "metadata": {
    "vscode": {
     "languageId": "shellscript"
    }
   },
   "outputs": [],
   "source": [
    "data:\n",
    "    sequence_column: 'smiles'\n",
    "    target_column: 'measured log solubility in mols per litre'\n",
    "\n",
    "#These parameters are all nested under the data key in the yaml file"
   ]
  },
  {
   "attachments": {},
   "cell_type": "markdown",
   "metadata": {},
   "source": [
    "Finally, we need to ensure that our script skips preprocessing and trains a model by setting do_training to True and we ensure that do_testing is set to True to also use of test dataset for evaluation."
   ]
  },
  {
   "cell_type": "code",
   "execution_count": null,
   "metadata": {
    "vscode": {
     "languageId": "shellscript"
    }
   },
   "outputs": [],
   "source": [
    "do_training: True\n",
    "do_testing: True"
   ]
  },
  {
   "attachments": {},
   "cell_type": "markdown",
   "metadata": {},
   "source": [
    "While we have already set reasonable defaults for the other model paramters necessary for training, it is important to note the parameters of the config.\n",
    "\n",
    "The path to the pretrained megamolbart model should be already set:"
   ]
  },
  {
   "cell_type": "code",
   "execution_count": null,
   "metadata": {
    "vscode": {
     "languageId": "shellscript"
    }
   },
   "outputs": [],
   "source": [
    "restore_from_path: /model/molecule/megamolbart/megamolbart.nemo"
   ]
  },
  {
   "attachments": {},
   "cell_type": "markdown",
   "metadata": {},
   "source": [
    "Under the model parameters, we can set whether we want the encoder to be frozen or not, our micro batch size and other downstream task parameters used by the MLP prediction head"
   ]
  },
  {
   "cell_type": "code",
   "execution_count": null,
   "metadata": {
    "vscode": {
     "languageId": "shellscript"
    }
   },
   "outputs": [],
   "source": [
    "model:\n",
    "    encoder_frozen: True\n",
    "    micro_batch_size: 32\n",
    "\n",
    "    downstream_task:\n",
    "        n_outputs: 1\n",
    "        hidden_layer_size: 128\n",
    "        loss_func: MSELoss\n"
   ]
  },
  {
   "attachments": {},
   "cell_type": "markdown",
   "metadata": {},
   "source": [
    "Now, we are ready to train a model for our downstream task. "
   ]
  },
  {
   "cell_type": "code",
   "execution_count": 3,
   "metadata": {
    "ExecuteTime": {
     "end_time": "2024-01-26T21:27:23.787204Z",
     "start_time": "2024-01-26T21:27:23.628Z"
    }
   },
   "outputs": [
    {
     "name": "stderr",
     "output_type": "stream",
     "text": [
      "bash: line 1: cd: /workspace/bionemo/examples/molecule/megamolbart: No such file or directory\n",
      "python: can't open file '/Users/mgreaves/dev/com/nvidia/bionemo/docs/bionemo/notebooks/downstream_physchem.py': [Errno 2] No such file or directory\n"
     ]
    },
    {
     "ename": "CalledProcessError",
     "evalue": "Command 'b'cd /workspace/bionemo/examples/molecule/megamolbart\\npython downstream_physchem.py --config-path=./conf/ --config-name=finetune_config\\n'' returned non-zero exit status 2.",
     "output_type": "error",
     "traceback": [
      "\u001B[0;31m---------------------------------------------------------------------------\u001B[0m",
      "\u001B[0;31mCalledProcessError\u001B[0m                        Traceback (most recent call last)",
      "Cell \u001B[0;32mIn[3], line 1\u001B[0m\n\u001B[0;32m----> 1\u001B[0m \u001B[43mget_ipython\u001B[49m\u001B[43m(\u001B[49m\u001B[43m)\u001B[49m\u001B[38;5;241;43m.\u001B[39;49m\u001B[43mrun_cell_magic\u001B[49m\u001B[43m(\u001B[49m\u001B[38;5;124;43m'\u001B[39;49m\u001B[38;5;124;43mbash\u001B[39;49m\u001B[38;5;124;43m'\u001B[39;49m\u001B[43m,\u001B[49m\u001B[43m \u001B[49m\u001B[38;5;124;43m'\u001B[39;49m\u001B[38;5;124;43m'\u001B[39;49m\u001B[43m,\u001B[49m\u001B[43m \u001B[49m\u001B[38;5;124;43m'\u001B[39;49m\u001B[38;5;124;43mcd /workspace/bionemo/examples/molecule/megamolbart\u001B[39;49m\u001B[38;5;130;43;01m\\n\u001B[39;49;00m\u001B[38;5;124;43mpython downstream_physchem.py --config-path=./conf/ --config-name=finetune_config\u001B[39;49m\u001B[38;5;130;43;01m\\n\u001B[39;49;00m\u001B[38;5;124;43m'\u001B[39;49m\u001B[43m)\u001B[49m\n",
      "File \u001B[0;32m~/dev/env/miniconda/envs/bionemo/lib/python3.10/site-packages/IPython/core/interactiveshell.py:2517\u001B[0m, in \u001B[0;36mInteractiveShell.run_cell_magic\u001B[0;34m(self, magic_name, line, cell)\u001B[0m\n\u001B[1;32m   2515\u001B[0m \u001B[38;5;28;01mwith\u001B[39;00m \u001B[38;5;28mself\u001B[39m\u001B[38;5;241m.\u001B[39mbuiltin_trap:\n\u001B[1;32m   2516\u001B[0m     args \u001B[38;5;241m=\u001B[39m (magic_arg_s, cell)\n\u001B[0;32m-> 2517\u001B[0m     result \u001B[38;5;241m=\u001B[39m \u001B[43mfn\u001B[49m\u001B[43m(\u001B[49m\u001B[38;5;241;43m*\u001B[39;49m\u001B[43margs\u001B[49m\u001B[43m,\u001B[49m\u001B[43m \u001B[49m\u001B[38;5;241;43m*\u001B[39;49m\u001B[38;5;241;43m*\u001B[39;49m\u001B[43mkwargs\u001B[49m\u001B[43m)\u001B[49m\n\u001B[1;32m   2519\u001B[0m \u001B[38;5;66;03m# The code below prevents the output from being displayed\u001B[39;00m\n\u001B[1;32m   2520\u001B[0m \u001B[38;5;66;03m# when using magics with decorator @output_can_be_silenced\u001B[39;00m\n\u001B[1;32m   2521\u001B[0m \u001B[38;5;66;03m# when the last Python token in the expression is a ';'.\u001B[39;00m\n\u001B[1;32m   2522\u001B[0m \u001B[38;5;28;01mif\u001B[39;00m \u001B[38;5;28mgetattr\u001B[39m(fn, magic\u001B[38;5;241m.\u001B[39mMAGIC_OUTPUT_CAN_BE_SILENCED, \u001B[38;5;28;01mFalse\u001B[39;00m):\n",
      "File \u001B[0;32m~/dev/env/miniconda/envs/bionemo/lib/python3.10/site-packages/IPython/core/magics/script.py:154\u001B[0m, in \u001B[0;36mScriptMagics._make_script_magic.<locals>.named_script_magic\u001B[0;34m(line, cell)\u001B[0m\n\u001B[1;32m    152\u001B[0m \u001B[38;5;28;01melse\u001B[39;00m:\n\u001B[1;32m    153\u001B[0m     line \u001B[38;5;241m=\u001B[39m script\n\u001B[0;32m--> 154\u001B[0m \u001B[38;5;28;01mreturn\u001B[39;00m \u001B[38;5;28;43mself\u001B[39;49m\u001B[38;5;241;43m.\u001B[39;49m\u001B[43mshebang\u001B[49m\u001B[43m(\u001B[49m\u001B[43mline\u001B[49m\u001B[43m,\u001B[49m\u001B[43m \u001B[49m\u001B[43mcell\u001B[49m\u001B[43m)\u001B[49m\n",
      "File \u001B[0;32m~/dev/env/miniconda/envs/bionemo/lib/python3.10/site-packages/IPython/core/magics/script.py:314\u001B[0m, in \u001B[0;36mScriptMagics.shebang\u001B[0;34m(self, line, cell)\u001B[0m\n\u001B[1;32m    309\u001B[0m \u001B[38;5;28;01mif\u001B[39;00m args\u001B[38;5;241m.\u001B[39mraise_error \u001B[38;5;129;01mand\u001B[39;00m p\u001B[38;5;241m.\u001B[39mreturncode \u001B[38;5;241m!=\u001B[39m \u001B[38;5;241m0\u001B[39m:\n\u001B[1;32m    310\u001B[0m     \u001B[38;5;66;03m# If we get here and p.returncode is still None, we must have\u001B[39;00m\n\u001B[1;32m    311\u001B[0m     \u001B[38;5;66;03m# killed it but not yet seen its return code. We don't wait for it,\u001B[39;00m\n\u001B[1;32m    312\u001B[0m     \u001B[38;5;66;03m# in case it's stuck in uninterruptible sleep. -9 = SIGKILL\u001B[39;00m\n\u001B[1;32m    313\u001B[0m     rc \u001B[38;5;241m=\u001B[39m p\u001B[38;5;241m.\u001B[39mreturncode \u001B[38;5;129;01mor\u001B[39;00m \u001B[38;5;241m-\u001B[39m\u001B[38;5;241m9\u001B[39m\n\u001B[0;32m--> 314\u001B[0m     \u001B[38;5;28;01mraise\u001B[39;00m CalledProcessError(rc, cell)\n",
      "\u001B[0;31mCalledProcessError\u001B[0m: Command 'b'cd /workspace/bionemo/examples/molecule/megamolbart\\npython downstream_physchem.py --config-path=./conf/ --config-name=finetune_config\\n'' returned non-zero exit status 2."
     ]
    }
   ],
   "source": [
    "%%bash\n",
    "cd /workspace/bionemo/examples/molecule/megamolbart\n",
    "python downstream_physchem.py --config-path=./conf/ --config-name=finetune_config"
   ]
  },
  {
   "cell_type": "code",
   "execution_count": null,
   "metadata": {
    "vscode": {
     "languageId": "shellscript"
    }
   },
   "outputs": [],
   "source": []
  },
  {
   "attachments": {},
   "cell_type": "markdown",
   "metadata": {},
   "source": [
    ":::{note}\n",
    "If the samples in the experiment folder are already processed, it will give an runtime error ``no samples left to consume``. To avoid this error, users can either delete or move the experiment folder, or set ``++exp_manager.resume_if_exists=false`` in the command line argument. \n",
    ":::\n",
    "\n",
    "Now that we've trained on the ESOL dataset, to change which dataset we train is simple. To do a run where we train using the Lipophilicity dataset instead can be done as follows:"
   ]
  },
  {
   "cell_type": "code",
   "execution_count": null,
   "metadata": {
    "vscode": {
     "languageId": "shellscript"
    }
   },
   "outputs": [],
   "source": [
    "%%bash\n",
    "python downstream_physchem.py \\\n",
    "--config-path=./conf/ --config-name=finetune_config \\\n",
    "model.data.task_name=Lipophilicity \\\n",
    "model.data.target_column=exp \\\n",
    "++exp_manager.resume_if_exists=false"
   ]
  },
  {
   "attachments": {},
   "cell_type": "markdown",
   "metadata": {},
   "source": [
    "### Results and Logging"
   ]
  },
  {
   "attachments": {},
   "cell_type": "markdown",
   "metadata": {},
   "source": [
    "Results of your experiment, including model checkpoints, can then be found in /result/nemo_experiments/. \n",
    "\n",
    "All logs from the experiment as well as the config parameters used to run that experiments are stores here as well.   \n"
   ]
  },
  {
   "attachments": {},
   "cell_type": "markdown",
   "metadata": {},
   "source": [
    "**[Optional]** Setting up Weights and Biases account for tracking the model training process\n",
    "\n",
    "If you would like to monitor the MegaMolBART model training process, set up Weights and Biases access by following the links:\n",
    "\n",
    "1. For setting up the account: https://wandb.ai/site  \n",
    "2. Once the account is set, copy the API key: https://wandb.ai/authorize  \n",
    "3. Use this key in your .env file.  \n",
    "\n",
    "\n",
    "Monitoring the model training progress with Weights and Biases\n",
    "\n",
    "Following are examples plots showing the model training run, as logged and plotted by weights and Biases (www.wandb.ai)."
   ]
  },
  {
   "attachments": {},
   "cell_type": "markdown",
   "metadata": {},
   "source": [
    "![Wandb Plots](../images/wandai_charts.png)"
   ]
  },
  {
   "attachments": {},
   "cell_type": "markdown",
   "metadata": {},
   "source": [
    "[**Optional**] Model parameters can also be changed by passing them as arguments to the script. This removes the need to edit and save the yaml config each time. \n",
    "\n",
    "For example, we could run both the preprocessing step and model training using the commands below"
   ]
  },
  {
   "cell_type": "code",
   "execution_count": 2,
   "metadata": {
    "ExecuteTime": {
     "end_time": "2024-01-26T21:25:03.725309Z",
     "start_time": "2024-01-26T21:25:03.276851Z"
    }
   },
   "outputs": [
    {
     "name": "stderr",
     "output_type": "stream",
     "text": [
      "python: can't open file '/Users/mgreaves/dev/com/nvidia/bionemo/docs/bionemo/notebooks/downstream_physchem.py': [Errno 2] No such file or directory\n",
      "python: can't open file '/Users/mgreaves/dev/com/nvidia/bionemo/docs/bionemo/notebooks/downstream_physchem.py': [Errno 2] No such file or directory\n"
     ]
    },
    {
     "ename": "CalledProcessError",
     "evalue": "Command 'b'#Data preprocessing\\npython downstream_physchem.py --config-path=./conf/ --config-name=finetune_config \\\\\\ndo_training=False \\\\\\nmodel.data.dataset_path=/data/physchem \\\\\\nmodel.data.split_data=True model.data.val_frac=0.15 \\\\\\nmodel.data.test_frac=0.15 \\n\\n#Model Training for downstream task\\npython downstream_physchem.py --config-path=./conf/ --config-name=finetune_config \\\\\\ndo_training=True \\\\\\nrestore_from_path=/model/molecule/megamolbart/megamolbart.nemo \\\\\\nmodel.encoder_frozen=True \\\\\\nmodel.micro_batch_size=32 \\\\\\nmodel.data.train_ds.data_file=/data/physchem/delaney-processed_splits/train.csv \\\\\\nmodel.data.validation_ds.data_file=/data/physchem/delaney-processed_splits/val.csv \\\\\\nmodel.data.test_ds.data_file=/data/physchem/delaney-processed_splits/test.csv\\n'' returned non-zero exit status 2.",
     "output_type": "error",
     "traceback": [
      "\u001B[0;31m---------------------------------------------------------------------------\u001B[0m",
      "\u001B[0;31mCalledProcessError\u001B[0m                        Traceback (most recent call last)",
      "Cell \u001B[0;32mIn[2], line 1\u001B[0m\n\u001B[0;32m----> 1\u001B[0m \u001B[43mget_ipython\u001B[49m\u001B[43m(\u001B[49m\u001B[43m)\u001B[49m\u001B[38;5;241;43m.\u001B[39;49m\u001B[43mrun_cell_magic\u001B[49m\u001B[43m(\u001B[49m\u001B[38;5;124;43m'\u001B[39;49m\u001B[38;5;124;43mbash\u001B[39;49m\u001B[38;5;124;43m'\u001B[39;49m\u001B[43m,\u001B[49m\u001B[43m \u001B[49m\u001B[38;5;124;43m'\u001B[39;49m\u001B[38;5;124;43m'\u001B[39;49m\u001B[43m,\u001B[49m\u001B[43m \u001B[49m\u001B[38;5;124;43m'\u001B[39;49m\u001B[38;5;124;43m#Data preprocessing\u001B[39;49m\u001B[38;5;130;43;01m\\n\u001B[39;49;00m\u001B[38;5;124;43mpython downstream_physchem.py --config-path=./conf/ --config-name=finetune_config \u001B[39;49m\u001B[38;5;130;43;01m\\\\\u001B[39;49;00m\u001B[38;5;130;43;01m\\n\u001B[39;49;00m\u001B[38;5;124;43mdo_training=False \u001B[39;49m\u001B[38;5;130;43;01m\\\\\u001B[39;49;00m\u001B[38;5;130;43;01m\\n\u001B[39;49;00m\u001B[38;5;124;43mmodel.data.dataset_path=/data/physchem \u001B[39;49m\u001B[38;5;130;43;01m\\\\\u001B[39;49;00m\u001B[38;5;130;43;01m\\n\u001B[39;49;00m\u001B[38;5;124;43mmodel.data.split_data=True model.data.val_frac=0.15 \u001B[39;49m\u001B[38;5;130;43;01m\\\\\u001B[39;49;00m\u001B[38;5;130;43;01m\\n\u001B[39;49;00m\u001B[38;5;124;43mmodel.data.test_frac=0.15 \u001B[39;49m\u001B[38;5;130;43;01m\\n\u001B[39;49;00m\u001B[38;5;130;43;01m\\n\u001B[39;49;00m\u001B[38;5;124;43m#Model Training for downstream task\u001B[39;49m\u001B[38;5;130;43;01m\\n\u001B[39;49;00m\u001B[38;5;124;43mpython downstream_physchem.py --config-path=./conf/ --config-name=finetune_config \u001B[39;49m\u001B[38;5;130;43;01m\\\\\u001B[39;49;00m\u001B[38;5;130;43;01m\\n\u001B[39;49;00m\u001B[38;5;124;43mdo_training=True \u001B[39;49m\u001B[38;5;130;43;01m\\\\\u001B[39;49;00m\u001B[38;5;130;43;01m\\n\u001B[39;49;00m\u001B[38;5;124;43mrestore_from_path=/model/molecule/megamolbart/megamolbart.nemo \u001B[39;49m\u001B[38;5;130;43;01m\\\\\u001B[39;49;00m\u001B[38;5;130;43;01m\\n\u001B[39;49;00m\u001B[38;5;124;43mmodel.encoder_frozen=True \u001B[39;49m\u001B[38;5;130;43;01m\\\\\u001B[39;49;00m\u001B[38;5;130;43;01m\\n\u001B[39;49;00m\u001B[38;5;124;43mmodel.micro_batch_size=32 \u001B[39;49m\u001B[38;5;130;43;01m\\\\\u001B[39;49;00m\u001B[38;5;130;43;01m\\n\u001B[39;49;00m\u001B[38;5;124;43mmodel.data.train_ds.data_file=/data/physchem/delaney-processed_splits/train.csv \u001B[39;49m\u001B[38;5;130;43;01m\\\\\u001B[39;49;00m\u001B[38;5;130;43;01m\\n\u001B[39;49;00m\u001B[38;5;124;43mmodel.data.validation_ds.data_file=/data/physchem/delaney-processed_splits/val.csv \u001B[39;49m\u001B[38;5;130;43;01m\\\\\u001B[39;49;00m\u001B[38;5;130;43;01m\\n\u001B[39;49;00m\u001B[38;5;124;43mmodel.data.test_ds.data_file=/data/physchem/delaney-processed_splits/test.csv\u001B[39;49m\u001B[38;5;130;43;01m\\n\u001B[39;49;00m\u001B[38;5;124;43m'\u001B[39;49m\u001B[43m)\u001B[49m\n",
      "File \u001B[0;32m~/dev/env/miniconda/envs/bionemo/lib/python3.10/site-packages/IPython/core/interactiveshell.py:2517\u001B[0m, in \u001B[0;36mInteractiveShell.run_cell_magic\u001B[0;34m(self, magic_name, line, cell)\u001B[0m\n\u001B[1;32m   2515\u001B[0m \u001B[38;5;28;01mwith\u001B[39;00m \u001B[38;5;28mself\u001B[39m\u001B[38;5;241m.\u001B[39mbuiltin_trap:\n\u001B[1;32m   2516\u001B[0m     args \u001B[38;5;241m=\u001B[39m (magic_arg_s, cell)\n\u001B[0;32m-> 2517\u001B[0m     result \u001B[38;5;241m=\u001B[39m \u001B[43mfn\u001B[49m\u001B[43m(\u001B[49m\u001B[38;5;241;43m*\u001B[39;49m\u001B[43margs\u001B[49m\u001B[43m,\u001B[49m\u001B[43m \u001B[49m\u001B[38;5;241;43m*\u001B[39;49m\u001B[38;5;241;43m*\u001B[39;49m\u001B[43mkwargs\u001B[49m\u001B[43m)\u001B[49m\n\u001B[1;32m   2519\u001B[0m \u001B[38;5;66;03m# The code below prevents the output from being displayed\u001B[39;00m\n\u001B[1;32m   2520\u001B[0m \u001B[38;5;66;03m# when using magics with decorator @output_can_be_silenced\u001B[39;00m\n\u001B[1;32m   2521\u001B[0m \u001B[38;5;66;03m# when the last Python token in the expression is a ';'.\u001B[39;00m\n\u001B[1;32m   2522\u001B[0m \u001B[38;5;28;01mif\u001B[39;00m \u001B[38;5;28mgetattr\u001B[39m(fn, magic\u001B[38;5;241m.\u001B[39mMAGIC_OUTPUT_CAN_BE_SILENCED, \u001B[38;5;28;01mFalse\u001B[39;00m):\n",
      "File \u001B[0;32m~/dev/env/miniconda/envs/bionemo/lib/python3.10/site-packages/IPython/core/magics/script.py:154\u001B[0m, in \u001B[0;36mScriptMagics._make_script_magic.<locals>.named_script_magic\u001B[0;34m(line, cell)\u001B[0m\n\u001B[1;32m    152\u001B[0m \u001B[38;5;28;01melse\u001B[39;00m:\n\u001B[1;32m    153\u001B[0m     line \u001B[38;5;241m=\u001B[39m script\n\u001B[0;32m--> 154\u001B[0m \u001B[38;5;28;01mreturn\u001B[39;00m \u001B[38;5;28;43mself\u001B[39;49m\u001B[38;5;241;43m.\u001B[39;49m\u001B[43mshebang\u001B[49m\u001B[43m(\u001B[49m\u001B[43mline\u001B[49m\u001B[43m,\u001B[49m\u001B[43m \u001B[49m\u001B[43mcell\u001B[49m\u001B[43m)\u001B[49m\n",
      "File \u001B[0;32m~/dev/env/miniconda/envs/bionemo/lib/python3.10/site-packages/IPython/core/magics/script.py:314\u001B[0m, in \u001B[0;36mScriptMagics.shebang\u001B[0;34m(self, line, cell)\u001B[0m\n\u001B[1;32m    309\u001B[0m \u001B[38;5;28;01mif\u001B[39;00m args\u001B[38;5;241m.\u001B[39mraise_error \u001B[38;5;129;01mand\u001B[39;00m p\u001B[38;5;241m.\u001B[39mreturncode \u001B[38;5;241m!=\u001B[39m \u001B[38;5;241m0\u001B[39m:\n\u001B[1;32m    310\u001B[0m     \u001B[38;5;66;03m# If we get here and p.returncode is still None, we must have\u001B[39;00m\n\u001B[1;32m    311\u001B[0m     \u001B[38;5;66;03m# killed it but not yet seen its return code. We don't wait for it,\u001B[39;00m\n\u001B[1;32m    312\u001B[0m     \u001B[38;5;66;03m# in case it's stuck in uninterruptible sleep. -9 = SIGKILL\u001B[39;00m\n\u001B[1;32m    313\u001B[0m     rc \u001B[38;5;241m=\u001B[39m p\u001B[38;5;241m.\u001B[39mreturncode \u001B[38;5;129;01mor\u001B[39;00m \u001B[38;5;241m-\u001B[39m\u001B[38;5;241m9\u001B[39m\n\u001B[0;32m--> 314\u001B[0m     \u001B[38;5;28;01mraise\u001B[39;00m CalledProcessError(rc, cell)\n",
      "\u001B[0;31mCalledProcessError\u001B[0m: Command 'b'#Data preprocessing\\npython downstream_physchem.py --config-path=./conf/ --config-name=finetune_config \\\\\\ndo_training=False \\\\\\nmodel.data.dataset_path=/data/physchem \\\\\\nmodel.data.split_data=True model.data.val_frac=0.15 \\\\\\nmodel.data.test_frac=0.15 \\n\\n#Model Training for downstream task\\npython downstream_physchem.py --config-path=./conf/ --config-name=finetune_config \\\\\\ndo_training=True \\\\\\nrestore_from_path=/model/molecule/megamolbart/megamolbart.nemo \\\\\\nmodel.encoder_frozen=True \\\\\\nmodel.micro_batch_size=32 \\\\\\nmodel.data.train_ds.data_file=/data/physchem/delaney-processed_splits/train.csv \\\\\\nmodel.data.validation_ds.data_file=/data/physchem/delaney-processed_splits/val.csv \\\\\\nmodel.data.test_ds.data_file=/data/physchem/delaney-processed_splits/test.csv\\n'' returned non-zero exit status 2."
     ]
    }
   ],
   "source": [
    "%%bash\n",
    "#Data preprocessing\n",
    "python downstream_physchem.py --config-path=./conf/ --config-name=finetune_config \\\n",
    "do_training=False \\\n",
    "model.data.dataset_path=/data/physchem \\\n",
    "model.data.split_data=True model.data.val_frac=0.15 \\\n",
    "model.data.test_frac=0.15 \n",
    "\n",
    "#Model Training for downstream task\n",
    "python downstream_physchem.py --config-path=./conf/ --config-name=finetune_config \\\n",
    "do_training=True \\\n",
    "restore_from_path=/model/molecule/megamolbart/megamolbart.nemo \\\n",
    "model.encoder_frozen=True \\\n",
    "model.micro_batch_size=32 \\\n",
    "model.data.train_ds.data_file=/data/physchem/delaney-processed_splits/train.csv \\\n",
    "model.data.validation_ds.data_file=/data/physchem/delaney-processed_splits/val.csv \\\n",
    "model.data.test_ds.data_file=/data/physchem/delaney-processed_splits/test.csv"
   ]
  },
  {
   "cell_type": "code",
   "execution_count": null,
   "metadata": {},
   "outputs": [],
   "source": []
  }
 ],
 "metadata": {
  "language_info": {
   "name": "python"
  },
  "orig_nbformat": 4,
  "kernelspec": {
   "name": "python3",
   "language": "python",
   "display_name": "Python 3 (ipykernel)"
  }
 },
 "nbformat": 4,
 "nbformat_minor": 2
}
