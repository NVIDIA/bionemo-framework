{
 "cells": [
  {
   "attachments": {},
   "cell_type": "markdown",
   "metadata": {},
   "source": [
    "# Training LLM for a Custom Downstram Task: Retrosynthesis Prediction using MegaMolBART"
   ]
  },
  {
   "attachments": {},
   "cell_type": "markdown",
   "metadata": {},
   "source": [
    "This tutorial serves to provide an overview for how to train our Seq-to-Seq MegaMolBart (MMB) model on a retrosynthesis prediction as a downstream task."
   ]
  },
  {
   "attachments": {},
   "cell_type": "markdown",
   "metadata": {},
   "source": [
    "## Overview"
   ]
  },
  {
   "attachments": {},
   "cell_type": "markdown",
   "metadata": {},
   "source": [
    "A practical goal of chemistry and materials science is to design molecules and materials with specific properties. In the realm of predicting chemical reactions, there are two main directions: **forward mapping**, which involves predicting the product from given reactants, and **backward mapping**, which entails designing the appropriate reactants based on a target product. The latter mapping direction is referred to as retrosynthesis, and it involves the planning of synthesis pathways.\n",
    "\n",
    "Retrosynthesis presents a unique challenge compared to forward mapping, as it involves a one-to-many mapping. This means that there could be multiple different reaction pathways to synthesize a desired compound. This complexity makes retrosynthesis a more intricate and demanding task. In recent years, artificial intelligence (AI) has emerged as a powerful tool to aid in retrosynthesis. AI-based retrosynthesis aims to automate the process by leveraging machine learning algorithms and data from previous chemical reactions. By analyzing and learning from a vast amount of chemical reaction data, AI models can generate predictions and propose potential synthetic pathways for target compounds. For the retrosynthesis prediction task, the model is given the products of a reaction reactants and asked to predict the reactants.\n"
   ]
  },
  {
   "cell_type": "markdown",
   "metadata": {},
   "source": [
    "## Setup and Assumptions\n",
    "\n",
    "This tutorial assumes that a copy of the BioNeMo framework repo exists on workstation or server and has been mounted inside the container at `/workspace/bionemo`. This path will be referred to with the variable `BIONEMO_WORKSPACE` in the tutorial. \n",
    "\n",
    "All commands should be executed inside the BioNeMo docker container.\n",
    "\n",
    "A user may create/place the following codes and execute files from ``$BIONEMO_WORKSPACE/examples/<molecule_or_protein>/<model_name>/`` folder, which needs to be adjusted according to the use case. "
   ]
  },
  {
   "attachments": {},
   "cell_type": "markdown",
   "metadata": {},
   "source": [
    "## Dataset"
   ]
  },
  {
   "attachments": {},
   "cell_type": "markdown",
   "metadata": {},
   "source": [
    "The USPTO-50K dataset, which contains approximately 50,000 reactions, can be used for the retrosynthesis prediction task."
   ]
  },
  {
   "attachments": {},
   "cell_type": "markdown",
   "metadata": {},
   "source": [
    "## Training "
   ]
  },
  {
   "attachments": {},
   "cell_type": "markdown",
   "metadata": {},
   "source": [
    "Create the required data directory in your local bionemo repository:\n",
    "\n",
    "```bash\n",
    "mkdir -p data/uspto_50k_dataset\n",
    "```\n",
    "\n",
    "Next, you must download the pickle file provided by Samuel Genheden of Astra Zeneca [from this URL](https://az.app.box.com/s/7eci3nd9vy0xplqniitpk02rbg9q2zcq/file/854847820319) and place it in this directory with the name `uspto_50.pickle`. \n",
    "\n",
    "\n",
    "Now that the data prerequesits are in place. Launch BioNeMo development container, which will mount your local bionemo directory into the docker image."
   ]
  },
  {
   "cell_type": "code",
   "execution_count": null,
   "metadata": {
    "vscode": {
     "languageId": "shellscript"
    }
   },
   "outputs": [],
   "source": [
    "bash launch.sh dev"
   ]
  },
  {
   "attachments": {},
   "cell_type": "markdown",
   "metadata": {},
   "source": [
    "Training of a retrosynthesis model using pretrained megamolbart can be done in three steps within BioNeMo:\n",
    "* Process the downloaded USPTO-50K dataset\n",
    "* Additional pre-training of MegaMolBart using USPTO-50K dataset\n",
    "* Train finetuned model using USPTO-50K dataset"
   ]
  },
  {
   "attachments": {},
   "cell_type": "markdown",
   "metadata": {},
   "source": [
    "### Processing the dataset\n",
    "\n",
    "Using the BioNeMo restrosynthesis training script, we can automatically process our downloaded data by simply set do_training to False inside our yaml config or through command-line arguments, like below. This command needs to be run executed from ``/workspace/bionemo`` or <BioNeMo_ROOT> directory. The provided config will look for the unprocessed data you downloaded in `/workspace/bionemo/data/uspto_50k_dataset/uspto_50.pickle`"
   ]
  },
  {
   "cell_type": "code",
   "execution_count": null,
   "metadata": {
    "vscode": {
     "languageId": "shellscript"
    }
   },
   "outputs": [],
   "source": [
    "python examples/molecule/megamolbart/downstream_retro.py \\\n",
    "--config-name=downstream_retro_uspto50k \\\n",
    "++trainer.devices=1 \\\n",
    "++exp_manager.create_wandb_logger=False \\\n",
    "++do_training=False"
   ]
  },
  {
   "attachments": {},
   "cell_type": "markdown",
   "metadata": {},
   "source": [
    "This will download the dataset in the location specified by the dataset_path parameter in the config yaml file. By default, this is set to */data/uspto_50k_dataset*. "
   ]
  },
  {
   "attachments": {},
   "cell_type": "markdown",
   "metadata": {},
   "source": [
    "#### Finetune pretrained MMB model for retrosynthesis"
   ]
  },
  {
   "cell_type": "code",
   "execution_count": null,
   "metadata": {
    "vscode": {
     "languageId": "shellscript"
    }
   },
   "outputs": [],
   "source": [
    "python downstream_retro.py ++trainer.devices=1 ++exp_manager.create_wandb_logger=False ++do_training=True"
   ]
  },
  {
   "attachments": {},
   "cell_type": "markdown",
   "metadata": {},
   "source": [
    "BioNeMo also provides a config yaml file for inference located at *examples/molecule/megamolbart/conf/infer_retro.yaml*"
   ]
  },
  {
   "attachments": {},
   "cell_type": "markdown",
   "metadata": {},
   "source": [
    "## Inference"
   ]
  },
  {
   "attachments": {},
   "cell_type": "markdown",
   "metadata": {},
   "source": [
    "To run inference with your trained model, simply run the command below. Important to note that you need to set the restore_from_path to the .nemo model you created during training for retrosynthesis. This command needs to be executed from ``/workspace/bionemo`` or <BioNeMo_ROOT> directory."
   ]
  },
  {
   "cell_type": "code",
   "execution_count": null,
   "metadata": {
    "vscode": {
     "languageId": "shellscript"
    }
   },
   "outputs": [],
   "source": [
    "python bionemo/model/infer.py \\\n",
    "--config-path=examples/molecule/megamolbart/conf \\\n",
    "--config-name=infer_retro \\\n",
    "++model.downstream_task.restore_from_path=<RETRO_CHECKPOINT_PATH>"
   ]
  }
 ],
 "metadata": {
  "language_info": {
   "name": "python"
  },
  "orig_nbformat": 4
 },
 "nbformat": 4,
 "nbformat_minor": 2
}
