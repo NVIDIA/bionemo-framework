{
 "cells": [
  {
   "cell_type": "markdown",
   "id": "9a88d40b-64de-4661-b3b0-7a4b87ba0162",
   "metadata": {
    "tags": []
   },
   "source": [
    "# BioNeMo - Geneformer inferencing for single cell downstream tasks\n",
    "\n",
    "This tutorial showcases how to run the BioNeMo container, pre-train a geneformer model, and use it for inferencing downstream single cell tasks. At the end of this tutorial, a user will learn:\n",
    "- launching the BioNeMo container\n",
    "- Download data from czi to use for pre-training and inference.\n",
    "- Convert AnnData files into the sparse SCDL memmap format used by BioNeMo\n",
    "- Kick-off pretraining with a custom single cell dataset\n",
    "- Restore the pre-trained model and perform inference with the same czi dataset.\n",
    "\n",
    "\n",
    "### Prerequisites:\n",
    "- BioNeMo Framework container is running (refer to the [Getting Started](../index.md) section)\n",
    "\n",
    "\n",
    "#### Running the BioNeMo container\n",
    "\n",
    "This example has been built by launching the container in a local machine with 2 x A6000 RTX GPUs. Refer to specific instructions for [remote and multi-node launch]\n",
    "\n",
    "Once the container is launched, navigate to http://0.0.0.0:8888, http://localhost:8888, or the IP address of the workstation/node. A JupyterLab instance should show up.\n",
    "\n",
    "#### Copy this code and input files into JupyterLab\n",
    "\n",
    "In the launched JupyterLab, run the codes in a Jupyter notebook as provided in the code cells below."
   ]
  },
  {
   "cell_type": "markdown",
   "id": "8e47327a-6549-4ff4-a32a-a32d07a1e706",
   "metadata": {},
   "source": [
    "## Getting example single cell data and setting it up for inference\n",
    "\n",
    "First, we must acquire single cell training data for inference. To do this we will install the cellxgene-census api and download a small dataset. We use the example provided by the czi api examples page to download a single h5ad file. Generally, our workflow expects a collection of h5ad files to be used for pre-training. In this case, we restrict to 100k cells from a single dataset  to keep training time and downloading time small."
   ]
  },
  {
   "cell_type": "code",
   "execution_count": 1,
   "id": "056ca29a-ffa1-4381-83b6-cad9a7b0c4d1",
   "metadata": {
    "tags": []
   },
   "outputs": [
    {
     "name": "stdout",
     "output_type": "stream",
     "text": [
      "\u001b[33mDEPRECATION: Loading egg at /usr/local/lib/python3.12/dist-packages/looseversion-1.3.0-py3.12.egg is deprecated. pip 25.1 will enforce this behaviour change. A possible replacement is to use pip for package installation. Discussion can be found at https://github.com/pypa/pip/issues/12330\u001b[0m\u001b[33m\n",
      "\u001b[0m\u001b[33mDEPRECATION: Loading egg at /usr/local/lib/python3.12/dist-packages/opt_einsum-3.4.0-py3.12.egg is deprecated. pip 25.1 will enforce this behaviour change. A possible replacement is to use pip for package installation. Discussion can be found at https://github.com/pypa/pip/issues/12330\u001b[0m\u001b[33m\n",
      "\u001b[0m\u001b[33mDEPRECATION: Loading egg at /usr/local/lib/python3.12/dist-packages/nvfuser-0.2.23a0+6627725-py3.12-linux-x86_64.egg is deprecated. pip 25.1 will enforce this behaviour change. A possible replacement is to use pip for package installation. Discussion can be found at https://github.com/pypa/pip/issues/12330\u001b[0m\u001b[33m\n",
      "\u001b[0m\u001b[33mDEPRECATION: Loading egg at /usr/local/lib/python3.12/dist-packages/lightning_utilities-0.12.0.dev0-py3.12.egg is deprecated. pip 25.1 will enforce this behaviour change. A possible replacement is to use pip for package installation. Discussion can be found at https://github.com/pypa/pip/issues/12330\u001b[0m\u001b[33m\n",
      "\u001b[0m\u001b[33mDEPRECATION: Loading egg at /usr/local/lib/python3.12/dist-packages/lightning_thunder-0.2.0.dev0-py3.12.egg is deprecated. pip 25.1 will enforce this behaviour change. A possible replacement is to use pip for package installation. Discussion can be found at https://github.com/pypa/pip/issues/12330\u001b[0m\u001b[33m\n",
      "\u001b[0m\u001b[33mDEPRECATION: Loading egg at /usr/local/lib/python3.12/dist-packages/dill-0.3.9-py3.12.egg is deprecated. pip 25.1 will enforce this behaviour change. A possible replacement is to use pip for package installation. Discussion can be found at https://github.com/pypa/pip/issues/12330\u001b[0m\u001b[33m\n",
      "\u001b[0mLooking in indexes: https://pypi.org/simple, https://pypi.ngc.nvidia.com\n",
      "Requirement already satisfied: cellxgene-census in /usr/local/lib/python3.12/dist-packages (1.16.2)\n",
      "Requirement already satisfied: tiledbsoma!=1.14.1,>=1.12.3 in /usr/local/lib/python3.12/dist-packages (from cellxgene-census) (1.16.1)\n",
      "Requirement already satisfied: anndata in /usr/local/lib/python3.12/dist-packages (from cellxgene-census) (0.11.4)\n",
      "Requirement already satisfied: numpy<2.0,>=1.23 in /usr/local/lib/python3.12/dist-packages (from cellxgene-census) (1.26.4)\n",
      "Requirement already satisfied: requests in /usr/local/lib/python3.12/dist-packages (from cellxgene-census) (2.32.3)\n",
      "Requirement already satisfied: typing-extensions in /usr/local/lib/python3.12/dist-packages (from cellxgene-census) (4.12.2)\n",
      "Requirement already satisfied: s3fs>=2021.06.1 in /usr/local/lib/python3.12/dist-packages (from cellxgene-census) (2024.10.0)\n",
      "Requirement already satisfied: aiobotocore<3.0.0,>=2.5.4 in /usr/local/lib/python3.12/dist-packages (from s3fs>=2021.06.1->cellxgene-census) (2.13.3)\n",
      "Requirement already satisfied: fsspec==2024.10.0.* in /usr/local/lib/python3.12/dist-packages (from s3fs>=2021.06.1->cellxgene-census) (2024.10.0)\n",
      "Requirement already satisfied: aiohttp!=4.0.0a0,!=4.0.0a1 in /usr/local/lib/python3.12/dist-packages (from s3fs>=2021.06.1->cellxgene-census) (3.11.10)\n",
      "Requirement already satisfied: attrs>=22.2 in /usr/local/lib/python3.12/dist-packages (from tiledbsoma!=1.14.1,>=1.12.3->cellxgene-census) (24.2.0)\n",
      "Requirement already satisfied: pandas in /usr/local/lib/python3.12/dist-packages (from tiledbsoma!=1.14.1,>=1.12.3->cellxgene-census) (2.2.2)\n",
      "Requirement already satisfied: pyarrow in /usr/local/lib/python3.12/dist-packages (from tiledbsoma!=1.14.1,>=1.12.3->cellxgene-census) (17.0.0)\n",
      "Requirement already satisfied: scanpy>=1.9.2 in /usr/local/lib/python3.12/dist-packages (from tiledbsoma!=1.14.1,>=1.12.3->cellxgene-census) (1.10.4)\n",
      "Requirement already satisfied: scipy in /usr/local/lib/python3.12/dist-packages (from tiledbsoma!=1.14.1,>=1.12.3->cellxgene-census) (1.14.1)\n",
      "Requirement already satisfied: somacore==1.0.28 in /usr/local/lib/python3.12/dist-packages (from tiledbsoma!=1.14.1,>=1.12.3->cellxgene-census) (1.0.28)\n",
      "Requirement already satisfied: pyarrow-hotfix in /usr/local/lib/python3.12/dist-packages (from somacore==1.0.28->tiledbsoma!=1.14.1,>=1.12.3->cellxgene-census) (0.6)\n",
      "Requirement already satisfied: shapely in /usr/local/lib/python3.12/dist-packages (from somacore==1.0.28->tiledbsoma!=1.14.1,>=1.12.3->cellxgene-census) (2.0.7)\n",
      "Requirement already satisfied: array-api-compat!=1.5,>1.4 in /usr/local/lib/python3.12/dist-packages (from anndata->cellxgene-census) (1.11.2)\n",
      "Requirement already satisfied: h5py>=3.7 in /usr/local/lib/python3.12/dist-packages (from anndata->cellxgene-census) (3.13.0)\n",
      "Requirement already satisfied: natsort in /usr/local/lib/python3.12/dist-packages (from anndata->cellxgene-census) (8.4.0)\n",
      "Requirement already satisfied: packaging>=24.2 in /usr/local/lib/python3.12/dist-packages (from anndata->cellxgene-census) (24.2)\n",
      "Requirement already satisfied: charset-normalizer<4,>=2 in /usr/local/lib/python3.12/dist-packages (from requests->cellxgene-census) (3.4.1)\n",
      "Requirement already satisfied: idna<4,>=2.5 in /usr/local/lib/python3.12/dist-packages (from requests->cellxgene-census) (3.10)\n",
      "Requirement already satisfied: urllib3<3,>=1.21.1 in /usr/local/lib/python3.12/dist-packages (from requests->cellxgene-census) (2.3.0)\n",
      "Requirement already satisfied: certifi>=2017.4.17 in /usr/local/lib/python3.12/dist-packages (from requests->cellxgene-census) (2024.12.14)\n",
      "Requirement already satisfied: botocore<1.34.163,>=1.34.70 in /usr/local/lib/python3.12/dist-packages (from aiobotocore<3.0.0,>=2.5.4->s3fs>=2021.06.1->cellxgene-census) (1.34.151)\n",
      "Requirement already satisfied: wrapt<2.0.0,>=1.10.10 in /usr/local/lib/python3.12/dist-packages (from aiobotocore<3.0.0,>=2.5.4->s3fs>=2021.06.1->cellxgene-census) (1.17.2)\n",
      "Requirement already satisfied: aioitertools<1.0.0,>=0.5.1 in /usr/local/lib/python3.12/dist-packages (from aiobotocore<3.0.0,>=2.5.4->s3fs>=2021.06.1->cellxgene-census) (0.12.0)\n",
      "Requirement already satisfied: aiohappyeyeballs>=2.3.0 in /usr/local/lib/python3.12/dist-packages (from aiohttp!=4.0.0a0,!=4.0.0a1->s3fs>=2021.06.1->cellxgene-census) (2.4.4)\n",
      "Requirement already satisfied: aiosignal>=1.1.2 in /usr/local/lib/python3.12/dist-packages (from aiohttp!=4.0.0a0,!=4.0.0a1->s3fs>=2021.06.1->cellxgene-census) (1.3.2)\n",
      "Requirement already satisfied: frozenlist>=1.1.1 in /usr/local/lib/python3.12/dist-packages (from aiohttp!=4.0.0a0,!=4.0.0a1->s3fs>=2021.06.1->cellxgene-census) (1.5.0)\n",
      "Requirement already satisfied: multidict<7.0,>=4.5 in /usr/local/lib/python3.12/dist-packages (from aiohttp!=4.0.0a0,!=4.0.0a1->s3fs>=2021.06.1->cellxgene-census) (6.1.0)\n",
      "Requirement already satisfied: propcache>=0.2.0 in /usr/local/lib/python3.12/dist-packages (from aiohttp!=4.0.0a0,!=4.0.0a1->s3fs>=2021.06.1->cellxgene-census) (0.2.1)\n",
      "Requirement already satisfied: yarl<2.0,>=1.17.0 in /usr/local/lib/python3.12/dist-packages (from aiohttp!=4.0.0a0,!=4.0.0a1->s3fs>=2021.06.1->cellxgene-census) (1.18.3)\n",
      "Requirement already satisfied: python-dateutil>=2.8.2 in /usr/local/lib/python3.12/dist-packages (from pandas->tiledbsoma!=1.14.1,>=1.12.3->cellxgene-census) (2.9.0.post0)\n",
      "Requirement already satisfied: pytz>=2020.1 in /usr/local/lib/python3.12/dist-packages (from pandas->tiledbsoma!=1.14.1,>=1.12.3->cellxgene-census) (2023.4)\n",
      "Requirement already satisfied: tzdata>=2022.7 in /usr/local/lib/python3.12/dist-packages (from pandas->tiledbsoma!=1.14.1,>=1.12.3->cellxgene-census) (2024.2)\n",
      "Requirement already satisfied: joblib in /usr/local/lib/python3.12/dist-packages (from scanpy>=1.9.2->tiledbsoma!=1.14.1,>=1.12.3->cellxgene-census) (1.4.2)\n",
      "Requirement already satisfied: legacy-api-wrap>=1.4 in /usr/local/lib/python3.12/dist-packages (from scanpy>=1.9.2->tiledbsoma!=1.14.1,>=1.12.3->cellxgene-census) (1.4.1)\n",
      "Requirement already satisfied: matplotlib>=3.6 in /usr/local/lib/python3.12/dist-packages (from scanpy>=1.9.2->tiledbsoma!=1.14.1,>=1.12.3->cellxgene-census) (3.10.0)\n",
      "Requirement already satisfied: networkx>=2.7 in /usr/local/lib/python3.12/dist-packages (from scanpy>=1.9.2->tiledbsoma!=1.14.1,>=1.12.3->cellxgene-census) (3.4.2)\n",
      "Requirement already satisfied: numba>=0.56 in /usr/local/lib/python3.12/dist-packages (from scanpy>=1.9.2->tiledbsoma!=1.14.1,>=1.12.3->cellxgene-census) (0.61.0)\n",
      "Requirement already satisfied: patsy!=1.0.0 in /usr/local/lib/python3.12/dist-packages (from scanpy>=1.9.2->tiledbsoma!=1.14.1,>=1.12.3->cellxgene-census) (1.0.1)\n",
      "Requirement already satisfied: pynndescent>=0.5 in /usr/local/lib/python3.12/dist-packages (from scanpy>=1.9.2->tiledbsoma!=1.14.1,>=1.12.3->cellxgene-census) (0.5.13)\n",
      "Requirement already satisfied: scikit-learn>=1.1 in /usr/local/lib/python3.12/dist-packages (from scanpy>=1.9.2->tiledbsoma!=1.14.1,>=1.12.3->cellxgene-census) (1.6.1)\n",
      "Requirement already satisfied: seaborn>=0.13 in /usr/local/lib/python3.12/dist-packages (from scanpy>=1.9.2->tiledbsoma!=1.14.1,>=1.12.3->cellxgene-census) (0.13.2)\n",
      "Requirement already satisfied: session-info in /usr/local/lib/python3.12/dist-packages (from scanpy>=1.9.2->tiledbsoma!=1.14.1,>=1.12.3->cellxgene-census) (1.0.0)\n",
      "Requirement already satisfied: statsmodels>=0.13 in /usr/local/lib/python3.12/dist-packages (from scanpy>=1.9.2->tiledbsoma!=1.14.1,>=1.12.3->cellxgene-census) (0.14.4)\n",
      "Requirement already satisfied: tqdm in /usr/local/lib/python3.12/dist-packages (from scanpy>=1.9.2->tiledbsoma!=1.14.1,>=1.12.3->cellxgene-census) (4.67.1)\n",
      "Requirement already satisfied: umap-learn!=0.5.0,>=0.5 in /usr/local/lib/python3.12/dist-packages (from scanpy>=1.9.2->tiledbsoma!=1.14.1,>=1.12.3->cellxgene-census) (0.5.7)\n",
      "Requirement already satisfied: jmespath<2.0.0,>=0.7.1 in /usr/local/lib/python3.12/dist-packages (from botocore<1.34.163,>=1.34.70->aiobotocore<3.0.0,>=2.5.4->s3fs>=2021.06.1->cellxgene-census) (1.0.1)\n",
      "Requirement already satisfied: contourpy>=1.0.1 in /usr/local/lib/python3.12/dist-packages (from matplotlib>=3.6->scanpy>=1.9.2->tiledbsoma!=1.14.1,>=1.12.3->cellxgene-census) (1.3.1)\n",
      "Requirement already satisfied: cycler>=0.10 in /usr/local/lib/python3.12/dist-packages (from matplotlib>=3.6->scanpy>=1.9.2->tiledbsoma!=1.14.1,>=1.12.3->cellxgene-census) (0.12.1)\n",
      "Requirement already satisfied: fonttools>=4.22.0 in /usr/local/lib/python3.12/dist-packages (from matplotlib>=3.6->scanpy>=1.9.2->tiledbsoma!=1.14.1,>=1.12.3->cellxgene-census) (4.55.3)\n",
      "Requirement already satisfied: kiwisolver>=1.3.1 in /usr/local/lib/python3.12/dist-packages (from matplotlib>=3.6->scanpy>=1.9.2->tiledbsoma!=1.14.1,>=1.12.3->cellxgene-census) (1.4.8)\n",
      "Requirement already satisfied: pillow>=8 in /usr/local/lib/python3.12/dist-packages (from matplotlib>=3.6->scanpy>=1.9.2->tiledbsoma!=1.14.1,>=1.12.3->cellxgene-census) (11.1.0)\n",
      "Requirement already satisfied: pyparsing>=2.3.1 in /usr/local/lib/python3.12/dist-packages (from matplotlib>=3.6->scanpy>=1.9.2->tiledbsoma!=1.14.1,>=1.12.3->cellxgene-census) (3.2.1)\n",
      "Requirement already satisfied: llvmlite<0.45,>=0.44.0dev0 in /usr/local/lib/python3.12/dist-packages (from numba>=0.56->scanpy>=1.9.2->tiledbsoma!=1.14.1,>=1.12.3->cellxgene-census) (0.44.0)\n",
      "Requirement already satisfied: six>=1.5 in /usr/local/lib/python3.12/dist-packages (from python-dateutil>=2.8.2->pandas->tiledbsoma!=1.14.1,>=1.12.3->cellxgene-census) (1.17.0)\n",
      "Requirement already satisfied: threadpoolctl>=3.1.0 in /usr/local/lib/python3.12/dist-packages (from scikit-learn>=1.1->scanpy>=1.9.2->tiledbsoma!=1.14.1,>=1.12.3->cellxgene-census) (3.5.0)\n",
      "Requirement already satisfied: stdlib-list in /usr/local/lib/python3.12/dist-packages (from session-info->scanpy>=1.9.2->tiledbsoma!=1.14.1,>=1.12.3->cellxgene-census) (0.11.1)\n",
      "\n",
      "\u001b[1m[\u001b[0m\u001b[34;49mnotice\u001b[0m\u001b[1;39;49m]\u001b[0m\u001b[39;49m A new release of pip is available: \u001b[0m\u001b[31;49m24.3.1\u001b[0m\u001b[39;49m -> \u001b[0m\u001b[32;49m25.0.1\u001b[0m\n",
      "\u001b[1m[\u001b[0m\u001b[34;49mnotice\u001b[0m\u001b[1;39;49m]\u001b[0m\u001b[39;49m To update, run: \u001b[0m\u001b[32;49mpython -m pip install --upgrade pip\u001b[0m\n"
     ]
    }
   ],
   "source": [
    "!pip install cellxgene-census"
   ]
  },
  {
   "cell_type": "code",
   "execution_count": 2,
   "id": "24f579ac-0207-4e07-8f34-dac0cd955c53",
   "metadata": {
    "tags": []
   },
   "outputs": [],
   "source": [
    "# Below are paths required for setting up pre-training and inference.\n",
    "tutorial_data_dir = \"/workspace/bionemo2/data/singlecell_tutorial/download_anndata\"\n",
    "train_tutorial_data_dir = \"/workspace/bionemo2/data/singlecell_tutorial/download_anndata/train\"\n",
    "val_tutorial_data_dir = \"/workspace/bionemo2/data/singlecell_tutorial/download_anndata/val\"\n",
    "test_tutorial_data_dir = \"/workspace/bionemo2/data/singlecell_tutorial/download_anndata/test\"\n",
    "\n",
    "train_tutorial_processed_dir = \"/workspace/bionemo2/data/singlecell_tutorial/processed_data/train\"\n",
    "val_tutorial_processed_dir = \"/workspace/bionemo2/data/singlecell_tutorial/processed_data/val\"\n",
    "test_tutorial_processed_dir = \"/workspace/bionemo2/data/singlecell_tutorial/processed_data/test\"\n",
    "tutorial_output_dir = \"/workspace/bionemo2/data/singlecell_tutorial/inference_output\"\n",
    "tutorial_output_inference_pickle = f\"{tutorial_output_dir}/human_covid19_bcells_from_scratch.pkl\"\n",
    "demo_data_train_download_path = f\"{train_tutorial_data_dir}/human_covid19_bcells.h5ad\"\n",
    "demo_data_val_download_path = f\"{val_tutorial_data_dir}/human_covid19_bcells.h5ad\"\n",
    "demo_data_test_download_path = f\"{test_tutorial_data_dir}/human_covid19_bcells.h5ad\""
   ]
  },
  {
   "cell_type": "code",
   "execution_count": 3,
   "id": "88bd2844-0251-476e-9e3f-8d4e89474f33",
   "metadata": {
    "tags": []
   },
   "outputs": [],
   "source": [
    "!mkdir -p {train_tutorial_data_dir}\n",
    "!mkdir -p {val_tutorial_data_dir}\n",
    "!mkdir -p {test_tutorial_data_dir}\n",
    "!mkdir -p {train_tutorial_processed_dir}\n",
    "!mkdir -p {val_tutorial_processed_dir}\n",
    "!mkdir -p {test_tutorial_processed_dir}\n",
    "!mkdir -p {tutorial_output_dir}"
   ]
  },
  {
   "cell_type": "code",
   "execution_count": 4,
   "id": "6ccf03f0-1590-434e-a314-8ff0a02f5ef2",
   "metadata": {
    "tags": []
   },
   "outputs": [
    {
     "name": "stderr",
     "output_type": "stream",
     "text": [
      "/usr/local/lib/python3.12/dist-packages/optuna/study/_optimize.py:21: TqdmWarning: IProgress not found. Please update jupyter and ipywidgets. See https://ipywidgets.readthedocs.io/en/stable/user_install.html\n",
      "  from optuna import progress_bar as pbar_module\n"
     ]
    }
   ],
   "source": [
    "import cellxgene_census\n",
    "\n",
    "\n",
    "frac_train = 0.8\n",
    "frac_val = 0.1\n",
    "frac_test = 0.1\n",
    "\n",
    "with cellxgene_census.open_soma(census_version=\"2023-12-15\") as census:\n",
    "    filter1 = (\n",
    "        \"cell_type == 'B cell' and tissue_general == 'lung' and disease == 'COVID-19' and is_primary_data == True\"\n",
    "    )\n",
    "\n",
    "    adata = cellxgene_census.get_anndata(\n",
    "        census=census,\n",
    "        organism=\"Homo sapiens\",\n",
    "        obs_value_filter=filter1,\n",
    "    )\n",
    "    n_train = int(adata.shape[0] * frac_train)\n",
    "    n_val = int(adata.shape[0] * frac_val)\n",
    "    n_test = adata.shape[0] - n_train - n_val\n",
    "    # Create some splits, bad practice since ordering may be a thing but let's just take ranges for this demo.\n",
    "    adata_train = adata[0:n_train].copy()\n",
    "    adata_val = adata[n_train : (n_train + n_val)].copy()\n",
    "    adata_test = adata[(n_train + n_val) :].copy()\n",
    "    adata_train.write(demo_data_train_download_path)\n",
    "    adata_val.write(demo_data_val_download_path)\n",
    "    adata_test.write(demo_data_test_download_path)"
   ]
  },
  {
   "cell_type": "code",
   "execution_count": 5,
   "id": "b060e73b-a3f9-4315-ae91-c23b9a29f490",
   "metadata": {
    "tags": []
   },
   "outputs": [],
   "source": [
    "!rm -rf  {train_tutorial_processed_dir}\n",
    "!rm -rf  {val_tutorial_processed_dir}\n",
    "!rm -rf  {test_tutorial_processed_dir}"
   ]
  },
  {
   "cell_type": "code",
   "execution_count": 6,
   "id": "6b076e0f",
   "metadata": {},
   "outputs": [],
   "source": [
    "# Create training data processed directory\n",
    "!convert_h5ad_to_scdl \\\n",
    "  --data-path {train_tutorial_data_dir} \\\n",
    "  --save-path {train_tutorial_processed_dir}\n",
    "\n",
    "# Create validation data processed directory\n",
    "!convert_h5ad_to_scdl \\\n",
    "  --data-path {val_tutorial_data_dir} \\\n",
    "  --save-path {val_tutorial_processed_dir}\n",
    "\n",
    "# Create test data processed directory\n",
    "!convert_h5ad_to_scdl \\\n",
    "  --data-path {test_tutorial_data_dir} \\\n",
    "  --save-path {test_tutorial_processed_dir}"
   ]
  },
  {
   "cell_type": "code",
   "execution_count": 7,
   "id": "bd212acb-9695-4ec4-bff6-8669693118f2",
   "metadata": {
    "tags": []
   },
   "outputs": [
    {
     "name": "stdout",
     "output_type": "stream",
     "text": [
      "total 12M\n",
      "drwxr-xr-x 5 jomitchell domain-users 4.0K Apr  7 19:07 ..\n",
      "-rw-r--r-- 1 jomitchell domain-users   18 Apr  7 19:07 metadata.json\n",
      "drwxr-xr-x 2 jomitchell domain-users 4.0K Apr  7 19:07 features\n",
      "drwxr-xr-x 3 jomitchell domain-users 4.0K Apr  7 19:07 .\n",
      "-rw-r--r-- 1 jomitchell domain-users 5.9M Apr  7 19:07 col_ptr.npy\n",
      "-rw-r--r-- 1 jomitchell domain-users  15K Apr  7 19:07 row_ptr.npy\n",
      "-rw-r--r-- 1 jomitchell domain-users 5.9M Apr  7 19:07 data.npy\n",
      "-rw-r--r-- 1 jomitchell domain-users    7 Apr  7 19:07 version.json\n"
     ]
    }
   ],
   "source": [
    "!ls -laht {train_tutorial_processed_dir}"
   ]
  },
  {
   "cell_type": "markdown",
   "id": "2a43efdd-8ba5-4a3b-8f70-9b5839ec075c",
   "metadata": {},
   "source": [
    "# Pretraining\n",
    "Now that we have converted the h5ad files to scdl memmapped files we can begin training. We will kickoff training.\n",
    "\n",
    "Check the full recipe/config file in `pretrain-recipe-short.yaml` for a complete list of arguments and config parameters."
   ]
  },
  {
   "cell_type": "code",
   "execution_count": 8,
   "id": "ffaf4085",
   "metadata": {},
   "outputs": [
    {
     "data": {
      "text/plain": [
       "{'/workspace/bionemo2/data/singlecell_tutorial/processed_data/train'}"
      ]
     },
     "execution_count": 8,
     "metadata": {},
     "output_type": "execute_result"
    }
   ],
   "source": [
    "# See where the processed data is stored\n",
    "{train_tutorial_processed_dir}"
   ]
  },
  {
   "cell_type": "code",
   "execution_count": 9,
   "id": "b7ac56b9",
   "metadata": {},
   "outputs": [
    {
     "name": "stdout",
     "output_type": "stream",
     "text": [
      "[NeMo W 2025-04-07 19:07:32 nemo_logging:405] /usr/local/lib/python3.12/dist-packages/pydub/utils.py:170: RuntimeWarning: Couldn't find ffmpeg or avconv - defaulting to ffmpeg, but may not work\n",
      "      warn(\"Couldn't find ffmpeg or avconv - defaulting to ffmpeg, but may not work\", RuntimeWarning)\n",
      "    \n",
      "[WARNING  | py.warnings        ]: /usr/local/lib/python3.12/dist-packages/mamba_ssm/ops/selective_scan_interface.py:163: FutureWarning: `torch.cuda.amp.custom_fwd(args...)` is deprecated. Please use `torch.amp.custom_fwd(args..., device_type='cuda')` instead.\n",
      "  @custom_fwd\n",
      "\n",
      "[WARNING  | py.warnings        ]: /usr/local/lib/python3.12/dist-packages/mamba_ssm/ops/selective_scan_interface.py:239: FutureWarning: `torch.cuda.amp.custom_bwd(args...)` is deprecated. Please use `torch.amp.custom_bwd(args..., device_type='cuda')` instead.\n",
      "  @custom_bwd\n",
      "\n",
      "[WARNING  | py.warnings        ]: /usr/local/lib/python3.12/dist-packages/mamba_ssm/ops/triton/layer_norm.py:985: FutureWarning: `torch.cuda.amp.custom_fwd(args...)` is deprecated. Please use `torch.amp.custom_fwd(args..., device_type='cuda')` instead.\n",
      "  @custom_fwd\n",
      "\n",
      "[WARNING  | py.warnings        ]: /usr/local/lib/python3.12/dist-packages/mamba_ssm/ops/triton/layer_norm.py:1044: FutureWarning: `torch.cuda.amp.custom_bwd(args...)` is deprecated. Please use `torch.amp.custom_bwd(args..., device_type='cuda')` instead.\n",
      "  @custom_bwd\n",
      "\n",
      "[WARNING  | py.warnings        ]: /usr/local/lib/python3.12/dist-packages/mamba_ssm/distributed/tensor_parallel.py:25: FutureWarning: `torch.cuda.amp.custom_fwd(args...)` is deprecated. Please use `torch.amp.custom_fwd(args..., device_type='cuda')` instead.\n",
      "  @custom_fwd\n",
      "\n",
      "[WARNING  | py.warnings        ]: /usr/local/lib/python3.12/dist-packages/mamba_ssm/distributed/tensor_parallel.py:61: FutureWarning: `torch.cuda.amp.custom_bwd(args...)` is deprecated. Please use `torch.amp.custom_bwd(args..., device_type='cuda')` instead.\n",
      "  @custom_bwd\n",
      "\n",
      "[WARNING  | py.warnings        ]: /usr/local/lib/python3.12/dist-packages/mamba_ssm/ops/triton/ssd_combined.py:757: FutureWarning: `torch.cuda.amp.custom_fwd(args...)` is deprecated. Please use `torch.amp.custom_fwd(args..., device_type='cuda')` instead.\n",
      "  @custom_fwd\n",
      "\n",
      "[WARNING  | py.warnings        ]: /usr/local/lib/python3.12/dist-packages/mamba_ssm/ops/triton/ssd_combined.py:835: FutureWarning: `torch.cuda.amp.custom_bwd(args...)` is deprecated. Please use `torch.amp.custom_bwd(args..., device_type='cuda')` instead.\n",
      "  @custom_bwd\n",
      "\n",
      "[NeMo I 2025-04-07 19:07:35 nemo_logging:393] Saved configuration to args.dest='pretrain-recipe-short.yaml'\n"
     ]
    }
   ],
   "source": [
    "# Create the recipe file\n",
    "!bionemo-geneformer-recipe --recipe geneformer_10m_shortpretrain_recipe --dest pretrain-recipe-short.yaml --result-dir /workspace/bionemo2/results --data-path /workspace/bionemo2/data/singlecell_tutorial/processed_data/"
   ]
  },
  {
   "cell_type": "code",
   "execution_count": 10,
   "id": "a8cfe4a6",
   "metadata": {},
   "outputs": [
    {
     "name": "stdout",
     "output_type": "stream",
     "text": [
      "[NeMo W 2025-04-07 19:07:46 nemo_logging:405] /usr/local/lib/python3.12/dist-packages/pydub/utils.py:170: RuntimeWarning: Couldn't find ffmpeg or avconv - defaulting to ffmpeg, but may not work\n",
      "      warn(\"Couldn't find ffmpeg or avconv - defaulting to ffmpeg, but may not work\", RuntimeWarning)\n",
      "    \n",
      "[WARNING  | py.warnings        ]: /usr/local/lib/python3.12/dist-packages/mamba_ssm/ops/selective_scan_interface.py:163: FutureWarning: `torch.cuda.amp.custom_fwd(args...)` is deprecated. Please use `torch.amp.custom_fwd(args..., device_type='cuda')` instead.\n",
      "  @custom_fwd\n",
      "\n",
      "[WARNING  | py.warnings        ]: /usr/local/lib/python3.12/dist-packages/mamba_ssm/ops/selective_scan_interface.py:239: FutureWarning: `torch.cuda.amp.custom_bwd(args...)` is deprecated. Please use `torch.amp.custom_bwd(args..., device_type='cuda')` instead.\n",
      "  @custom_bwd\n",
      "\n",
      "[WARNING  | py.warnings        ]: /usr/local/lib/python3.12/dist-packages/mamba_ssm/ops/triton/layer_norm.py:985: FutureWarning: `torch.cuda.amp.custom_fwd(args...)` is deprecated. Please use `torch.amp.custom_fwd(args..., device_type='cuda')` instead.\n",
      "  @custom_fwd\n",
      "\n",
      "[WARNING  | py.warnings        ]: /usr/local/lib/python3.12/dist-packages/mamba_ssm/ops/triton/layer_norm.py:1044: FutureWarning: `torch.cuda.amp.custom_bwd(args...)` is deprecated. Please use `torch.amp.custom_bwd(args..., device_type='cuda')` instead.\n",
      "  @custom_bwd\n",
      "\n",
      "[WARNING  | py.warnings        ]: /usr/local/lib/python3.12/dist-packages/mamba_ssm/distributed/tensor_parallel.py:25: FutureWarning: `torch.cuda.amp.custom_fwd(args...)` is deprecated. Please use `torch.amp.custom_fwd(args..., device_type='cuda')` instead.\n",
      "  @custom_fwd\n",
      "\n",
      "[WARNING  | py.warnings        ]: /usr/local/lib/python3.12/dist-packages/mamba_ssm/distributed/tensor_parallel.py:61: FutureWarning: `torch.cuda.amp.custom_bwd(args...)` is deprecated. Please use `torch.amp.custom_bwd(args..., device_type='cuda')` instead.\n",
      "  @custom_bwd\n",
      "\n",
      "[WARNING  | py.warnings        ]: /usr/local/lib/python3.12/dist-packages/mamba_ssm/ops/triton/ssd_combined.py:757: FutureWarning: `torch.cuda.amp.custom_fwd(args...)` is deprecated. Please use `torch.amp.custom_fwd(args..., device_type='cuda')` instead.\n",
      "  @custom_fwd\n",
      "\n",
      "[WARNING  | py.warnings        ]: /usr/local/lib/python3.12/dist-packages/mamba_ssm/ops/triton/ssd_combined.py:835: FutureWarning: `torch.cuda.amp.custom_bwd(args...)` is deprecated. Please use `torch.amp.custom_bwd(args..., device_type='cuda')` instead.\n",
      "  @custom_bwd\n",
      "\n",
      "[NeMo I 2025-04-07 19:07:49 nemo_logging:393] Downloading resource: https://huggingface.co/ctheodoris/Geneformer/resolve/main/geneformer/gene_dictionaries_30m/gene_name_id_dict_gc30M.pkl?download=true\n",
      "[NeMo I 2025-04-07 19:07:49 nemo_logging:393] No checksum provided, filename exists. Assuming it is complete.\n",
      "[NeMo I 2025-04-07 19:07:49 nemo_logging:393] Downloading resource: https://huggingface.co/ctheodoris/Geneformer/resolve/main/geneformer/gene_dictionaries_30m/gene_median_dictionary_gc30M.pkl?download=true\n",
      "[NeMo I 2025-04-07 19:07:49 nemo_logging:393] No checksum provided, filename exists. Assuming it is complete.\n",
      "[NeMo I 2025-04-07 19:07:49 nemo_logging:393] *************** Preprocessing Finished ************\n",
      "[INFO     | pytorch_lightning.utilities.rank_zero]: Trainer already configured with model summary callbacks: [<class 'lightning.pytorch.callbacks.rich_model_summary.RichModelSummary'>]. Skipping setting a default `ModelSummary` callback.\n",
      "[INFO     | pytorch_lightning.utilities.rank_zero]: GPU available: True (cuda), used: True\n",
      "[INFO     | pytorch_lightning.utilities.rank_zero]: TPU available: False, using: 0 TPU cores\n",
      "[INFO     | pytorch_lightning.utilities.rank_zero]: HPU available: False, using: 0 HPUs\n",
      "[NeMo W 2025-04-07 19:07:49 nemo_logging:405] User-set tensorboard is currently turned off. Internally one may still be set by NeMo2.\n",
      "[NeMo I 2025-04-07 19:07:49 nemo_logging:393] Experiments will be logged at /workspace/bionemo2/results/geneformer-10m/dev\n",
      "[NeMo W 2025-04-07 19:07:49 nemo_logging:405] The Trainer already contains a ModelCheckpoint callback. This will be overwritten.\n",
      "Traceback (most recent call last):\n",
      "  File \"/workspace/bionemo2/sub-packages/bionemo-geneformer/src/bionemo/geneformer/run/main.py\", line 158, in <module>\n",
      "    main()\n",
      "  File \"/workspace/bionemo2/sub-packages/bionemo-geneformer/src/bionemo/geneformer/run/main.py\", line 144, in main\n",
      "    train(\n",
      "  File \"/workspace/bionemo2/sub-packages/bionemo-llm/src/bionemo/llm/train.py\", line 259, in train\n",
      "    llm.train(\n",
      "  File \"/workspace/bionemo2/3rdparty/NeMo/nemo/collections/llm/api.py\", line 98, in train\n",
      "    app_state = _setup(\n",
      "                ^^^^^^^\n",
      "  File \"/workspace/bionemo2/3rdparty/NeMo/nemo/collections/llm/api.py\", line 924, in _setup\n",
      "    resume.setup(trainer, model)\n",
      "  File \"/workspace/bionemo2/3rdparty/NeMo/nemo/lightning/resume.py\", line 108, in setup\n",
      "    model = _try_restore_tokenizer(model, os.path.join(trainer_ckpt_path.parent, \"context\"))\n",
      "                                                       ^^^^^^^^^^^^^^^^^^^^^^^^\n",
      "AttributeError: 'NoneType' object has no attribute 'parent'\n"
     ]
    }
   ],
   "source": [
    "# Run pretraining using the short recipe\n",
    "!python /workspace/bionemo2/sub-packages/bionemo-geneformer/src/bionemo/geneformer/run/main.py \\\n",
    "--config /workspace/bionemo2/docs/docs/user-guide/examples/bionemo-geneformer/pretrain-recipe-short.yaml"
   ]
  },
  {
   "cell_type": "markdown",
   "id": "d23771e9-0dd6-414e-8cd0-5cd9a9dd4a6b",
   "metadata": {},
   "source": [
    "# Running inference.\n",
    "\n",
    "We can see from the above training job that the model was trained 1000 steps. At the end of training, the experiment manager leaves a message about where the resulting `.ckpt` checkpoint is written. This file is used for finetuning, inference, or training from an existing set of model weights. See the example produced below from our run:\n",
    "\n",
    "```text\n",
    "[NeMo I 2025-03-11 20:32:11 nemo_logging:393] Global Checkpoint Save : Rank: 0 : Iteration: 499 : Start time: 1741725131.041s : Save duration: 0.014s\n",
    "[NeMo I 2025-03-11 20:32:14 nemo_logging:393] Scheduled async checkpoint save for /workspace/bionemo2/results/geneformer-10m/dev/checkpoints/epoch=0-val_loss=8.28-step=499-consumed_samples=4000.0.ckpt\n",
    "[NeMo I 2025-03-11 20:32:14 nemo_logging:393] Global Checkpoint Save : Rank: 0 : Iteration: 499 : Start time: 1741725134.016s : Save duration: 0.013s\n",
    "[NeMo I 2025-03-11 20:32:16 nemo_logging:393] Scheduled async checkpoint save for /workspace/bionemo2/results/geneformer-10m/dev/checkpoints/epoch=0-val_loss=8.28-step=499-consumed_samples=4000.0-last.ckpt\n",
    "[NeMo I 2025-03-11 20:32:17 nemo_logging:393] Successfully saved checkpoint from iteration     499 to /workspace/bionemo2/results/geneformer-10m/dev/checkpoints/epoch=0-val_loss=8.28-step=499-consumed_samples=4000.0.ckpt\n",
    "[NeMo I 2025-03-11 20:32:17 nemo_logging:393] Async checkpoint save for step 500 (/workspace/bionemo2/results/geneformer-10m/dev/checkpoints/epoch=0-val_loss=8.28-step=499-consumed_samples=4000.0.ckpt) finalized successfully.\n",
    "[NeMo I 2025-03-11 20:32:17 nemo_logging:393] Successfully saved checkpoint from iteration     499 to /workspace/bionemo2/results/geneformer-10m/dev/checkpoints/epoch=0-val_loss=8.28-step=499-consumed_samples=4000.0-last.ckpt\n",
    "[NeMo I 2025-03-11 20:32:17 nemo_logging:393] Async checkpoint save for step 500 (/workspace/bionemo2/results/geneformer-10m/dev/checkpoints/epoch=0-val_loss=8.28-step=499-consumed_samples=4000.0-last.ckpt) finalized successfully.\n",
    "[NeMo I 2025-03-11 20:32:17 nemo_logging:393] Async finalization time took 0.090 s\n",
    "```\n",
    "\n",
    "We will take the `.ckpt` file logged:\n",
    "`/workspace/bionemo2/results/geneformer-10m/dev/checkpoints/epoch=0-val_loss=8.28-step=499-consumed_samples=4000.0-last`\n",
    "\n",
    "and use this for inference."
   ]
  },
  {
   "cell_type": "code",
   "execution_count": 11,
   "id": "1b11a330-b8f6-491a-b608-fe47e78f83ba",
   "metadata": {
    "tags": []
   },
   "outputs": [],
   "source": [
    "# pretrained_nemo_file = '/workspace/bionemo/data/singlecell_tutorial/inference_output/geneformer/2024-05-13_16-53-24/checkpoints/geneformer.nemo'\n",
    "pretrained_checkpoint_path = \"/workspace/bionemo2/results/geneformer-10m/dev/checkpoints/epoch=0-val_loss=8.28-step=499-consumed_samples=4000.0-last\""
   ]
  },
  {
   "cell_type": "code",
   "execution_count": 12,
   "id": "c70c62ec",
   "metadata": {},
   "outputs": [
    {
     "name": "stdout",
     "output_type": "stream",
     "text": [
      "[NeMo W 2025-04-07 19:08:01 nemo_logging:405] /usr/local/lib/python3.12/dist-packages/pydub/utils.py:170: RuntimeWarning: Couldn't find ffmpeg or avconv - defaulting to ffmpeg, but may not work\n",
      "      warn(\"Couldn't find ffmpeg or avconv - defaulting to ffmpeg, but may not work\", RuntimeWarning)\n",
      "    \n",
      "[WARNING  | py.warnings        ]: /usr/local/lib/python3.12/dist-packages/mamba_ssm/ops/selective_scan_interface.py:163: FutureWarning: `torch.cuda.amp.custom_fwd(args...)` is deprecated. Please use `torch.amp.custom_fwd(args..., device_type='cuda')` instead.\n",
      "  @custom_fwd\n",
      "\n",
      "[WARNING  | py.warnings        ]: /usr/local/lib/python3.12/dist-packages/mamba_ssm/ops/selective_scan_interface.py:239: FutureWarning: `torch.cuda.amp.custom_bwd(args...)` is deprecated. Please use `torch.amp.custom_bwd(args..., device_type='cuda')` instead.\n",
      "  @custom_bwd\n",
      "\n",
      "[WARNING  | py.warnings        ]: /usr/local/lib/python3.12/dist-packages/mamba_ssm/ops/triton/layer_norm.py:985: FutureWarning: `torch.cuda.amp.custom_fwd(args...)` is deprecated. Please use `torch.amp.custom_fwd(args..., device_type='cuda')` instead.\n",
      "  @custom_fwd\n",
      "\n",
      "[WARNING  | py.warnings        ]: /usr/local/lib/python3.12/dist-packages/mamba_ssm/ops/triton/layer_norm.py:1044: FutureWarning: `torch.cuda.amp.custom_bwd(args...)` is deprecated. Please use `torch.amp.custom_bwd(args..., device_type='cuda')` instead.\n",
      "  @custom_bwd\n",
      "\n",
      "[WARNING  | py.warnings        ]: /usr/local/lib/python3.12/dist-packages/mamba_ssm/distributed/tensor_parallel.py:25: FutureWarning: `torch.cuda.amp.custom_fwd(args...)` is deprecated. Please use `torch.amp.custom_fwd(args..., device_type='cuda')` instead.\n",
      "  @custom_fwd\n",
      "\n",
      "[WARNING  | py.warnings        ]: /usr/local/lib/python3.12/dist-packages/mamba_ssm/distributed/tensor_parallel.py:61: FutureWarning: `torch.cuda.amp.custom_bwd(args...)` is deprecated. Please use `torch.amp.custom_bwd(args..., device_type='cuda')` instead.\n",
      "  @custom_bwd\n",
      "\n",
      "[WARNING  | py.warnings        ]: /usr/local/lib/python3.12/dist-packages/mamba_ssm/ops/triton/ssd_combined.py:757: FutureWarning: `torch.cuda.amp.custom_fwd(args...)` is deprecated. Please use `torch.amp.custom_fwd(args..., device_type='cuda')` instead.\n",
      "  @custom_fwd\n",
      "\n",
      "[WARNING  | py.warnings        ]: /usr/local/lib/python3.12/dist-packages/mamba_ssm/ops/triton/ssd_combined.py:835: FutureWarning: `torch.cuda.amp.custom_bwd(args...)` is deprecated. Please use `torch.amp.custom_bwd(args..., device_type='cuda')` instead.\n",
      "  @custom_bwd\n",
      "\n",
      "[NeMo W 2025-04-07 19:08:06 nemo_logging:405] Tokenizer vocab file: /workspace/bionemo2/.cache/bionemo/d8e3ea569bc43768c24aa651aff77722df202078415528497c22394046b08cc3-singlecell-scdltestdata-20241203.tar.gz.untar/cellxgene_2023-12-15_small_processed_scdl/train/geneformer.vocab already exists. Overwriting...\n",
      "[NeMo I 2025-04-07 19:08:06 nemo_logging:393] No checksum provided, filename exists. Assuming it is complete.\n",
      "[NeMo I 2025-04-07 19:08:06 nemo_logging:393] Resource already exists, skipping download: https://huggingface.co/ctheodoris/Geneformer/resolve/main/geneformer/gene_dictionaries_30m/gene_name_id_dict_gc30M.pkl?download=true\n",
      "[NeMo I 2025-04-07 19:08:06 nemo_logging:393] No checksum provided, filename exists. Assuming it is complete.\n",
      "[NeMo I 2025-04-07 19:08:06 nemo_logging:393] No checksum provided, filename exists. Assuming it is complete.\n",
      "[NeMo I 2025-04-07 19:08:06 nemo_logging:393] Resource already exists, skipping download: https://huggingface.co/ctheodoris/Geneformer/resolve/main/geneformer/gene_dictionaries_30m/gene_median_dictionary_gc30M.pkl?download=true\n",
      "[NeMo I 2025-04-07 19:08:06 nemo_logging:393] No checksum provided, filename exists. Assuming it is complete.\n",
      "[NeMo I 2025-04-07 19:08:06 nemo_logging:393] *************** Preprocessing Finished ************\n",
      "[INFO     | pytorch_lightning.utilities.rank_zero]: GPU available: True (cuda), used: True\n",
      "[INFO     | pytorch_lightning.utilities.rank_zero]: TPU available: False, using: 0 TPU cores\n",
      "[INFO     | pytorch_lightning.utilities.rank_zero]: HPU available: False, using: 0 HPUs\n",
      "[NeMo I 2025-04-07 19:08:06 nemo_logging:393] Fixing mis-match between ddp-config & mcore-optimizer config\n",
      "[NeMo I 2025-04-07 19:08:06 nemo_logging:393] Rank 0 has data parallel group : [0]\n",
      "[NeMo I 2025-04-07 19:08:06 nemo_logging:393] Rank 0 has combined group of data parallel and context parallel : [0]\n",
      "[NeMo I 2025-04-07 19:08:06 nemo_logging:393] All data parallel group ranks with context parallel combined: [[0]]\n",
      "[NeMo I 2025-04-07 19:08:06 nemo_logging:393] Ranks 0 has data parallel rank: 0\n",
      "[NeMo I 2025-04-07 19:08:06 nemo_logging:393] Rank 0 has context parallel group: [0]\n",
      "[NeMo I 2025-04-07 19:08:06 nemo_logging:393] All context parallel group ranks: [[0]]\n",
      "[NeMo I 2025-04-07 19:08:06 nemo_logging:393] Ranks 0 has context parallel rank: 0\n",
      "[NeMo I 2025-04-07 19:08:06 nemo_logging:393] Rank 0 has model parallel group: [0]\n",
      "[NeMo I 2025-04-07 19:08:06 nemo_logging:393] All model parallel group ranks: [[0]]\n",
      "[NeMo I 2025-04-07 19:08:06 nemo_logging:393] Rank 0 has tensor model parallel group: [0]\n",
      "[NeMo I 2025-04-07 19:08:06 nemo_logging:393] All tensor model parallel group ranks: [[0]]\n",
      "[NeMo I 2025-04-07 19:08:06 nemo_logging:393] Rank 0 has tensor model parallel rank: 0\n",
      "[NeMo I 2025-04-07 19:08:06 nemo_logging:393] Rank 0 has pipeline model parallel group: [0]\n",
      "[NeMo I 2025-04-07 19:08:06 nemo_logging:393] Rank 0 has embedding group: [0]\n",
      "[NeMo I 2025-04-07 19:08:06 nemo_logging:393] All pipeline model parallel group ranks: [[0]]\n",
      "[NeMo I 2025-04-07 19:08:06 nemo_logging:393] Rank 0 has pipeline model parallel rank 0\n",
      "[NeMo I 2025-04-07 19:08:06 nemo_logging:393] All embedding group ranks: [[0]]\n",
      "[NeMo I 2025-04-07 19:08:06 nemo_logging:393] Rank 0 has embedding rank: 0\n",
      "Initializing distributed: GLOBAL_RANK: 0, MEMBER: 1/1\n",
      "[INFO     | pytorch_lightning.utilities.rank_zero]: ----------------------------------------------------------------------------------------------------\n",
      "distributed_backend=nccl\n",
      "All distributed processes registered. Starting with 1 processes\n",
      "----------------------------------------------------------------------------------------------------\n",
      "\n",
      "[WARNING  | /workspace/bionemo2/sub-packages/bionemo-llm/src/bionemo/llm/model/config.py]: Loading /workspace/bionemo2/results/geneformer-10m/dev/checkpoints/epoch=0-val_loss=8.28-step=499-consumed_samples=4000.0-last\n",
      "[WARNING  | py.warnings        ]: /workspace/bionemo2/3rdparty/Megatron-LM/megatron/core/models/bert/bert_layer_specs.py:79: UserWarning: Attribute bert_layer_specs.bert_layer_with_transformer_engine_spec is on a\n",
      "            deprecation track and will be removed in future releases. Please migrate to\n",
      "            bert_layer_specs.get_bert_layer_with_transformer_engine_spec().\n",
      "  warnings.warn(\n",
      "\n",
      "[NeMo I 2025-04-07 19:08:07 nemo_logging:393] Padded vocab_size: 25472, original vocab_size: 25429, dummy tokens: 43.\n",
      "[WARNING  | py.warnings        ]: /workspace/bionemo2/3rdparty/Megatron-LM/megatron/core/transformer/transformer_layer.py:339: UserWarning: TransformerLayer._get_layer_offset is deprecated.Please use get_transformer_layer_offset instead.\n",
      "  warnings.warn(\n",
      "\n",
      "[WARNING  | py.warnings        ]: /workspace/bionemo2/3rdparty/Megatron-LM/megatron/core/dist_checkpointing/strategies/torch.py:847: FutureWarning: `load_state_dict` is deprecated and will be removed in future versions. Please use `load` instead.\n",
      "  checkpoint.load_state_dict(\n",
      "\n",
      "[WARNING  | py.warnings        ]: /usr/local/lib/python3.12/dist-packages/torch/distributed/checkpoint/planner_helpers.py:316: FutureWarning: Please use DTensor instead and we are deprecating ShardedTensor.\n",
      "  device = getattr(value, \"device\", None)\n",
      "\n",
      "LOCAL_RANK: 0 - CUDA_VISIBLE_DEVICES: [0,1,2,3]\n",
      "[NeMo W 2025-04-07 19:08:07 nemo_logging:405] Could not copy Trainer's 'max_steps' to LR scheduler's 'max_steps'. If you are not using an LR scheduler, this warning can safely be ignored.\n",
      "[NeMo I 2025-04-07 19:08:07 nemo_logging:393]  > number of parameters on (tensor, pipeline) model parallel rank (0 ,0): 10300032\n",
      "[WARNING  | py.warnings        ]: /usr/local/lib/python3.12/dist-packages/lightning/pytorch/trainer/connectors/data_connector.py:424: The 'predict_dataloader' does not have many workers which may be a bottleneck. Consider increasing the value of the `num_workers` argument` to `num_workers=63` in the `DataLoader` to improve performance.\n",
      "\n"
     ]
    }
   ],
   "source": [
    "!python /workspace/bionemo2/sub-packages/bionemo-geneformer/src/bionemo/geneformer/scripts/infer_geneformer.py \\\n",
    "    --data-dir {test_tutorial_processed_dir} \\\n",
    "    --checkpoint-path {pretrained_checkpoint_path} \\\n",
    "    --results-path {tutorial_output_dir}"
   ]
  },
  {
   "cell_type": "code",
   "execution_count": 13,
   "id": "c64ebc1a",
   "metadata": {},
   "outputs": [
    {
     "name": "stdout",
     "output_type": "stream",
     "text": [
      "total 128K\n",
      "drwxr-xr-x 2 jomitchell domain-users 4.0K Mar 11 20:41 .\n",
      "drwxr-xr-x 5 jomitchell domain-users 4.0K Mar 12 19:06 ..\n",
      "-rw-r--r-- 1 jomitchell domain-users 118K Apr  7 19:08 predictions__rank_0.pt\n",
      "-rw-r--r-- 1 jomitchell domain-users 118K Apr  7 19:08 /workspace/bionemo2/data/singlecell_tutorial/inference_output/predictions__rank_0.pt\n"
     ]
    }
   ],
   "source": [
    "!ls -altrh {tutorial_output_dir}/\n",
    "tutorial_output_inference_pickle = f\"{tutorial_output_dir}/predictions__rank_0.pt\"\n",
    "!ls -altrh {tutorial_output_inference_pickle}"
   ]
  },
  {
   "cell_type": "markdown",
   "id": "a1b9a425-850d-4027-9160-5e659c163604",
   "metadata": {
    "tags": []
   },
   "source": [
    "# Load inference result and cluster with UMAP.\n",
    "Now we will inspect our result. First, we expect there to be one prediction for each cell, we can compare the shape of the anndata object to the predictions produced by our model. After this, we can simply pass our embeddings into umap, and view the result! In this case its a very poorly trained model with very few cells, so keep expectations low!\n",
    "\n",
    "The inference_results .pt file contains one set of hiddens and embeddings for each cell. The hiddens contain the embedding per-token, whereas the embeddings contain the mean embedding for all gene tokens with special tokens (CLS, MASK, etc) removed."
   ]
  },
  {
   "cell_type": "code",
   "execution_count": 14,
   "id": "fade4564",
   "metadata": {},
   "outputs": [
    {
     "name": "stdout",
     "output_type": "stream",
     "text": [
      "dict_keys(['token_logits', 'binary_logits', 'embeddings'])\n",
      "torch.Size([232, 256])\n"
     ]
    }
   ],
   "source": [
    "# Load inference results with torch load\n",
    "import torch\n",
    "\n",
    "\n",
    "inference_results = torch.load(tutorial_output_inference_pickle)\n",
    "print(inference_results.keys())\n",
    "\n",
    "# print(len(inference_results), adata.shape, inference_results[0].keys())\n",
    "print(inference_results[\"embeddings\"].shape)"
   ]
  },
  {
   "cell_type": "code",
   "execution_count": 15,
   "id": "9898a688",
   "metadata": {},
   "outputs": [
    {
     "name": "stderr",
     "output_type": "stream",
     "text": [
      "/usr/local/lib/python3.12/dist-packages/sklearn/utils/deprecation.py:151: FutureWarning: 'force_all_finite' was renamed to 'ensure_all_finite' in 1.6 and will be removed in 1.8.\n",
      "  warnings.warn(\n"
     ]
    }
   ],
   "source": [
    "import umap\n",
    "\n",
    "\n",
    "reducer = umap.UMAP()\n",
    "embedding = reducer.fit_transform(inference_results[\"embeddings\"].float())"
   ]
  },
  {
   "cell_type": "code",
   "execution_count": 16,
   "id": "c390680b",
   "metadata": {},
   "outputs": [
    {
     "name": "stdout",
     "output_type": "stream",
     "text": [
      "embedding.shape:  (232, 2)\n",
      "adata_test.obs.shape[0]:  232\n"
     ]
    }
   ],
   "source": [
    "print(\"embedding.shape: \", embedding.shape)\n",
    "print(\"adata_test.obs.shape[0]: \", adata_test.obs.shape[0])\n",
    "assert adata_test.obs.shape[0] == inference_results[\"embeddings\"].shape[0]"
   ]
  },
  {
   "cell_type": "code",
   "execution_count": 17,
   "id": "5ea88b8a-bb3c-4058-93a0-9afb0dfedfa5",
   "metadata": {
    "tags": []
   },
   "outputs": [
    {
     "name": "stderr",
     "output_type": "stream",
     "text": [
      "/tmp/ipykernel_26088/3584793474.py:12: FutureWarning: The default of observed=False is deprecated and will be changed to True in a future version of pandas. Pass observed=False to retain current behavior or observed=True to adopt the future default and silence this warning.\n",
      "  for cov, cov_df in results.groupby(covar):\n"
     ]
    },
    {
     "data": {
      "image/png": "[encoded data removed]",
      "text/plain": [
       "<Figure size 1000x1000 with 4 Axes>"
      ]
     },
     "metadata": {},
     "output_type": "display_data"
    }
   ],
   "source": [
    "from matplotlib import pyplot as plt\n",
    "\n",
    "\n",
    "results = adata_test.obs.copy()\n",
    "results[\"x\"] = embedding[:, 0]\n",
    "results[\"y\"] = embedding[:, 1]\n",
    "\n",
    "covariates = [\"assay\", \"development_stage\", \"dataset_id\", \"sex\"]\n",
    "fig, axes = plt.subplots(nrows=2, ncols=2, sharex=True, sharey=True, figsize=(10, 10))\n",
    "\n",
    "for ax, covar in zip(axes.flat, covariates):\n",
    "    for cov, cov_df in results.groupby(covar):\n",
    "        ax.scatter(\n",
    "            cov_df.x,\n",
    "            cov_df.y,\n",
    "            s=3,\n",
    "            alpha=0.75,\n",
    "            label=cov,\n",
    "        )\n",
    "    if len(results[covar].unique()) < 8:\n",
    "        ax.legend()\n",
    "    ax.set_title(f\"Embeddings by {covar}\")"
   ]
  },
  {
   "cell_type": "code",
   "execution_count": 18,
   "id": "bafb8266-7451-495b-bdae-9bd51c6a214a",
   "metadata": {},
   "outputs": [
    {
     "data": {
      "text/plain": [
       "Index(['soma_joinid', 'dataset_id', 'assay', 'assay_ontology_term_id',\n",
       "       'cell_type', 'cell_type_ontology_term_id', 'development_stage',\n",
       "       'development_stage_ontology_term_id', 'disease',\n",
       "       'disease_ontology_term_id', 'donor_id', 'is_primary_data',\n",
       "       'self_reported_ethnicity', 'self_reported_ethnicity_ontology_term_id',\n",
       "       'sex', 'sex_ontology_term_id', 'suspension_type', 'tissue',\n",
       "       'tissue_ontology_term_id', 'tissue_general',\n",
       "       'tissue_general_ontology_term_id', 'raw_sum', 'nnz', 'raw_mean_nnz',\n",
       "       'raw_variance_nnz', 'n_measured_vars'],\n",
       "      dtype='object')"
      ]
     },
     "execution_count": 18,
     "metadata": {},
     "output_type": "execute_result"
    }
   ],
   "source": [
    "adata_test.obs.columns"
   ]
  },
  {
   "cell_type": "code",
   "execution_count": null,
   "id": "c8e8d923-faea-487a-90c6-e59a6e99c41a",
   "metadata": {},
   "outputs": [],
   "source": []
  }
 ],
 "metadata": {
  "kernelspec": {
   "display_name": "Python 3",
   "language": "python",
   "name": "python3"
  },
  "language_info": {
   "codemirror_mode": {
    "name": "ipython",
    "version": 3
   },
   "file_extension": ".py",
   "mimetype": "text/x-python",
   "name": "python",
   "nbconvert_exporter": "python",
   "pygments_lexer": "ipython3",
   "version": "3.12.3"
  }
 },
 "nbformat": 4,
 "nbformat_minor": 5
}
