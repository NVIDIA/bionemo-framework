{
 "cells": [
  {
   "cell_type": "code",
   "execution_count": 1,
   "metadata": {},
   "outputs": [
    {
     "name": "stdout",
     "output_type": "stream",
     "text": [
      "[1696707712.609534] [drugdiscovery8-dt:811052:f]        vfs_fuse.c:281  UCX  ERROR inotify_add_watch(/tmp) failed: No space left on device\n",
      "NOTE! Installing ujson may make loading annotations faster.\n"
     ]
    }
   ],
   "source": [
    "from bionemo.data.mapped_dataset import (\n",
    "    Uniref90ClusterMappingDataset,\n",
    "    AltUniref90ClusterMappingDataset,\n",
    ")\n",
    "import tempfile\n",
    "import json\n",
    "import numpy as np\n",
    "from torch.utils.data import Dataset\n",
    "from collections import defaultdict\n",
    "\"\"\"\n",
    "Uniref90ClusterMappingDataset needs a few things:\n",
    "\n",
    "uniref50_dataset:\n",
    "    [\"u50_id{i}\" for i in range(num_50_clusters)]\n",
    "\n",
    "cluster_map:\n",
    "    {\"u50_id{i}': [\"u90_id{j + cum_num_maps}\" for j in range(num_maps)]}\n",
    "\n",
    "uniref90_dataset:\n",
    "    [{\"sequence_id\": \"u90_id{i}\"} for i in cum_num_maps]\n",
    "\"\"\"\n",
    "\n",
    "state_ = dict()"
   ]
  },
  {
   "cell_type": "code",
   "execution_count": 2,
   "metadata": {},
   "outputs": [],
   "source": [
    "\n",
    "class MockU50Dataset(Dataset):\n",
    "    def __init__(self, num_clusters, num_samples):\n",
    "        self.sample_map = np.random.choice(num_clusters, num_samples)\n",
    "        self.cluster_ids = [f\"u50_id{i}\" for i in self.sample_map]\n",
    "\n",
    "    def __len__(self):\n",
    "        return len(self.cluster_ids)\n",
    "\n",
    "    def __getitem__(self, index):\n",
    "        return self.cluster_ids[index]\n",
    "\n",
    "\n",
    "\n",
    "def make_fake_dataset(num_50_clusters, num_50_samples, num_maps):\n",
    "\n",
    "    uniref50_dataset = MockU50Dataset(num_50_clusters, num_50_samples)\n",
    "    cum_num_maps = 0\n",
    "    cluster_map = dict()\n",
    "    alt_cluster_map = defaultdict(list)\n",
    "    for i in range(num_50_clusters):\n",
    "        cluster_map[f\"u50_id{i}\"] = [f\"u90_id{j + cum_num_maps}\" for j in range(num_maps)]\n",
    "        alt_cluster_map['counts'].append(num_maps)\n",
    "        # append before incrementing cum_num_maps to indicate the start index\n",
    "        # of the next `count` entries\n",
    "        alt_cluster_map['starts'].append(cum_num_maps)\n",
    "        cum_num_maps += num_maps\n",
    "\n",
    "    uniref90_dataset = [{\"sequence_id\": f\"u90_id{i}\"} for i in range(cum_num_maps)]\n",
    "\n",
    "    tf = tempfile.NamedTemporaryFile(suffix='.json')\n",
    "    tf2 = tempfile.NamedTemporaryFile(suffix='json')\n",
    "    tf2_memmap_counts = tempfile.NamedTemporaryFile(suffix='json')\n",
    "    tf2_memmap_starts = tempfile.NamedTemporaryFile(suffix='json') \n",
    "    state_['cluster_map'] = tf\n",
    "    state_['alt_cluster_map'] = tf2\n",
    "    state_['alt_cluster_map_counts'] = tf2_memmap_counts\n",
    "    state_['alt_cluster_map_starts'] = tf2_memmap_starts\n",
    "    with open(tf.name, 'w') as fh:\n",
    "        json.dump(cluster_map, fh)\n",
    "    \n",
    "    counts = np.array(alt_cluster_map.pop('counts'))\n",
    "    starts = np.array(alt_cluster_map.pop('starts'))\n",
    "    counts_memmap = np.memmap(tf2_memmap_counts, dtype=int, mode='w+', shape=len(counts)) \n",
    "    starts_memmap = np.memmap(tf2_memmap_starts, dtype=int, mode='w+', shape=len(starts)) \n",
    "    counts_memmap[:] = counts\n",
    "    starts_memmap[:] = starts\n",
    "    alt_cluster_map['counts'] = tf2_memmap_counts.name\n",
    "    alt_cluster_map['starts'] = tf2_memmap_starts.name\n",
    "    with open(tf2.name, 'w') as fh:\n",
    "        json.dump(alt_cluster_map, fh)\n",
    "    return uniref50_dataset, uniref90_dataset, tf.name, tf2.name\n"
   ]
  },
  {
   "cell_type": "code",
   "execution_count": 3,
   "metadata": {},
   "outputs": [],
   "source": [
    "\n",
    "num_50_clusters = 1000000\n",
    "num_maps = 20\n",
    "num_50_samples = 100000000"
   ]
  },
  {
   "cell_type": "code",
   "execution_count": 4,
   "metadata": {},
   "outputs": [],
   "source": [
    "uniref50_dataset, uniref90_dataset, cluster_map_json, alt_cluster_map_json = \\\n",
    "    make_fake_dataset(num_50_clusters, num_50_samples, num_maps)\n",
    "index_mapping_dir = tempfile.TemporaryDirectory()\n",
    "alt_index_mapping_dir = tempfile.TemporaryDirectory()\n",
    "state_['index_mapping_dir'] = index_mapping_dir"
   ]
  },
  {
   "cell_type": "code",
   "execution_count": 7,
   "metadata": {},
   "outputs": [
    {
     "name": "stdout",
     "output_type": "stream",
     "text": [
      "[NeMo I 2023-10-07 19:48:00 mapped_dataset:252] Loading cluster map self.cluster_map_json_path='/tmp/tmpy9sw4umfjson'\n",
      "[NeMo I 2023-10-07 19:48:00 mapped_dataset:256] Cluster map from json: 0.00036334991455078125\n",
      "[NeMo I 2023-10-07 19:48:03 mapped_dataset:260] Cluster sample_mapping: 2.3439719676971436\n"
     ]
    }
   ],
   "source": [
    "# %%timeit\n",
    "dataset = AltUniref90ClusterMappingDataset(\n",
    "    uniref50_dataset,\n",
    "    uniref90_dataset,\n",
    "    alt_cluster_map_json,\n",
    "    data_prefix='test_data_',\n",
    "    index_mapping_dir=alt_index_mapping_dir.name,\n",
    "    buffer_size=int(1e6)\n",
    ")"
   ]
  },
  {
   "cell_type": "code",
   "execution_count": 6,
   "metadata": {},
   "outputs": [
    {
     "name": "stdout",
     "output_type": "stream",
     "text": [
      "[NeMo I 2023-10-07 19:42:55 mapped_dataset:405] Creating sample mapping cache /tmp/tmpu7tytov6.json\n",
      "[NeMo I 2023-10-07 19:43:18 mapped_dataset:409] Sample mapping cache construction: 23.1678524017334\n",
      "[NeMo I 2023-10-07 19:43:18 mapped_dataset:412] Loading cluster map self.cluster_map_json_path='/tmp/tmpu7tytov6.json'\n",
      "[NeMo I 2023-10-07 19:43:30 mapped_dataset:416] Cluster map from json: 11.676188468933105\n"
     ]
    },
    {
     "name": "stderr",
     "output_type": "stream",
     "text": [
      "100%|██████████| 100000000/100000000 [03:51<00:00, 432231.98it/s]"
     ]
    },
    {
     "name": "stdout",
     "output_type": "stream",
     "text": [
      "[NeMo I 2023-10-07 19:47:49 mapped_dataset:420] Cluster sample_mapping: 259.005788564682\n"
     ]
    },
    {
     "name": "stderr",
     "output_type": "stream",
     "text": [
      "\n"
     ]
    }
   ],
   "source": [
    "# %%timeit\n",
    "dataset = Uniref90ClusterMappingDataset(\n",
    "    uniref50_dataset,\n",
    "    uniref90_dataset,\n",
    "    cluster_map_json,\n",
    "    data_prefix='test_data_',\n",
    "    index_mapping_dir=index_mapping_dir.name,\n",
    ")"
   ]
  },
  {
   "cell_type": "code",
   "execution_count": null,
   "metadata": {},
   "outputs": [],
   "source": []
  }
 ],
 "metadata": {
  "kernelspec": {
   "display_name": "Python 3",
   "language": "python",
   "name": "python3"
  },
  "language_info": {
   "codemirror_mode": {
    "name": "ipython",
    "version": 3
   },
   "file_extension": ".py",
   "mimetype": "text/x-python",
   "name": "python",
   "nbconvert_exporter": "python",
   "pygments_lexer": "ipython3",
   "version": "3.10.12"
  },
  "orig_nbformat": 4,
  "vscode": {
   "interpreter": {
    "hash": "767d51c1340bd893661ea55ea3124f6de3c7a262a8b4abca0554b478b1e2ff90"
   }
  }
 },
 "nbformat": 4,
 "nbformat_minor": 2
}
