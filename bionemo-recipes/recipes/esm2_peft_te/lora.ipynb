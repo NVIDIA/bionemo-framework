{
 "cells": [
  {
   "cell_type": "code",
   "execution_count": 31,
   "id": "816084ff",
   "metadata": {},
   "outputs": [],
   "source": [
    "from datasets import load_dataset\n",
    "from transformers import AutoModelForTokenClassification, AutoTokenizer, PreTrainedTokenizerFast\n",
    "\n",
    "\n",
    "ss_dataset = load_dataset(\"lamm-mit/protein_secondary_structure_from_PDB\", split=\"train\", streaming=True)\n",
    "tokenizer = AutoTokenizer.from_pretrained(\"example_8m_checkpoint\")\n",
    "\n",
    "tokenizer_args = {\n",
    "    \"max_length\": 128,\n",
    "    \"truncation\": True,\n",
    "    \"stride\": 16,  # TODO: figure this out later\n",
    "    \"return_overflowing_tokens\": True,\n",
    "    \"return_offsets_mapping\": True,\n",
    "}"
   ]
  },
  {
   "cell_type": "code",
   "execution_count": 33,
   "id": "63d5ff83",
   "metadata": {},
   "outputs": [],
   "source": [
    "example = next(iter(ss_dataset))"
   ]
  },
  {
   "cell_type": "code",
   "execution_count": 36,
   "id": "64665439",
   "metadata": {},
   "outputs": [],
   "source": [
    "tokenized_example = tokenizer(example[\"Sequence\"], **tokenizer_args)"
   ]
  },
  {
   "cell_type": "code",
   "execution_count": 49,
   "id": "4bd92bf1",
   "metadata": {},
   "outputs": [
    {
     "data": {
      "text/plain": [
       "817"
      ]
     },
     "execution_count": 49,
     "metadata": {},
     "output_type": "execute_result"
    }
   ],
   "source": [
    "len(example[\"Sequence\"])"
   ]
  },
  {
   "cell_type": "code",
   "execution_count": 59,
   "id": "a1985f85",
   "metadata": {},
   "outputs": [
    {
     "data": {
      "text/plain": [
       "'~~HHHHHHHHT~~B~SS~TTTTTTTT~EEEEEEETT~~GGGSS~EETTEES~HHHHHHTTTSEEESSEE~~~~SSHHHHHHHHHHHSS~~~SSS~HHHHTTTB~~~~HHHHHHTTT~EEEEE~SS~TTGGGHHHHHHHTT~SEEE~TTTS~SSSEETTEE~HHHHHHHHHHHHHHHHHTT~~EEEEEE~~TT~TT~~~~GGG~~~~~~TTTTTSHHHHHHHHHHHHHHHHHHHHHHHHHHTSGGGEEEEEEES~~~~~GGGS~GGGGGGS~~TT~~SSTTHHHHB~~EEEE~TT~~~~EE~~S~EEGGGHHHHHHHHTT~~~TT~~~SS~~GGGBSS~~EEE~SSS~TTEEE~SSEEEE~SSSSTTSEEEETTS~EE~~~HHHHHHHHHHHHHHHHHHHHHHT~~B~~~~~HHHHHHHHT~~B~SS~TTTTTTTT~EEEEEEETT~~GGGSS~EETTEES~HHHHHHTTTSEEESSEE~~~~SSHHHHHHHHHHHSS~~~SSS~HHHHTTTB~~~~HHHHHHTTT~EEEEE~SS~TTGGGHHHHHHHTT~SEEE~HHHH~SSSEETTEE~HHHHHHHHHHHHHHHHHTT~~EEEEEE~~TTSTT~~~~GGG~~~~~~TTTTTSHHHHHHHHHHHHHHHHHHHHHHHHHHTSGGGEEEEEEE~~~~~~GGGS~GGGGGGS~~TT~~SSTTHHHHB~~EEEE~TT~~~~EE~~S~EEGGGHHHHHHHHTT~~~TT~~~SS~~GGGBSS~~EEE~SSS~TTEEE~SSEEEE~SSSSTTSEEEETTS~EE~~~HHHHHHHHHHHHHHHHHHHHHHT~~B~~'"
      ]
     },
     "execution_count": 59,
     "metadata": {},
     "output_type": "execute_result"
    }
   ],
   "source": [
    "example[\"Secondary_structure\"]"
   ]
  },
  {
   "cell_type": "code",
   "execution_count": 54,
   "id": "406c6d82",
   "metadata": {},
   "outputs": [
    {
     "data": {
      "text/plain": [
       "[0,\n",
       " 12,\n",
       " 11,\n",
       " 5,\n",
       " 15,\n",
       " 17,\n",
       " 7,\n",
       " 17,\n",
       " 13,\n",
       " 12,\n",
       " 15,\n",
       " 6,\n",
       " 7,\n",
       " 8,\n",
       " 7,\n",
       " 15,\n",
       " 8,\n",
       " 17,\n",
       " 14,\n",
       " 13,\n",
       " 19,\n",
       " 18,\n",
       " 6,\n",
       " 5,\n",
       " 5,\n",
       " 15,\n",
       " 6,\n",
       " 15,\n",
       " 17,\n",
       " 4,\n",
       " 12,\n",
       " 12,\n",
       " 7,\n",
       " 16,\n",
       " 4,\n",
       " 9,\n",
       " 8,\n",
       " 18,\n",
       " 16,\n",
       " 10,\n",
       " 17,\n",
       " 4,\n",
       " 11,\n",
       " 17,\n",
       " 7,\n",
       " 15,\n",
       " 12,\n",
       " 17,\n",
       " 6,\n",
       " 16,\n",
       " 8,\n",
       " 12,\n",
       " 11,\n",
       " 14,\n",
       " 11,\n",
       " 4,\n",
       " 13,\n",
       " 6,\n",
       " 4,\n",
       " 16,\n",
       " 17,\n",
       " 9,\n",
       " 11,\n",
       " 20,\n",
       " 19,\n",
       " 8,\n",
       " 17,\n",
       " 16,\n",
       " 18,\n",
       " 18,\n",
       " 16,\n",
       " 11,\n",
       " 7,\n",
       " 8,\n",
       " 15,\n",
       " 8,\n",
       " 17,\n",
       " 11,\n",
       " 5,\n",
       " 13,\n",
       " 5,\n",
       " 9,\n",
       " 22,\n",
       " 8,\n",
       " 7,\n",
       " 19,\n",
       " 11,\n",
       " 8,\n",
       " 11,\n",
       " 18,\n",
       " 14,\n",
       " 8,\n",
       " 6,\n",
       " 19,\n",
       " 19,\n",
       " 11,\n",
       " 17,\n",
       " 11,\n",
       " 16,\n",
       " 11,\n",
       " 19,\n",
       " 6,\n",
       " 13,\n",
       " 10,\n",
       " 7,\n",
       " 12,\n",
       " 14,\n",
       " 8,\n",
       " 20,\n",
       " 14,\n",
       " 10,\n",
       " 4,\n",
       " 4,\n",
       " 6,\n",
       " 15,\n",
       " 17,\n",
       " 13,\n",
       " 19,\n",
       " 15,\n",
       " 11,\n",
       " 5,\n",
       " 11,\n",
       " 18,\n",
       " 21,\n",
       " 11,\n",
       " 17,\n",
       " 13,\n",
       " 2]"
      ]
     },
     "execution_count": 54,
     "metadata": {},
     "output_type": "execute_result"
    }
   ],
   "source": [
    "tokenized_example[\"input_ids\"][0]"
   ]
  },
  {
   "cell_type": "code",
   "execution_count": 63,
   "id": "1f1a60ca",
   "metadata": {},
   "outputs": [
    {
     "data": {
      "text/plain": [
       "'H'"
      ]
     },
     "execution_count": 63,
     "metadata": {},
     "output_type": "execute_result"
    }
   ],
   "source": [
    "example[\"Secondary_structure\"][slice(*tokenized_example[\"offset_mapping\"][0][3])]"
   ]
  },
  {
   "cell_type": "code",
   "execution_count": null,
   "id": "b4461bea",
   "metadata": {},
   "outputs": [],
   "source": [
    "tokenized_example[\"input_ids\"][2]"
   ]
  },
  {
   "cell_type": "code",
   "execution_count": null,
   "id": "b957081c",
   "metadata": {},
   "outputs": [
    {
     "data": {
      "text/plain": [
       "['input_ids', 'attention_mask', 'offset_mapping', 'overflow_to_sample_mapping']"
      ]
     },
     "execution_count": 39,
     "metadata": {},
     "output_type": "execute_result"
    }
   ],
   "source": [
    "list(tokenized_example.keys())"
   ]
  },
  {
   "cell_type": "code",
   "execution_count": null,
   "id": "7afb5ad6",
   "metadata": {},
   "outputs": [],
   "source": []
  },
  {
   "cell_type": "code",
   "execution_count": 2,
   "id": "5f187365",
   "metadata": {},
   "outputs": [
    {
     "data": {
      "text/plain": [
       "{'PDB_ID': Value('string'),\n",
       " 'Sequence': Value('string'),\n",
       " 'Secondary_structure': Value('string'),\n",
       " 'AH': Value('float64'),\n",
       " 'BS': Value('float64'),\n",
       " 'T': Value('float64'),\n",
       " 'UNSTRUCTURED': Value('float64'),\n",
       " 'BETABRIDGE': Value('float64'),\n",
       " '310HELIX': Value('float64'),\n",
       " 'PIHELIX': Value('float64'),\n",
       " 'BEND': Value('float64'),\n",
       " 'Sequence_length': Value('int64'),\n",
       " 'Sequence_spaced': Value('string'),\n",
       " 'Primary_SS_Type': Value('string'),\n",
       " 'Secondary_SS_Type': Value('string')}"
      ]
     },
     "execution_count": 2,
     "metadata": {},
     "output_type": "execute_result"
    }
   ],
   "source": [
    "ss_dataset.features"
   ]
  },
  {
   "cell_type": "code",
   "execution_count": 3,
   "id": "36e00e02",
   "metadata": {},
   "outputs": [
    {
     "name": "stderr",
     "output_type": "stream",
     "text": [
      "Some weights of NVEsmForTokenClassification were not initialized from the model checkpoint at example_8m_checkpoint and are newly initialized: ['classifier._extra_state', 'classifier.bias', 'classifier.weight']\n",
      "You should probably TRAIN this model on a down-stream task to be able to use it for predictions and inference.\n"
     ]
    }
   ],
   "source": [
    "model = AutoModelForTokenClassification.from_pretrained(\n",
    "    \"example_8m_checkpoint\", num_labels=8, trust_remote_code=True, dtype=\"bfloat16\"\n",
    ")"
   ]
  },
  {
   "cell_type": "code",
   "execution_count": 4,
   "id": "279b079b",
   "metadata": {},
   "outputs": [],
   "source": [
    "entry = next(iter(ss_dataset))"
   ]
  },
  {
   "cell_type": "code",
   "execution_count": 5,
   "id": "4c8a6c6c",
   "metadata": {},
   "outputs": [],
   "source": [
    "ss_tokenizer = PreTrainedTokenizerFast(tokenizer_file=\"ss_tokenizer.json\")\n",
    "aa_tokenizer = AutoTokenizer.from_pretrained(\"example_8m_checkpoint\")\n",
    "\n",
    "tokenizer_args = {\n",
    "    \"max_length\": 1024,\n",
    "    \"truncation\": True,\n",
    "    # \"stride\": 100,  # figure this out later\n",
    "    # \"return_overflowing_tokens\": True,\n",
    "}"
   ]
  },
  {
   "cell_type": "code",
   "execution_count": 6,
   "id": "fecffb2b",
   "metadata": {},
   "outputs": [],
   "source": [
    "def tokenize(example):\n",
    "    result = {}\n",
    "    result[\"input_ids\"] = aa_tokenizer(example[\"Sequence\"], **tokenizer_args)[\"input_ids\"]\n",
    "    tokenized_labels = ss_tokenizer(example[\"Secondary_structure\"], **tokenizer_args)[\"input_ids\"]\n",
    "    result[\"labels\"] = [[ii if ii != 8 else -100 for ii in item] for item in tokenized_labels]\n",
    "    return result"
   ]
  },
  {
   "cell_type": "code",
   "execution_count": 8,
   "id": "30f53557",
   "metadata": {},
   "outputs": [],
   "source": [
    "for item in ss_dataset:\n",
    "    break"
   ]
  },
  {
   "cell_type": "code",
   "execution_count": 12,
   "id": "c3f58a39",
   "metadata": {},
   "outputs": [],
   "source": [
    "max_length = max(item[\"Sequence_length\"] for item in ss_dataset)"
   ]
  },
  {
   "cell_type": "code",
   "execution_count": 13,
   "id": "fb05fabc",
   "metadata": {},
   "outputs": [
    {
     "data": {
      "text/plain": [
       "19350"
      ]
     },
     "execution_count": 13,
     "metadata": {},
     "output_type": "execute_result"
    }
   ],
   "source": [
    "max_length"
   ]
  },
  {
   "cell_type": "code",
   "execution_count": 14,
   "id": "6c71b465",
   "metadata": {},
   "outputs": [],
   "source": [
    "tokenized_dataset = ss_dataset.map(\n",
    "    tokenize, batched=True, remove_columns=[col for col in ss_dataset.features if col not in [\"input_ids\", \"labels\"]]\n",
    ")"
   ]
  },
  {
   "cell_type": "code",
   "execution_count": 15,
   "id": "74221cf1",
   "metadata": {},
   "outputs": [],
   "source": [
    "from transformers import DataCollatorForTokenClassification"
   ]
  },
  {
   "cell_type": "code",
   "execution_count": 16,
   "id": "046ce47a",
   "metadata": {},
   "outputs": [],
   "source": [
    "collator = DataCollatorForTokenClassification(tokenizer=aa_tokenizer, padding=\"max_length\", max_length=1024)"
   ]
  },
  {
   "cell_type": "code",
   "execution_count": 17,
   "id": "d0e1f920",
   "metadata": {},
   "outputs": [],
   "source": [
    "import torch"
   ]
  },
  {
   "cell_type": "code",
   "execution_count": 19,
   "id": "9a24ebf0",
   "metadata": {},
   "outputs": [],
   "source": [
    "dataloader = torch.utils.data.DataLoader(tokenized_dataset, batch_size=16, collate_fn=collator)\n",
    "batch = next(iter(dataloader))"
   ]
  },
  {
   "cell_type": "code",
   "execution_count": 23,
   "id": "fd3c4b91",
   "metadata": {},
   "outputs": [
    {
     "data": {
      "text/plain": [
       "NVEsmForTokenClassification(\n",
       "  (esm): NVEsmModel(\n",
       "    (embeddings): NVEsmEmbeddings(\n",
       "      (word_embeddings): Embedding(64, 320, padding_idx=1)\n",
       "    )\n",
       "    (encoder): NVEsmEncoder(\n",
       "      (layers): ModuleList(\n",
       "        (0-5): 6 x TransformerLayer(\n",
       "          (self_attention): MultiheadAttention(\n",
       "            (layernorm_qkv): LayerNormLinear()\n",
       "            (core_attention): DotProductAttention(\n",
       "              (flash_attention): FlashAttention()\n",
       "              (fused_attention): FusedAttention()\n",
       "              (unfused_attention): UnfusedDotProductAttention(\n",
       "                (scale_mask_softmax): FusedScaleMaskSoftmax()\n",
       "                (attention_dropout): Dropout(p=0.0, inplace=False)\n",
       "              )\n",
       "            )\n",
       "            (proj): Linear()\n",
       "          )\n",
       "          (layernorm_mlp): LayerNormMLP()\n",
       "        )\n",
       "      )\n",
       "      (emb_layer_norm_after): LayerNorm()\n",
       "      (rotary_embeddings): RotaryPositionEmbedding()\n",
       "    )\n",
       "  )\n",
       "  (dropout): Dropout(p=0.0, inplace=False)\n",
       "  (classifier): Linear()\n",
       ")"
      ]
     },
     "execution_count": 23,
     "metadata": {},
     "output_type": "execute_result"
    }
   ],
   "source": [
    "model.to(\"cuda\")"
   ]
  },
  {
   "cell_type": "code",
   "execution_count": 24,
   "id": "678cd8be",
   "metadata": {},
   "outputs": [],
   "source": [
    "batch = {k: v.to(\"cuda\") for k, v in batch.items()}"
   ]
  },
  {
   "cell_type": "code",
   "execution_count": 26,
   "id": "9bd4e362",
   "metadata": {},
   "outputs": [],
   "source": [
    "output = model(**batch)"
   ]
  },
  {
   "cell_type": "code",
   "execution_count": 28,
   "id": "480aa661",
   "metadata": {},
   "outputs": [
    {
     "data": {
      "text/plain": [
       "tensor(2.2031, device='cuda:0', dtype=torch.bfloat16,\n",
       "       grad_fn=<NllLossBackward0>)"
      ]
     },
     "execution_count": 28,
     "metadata": {},
     "output_type": "execute_result"
    }
   ],
   "source": [
    "output.loss"
   ]
  },
  {
   "cell_type": "code",
   "execution_count": null,
   "id": "eff9e588",
   "metadata": {},
   "outputs": [],
   "source": []
  }
 ],
 "metadata": {
  "kernelspec": {
   "display_name": "Python 3",
   "language": "python",
   "name": "python3"
  },
  "language_info": {
   "codemirror_mode": {
    "name": "ipython",
    "version": 3
   },
   "file_extension": ".py",
   "mimetype": "text/x-python",
   "name": "python",
   "nbconvert_exporter": "python",
   "pygments_lexer": "ipython3",
   "version": "3.12.3"
  }
 },
 "nbformat": 4,
 "nbformat_minor": 5
}
