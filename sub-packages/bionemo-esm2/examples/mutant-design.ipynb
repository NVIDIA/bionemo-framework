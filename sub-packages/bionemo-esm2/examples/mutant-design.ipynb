{
 "cells": [
  {
   "cell_type": "markdown",
   "id": "72f40b2c",
   "metadata": {},
   "source": [
    "[![ Click here to deploy.](https://uohmivykqgnnbiouffke.supabase.co/storage/v1/object/public/landingpage/brevdeploynavy.svg)](https://console.brev.dev/launchable/deploy?launchableID=env-2p81OcxdHAJZLSOc2KW14WW1YU8)\n",
    "\n",
    "<div class=\"alert alert-block alert-info\"> <b>NOTE</b> It takes about 10 minutes to deploy this notebook as a Launchable. As of this writing, we are working on a free tier so a credit card may be required. You can reach out to your NVIDIA rep for credits. (Note: This links to the nightly release and may be out of sync with these docs.) </div>"
   ]
  },
  {
   "cell_type": "markdown",
   "id": "eae5c045-bec3-437f-a4e5-b5c39743d5bf",
   "metadata": {},
   "source": [
    "# Zero-Shot Protein Design Using ESM-2"
   ]
  },
  {
   "cell_type": "markdown",
   "id": "35872df2-36bb-4168-be18-a15f60eed857",
   "metadata": {
    "tags": []
   },
   "source": [
    "*We thank Adrian Lange from A-Alpha Bio for originally contributing this recipe. This notebook has since been modified by NVIDIA.*"
   ]
  },
  {
   "cell_type": "markdown",
   "id": "dfd448e3-272a-4147-b3ad-af58b53c83d7",
   "metadata": {},
   "source": [
    "## Demo Objectives"
   ]
  },
  {
   "cell_type": "markdown",
   "id": "9277c38c-2827-419b-9512-ddd64087a4e0",
   "metadata": {},
   "source": [
    "1. **ESM-2nv Inference Functionality**\n",
    "    * Objective: Perform inference on the pre-trained ESM-2 model.\n",
    "    * Steps: Download model checkpoints, create CSV data file of protein sequences, and generate hidden state representations and sequence embeddings from input protein sequences.\n",
    "2. **Logit and Probability Extraction**\n",
    "    * Objective: Obtain probability values of all possible tokens at each position in the amino acid sequence.\n",
    "    * Steps: Generate logits from hidden states, and transform them into probabilities.\n",
    "3. **Protein Mutant Design**\n",
    "    * Objective: Optimize an input protein sequence to align it more closely with naturally occurring protein variants.\n",
    "    * Steps: Sequentially mask amino acids, extract per-position probabilities (and create a heatmap), analyze positions where single-point mutants have higher likelihood than wild-type, and develop new candidates."
   ]
  },
  {
   "cell_type": "markdown",
   "id": "e0d4987f-b76c-4978-aef3-2ef1685d1b6a",
   "metadata": {},
   "source": [
    "## Background"
   ]
  },
  {
   "cell_type": "markdown",
   "id": "3bd0f2dd-816a-4025-98e1-71ac53797091",
   "metadata": {},
   "source": [
    "ESM-2 is a large-scale protein language model (PLM) trained on millions of protein sequences. It can capture complex patterns and relationships in protein sequences, allowing it to be used to predict likely amino acid substitutions at different positions. By leveraging ESM-2's masked language modeling (MLM) capabilities, we can identify potential mutations that may enhance a protein's properties or align it more closely with naturally occurring variants. ESM-2 has 650M and 3B parameter versions - for this demo, we will be using ESM-2 3B."
   ]
  },
  {
   "cell_type": "markdown",
   "id": "07432049-5633-42eb-8f36-9af805babf11",
   "metadata": {
    "tags": []
   },
   "source": [
    "## Setup"
   ]
  },
  {
   "cell_type": "markdown",
   "id": "dd6bed85-787b-4456-8426-55194da94852",
   "metadata": {},
   "source": [
    "This notebbok should be executed inside the BioNeMo docker container, which has all ESM-2 dependencies pre-installed. This tutorial assumes that a copy of the BioNeMo framework repo exists on workstation or server and has been mounted inside the container at `/workspace/bionemo2`. For more information on how to build or pull the BioNeMo2 container, refer to the [Initialization Guide](../../getting-started/initialization-guide.md)."
   ]
  },
  {
   "cell_type": "markdown",
   "id": "408fae95-4769-4282-8731-0c83084c9390",
   "metadata": {},
   "source": [
    "<div class=\"alert alert-block alert-info\"> <b>NOTE</b> Some of the cells below generate long text output. We're using <pre>%%capture --no-display --no-stderr cell_output</pre> to suppress this output. Comment or delete this line in the cells below to restore full output.</div>"
   ]
  },
  {
   "cell_type": "markdown",
   "id": "a9e2eeed-89f1-4aed-b472-ec78065930d3",
   "metadata": {},
   "source": [
    "### Import Required Libraries"
   ]
  },
  {
   "cell_type": "code",
   "execution_count": 1,
   "id": "f2e561ce-d169-4846-bb09-d41b4b2898b5",
   "metadata": {
    "tags": []
   },
   "outputs": [],
   "source": [
    "%%capture --no-display --no-stderr cell_output\n",
    "\n",
    "import os\n",
    "import shutil\n",
    "import warnings\n",
    "\n",
    "import matplotlib.pyplot as plt\n",
    "import numpy as np\n",
    "import pandas as pd\n",
    "import torch\n",
    "\n",
    "\n",
    "warnings.filterwarnings(\"ignore\")\n",
    "warnings.simplefilter(\"ignore\")"
   ]
  },
  {
   "cell_type": "markdown",
   "id": "7a9a7571",
   "metadata": {},
   "source": [
    "### Work Directory"
   ]
  },
  {
   "cell_type": "markdown",
   "id": "08d32bdf",
   "metadata": {},
   "source": [
    "Set the work directory to store data and results:\n",
    "\n",
    "<div class=\"alert alert-block alert-info\"> <b>NOTE</b> We set the following to clean up the work directory created by this notebook  <pre>cleanup : bool = True</pre></div>"
   ]
  },
  {
   "cell_type": "code",
   "execution_count": 2,
   "id": "1aeee242",
   "metadata": {},
   "outputs": [],
   "source": [
    "cleanup: bool = True"
   ]
  },
  {
   "cell_type": "code",
   "execution_count": 3,
   "id": "6fba4a74",
   "metadata": {},
   "outputs": [
    {
     "name": "stdout",
     "output_type": "stream",
     "text": [
      "Directory '/workspace/bionemo2/esm2_mutant_design_tutorial' created.\n"
     ]
    }
   ],
   "source": [
    "work_dir = \"/workspace/bionemo2/esm2_mutant_design_tutorial\"\n",
    "\n",
    "if cleanup and os.path.exists(work_dir):\n",
    "    shutil.rmtree(work_dir)\n",
    "\n",
    "if not os.path.exists(work_dir):\n",
    "    os.makedirs(work_dir)\n",
    "    print(f\"Directory '{work_dir}' created.\")\n",
    "else:\n",
    "    print(f\"Directory '{work_dir}' already exists.\")"
   ]
  },
  {
   "cell_type": "markdown",
   "id": "f1933690-cbc5-46f5-9724-57f6a7a51ab3",
   "metadata": {},
   "source": [
    "### Download Model Checkpoints\n",
    "The following code will download the pre-trained model from the NGC registry:"
   ]
  },
  {
   "cell_type": "markdown",
   "id": "6fe15e8c",
   "metadata": {},
   "source": [
    "<div class=\"alert alert-block alert-info\"> <b>NOTE</b> The experiments in this notebook were run by using an ESM-2 3B model. Here we downsize to 650M model that allows execution on a larger set of NVIDIA GPUs (when the memory is insufficient for 3B). To reproduce the original experiment download the 3B checkpoint by adding this change to the next cell:  <pre>checkpoint = \"esm2/3b:2.0\"</pre></div>"
   ]
  },
  {
   "cell_type": "code",
   "execution_count": 4,
   "id": "aefc431a",
   "metadata": {},
   "outputs": [
    {
     "name": "stderr",
     "output_type": "stream",
     "text": [
      "Using cached path='/home/ubuntu/.cache/bionemo/0798767e843e3d54315aef91934d28ae7d8e93c2849d5fcfbdf5fac242013997-esm2_650M_nemo2.tar.gz.untar' from checked=PosixPath('/home/ubuntu/.cache/bionemo/0798767e843e3d54315aef91934d28ae7d8e93c2849d5fcfbdf5fac242013997-esm2_650M_nemo2.tar.gz.checked')\n"
     ]
    }
   ],
   "source": [
    "from bionemo.core.data.load import load\n",
    "\n",
    "\n",
    "checkpoint = \"esm2/650m:2.0\"  # change to \"esm2/3b:2.0\" to use the ESM-2 3B model\n",
    "checkpoint_path = load(checkpoint, source=\"ngc\")"
   ]
  },
  {
   "cell_type": "markdown",
   "id": "fac3d92c-2f63-45ab-be97-7030107760e7",
   "metadata": {},
   "source": [
    "## ESM-2 Inference"
   ]
  },
  {
   "cell_type": "markdown",
   "id": "12a9c623-8e76-4936-b58a-72d4504b201c",
   "metadata": {},
   "source": [
    "In this section, we will explore the key inference functionalities of the pre-trained model. "
   ]
  },
  {
   "cell_type": "markdown",
   "id": "876840a6",
   "metadata": {},
   "source": [
    "### Data"
   ]
  },
  {
   "cell_type": "markdown",
   "id": "14048d53",
   "metadata": {},
   "source": [
    "In the first step we prepare the data by creating a CSV file with `sequences` column that holds the protein sequences that we use as inference input."
   ]
  },
  {
   "cell_type": "code",
   "execution_count": 5,
   "id": "e390dc05-3dee-4013-916a-ffb76a174408",
   "metadata": {
    "tags": []
   },
   "outputs": [],
   "source": [
    "sequences = [\n",
    "    \"MSLKRKNIALIPAAGIGVRFGADKPKQYVEIGSKTVLEHVL\",  # length: 41\n",
    "    \"MIQSQINRNIRLDLADAILLSKAKKDLSFAEIADGTGLA\",  # length: 39\n",
    "]\n",
    "# Create a DataFrame\n",
    "df = pd.DataFrame(sequences, columns=[\"sequences\"])\n",
    "\n",
    "# Save the DataFrame to a CSV file\n",
    "data_path = os.path.join(work_dir, \"sequences.csv\")\n",
    "df.to_csv(data_path, index=False)"
   ]
  },
  {
   "cell_type": "markdown",
   "id": "787d02d4-e3fc-46a1-937b-ae69abfc00fa",
   "metadata": {
    "tags": []
   },
   "source": [
    "### Tokenizer"
   ]
  },
  {
   "cell_type": "markdown",
   "id": "577bb80f-a20b-4e85-a853-4fa8952bcb40",
   "metadata": {},
   "source": [
    "Let's also check the tokenizer vocabulary."
   ]
  },
  {
   "cell_type": "code",
   "execution_count": 6,
   "id": "697745ac",
   "metadata": {},
   "outputs": [
    {
     "name": "stderr",
     "output_type": "stream",
     "text": [
      "WARNING:megatron.core.utils:fused_indices_to_multihot has reached end of life. Please migrate to a non-experimental function.\n"
     ]
    },
    {
     "name": "stdout",
     "output_type": "stream",
     "text": [
      "There are 33 unique tokens: ['<cls>', '<pad>', '<eos>', '<unk>', 'L', 'A', 'G', 'V', 'S', 'E', 'R', 'T', 'I', 'D', 'P', 'K', 'Q', 'N', 'F', 'Y', 'M', 'H', 'W', 'C', 'X', 'B', 'U', 'Z', 'O', '.', '-', '<null_1>', '<mask>'].\n"
     ]
    }
   ],
   "source": [
    "from bionemo.esm2.data.tokenizer import BioNeMoESMTokenizer, get_tokenizer\n",
    "\n",
    "\n",
    "tokenizer = get_tokenizer()\n",
    "\n",
    "tokens = tokenizer.all_tokens\n",
    "print(f\"There are {tokenizer.vocab_size} unique tokens: {tokens}.\")"
   ]
  },
  {
   "cell_type": "markdown",
   "id": "3d4602a6-bae2-42dd-83ce-2a11f84b3c32",
   "metadata": {},
   "source": [
    "Let's set aside the tokens corresponding to the 20 known amino acids."
   ]
  },
  {
   "cell_type": "code",
   "execution_count": 7,
   "id": "fa1699c8-aea7-44e6-b80b-973af016e8bd",
   "metadata": {
    "tags": []
   },
   "outputs": [],
   "source": [
    "aa_tokens = [\"L\", \"A\", \"G\", \"V\", \"S\", \"E\", \"R\", \"T\", \"I\", \"D\", \"P\", \"K\", \"Q\", \"N\", \"F\", \"Y\", \"M\", \"H\", \"W\", \"C\"]\n",
    "\n",
    "aa_indices = [i for i, token in enumerate(tokens) if token in aa_tokens]\n",
    "extra_indices = [i for i, token in enumerate(tokens) if token not in aa_tokens]"
   ]
  },
  {
   "cell_type": "markdown",
   "id": "c8a87f61-e753-491c-9e32-fbd699eca723",
   "metadata": {},
   "source": [
    "### Obtaining Model Outputs"
   ]
  },
  {
   "cell_type": "markdown",
   "id": "7e93ada8",
   "metadata": {},
   "source": [
    "ESM-2nv was trained with a Masked Language Modeling (MLM) objective. Thus, we are able to mask a position in an amino acid sequence and obtain values for the most probable amino acids at that position, based on the surrounding context. Let's sequentially obtain these values for every position in the sequence."
   ]
  },
  {
   "cell_type": "markdown",
   "id": "b3bd0f4e-ef89-4245-abbc-06177e3883e8",
   "metadata": {},
   "source": [
    "\n",
    "The hidden states (which are usually the output of each layer in a neural network) can be obtained by using `--include-hiddens` argument when calling the inference function of ESM-2 in BioNeMo Framework.\n",
    "\n",
    "The hidden states can be converted into fixed-size vector embeddings. This is done by removing the hidden state vectors corresponding to padding tokens, then averaging across the rest. This process is often used when the goal is to create a single vector representation from the hidden states of a model, which can be used for various sequence-level downstream tasks such as classification (e.g. subcellular localization) or regression (e.g. melting temperature prediction). To obtain the embedding results we can use `--include-embeddings` argument.\n",
    "\n",
    "By passing the hidden state of an amino acid sequence through the BERT language model head, we can obtain output logits at each position and transform them into probabilities. This can happen by using `--include-logits` argument. Logits here are the raw, unnormalized scores that represent the likelihood of each class and are not probabilities themselves; they can be any real number, including negative values.\n",
    "\n",
    "When we apply the softmax function to logits, it converts them into a probability distribution over the classes, where the sum of probabilities equals 1."
   ]
  },
  {
   "cell_type": "markdown",
   "id": "e7ac5fba",
   "metadata": {},
   "source": [
    "Now lets call `infer_esm2` executable with relevant arguments to compute and optionally return embeddings, hiddens and logits."
   ]
  },
  {
   "cell_type": "code",
   "execution_count": 8,
   "id": "2bc577fa-32a3-4351-bc6f-60ba8f0df9f0",
   "metadata": {
    "tags": []
   },
   "outputs": [],
   "source": [
    "%%capture --no-display --no-stderr cell_output\n",
    "\n",
    "example_dir = os.path.join(work_dir, \"inference_example\")\n",
    "os.makedirs(example_dir, exist_ok=True)\n",
    "\n",
    "! infer_esm2 --checkpoint-path {checkpoint_path} \\\n",
    "             --data-path {data_path} \\\n",
    "             --results-path {example_dir} \\\n",
    "             --num-gpus 1 \\\n",
    "             --precision \"bf16-mixed\" \\\n",
    "             --include-hiddens \\\n",
    "             --include-embeddings \\\n",
    "             --include-logits \\\n",
    "             --include-input-ids"
   ]
  },
  {
   "cell_type": "markdown",
   "id": "67d09581-e784-4ccc-be88-194c8909068c",
   "metadata": {},
   "source": [
    "This will write the output of ESM-2 inference into a python dictionary and save that into `predictions__rank_0__dp_rank_0.pt` which can be loaded via PyTorch. DDP inference is supported in BioNeMo Framework and can be utilized by setting `--num-gpus n` to use `n` devices. The output predictions are then written to n distinct files `predictions__rank_<0...n-1>.pt`. Please refer to [ESM-2 Inference Tutorial](./inference.ipynb) for more information regarding the DDP support and how to interpret the prediction outputs."
   ]
  },
  {
   "cell_type": "code",
   "execution_count": 9,
   "id": "2b48c5a7",
   "metadata": {},
   "outputs": [
    {
     "name": "stdout",
     "output_type": "stream",
     "text": [
      "token_logits\ttorch.Size([1024, 2, 128])\n",
      "hidden_states\ttorch.Size([2, 1024, 1280])\n",
      "input_ids\ttorch.Size([2, 1024])\n",
      "embeddings\ttorch.Size([2, 1280])\n"
     ]
    }
   ],
   "source": [
    "results = torch.load(f\"{example_dir}/predictions__rank_0__dp_rank_0.pt\")\n",
    "\n",
    "for key, val in results.items():\n",
    "    if val is not None:\n",
    "        print(f\"{key}\\t{val.shape}\")"
   ]
  },
  {
   "cell_type": "markdown",
   "id": "1c656af4",
   "metadata": {},
   "source": [
    "Logits (`token_logits`) tensor has a dimension of `[sequence, batch, hidden]` to improve the training performance. We will transpose the first two dimension in the following to have batch-first shape like the rest of the output tensors. "
   ]
  },
  {
   "cell_type": "code",
   "execution_count": 10,
   "id": "c20b133a",
   "metadata": {},
   "outputs": [
    {
     "name": "stdout",
     "output_type": "stream",
     "text": [
      "torch.Size([2, 1024, 128])\n"
     ]
    }
   ],
   "source": [
    "logits = results[\"token_logits\"].transpose(0, 1)  # s, b, h  -> b, s, h\n",
    "print(logits.shape)"
   ]
  },
  {
   "cell_type": "markdown",
   "id": "8e005cc2",
   "metadata": {},
   "source": [
    "The sequnce dimension of `toke_logits` is 1024, which includes begining-of-sequence, end-of-sequence (eos/bos) and padding. The last dimension of `token_logits` is 128, with the first 33 positions corresponding to the amino acid vocabulary, followed by 95 paddings. We use the `tokenizer.vocab_size` to filter out the paddings and only keep the 33 vocab positions."
   ]
  },
  {
   "cell_type": "code",
   "execution_count": 11,
   "id": "aa382930",
   "metadata": {},
   "outputs": [
    {
     "name": "stdout",
     "output_type": "stream",
     "text": [
      "torch.Size([2, 1024, 33])\n"
     ]
    }
   ],
   "source": [
    "aa_logits = logits[..., : tokenizer.vocab_size]  # filter out the 95 paddings and only keep 33 vocab positions\n",
    "print(aa_logits.shape)"
   ]
  },
  {
   "cell_type": "markdown",
   "id": "0dc369ab",
   "metadata": {},
   "source": [
    "We will force the probabilities of non-amino acid tokens to become zero by calling softmax on `-inf`. These tokens IDs are listed as `extra_indices` and we set the logits values to `-inf`.\n",
    "\n",
    "\n",
    "Now we can convert the logits to probabilities using PyTorch Softmax function.   \n"
   ]
  },
  {
   "cell_type": "code",
   "execution_count": 12,
   "id": "bc1063e2",
   "metadata": {},
   "outputs": [],
   "source": [
    "aa_logits[..., extra_indices] = -torch.inf  # force non-amino acid token probs to zero\n",
    "\n",
    "probs = torch.softmax(aa_logits, dim=-1)\n",
    "\n",
    "# check that rows sum to 1\n",
    "# probs.sum(dim=-1)"
   ]
  },
  {
   "cell_type": "markdown",
   "id": "093e0633",
   "metadata": {},
   "source": [
    "These steps are summerized in the `logits_to_probs()` function below:"
   ]
  },
  {
   "cell_type": "code",
   "execution_count": 13,
   "id": "70cde80b",
   "metadata": {},
   "outputs": [],
   "source": [
    "def logits_to_probs(logits: torch.Tensor, tokenizer: BioNeMoESMTokenizer = get_tokenizer()) -> torch.Tensor:\n",
    "    \"\"\"Convert token logits to probabilities.\n",
    "\n",
    "    Args:\n",
    "        logits (torch.Tensor): logits tensor with the [batch, sequence, hidden] dimensions\n",
    "        tokenizer (BioNeMoESMTokenizer): ESM2 tokenizer\n",
    "\n",
    "    Returns:\n",
    "        probabilities (torch.Tensor): probability tensor with [batch, sequence, tokenizer.vocab_size]\n",
    "    \"\"\"\n",
    "    aa_tokens = [\"L\", \"A\", \"G\", \"V\", \"S\", \"E\", \"R\", \"T\", \"I\", \"D\", \"P\", \"K\", \"Q\", \"N\", \"F\", \"Y\", \"M\", \"H\", \"W\", \"C\"]\n",
    "    extra_indices = [i for i, token in enumerate(tokenizer.all_tokens) if token not in aa_tokens]\n",
    "\n",
    "    aa_logits = logits[..., : tokenizer.vocab_size]  # filter out the 95 paddings and only keep 33 vocab positions\n",
    "    aa_logits[..., extra_indices] = -torch.inf  # force non-amino acid token probs to zero\n",
    "    return torch.softmax(aa_logits, dim=-1)"
   ]
  },
  {
   "cell_type": "markdown",
   "id": "fb05b9ac",
   "metadata": {},
   "source": [
    "#### Note\n",
    "The sequence dimension in this example (1024) is representing the max sequence length wich includes paddings, EOS, and BOS. To filter the relevant amino acid information we can use the input sequence IDs in the results to create a mask:\n",
    "\n",
    "```python\n",
    "    input_ids = results['input_ids'] # b, s\n",
    "    # mask where non-amino acid tokens are True\n",
    "    mask = torch.isin(input_ids, torch.tensor(extra_indices))\n",
    "```"
   ]
  },
  {
   "cell_type": "markdown",
   "id": "e0e3a9c5-7159-49c1-8eec-17d5e22e647a",
   "metadata": {
    "tags": []
   },
   "source": [
    "## Mutant Design through ESM-2nv"
   ]
  },
  {
   "cell_type": "markdown",
   "id": "922d8037-60a0-4276-9c79-df31fe33317c",
   "metadata": {},
   "source": [
    "In this section, we aim to optimize an input protein sequence by introducing single-point mutations that align it more closely with naturally occurring protein variants. These mutants may present properties that enhance the protein's functionality, such as improved stability or increased catalytic activity. By leveraging ESM-2's masked language modeling capabilities, we can identify amino acid substitutions with higher likelihood than the wild-type residues. This approach allows us to explore the protein sequence space efficiently, potentially discovering variants with superior characteristics."
   ]
  },
  {
   "cell_type": "markdown",
   "id": "a749c2cd-2c81-4856-8c8a-ab26db2d0524",
   "metadata": {
    "tags": []
   },
   "source": [
    "### Sequential Masking"
   ]
  },
  {
   "cell_type": "markdown",
   "id": "a06291d0-0913-426b-8438-972a19c025c5",
   "metadata": {},
   "source": [
    "Let's take a starting sequence and scan through the positions, iteratively placing a `<mask>` token in place of the existing amino acid at each position. We will then predict probabilities at each masked location. If you only want to analyze substitutions within a predefined portion of the sequence (e.g. a specific alpha helix), you can set `start_pos` and `end_pos` accordingly, below."
   ]
  },
  {
   "cell_type": "code",
   "execution_count": 14,
   "id": "bee9bca9-c818-4bbf-933b-ac3f87a17bbc",
   "metadata": {
    "tags": []
   },
   "outputs": [],
   "source": [
    "seq = \"MSLKRKNIALIPAAGIGVRFGADKPKQYVEIGSKTVLEHVL\"  # length: 41\n",
    "\n",
    "start_pos = 0\n",
    "end_pos = len(seq)"
   ]
  },
  {
   "cell_type": "code",
   "execution_count": 15,
   "id": "d2aef066-c837-4cc9-ba90-2e095f84898a",
   "metadata": {
    "tags": []
   },
   "outputs": [],
   "source": [
    "positions = np.arange(start_pos, end_pos)\n",
    "\n",
    "sequentially_masked = []\n",
    "for index in positions:\n",
    "    masked = seq[:index] + \"<mask>\" + seq[index + 1 :]\n",
    "    sequentially_masked.append(masked)"
   ]
  },
  {
   "cell_type": "markdown",
   "id": "c9f848e2-b458-43e4-884b-227884d94251",
   "metadata": {},
   "source": [
    "Let's save the masked sequences into a CSV file and look at the first few elements of `sequentially_masked_sequences`:"
   ]
  },
  {
   "cell_type": "code",
   "execution_count": 16,
   "id": "0771cdf6",
   "metadata": {},
   "outputs": [
    {
     "data": {
      "text/html": [
       "<div>\n",
       "<style scoped>\n",
       "    .dataframe tbody tr th:only-of-type {\n",
       "        vertical-align: middle;\n",
       "    }\n",
       "\n",
       "    .dataframe tbody tr th {\n",
       "        vertical-align: top;\n",
       "    }\n",
       "\n",
       "    .dataframe thead th {\n",
       "        text-align: right;\n",
       "    }\n",
       "</style>\n",
       "<table border=\"1\" class=\"dataframe\">\n",
       "  <thead>\n",
       "    <tr style=\"text-align: right;\">\n",
       "      <th></th>\n",
       "      <th>sequences</th>\n",
       "    </tr>\n",
       "  </thead>\n",
       "  <tbody>\n",
       "    <tr>\n",
       "      <th>0</th>\n",
       "      <td>&lt;mask&gt;SLKRKNIALIPAAGIGVRFGADKPKQYVEIGSKTVLEHVL</td>\n",
       "    </tr>\n",
       "    <tr>\n",
       "      <th>1</th>\n",
       "      <td>M&lt;mask&gt;LKRKNIALIPAAGIGVRFGADKPKQYVEIGSKTVLEHVL</td>\n",
       "    </tr>\n",
       "    <tr>\n",
       "      <th>2</th>\n",
       "      <td>MS&lt;mask&gt;KRKNIALIPAAGIGVRFGADKPKQYVEIGSKTVLEHVL</td>\n",
       "    </tr>\n",
       "    <tr>\n",
       "      <th>3</th>\n",
       "      <td>MSL&lt;mask&gt;RKNIALIPAAGIGVRFGADKPKQYVEIGSKTVLEHVL</td>\n",
       "    </tr>\n",
       "    <tr>\n",
       "      <th>4</th>\n",
       "      <td>MSLK&lt;mask&gt;KNIALIPAAGIGVRFGADKPKQYVEIGSKTVLEHVL</td>\n",
       "    </tr>\n",
       "  </tbody>\n",
       "</table>\n",
       "</div>"
      ],
      "text/plain": [
       "                                        sequences\n",
       "0  <mask>SLKRKNIALIPAAGIGVRFGADKPKQYVEIGSKTVLEHVL\n",
       "1  M<mask>LKRKNIALIPAAGIGVRFGADKPKQYVEIGSKTVLEHVL\n",
       "2  MS<mask>KRKNIALIPAAGIGVRFGADKPKQYVEIGSKTVLEHVL\n",
       "3  MSL<mask>RKNIALIPAAGIGVRFGADKPKQYVEIGSKTVLEHVL\n",
       "4  MSLK<mask>KNIALIPAAGIGVRFGADKPKQYVEIGSKTVLEHVL"
      ]
     },
     "execution_count": 16,
     "metadata": {},
     "output_type": "execute_result"
    }
   ],
   "source": [
    "# Create a DataFrame\n",
    "df = pd.DataFrame(sequentially_masked, columns=[\"sequences\"])\n",
    "\n",
    "# Save the DataFrame to a CSV file\n",
    "masked_data_path = os.path.join(work_dir, \"sequentially_masked_sequences.csv\")\n",
    "df.to_csv(masked_data_path, index=False)\n",
    "\n",
    "\n",
    "df.head(n=5)"
   ]
  },
  {
   "cell_type": "markdown",
   "id": "ea90286c-2905-4a88-b82e-9b7791d6d81a",
   "metadata": {},
   "source": [
    "### Extraction of Probabilities"
   ]
  },
  {
   "cell_type": "markdown",
   "id": "13265b21-9049-4be6-a940-6b9700826896",
   "metadata": {},
   "source": [
    "We now extract the logits and convert them to probability matrix for each element of `sequentially_masked`. This can easily be done by calling the inference function above with `--include-logits` and using softmax to convert the logits to probabilities. We can then select the probability vectors corresponding to the masked positions, and combine them into a final probability matrix."
   ]
  },
  {
   "cell_type": "code",
   "execution_count": 17,
   "id": "e63cc1a3",
   "metadata": {},
   "outputs": [],
   "source": [
    "%%capture --no-display --no-stderr cell_output\n",
    "\n",
    "! infer_esm2 --checkpoint-path {checkpoint_path} \\\n",
    "             --data-path {masked_data_path} \\\n",
    "             --results-path {work_dir} \\\n",
    "             --num-gpus 1 \\\n",
    "             --precision \"bf16-mixed\" \\\n",
    "             --include-logits \\\n",
    "             --include-input-ids"
   ]
  },
  {
   "cell_type": "code",
   "execution_count": 18,
   "id": "8ec1e825",
   "metadata": {},
   "outputs": [
    {
     "name": "stdout",
     "output_type": "stream",
     "text": [
      "torch.Size([41, 1024, 33])\n"
     ]
    }
   ],
   "source": [
    "results = torch.load(f\"{work_dir}/predictions__rank_0__dp_rank_0.pt\")\n",
    "\n",
    "# cast to FP32 since BFloat16 is an unsupported ScalarType in numpy\n",
    "logits = results[\"token_logits\"].transpose(0, 1).to(dtype=torch.float32)  # s, b, h  -> b, s, h\n",
    "\n",
    "probs = logits_to_probs(logits)\n",
    "print(probs.shape)"
   ]
  },
  {
   "cell_type": "markdown",
   "id": "e8155a03",
   "metadata": {},
   "source": [
    "We are only interested in the probabilities associate with the amino acid tokens. So we need to ignore padding, and eos/bos tokens. Since all the sequence have the same length we can use that to filter them:"
   ]
  },
  {
   "cell_type": "code",
   "execution_count": 19,
   "id": "44584502",
   "metadata": {},
   "outputs": [
    {
     "data": {
      "text/plain": [
       "torch.Size([41, 41, 33])"
      ]
     },
     "execution_count": 19,
     "metadata": {},
     "output_type": "execute_result"
    }
   ],
   "source": [
    "probas_final = probs[:, 1 : positions.size + 1, :]\n",
    "probas_final.shape"
   ]
  },
  {
   "cell_type": "markdown",
   "id": "ab23b2a4",
   "metadata": {},
   "source": [
    "Select and combine probabilities corresponding to each mask"
   ]
  },
  {
   "cell_type": "code",
   "execution_count": 20,
   "id": "8a71e1cd",
   "metadata": {},
   "outputs": [
    {
     "name": "stdout",
     "output_type": "stream",
     "text": [
      "torch.Size([41, 33])\n"
     ]
    }
   ],
   "source": [
    "probas_final = probas_final[np.arange(probas_final.shape[0]), positions, :]\n",
    "print(probas_final.shape)"
   ]
  },
  {
   "cell_type": "markdown",
   "id": "5a5212ee-fff3-45ce-8e68-098931875ad5",
   "metadata": {},
   "source": [
    "### Amino Acid Heatmap"
   ]
  },
  {
   "cell_type": "markdown",
   "id": "f77e4da3-9241-4b1b-a014-979897d4fb76",
   "metadata": {},
   "source": [
    "Let's visualize the results. We can plot the predicted probabilities of each token across all positions of interest."
   ]
  },
  {
   "cell_type": "code",
   "execution_count": 21,
   "id": "b1eba3a7-3da9-4cfe-8215-ec7109bfc444",
   "metadata": {
    "tags": []
   },
   "outputs": [
    {
     "data": {
      "image/png": "[encoded data removed]",
      "text/plain": [
       "<Figure size 1100x500 with 2 Axes>"
      ]
     },
     "metadata": {},
     "output_type": "display_data"
    }
   ],
   "source": [
    "# Create heatmap\n",
    "dat = probas_final[:, aa_indices]\n",
    "\n",
    "plt.figure(figsize=(11, 5))\n",
    "im = plt.imshow(dat.T, cmap=\"viridis\", aspect=\"auto\")\n",
    "\n",
    "# Add color scale\n",
    "cbar = plt.colorbar(im)\n",
    "cbar.set_label(\"Probability\", rotation=270, labelpad=15)\n",
    "\n",
    "# Set y-axis labels (amino acid tokens) and x-axis labels (position in sequence)\n",
    "plt.yticks(ticks=np.arange(len(aa_tokens)), labels=aa_tokens)\n",
    "plt.xticks(ticks=np.arange(dat.shape[0]), labels=list(seq))\n",
    "plt.gca().xaxis.set_ticks_position(\"bottom\")\n",
    "\n",
    "# Add axes titles and main title\n",
    "plt.xlabel(\"Position in Sequence\")\n",
    "plt.ylabel(\"Token Labels\")\n",
    "plt.title(\"Positional Token Probabilities\")\n",
    "\n",
    "# Adjust layout to prevent clipping of labels\n",
    "plt.tight_layout()\n",
    "\n",
    "plt.show()"
   ]
  },
  {
   "cell_type": "markdown",
   "id": "dcefa4a8-9172-49d2-b0c6-2f23cac589da",
   "metadata": {
    "tags": []
   },
   "source": [
    "### Mutant Discovery"
   ]
  },
  {
   "cell_type": "markdown",
   "id": "c4d5f74f-afba-4cfc-aa6f-33237911df8a",
   "metadata": {},
   "source": [
    "We can now translate the logits/probabilities back into the sequence space, by mapping the highest probability in each position to the corresponding amino acid. "
   ]
  },
  {
   "cell_type": "code",
   "execution_count": 22,
   "id": "dc1026a7",
   "metadata": {},
   "outputs": [],
   "source": [
    "# Predicted seq (Argmax --> Collect token IDs of predicted seq --> Convert to amino acids)\n",
    "pred_idx_list = np.argmax(probas_final, axis=-1).tolist()\n",
    "pred_seq = \"\".join([tokenizer.id_to_token(id) for id in pred_idx_list])\n",
    "\n",
    "# Original seq\n",
    "true_idx_list = [tokenizer.token_to_id(seq[i]) for i in positions]\n",
    "true_seq = \"\".join([tokenizer.id_to_token(id) for id in true_idx_list])"
   ]
  },
  {
   "cell_type": "markdown",
   "id": "a99cf11e-5fae-4521-b16b-7da58f72c897",
   "metadata": {},
   "source": [
    "Let's compare the sequences and visually inspect the positions where a mutant is suggested over the wild-type. Note that the predicted sequence is displayed on the top, and the original sequence is on the bottom."
   ]
  },
  {
   "cell_type": "code",
   "execution_count": 23,
   "id": "07191bcb-9951-40a4-beb9-f2a008a0c91c",
   "metadata": {
    "tags": []
   },
   "outputs": [
    {
     "data": {
      "text/plain": [
       "'MSEKKKVVALILAAGKGSRLGAGRPKQFLKIGGKTILERTL (Predicted Sequence)'"
      ]
     },
     "metadata": {},
     "output_type": "display_data"
    },
    {
     "data": {
      "text/plain": [
       "'..|.|.||...|...|.|.|..||...|||..|..|..||.'"
      ]
     },
     "metadata": {},
     "output_type": "display_data"
    },
    {
     "data": {
      "text/plain": [
       "'MSLKRKNIALIPAAGIGVRFGADKPKQYVEIGSKTVLEHVL (Input Sequence)'"
      ]
     },
     "metadata": {},
     "output_type": "display_data"
    }
   ],
   "source": [
    "# Compare prediction (reconstruction) to true (input sequence)\n",
    "display(pred_seq + \" (Predicted Sequence)\")\n",
    "display(\"\".join([\".\" if a == b else \"|\" for a, b in zip(pred_seq, true_seq)]))\n",
    "display(true_seq + \" (Input Sequence)\")"
   ]
  },
  {
   "cell_type": "markdown",
   "id": "0ae76c54-a716-4001-b17c-95588708b31e",
   "metadata": {},
   "source": [
    "Amongst the mismatches, we can:\n",
    "1. Collect all positions where a mutant is suggested over the wild-type amino acid.\n",
    "2. At these positions, find the mutant with the highest probability."
   ]
  },
  {
   "cell_type": "code",
   "execution_count": 24,
   "id": "0710fc32-aa0a-4ae4-9c72-9e1680694fee",
   "metadata": {
    "tags": []
   },
   "outputs": [
    {
     "name": "stdout",
     "output_type": "stream",
     "text": [
      "Position: 32\n",
      "Mutation: S32G\n"
     ]
    }
   ],
   "source": [
    "# Collect indices where a mutant is suggested over the wild-type\n",
    "matches = [c1 == c2 for c1, c2 in zip(pred_seq, true_seq)]\n",
    "mismatch_index = [i for i, value in enumerate(matches) if not value]\n",
    "\n",
    "# Filter probability matrix to mismatches-only\n",
    "probas_mismatch = probas_final[mismatch_index, :]\n",
    "\n",
    "# Find index of mutant with highest likelihood\n",
    "index_flat = np.argmax(probas_mismatch)\n",
    "index_2d = np.unravel_index(index_flat, probas_mismatch.shape)\n",
    "index_of_interest = mismatch_index[index_2d[0]]\n",
    "position_of_interest = positions[index_of_interest]\n",
    "print(\"Position:\", position_of_interest)\n",
    "print(\"Mutation:\", true_seq[position_of_interest] + str(position_of_interest) + pred_seq[position_of_interest])"
   ]
  },
  {
   "cell_type": "markdown",
   "id": "a16739fb-8b1a-4e5e-8d0b-8c3d4cf0a909",
   "metadata": {},
   "source": [
    "Let's check the probability associated to mutations at this position."
   ]
  },
  {
   "cell_type": "code",
   "execution_count": 25,
   "id": "1a2a31f5",
   "metadata": {},
   "outputs": [
    {
     "data": {
      "text/html": [
       "<div>\n",
       "<style scoped>\n",
       "    .dataframe tbody tr th:only-of-type {\n",
       "        vertical-align: middle;\n",
       "    }\n",
       "\n",
       "    .dataframe tbody tr th {\n",
       "        vertical-align: top;\n",
       "    }\n",
       "\n",
       "    .dataframe thead th {\n",
       "        text-align: right;\n",
       "    }\n",
       "</style>\n",
       "<table border=\"1\" class=\"dataframe\">\n",
       "  <thead>\n",
       "    <tr style=\"text-align: right;\">\n",
       "      <th></th>\n",
       "      <th>Token</th>\n",
       "      <th>Token ID</th>\n",
       "      <th>Probability</th>\n",
       "    </tr>\n",
       "  </thead>\n",
       "  <tbody>\n",
       "    <tr>\n",
       "      <th>0</th>\n",
       "      <td>G</td>\n",
       "      <td>6</td>\n",
       "      <td>0.829705</td>\n",
       "    </tr>\n",
       "    <tr>\n",
       "      <th>1</th>\n",
       "      <td>D</td>\n",
       "      <td>13</td>\n",
       "      <td>0.054725</td>\n",
       "    </tr>\n",
       "    <tr>\n",
       "      <th>2</th>\n",
       "      <td>E</td>\n",
       "      <td>9</td>\n",
       "      <td>0.031672</td>\n",
       "    </tr>\n",
       "    <tr>\n",
       "      <th>3</th>\n",
       "      <td>N</td>\n",
       "      <td>17</td>\n",
       "      <td>0.030222</td>\n",
       "    </tr>\n",
       "    <tr>\n",
       "      <th>4</th>\n",
       "      <td>S</td>\n",
       "      <td>8</td>\n",
       "      <td>0.018046</td>\n",
       "    </tr>\n",
       "  </tbody>\n",
       "</table>\n",
       "</div>"
      ],
      "text/plain": [
       "  Token  Token ID  Probability\n",
       "0     G         6     0.829705\n",
       "1     D        13     0.054725\n",
       "2     E         9     0.031672\n",
       "3     N        17     0.030222\n",
       "4     S         8     0.018046"
      ]
     },
     "execution_count": 25,
     "metadata": {},
     "output_type": "execute_result"
    }
   ],
   "source": [
    "# Sort tokens by probability\n",
    "token_ids_sort = sorted(enumerate(probas_final[index_of_interest]), key=lambda x: x[1], reverse=True)\n",
    "\n",
    "tokens_sort = [(tokenizer.all_tokens[i], i, p.item()) for i, p in token_ids_sort]\n",
    "\n",
    "tokens_sort_df = pd.DataFrame(tokens_sort, columns=[\"Token\", \"Token ID\", \"Probability\"])\n",
    "tokens_sort_df.head()"
   ]
  },
  {
   "cell_type": "markdown",
   "id": "f440e535-f259-487d-aeed-416ed29b00ff",
   "metadata": {},
   "source": [
    "It's clear that for this position, the amino acid Glycine (G) has a higher likelihood than the wild-type, Serine (S). In this way, we can use ESM-2nv to design novel mutant candidates for downstream testing.\n",
    "\n",
    "There are many ways that we can engineer candidates from ESM-2nv outputs. We can continue finding the top _n_ single-point mutants, find the top _n_ double- or multi-point mutants, randomly sample over the probability space generated by the input sequence, sample only within certain positions of interest (e.g. known active sites), etc. Through this process, a set of mutants can be developed for further _in silico_ or wet lab testing."
   ]
  }
 ],
 "metadata": {
  "kernelspec": {
   "display_name": "Python 3",
   "language": "python",
   "name": "python3"
  },
  "language_info": {
   "codemirror_mode": {
    "name": "ipython",
    "version": 3
   },
   "file_extension": ".py",
   "mimetype": "text/x-python",
   "name": "python",
   "nbconvert_exporter": "python",
   "pygments_lexer": "ipython3",
   "version": "3.12.3"
  }
 },
 "nbformat": 4,
 "nbformat_minor": 5
}
