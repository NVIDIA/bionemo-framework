{
 "cells": [
  {
   "cell_type": "markdown",
   "id": "2481355d",
   "metadata": {},
   "source": [
    "# Inference Sample for EquiDock\n",
    "\n",
    "SPDX-FileCopyrightText: Copyright (c) 2024 NVIDIA CORPORATION & AFFILIATES. All rights reserved.\n",
    "SPDX-License-Identifier: LicenseRef-NvidiaProprietary\n",
    "\n",
    "NVIDIA CORPORATION, its affiliates and licensors retain all intellectual\n",
    "property and proprietary rights in and to this material, related\n",
    "documentation and any modifications thereto. Any use, reproduction,\n",
    "disclosure or distribution of this material and related documentation\n",
    "without an express license agreement from NVIDIA CORPORATION or\n",
    "its affiliates is strictly prohibited.\n",
    "\n",
    "\n",
    "\n",
    "### Prerequisite\n",
    "\n",
    "- Linux OS\n",
    "- Pascal, Volta, Turing, or an NVIDIA Ampere architecture-based GPU.\n",
    "- NVIDIA Driver\n",
    "- Docker\n",
    "\n",
    "#### Import\n",
    "\n",
    "Components for inferencing are part of the BioNeMo EquiDock source code. This notebook demonstrates the use of these components."
   ]
  },
  {
   "cell_type": "code",
   "execution_count": null,
   "id": "e1b3eb7e",
   "metadata": {},
   "outputs": [],
   "source": [
    "import os\n",
    "from pytriton.client import ModelClient\n",
    "from zipfile import ZipFile\n",
    "import tempfile"
   ]
  },
  {
   "cell_type": "code",
   "execution_count": null,
   "id": "0caa90e2",
   "metadata": {},
   "outputs": [],
   "source": [
    "from typing import List\n",
    "from pathlib import Path\n",
    "import os\n",
    "\n",
    "try:\n",
    "    BIONEMO_HOME: Path = Path(os.environ['BIONEMO_HOME']).absolute()\n",
    "except KeyError:\n",
    "    print(\"Must have BIONEMO_HOME set in the environment! See docs for instructions.\")\n",
    "    raise\n",
    "\n",
    "config_path = BIONEMO_HOME / \"examples\" / \"protein\" / \"equidock\" / \"conf\"\n",
    "print(f\"Using model configuration at: {config_path}\")\n",
    "assert config_path.is_dir()"
   ]
  },
  {
   "cell_type": "markdown",
   "id": "3cc2b006",
   "metadata": {},
   "source": [
    "## Inputs\n",
    "\n",
    "### Set input ligand and receptor PDB files"
   ]
  },
  {
   "cell_type": "code",
   "execution_count": null,
   "id": "429bfdf7",
   "metadata": {},
   "outputs": [],
   "source": [
    "## In this notebook example, we will use ligand and receptors files in the test directory\n",
    "test_folder_location = os.path.join(os.path.dirname(os.getcwd()),  \"../../../\") # test directory\n",
    "zip_file_path = \"tests/equidock_test_data/test_sets_pdb/dips_test_random_transformed/random_transformed\" "
   ]
  },
  {
   "cell_type": "code",
   "execution_count": null,
   "id": "b43099e3",
   "metadata": {},
   "outputs": [],
   "source": [
    "ligands_zip = os.path.join(test_folder_location, zip_file_path, \"ligands.zip\")\n",
    "receptors_zip = os.path.join(test_folder_location, zip_file_path, \"receptors.zip\")\n",
    "\n",
    "# Temporary output folder\n",
    "tmp_output_folder = tempfile.TemporaryDirectory()\n",
    "\n",
    "# Select ligand filename for extraction\n",
    "ligand_file = \"a9_1a95.pdb1_3.dill_l_b.pdb\"\n",
    "with ZipFile(ligands_zip, \"r\") as zipper:\n",
    "    zipper.extract(ligand_file, tmp_output_folder.name)\n",
    "\n",
    "print(f\"Ligand extracted to {os.path.join(tmp_output_folder.name, ligand_file)}\")\n",
    "# Receptor filename for extraction\n",
    "receptor_file = \"a9_1a95.pdb1_3.dill_r_b.pdb\"\n",
    "with ZipFile(receptors_zip, \"r\") as zipper:\n",
    "    zipper.extract(receptor_file, tmp_output_folder.name)\n",
    "print(f\"Receptor extracted to {os.path.join(tmp_output_folder.name, receptor_file)}\")"
   ]
  },
  {
   "cell_type": "markdown",
   "id": "33e1c32a",
   "metadata": {},
   "source": [
    "## Ouputs\n",
    "### Set output complex PDB file"
   ]
  },
  {
   "cell_type": "code",
   "execution_count": null,
   "id": "39d19f8e",
   "metadata": {},
   "outputs": [],
   "source": [
    "out_file = \"a9_1a95.pdb1_3.equidock_complex.pdb\"\n",
    "print(f\"Output will be written to {os.path.join(tmp_output_folder.name, out_file)}\")"
   ]
  },
  {
   "cell_type": "markdown",
   "id": "1e39b89d",
   "metadata": {},
   "source": [
    "### Format input/outputs for `pytriton` client"
   ]
  },
  {
   "cell_type": "code",
   "execution_count": null,
   "id": "4c15f8d9",
   "metadata": {},
   "outputs": [],
   "source": [
    "ligand_filename = os.path.join(tmp_output_folder.name, ligand_file)\n",
    "\n",
    "receptor_filename = os.path.join(tmp_output_folder.name, receptor_file)\n",
    "\n",
    "out_filename = os.path.join(tmp_output_folder.name, out_file)"
   ]
  },
  {
   "cell_type": "markdown",
   "id": "b7460102",
   "metadata": {},
   "source": [
    "###  Use ModelClient to run inference on the server\n",
    "\n",
    "EquiDock predicted complex written to `out_filename`"
   ]
  },
  {
   "cell_type": "code",
   "execution_count": null,
   "id": "bd0ee1f3",
   "metadata": {},
   "outputs": [],
   "source": [
    "from bionemo.utils.hydra import load_model_config\n",
    "\n",
    "cfg = load_model_config(config_name=\"infer.yaml\", config_path=config_path)"
   ]
  },
  {
   "cell_type": "markdown",
   "id": "c345aaf9",
   "metadata": {},
   "source": [
    "## Note on steric clashes\n",
    "\n",
    "Some clashes are possible in EquiDock model. EquiDock paper suggests to use SGD optimizer on intersection loss to find optimal translation and rotation. To remove clashes, set flag in postprocessing section of `infer.yaml` or see below.\n",
    "\n",
    "```\n",
    "cfg.postprocess.remove_clashes = True\n",
    "cfg.postprocess.min_loss = 0.5\n",
    "cfg.postprocess.max_iteration = 2000\n",
    "cfg.postprocess.lr = 0.001\n",
    "cfg.postprocess.fast_optimizer = True\n",
    "cfg.postprocess.half_precision = True\n",
    "```"
   ]
  },
  {
   "cell_type": "code",
   "execution_count": null,
   "id": "372e0c76",
   "metadata": {},
   "outputs": [],
   "source": [
    "# cfg.postprocess.remove_clashes = True"
   ]
  },
  {
   "cell_type": "code",
   "execution_count": null,
   "id": "259d9fcc",
   "metadata": {},
   "outputs": [],
   "source": [
    "from bionemo.triton.utils import load_model_for_inference\n",
    "from bionemo.model.protein.equidock.infer import EquiDockInference\n",
    "\n",
    "inferer = load_model_for_inference(cfg, interactive=True)\n",
    "\n",
    "print(f\"Loaded a {type(inferer)}\")\n",
    "assert isinstance(inferer, EquiDockInference)"
   ]
  },
  {
   "cell_type": "code",
   "execution_count": null,
   "id": "cc1fe0aa",
   "metadata": {},
   "outputs": [],
   "source": [
    "predicted_complex = inferer.infer(ligand_filename, receptor_filename, cfg.data)"
   ]
  },
  {
   "cell_type": "code",
   "execution_count": null,
   "id": "8c3bf940",
   "metadata": {},
   "outputs": [],
   "source": [
    "predicted_complex.to_pdb(path=out_filename, records=[\"ATOM\"], gz=False)"
   ]
  },
  {
   "cell_type": "code",
   "execution_count": null,
   "id": "f7482c60",
   "metadata": {},
   "outputs": [],
   "source": [
    "# Install py3Dmol for visualization\n",
    "try:\n",
    "    import py3Dmol\n",
    "except:\n",
    "    !pip install py3Dmol\n",
    "    import py3Dmol"
   ]
  },
  {
   "cell_type": "code",
   "execution_count": null,
   "id": "9fea3b2e",
   "metadata": {},
   "outputs": [],
   "source": [
    "# Load ligand, receptor, and predicted complex files for visualization\n",
    "with open(os.path.join(tmp_output_folder.name, receptor_file)) as ifile:\n",
    "    receptor = \"\".join([x for x in ifile])\n",
    "    \n",
    "with open(os.path.join(tmp_output_folder.name, ligand_file)) as ifile:\n",
    "    ligand = \"\".join([x for x in ifile])\n",
    "\n",
    "with open(os.path.join(tmp_output_folder.name, out_file)) as ifile:\n",
    "    equidock_complex = \"\".join([x for x in ifile])"
   ]
  },
  {
   "cell_type": "code",
   "execution_count": null,
   "id": "de1fe5f9",
   "metadata": {},
   "outputs": [],
   "source": [
    "print(\"Receptor\")\n",
    "view = py3Dmol.view(width=400, height=300)\n",
    "view.addModelsAsFrames(receptor)\n",
    "view.setStyle({'model': -1}, {\"cartoon\": {'color': 'purple'}})\n",
    "view.zoomTo()\n",
    "view.show()"
   ]
  },
  {
   "cell_type": "code",
   "execution_count": null,
   "id": "acdf67eb",
   "metadata": {},
   "outputs": [],
   "source": [
    "print(\"Ligand\")\n",
    "view = py3Dmol.view(width=400, height=300)\n",
    "view.addModelsAsFrames(ligand)\n",
    "view.setStyle({'model': -1}, {\"cartoon\": {'color': 'green'}})\n",
    "view.zoomTo()\n",
    "view.show()"
   ]
  },
  {
   "cell_type": "code",
   "execution_count": null,
   "id": "93cfa55a",
   "metadata": {},
   "outputs": [],
   "source": [
    "print(\"EquiDock complex\")\n",
    "view = py3Dmol.view(width=400, height=300)\n",
    "view.addModelsAsFrames(receptor)\n",
    "view.setStyle({'model': 0}, {\"cartoon\": {'color': 'purple'}})\n",
    "view.addModelsAsFrames(equidock_complex)\n",
    "view.setStyle({'model': 1}, {\"cartoon\": {'color': 'green'}})\n",
    "view.zoomTo()\n",
    "view.show()"
   ]
  }
 ],
 "metadata": {
  "kernelspec": {
   "display_name": "Python 3 (ipykernel)",
   "language": "python",
   "name": "python3"
  },
  "language_info": {
   "codemirror_mode": {
    "name": "ipython",
    "version": 3
   },
   "file_extension": ".py",
   "mimetype": "text/x-python",
   "name": "python",
   "nbconvert_exporter": "python",
   "pygments_lexer": "ipython3",
   "version": "3.10.12"
  }
 },
 "nbformat": 4,
 "nbformat_minor": 5
}
