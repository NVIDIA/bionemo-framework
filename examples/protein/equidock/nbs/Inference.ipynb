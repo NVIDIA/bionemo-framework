{
 "cells": [
  {
   "cell_type": "markdown",
   "id": "237b360b",
   "metadata": {},
   "source": [
    "# Inference Sample for EquiDock\n",
    "\n",
    "SPDX-FileCopyrightText: Copyright (c) <year> NVIDIA CORPORATION & AFFILIATES. All rights reserved.\n",
    "SPDX-License-Identifier: LicenseRef-NvidiaProprietary\n",
    "\n",
    "NVIDIA CORPORATION, its affiliates and licensors retain all intellectual property and proprietary rights in and to this material, related documentation and any modifications thereto. Any use, reproduction, disclosure or distribution of this material and related documentation without an express license agreement from NVIDIA CORPORATION or its affiliates is strictly prohibited.\n"
   ]
  },
  {
   "cell_type": "markdown",
   "id": "1e707d11",
   "metadata": {},
   "source": [
    "## Large Workload\n",
    "\n",
    "If you have large workload, you can use `infer.py` located at `examples/protein/equidock/infer.py`. \n",
    "\n",
    "The inputs to `infer.py` is two zip file each containing PDB files, zip file should be named `ligands.zip` and `receptors.zip`. The PDB files for each complex are named `{PP-Common-name}_l_b.pdb` inside ligands.zip and `{PP-Common-name}_r_b.pdb` inside receptros.zip example below,\n",
    "\n",
    "ligand_file = \"a9_1a95.pdb1_3.dill_l_b.pdb\"\n",
    "receptor_file = \"a9_1a95.pdb1_3.dill_r_b.pdb\"\n",
    "\n",
    "The `infer.py` then returns displaced and rotated ligand protein as PDB file. To use the model with `infer.py` with a new dataset (zip files), one should modify configurations yaml file located under `/examples/protein/equidock/conf/infer.yaml` file. Specifically, following lines.\n",
    "\n",
    "```\n",
    "data:\n",
    "  data_name: db5 # db5, dips for inference\n",
    "  …\n",
    "  data_dir: ${oc.env:BIONEMO_HOME}/tests/equidock_test_data/test_sets_pdb/${data.data_name}_test_random_transformed/random_transformed # folder for new dataset, storing zip files, see above for the naming convention.\n",
    "```\n",
    "The results are written in the exp_dir specified in the same yaml file.\n",
    "\n",
    ":::{note} The Equidock model assumes that the receptor protein in the PP-Complex is fixed in space and does not move; it only return the ligand protein coordinates."
   ]
  },
  {
   "cell_type": "markdown",
   "id": "64c004f1",
   "metadata": {},
   "source": [
    "\n",
    "#### Import\n",
    "\n",
    "Components for inferencing are part of the BioNeMo EquiDock source code. This notebook demonstrates the use of these components."
   ]
  },
  {
   "cell_type": "code",
   "execution_count": null,
   "id": "0c54bb83",
   "metadata": {},
   "outputs": [],
   "source": [
    "import numpy as np\n",
    "from pytriton.client import ModelClient\n",
    "from zipfile import ZipFile\n",
    "import os\n",
    "import tempfile"
   ]
  },
  {
   "cell_type": "markdown",
   "id": "fc359fb5",
   "metadata": {},
   "source": [
    "## Start inference server\n",
    "`python examples/protein/equidock/nbs/infer_server.py --model={model_name} &`\n",
    "\n",
    "`model_name` can be set to one of the two provided models:\n",
    "1. `dips`: Model trained on Databse of Interacting Protein Structures (DIPS)\n",
    "2. `db5`: Model trained on Docking Benchmark 5.5 (DB5.5)"
   ]
  },
  {
   "cell_type": "markdown",
   "id": "15f3169e",
   "metadata": {},
   "source": [
    "## Note on steric clashes\n",
    "\n",
    "Some clashes are possible in EquiDock model. EquiDock paper suggests to use SGD optimizer on intersection loss to find optimal translation and rotation. To remove clashes, set flag in postprocessing section of `infer.yaml` or see below.\n",
    "\n",
    "```\n",
    "cfg.postprocess.remove_clashes = True\n",
    "cfg.postprocess.min_loss = 0.5\n",
    "cfg.postprocess.max_iteration = 2000\n",
    "cfg.postprocess.lr = 0.001\n",
    "cfg.postprocess.fast_optimizer = True\n",
    "```"
   ]
  },
  {
   "cell_type": "markdown",
   "id": "a94052e4",
   "metadata": {},
   "source": [
    "## Inputs\n",
    "\n",
    "### Set input ligand and receptor PDB files"
   ]
  },
  {
   "cell_type": "code",
   "execution_count": null,
   "id": "2db45122",
   "metadata": {},
   "outputs": [],
   "source": [
    "## In this notebook example, we will use ligand and receptors files in the test directory\n",
    "test_folder_location = os.path.join(os.path.dirname(os.getcwd()),  \"../../../\") # test directory\n",
    "zip_file_path = \"tests/equidock_test_data/test_sets_pdb/dips_test_random_transformed/random_transformed\" "
   ]
  },
  {
   "cell_type": "code",
   "execution_count": null,
   "id": "8b906fe1",
   "metadata": {},
   "outputs": [],
   "source": [
    "ligands_zip = os.path.join(test_folder_location, zip_file_path, \"ligands.zip\")\n",
    "receptors_zip = os.path.join(test_folder_location, zip_file_path, \"receptors.zip\")\n",
    "\n",
    "# Temporary output folder\n",
    "tmp_output_folder = tempfile.TemporaryDirectory()\n",
    "\n",
    "# Select ligand filename for extraction\n",
    "ligand_file = \"a9_1a95.pdb1_3.dill_l_b.pdb\"\n",
    "with ZipFile(ligands_zip, \"r\") as zipper:\n",
    "    zipper.extract(ligand_file, tmp_output_folder.name)\n",
    "\n",
    "print(f\"Ligand extracted to {os.path.join(tmp_output_folder.name, ligand_file)}\")\n",
    "# Receptor filename for extraction\n",
    "receptor_file = \"a9_1a95.pdb1_3.dill_r_b.pdb\"\n",
    "with ZipFile(receptors_zip, \"r\") as zipper:\n",
    "    zipper.extract(receptor_file, tmp_output_folder.name)\n",
    "print(f\"Receptor extracted to {os.path.join(tmp_output_folder.name, receptor_file)}\")"
   ]
  },
  {
   "cell_type": "markdown",
   "id": "16cdda59",
   "metadata": {},
   "source": [
    "## Ouputs\n",
    "### Set output complex PDB file"
   ]
  },
  {
   "cell_type": "code",
   "execution_count": null,
   "id": "22d895ce",
   "metadata": {},
   "outputs": [],
   "source": [
    "out_file = \"a9_1a95.pdb1_3.equidock_complex.pdb\"\n",
    "print(f\"Output will be written to {os.path.join(tmp_output_folder.name, out_file)}\")"
   ]
  },
  {
   "cell_type": "markdown",
   "id": "5a164af9",
   "metadata": {},
   "source": [
    "### Format input/outputs for `pytriton` client"
   ]
  },
  {
   "cell_type": "code",
   "execution_count": null,
   "id": "a7904617",
   "metadata": {
    "scrolled": false
   },
   "outputs": [],
   "source": [
    "ligand_filename = np.array([[os.path.join(tmp_output_folder.name, ligand_file)]])\n",
    "ligand_filename = np.char.encode(ligand_filename, \"utf-8\")\n",
    "\n",
    "receptor_filename = np.array([[os.path.join(tmp_output_folder.name, receptor_file)]])\n",
    "receptor_filename = np.char.encode(receptor_filename, \"utf-8\")\n",
    "\n",
    "out_filename = np.array([[os.path.join(tmp_output_folder.name, out_file)]])\n",
    "out_filename = np.char.encode(out_filename, \"utf-8\")    "
   ]
  },
  {
   "cell_type": "markdown",
   "id": "9c7b9006",
   "metadata": {},
   "source": [
    "###  Use ModelClient to run inference on the server\n",
    "\n",
    "EquiDock predicted complex written to `out_filename`"
   ]
  },
  {
   "cell_type": "code",
   "execution_count": null,
   "id": "96877d3a",
   "metadata": {},
   "outputs": [],
   "source": [
    "with ModelClient(\"localhost\", \"bionemo_model\") as client:\n",
    "    _ = client.infer_batch(ligand_filename, receptor_filename, out_filename)"
   ]
  },
  {
   "cell_type": "code",
   "execution_count": null,
   "id": "479354a8",
   "metadata": {},
   "outputs": [],
   "source": [
    "# Install py3Dmol for visualization\n",
    "try:\n",
    "    import py3Dmol\n",
    "except:\n",
    "    !pip install py3Dmol\n",
    "    import py3Dmol"
   ]
  },
  {
   "cell_type": "code",
   "execution_count": null,
   "id": "a4f042a9",
   "metadata": {},
   "outputs": [],
   "source": [
    "# Load ligand, receptor, and predicted complex files for visualization\n",
    "with open(os.path.join(tmp_output_folder.name, receptor_file)) as ifile:\n",
    "    receptor = \"\".join([x for x in ifile])\n",
    "    \n",
    "with open(os.path.join(tmp_output_folder.name, ligand_file)) as ifile:\n",
    "    ligand = \"\".join([x for x in ifile])\n",
    "\n",
    "with open(os.path.join(tmp_output_folder.name, out_file)) as ifile:\n",
    "    equidock_complex = \"\".join([x for x in ifile])"
   ]
  },
  {
   "cell_type": "code",
   "execution_count": null,
   "id": "4787c333",
   "metadata": {},
   "outputs": [],
   "source": [
    "print(\"Receptor\")\n",
    "view = py3Dmol.view(width=400, height=300)\n",
    "view.addModelsAsFrames(receptor)\n",
    "view.setStyle({'model': -1}, {\"cartoon\": {'color': 'purple'}})\n",
    "view.zoomTo()\n",
    "view.show()"
   ]
  },
  {
   "cell_type": "code",
   "execution_count": null,
   "id": "09471368",
   "metadata": {},
   "outputs": [],
   "source": [
    "print(\"Ligand\")\n",
    "view = py3Dmol.view(width=400, height=300)\n",
    "view.addModelsAsFrames(ligand)\n",
    "view.setStyle({'model': -1}, {\"cartoon\": {'color': 'green'}})\n",
    "view.zoomTo()\n",
    "view.show()"
   ]
  },
  {
   "cell_type": "code",
   "execution_count": null,
   "id": "5e07f719",
   "metadata": {},
   "outputs": [],
   "source": [
    "print(\"EquiDock complex\")\n",
    "view = py3Dmol.view(width=400, height=300)\n",
    "view.addModelsAsFrames(receptor)\n",
    "view.setStyle({'model': 0}, {\"cartoon\": {'color': 'purple'}})\n",
    "view.addModelsAsFrames(equidock_complex)\n",
    "view.setStyle({'model': 1}, {\"cartoon\": {'color': 'green'}})\n",
    "view.zoomTo()\n",
    "view.show()"
   ]
  },
  {
   "cell_type": "code",
   "execution_count": null,
   "id": "85d11314",
   "metadata": {},
   "outputs": [],
   "source": [
    "tmp_output_folder.cleanup()"
   ]
  }
 ],
 "metadata": {
  "kernelspec": {
   "display_name": "Python 3 (ipykernel)",
   "language": "python",
   "name": "python3"
  },
  "language_info": {
   "codemirror_mode": {
    "name": "ipython",
    "version": 3
   },
   "file_extension": ".py",
   "mimetype": "text/x-python",
   "name": "python",
   "nbconvert_exporter": "python",
   "pygments_lexer": "ipython3",
   "version": "3.10.12"
  }
 },
 "nbformat": 4,
 "nbformat_minor": 5
}
