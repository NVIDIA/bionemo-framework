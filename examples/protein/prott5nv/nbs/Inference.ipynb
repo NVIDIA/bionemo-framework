{
 "cells": [
  {
   "cell_type": "markdown",
   "id": "c1390789",
   "metadata": {},
   "source": [
    "# Inference Sample for ProtT5nv\n",
    "\n",
    "SPDX-FileCopyrightText: Copyright (c) <year> NVIDIA CORPORATION & AFFILIATES. All rights reserved.\n",
    "SPDX-License-Identifier: LicenseRef-NvidiaProprietary\n",
    "\n",
    "NVIDIA CORPORATION, its affiliates and licensors retain all intellectual property and proprietary rights in and to this material, related documentation and any modifications thereto. Any use, reproduction, disclosure or distribution of this material and related documentation without an express license agreement from NVIDIA CORPORATION or its affiliates is strictly prohibited.\n",
    "\n",
    "### Prerequisite\n",
    "\n",
    "- Linux OS\n",
    "- Pascal, Volta, Turing, or an NVIDIA Ampere architecture-based GPU.\n",
    "- NVIDIA Driver\n",
    "- Docker\n",
    "\n",
    "#### Import\n",
    "\n",
    "Components for inferencing are part of the BioNeMo ProtT5nv source code. This notebook demonstrates the use of these components.\n",
    "\n",
    "__`ProtT5nvInferenceWrapper`__ implements __`seq_to_embedding`__ function to obtain encoder embeddings for the input protein sequence in text format. \n",
    "\n",
    "Note that gRPC limits request size to 4MB.\n"
   ]
  },
  {
   "cell_type": "code",
   "execution_count": 1,
   "id": "33ba3078",
   "metadata": {},
   "outputs": [],
   "source": [
    "from bionemo.triton.inference_wrapper import new_inference_wrapper\n",
    "import warnings\n",
    "\n",
    "warnings.filterwarnings('ignore')\n",
    "warnings.simplefilter('ignore')"
   ]
  },
  {
   "cell_type": "code",
   "execution_count": null,
   "id": "bdac223a",
   "metadata": {},
   "outputs": [],
   "source": [
    "connection = new_inference_wrapper(\"grpc://localhost:8001\")\n",
    "\n",
    "seqs = [\n",
    "    'MSLKRKNIALIPAAGIGVRFGADKPKQYVEIGSKTVLEHVL', 'MIQSQINRNIRLDLADAILLSKAKKDLSFAEIADGTGLA',\n",
    "]"
   ]
  },
  {
   "cell_type": "markdown",
   "id": "b986e73b",
   "metadata": {},
   "source": [
    "### Sequence to Hidden States\n",
    "\n",
    "__`seq_to_hiddens`__ queries the model to fetch the encoder hiddens states for the input protein sequence. `enc_mask` is returned with `hidden_states` and contains padding information  "
   ]
  },
  {
   "cell_type": "code",
   "execution_count": null,
   "id": "e6416359",
   "metadata": {},
   "outputs": [],
   "source": [
    "hidden_states, pad_masks = connection.seqs_to_hidden(seqs)\n",
    "print(f\"{hidden_states.shape=}\")\n",
    "print(f\"{pad_masks.shape=}\")\n",
    "assert tuple(hidden_states.shape) == (2, 41, 768)\n",
    "assert tuple(pad_masks.shape) == (2, 41)"
   ]
  },
  {
   "cell_type": "markdown",
   "id": "6fddc8d8",
   "metadata": {},
   "source": [
    "### Hidden States to Embedding\n",
    "\n",
    "__`hiddens_to_embedding`__ computes embedding vector by averaging `hidden_states` "
   ]
  },
  {
   "cell_type": "code",
   "execution_count": null,
   "id": "36056230",
   "metadata": {},
   "outputs": [],
   "source": [
    "embeddings = connection.hiddens_to_embedding(hidden_states, pad_masks)\n",
    "print(f\"{embeddings.shape=}\")\n",
    "assert tuple(embeddings.shape) == (2, 768)"
   ]
  },
  {
   "cell_type": "markdown",
   "id": "e6077721",
   "metadata": {},
   "source": [
    "### Sequence to Embedding\n",
    "\n",
    "__`seq_to_embedding`__  queries the model to fetch the encoder hiddens states and computes embedding vector"
   ]
  },
  {
   "cell_type": "code",
   "execution_count": null,
   "id": "92688727",
   "metadata": {},
   "outputs": [],
   "source": [
    "embeddings = connection.seqs_to_embedding(seqs)\n",
    "print(f\"{embeddings.shape=}\")\n",
    "assert tuple(embeddings.shape) == (2, 768)"
   ]
  }
 ],
 "metadata": {
  "kernelspec": {
   "display_name": "Python 3 (ipykernel)",
   "language": "python",
   "name": "python3"
  },
  "language_info": {
   "codemirror_mode": {
    "name": "ipython",
    "version": 3
   },
   "file_extension": ".py",
   "mimetype": "text/x-python",
   "name": "python",
   "nbconvert_exporter": "python",
   "pygments_lexer": "ipython3",
   "version": "3.10.12"
  },
  "vscode": {
   "interpreter": {
    "hash": "31f2aee4e71d21fbe5cf8b01ff0e069b9275f58929596ceb00d14d90e3e16cd6"
   }
  }
 },
 "nbformat": 4,
 "nbformat_minor": 5
}
