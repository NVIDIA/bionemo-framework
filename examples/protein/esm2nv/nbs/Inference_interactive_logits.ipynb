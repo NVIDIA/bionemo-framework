{
 "cells": [
  {
   "cell_type": "markdown",
   "id": "32ab51c8",
   "metadata": {},
   "source": [
    "# Inference Example for ESM2nv - Logit Sampling\n",
    "\n",
    "## Modified for logit/proba extraction\n",
    "Adrian Lange, A-Alpha Bio\n",
    "\n",
    "This notebook provides example code to extract ESM2nv logits from the language model head. Three example usages are also provided:\n",
    "\n",
    "1. Probability heatmap for each residue, argmax, posterior probability\n",
    "2. Infer probability of individual masked residues\n",
    "3. In-painting multiple masked residues\n",
    "\n",
    "---------------\n",
    "\n",
    "SPDX-FileCopyrightText: Copyright (c) <year> NVIDIA CORPORATION & AFFILIATES. All rights reserved.\n",
    "SPDX-License-Identifier: LicenseRef-NvidiaProprietary\n",
    "\n",
    "NVIDIA CORPORATION, its affiliates and licensors retain all intellectual property and proprietary rights in and to this material, related documentation and any modifications thereto. Any use, reproduction, disclosure or distribution of this material and related documentation without an express license agreement from NVIDIA CORPORATION or its affiliates is strictly prohibited.\n",
    "\n",
    "### Prerequisite\n",
    "\n",
    "- Linux OS\n",
    "- Pascal, Volta, Turing, or an NVIDIA Ampere architecture-based GPU.\n",
    "- NVIDIA Driver\n",
    "- Docker\n",
    "\n",
    "#### Import\n",
    "\n",
    "Components for inferencing are part of the BioNeMo ESM source code. This notebook demonstrates the use of these components.\n",
    "\n",
    "__`ESMInferenceWrapper`__ implements __`seq_to_embedding`__ function to obtain encoder embeddings for the input protein sequence in text format. \n",
    "\n",
    "\n",
    "To run this notebook, you should launch the gRPC client in your terminal beforehand. \n",
    "\n",
    "The following command is an example of launching the gRPC inference client using the esm2-650M checkpoints:\n",
    "\n",
    "```python3 -m bionemo.model.protein.esm1nv.grpc.service --model esm2nv_650M```\n",
    "\n",
    "Note that gRPC limits request size to 4MB.\n"
   ]
  },
  {
   "cell_type": "code",
   "execution_count": 1,
   "id": "b772360c",
   "metadata": {
    "collapsed": false,
    "jupyter": {
     "outputs_hidden": false
    }
   },
   "outputs": [],
   "source": [
    "import warnings\n",
    "\n",
    "warnings.filterwarnings('ignore')\n",
    "warnings.simplefilter('ignore')"
   ]
  },
  {
   "cell_type": "code",
   "execution_count": 2,
   "id": "24a9f805",
   "metadata": {},
   "outputs": [],
   "source": [
    "import numpy as np\n",
    "import torch\n",
    "from torch.cuda.amp import autocast\n",
    "from scipy.stats import gmean\n",
    "\n",
    "# For an optional visualization\n",
    "import matplotlib.pyplot as plt"
   ]
  },
  {
   "cell_type": "code",
   "execution_count": 3,
   "id": "a863931a",
   "metadata": {},
   "outputs": [
    {
     "name": "stdout",
     "output_type": "stream",
     "text": [
      "Using model configuration at: /workspace/bionemo/examples/protein/esm2nv/conf\n"
     ]
    }
   ],
   "source": [
    "from pathlib import Path\n",
    "import os\n",
    "\n",
    "try:\n",
    "    BIONEMO_HOME: Path = Path(os.environ['BIONEMO_HOME']).absolute()\n",
    "except KeyError:\n",
    "    print(\"Must have BIONEMO_HOME set in the environment! See docs for instructions.\")\n",
    "    raise\n",
    "\n",
    "config_path = BIONEMO_HOME / \"examples\" / \"protein\" / \"esm2nv\" / \"conf\"\n",
    "print(f\"Using model configuration at: {config_path}\")\n",
    "assert config_path.is_dir()"
   ]
  },
  {
   "cell_type": "markdown",
   "id": "4c3d1a02",
   "metadata": {},
   "source": [
    "### Setup and Test Data"
   ]
  },
  {
   "cell_type": "code",
   "execution_count": 4,
   "id": "9d596aa8",
   "metadata": {},
   "outputs": [],
   "source": [
    "seqs = [\n",
    "    'MSLKRKNIALIPAAGIGVRFGADKPKQYVEIGSKTVLEHVL', \n",
    "    'MIQSQINRNIRLDLADAILLSKAKKDLSFAEIADGTGLA',\n",
    "]"
   ]
  },
  {
   "cell_type": "code",
   "execution_count": 5,
   "id": "8b25e533",
   "metadata": {},
   "outputs": [
    {
     "name": "stdout",
     "output_type": "stream",
     "text": [
      "NOTE! Installing ujson may make loading annotations faster.\n"
     ]
    },
    {
     "name": "stderr",
     "output_type": "stream",
     "text": [
      "INFO:rdkit:Enabling RDKit 2023.09.1 jupyter extensions\n"
     ]
    }
   ],
   "source": [
    "from bionemo.triton.utils import load_model_config\n",
    "\n",
    "# Load the slightly modified inference config for working with the language model head\n",
    "cfg = load_model_config(config_path, config_name=\"infer_logits.yaml\")"
   ]
  },
  {
   "cell_type": "code",
   "execution_count": 6,
   "id": "bce7be6c",
   "metadata": {},
   "outputs": [
    {
     "name": "stdout",
     "output_type": "stream",
     "text": [
      "[NeMo I 2024-08-23 15:48:12 utils:426] pytorch DDP is not initialized. Initializing with pytorch-lightening...\n"
     ]
    },
    {
     "name": "stderr",
     "output_type": "stream",
     "text": [
      "[NeMo W 2024-08-23 15:48:12 nemo_logging:349] /usr/local/lib/python3.10/dist-packages/pytorch_lightning/trainer/connectors/accelerator_connector.py:478: LightningDeprecationWarning: Setting `Trainer(gpus=1)` is deprecated in v1.7 and will be removed in v2.0. Please use `Trainer(accelerator='gpu', devices=1)` instead.\n",
      "      rank_zero_deprecation(\n",
      "    \n",
      "GPU available: True (cuda), used: True\n",
      "TPU available: False, using: 0 TPU cores\n",
      "IPU available: False, using: 0 IPUs\n",
      "HPU available: False, using: 0 HPUs\n"
     ]
    },
    {
     "name": "stdout",
     "output_type": "stream",
     "text": [
      "[NeMo I 2024-08-23 15:48:12 utils:277] Restoring model from /workspace/bionemo/models/protein/esm2nv/esm2nv_3B_converted.nemo\n",
      "[NeMo I 2024-08-23 15:48:12 utils:281] Loading model class: bionemo.model.protein.esm1nv.esm1nv_model.ESM2nvModel\n"
     ]
    },
    {
     "name": "stderr",
     "output_type": "stream",
     "text": [
      "[NeMo W 2024-08-23 15:48:12 nemo_logging:349] /usr/local/lib/python3.10/dist-packages/pytorch_lightning/plugins/precision/native_amp.py:131: LightningDeprecationWarning: The `NativeMixedPrecisionPlugin` class has been renamed in v1.9.0 and will be removed in v2.0.0. Please use `pytorch_lightning.plugins.MixedPrecisionPlugin` instead.\n",
      "      rank_zero_deprecation(\n",
      "    \n",
      "GPU available: True (cuda), used: True\n",
      "TPU available: False, using: 0 TPU cores\n",
      "IPU available: False, using: 0 IPUs\n",
      "HPU available: False, using: 0 HPUs\n"
     ]
    },
    {
     "name": "stdout",
     "output_type": "stream",
     "text": [
      "Interactive mode selected, using strategy='auto'\n",
      "[NeMo I 2024-08-23 15:48:12 exp_manager:374] Experiments will be logged at /workspace/bionemo/examples/protein/esm2nv/nemo_experiments/ESM2nv_Inference/2024-08-23_15-48-12\n",
      "[NeMo I 2024-08-23 15:48:12 exp_manager:797] TensorboardLogger has been set up\n",
      "[NeMo I 2024-08-23 15:48:12 utils:250] \n",
      "    \n",
      "    ************** Trainer configuration ***********\n",
      "[NeMo I 2024-08-23 15:48:12 utils:251] \n",
      "    name: ESM2nv_Inference\n",
      "    desc: Minimum configuration for initializing a ESM2nv model for inference.\n",
      "    trainer:\n",
      "      precision: 16\n",
      "      devices: 1\n",
      "      num_nodes: 1\n",
      "      accelerator: gpu\n",
      "      logger: null\n",
      "      accumulate_grad_batches: 1\n",
      "    exp_manager:\n",
      "      explicit_log_dir: null\n",
      "      exp_dir: null\n",
      "      name: ${name}\n",
      "      create_checkpoint_callback: false\n",
      "    model:\n",
      "      micro_batch_size: ${model.data.batch_size}\n",
      "      tensor_model_parallel_size: 1\n",
      "      pipeline_model_parallel_size: 1\n",
      "      seq_length: 1024\n",
      "      max_position_embeddings: 1024\n",
      "      encoder_seq_length: 1024\n",
      "      num_layers: 36\n",
      "      hidden_size: 2560\n",
      "      ffn_hidden_size: 10240\n",
      "      num_attention_heads: 40\n",
      "      init_method_std: 0.02\n",
      "      hidden_dropout: 0\n",
      "      kv_channels: null\n",
      "      apply_query_key_layer_scaling: true\n",
      "      layernorm_epsilon: 1.0e-05\n",
      "      make_vocab_size_divisible_by: 128\n",
      "      pre_process: true\n",
      "      post_process: true\n",
      "      bert_binary_head: false\n",
      "      resume_from_checkpoint: null\n",
      "      masked_softmax_fusion: true\n",
      "      tokenizer:\n",
      "        library: huggingface\n",
      "        type: BertWordPieceLowerCase\n",
      "        model: null\n",
      "        vocab_file: null\n",
      "        merge_file: null\n",
      "        mask_id: 32\n",
      "        model_name: facebook/esm2_t36_3B_UR50D\n",
      "        vocab_path: null\n",
      "        model_path: null\n",
      "      native_amp_init_scale: 4294967296\n",
      "      native_amp_growth_interval: 1000\n",
      "      fp32_residual_connection: false\n",
      "      fp16_lm_cross_entropy: false\n",
      "      seed: 1234\n",
      "      use_cpu_initialization: false\n",
      "      onnx_safe: false\n",
      "      activations_checkpoint_method: null\n",
      "      activations_checkpoint_num_layers: 1\n",
      "      data:\n",
      "        ngc_registry_target: uniref50_2022_05\n",
      "        ngc_registry_version: v23.06\n",
      "        data_prefix: ''\n",
      "        num_workers: 4\n",
      "        dataloader_type: single\n",
      "        reset_position_ids: false\n",
      "        reset_attention_mask: false\n",
      "        eod_mask_loss: false\n",
      "        masked_lm_prob: 0.15\n",
      "        short_seq_prob: 0.1\n",
      "        skip_lines: 0\n",
      "        drop_last: false\n",
      "        pin_memory: false\n",
      "        index_mapping_dir: null\n",
      "        data_impl: ''\n",
      "        data_impl_kwargs:\n",
      "          csv_mmap:\n",
      "            header_lines: 1\n",
      "            newline_int: 10\n",
      "            workers: 10\n",
      "            sort_dataset_paths: true\n",
      "            data_sep: ','\n",
      "            data_col: 3\n",
      "          csv_fields_mmap:\n",
      "            newline_int: 10\n",
      "            header_lines: 1\n",
      "            workers: null\n",
      "            sort_dataset_paths: false\n",
      "            data_sep: ','\n",
      "            data_fields:\n",
      "              id: 0\n",
      "              sequence: 1\n",
      "          fasta_fields_mmap:\n",
      "            data_fields:\n",
      "              id: 0\n",
      "              sequence: 1\n",
      "        use_upsampling: true\n",
      "        seed: 1234\n",
      "        max_seq_length: 1024\n",
      "        dataset_path: ${oc.env:BIONEMO_HOME}/data/FLIP/secondary_structure/test/x000\n",
      "        dataset:\n",
      "          train: x[000..049]\n",
      "          test: x[000..049]\n",
      "          val: x[000..049]\n",
      "        micro_batch_size: 32\n",
      "        global_batch_size: null\n",
      "        modify_percent: 0.1\n",
      "        perturb_percent: 0.5\n",
      "        batch_size: 32\n",
      "        output_fname: ''\n",
      "        data_fields_map:\n",
      "          sequence: sequence\n",
      "          id: id\n",
      "      optim:\n",
      "        name: fused_adam\n",
      "        lr: 0.0004\n",
      "        weight_decay: 0.01\n",
      "        betas:\n",
      "        - 0.9\n",
      "        - 0.98\n",
      "        sched:\n",
      "          name: CosineAnnealing\n",
      "          warmup_steps: 2000\n",
      "          constant_steps: 50000\n",
      "          min_lr: 4.0e-05\n",
      "      dwnstr_task_validation:\n",
      "        enabled: true\n",
      "        dataset:\n",
      "          class: PerTokenPredictionCallback\n",
      "          task_type: token-level-classification\n",
      "          infer_target: bionemo.model.protein.esm1nv.infer.ESM1nvInference\n",
      "          max_seq_length: 1024\n",
      "          emb_batch_size: 128\n",
      "          batch_size: 128\n",
      "          num_epochs: 10\n",
      "          shuffle: true\n",
      "          num_workers: 8\n",
      "          task_name: secondary_structure\n",
      "          dataset_path: /data/FLIP/secondary_structure\n",
      "          dataset:\n",
      "            train: x000\n",
      "            test: x000\n",
      "          sequence_column: sequence\n",
      "          target_column:\n",
      "          - 3state\n",
      "          - resolved\n",
      "          target_sizes:\n",
      "          - 3\n",
      "          - 2\n",
      "          mask_column:\n",
      "          - resolved\n",
      "          - null\n",
      "          random_seed: 1234\n",
      "          optim:\n",
      "            name: adam\n",
      "            lr: 0.0001\n",
      "            betas:\n",
      "            - 0.9\n",
      "            - 0.999\n",
      "            eps: 1.0e-08\n",
      "            weight_decay: 0.01\n",
      "            sched:\n",
      "              name: WarmupAnnealing\n",
      "              min_lr: 1.0e-05\n",
      "              last_epoch: -1\n",
      "              warmup_ratio: 0.01\n",
      "              max_steps: 1000\n",
      "      precision: 16\n",
      "      megatron_legacy: false\n",
      "      position_embedding_type: rope\n",
      "      embedding_use_attention_mask: true\n",
      "      embedding_token_dropout: true\n",
      "      mask_token_id: 32\n",
      "      attention_dropout: 0.0\n",
      "      use_esm_attention: true\n",
      "      normalize_attention_scores: false\n",
      "      esm_gelu: true\n",
      "      bias_gelu_fusion: false\n",
      "      use_pt_layernorm: false\n",
      "      use_pt_mlp_out: false\n",
      "      target: bionemo.model.protein.esm1nv.esm1nv_model.ESM2nvModel\n",
      "      nemo_version: 1.20.0\n",
      "      downstream_task:\n",
      "        restore_from_path: ${oc.env:BIONEMO_HOME}/models/protein/esm2nv/esm2nv_3B_converted.nemo\n",
      "        outputs:\n",
      "        - embeddings\n",
      "        - hiddens\n",
      "      global_batch_size: 32\n",
      "    target: bionemo.model.protein.esm1nv.esm1nv_model.ESM2nvModel\n",
      "    infer_target: bionemo.model.protein.esm1nv.infer.ESM1nvInference\n",
      "    formatters:\n",
      "      simple:\n",
      "        format: '[%(asctime)s][%(name)s][%(levelname)s] - %(message)s'\n",
      "    handlers:\n",
      "      console:\n",
      "        class: logging.StreamHandler\n",
      "        formatter: simple\n",
      "        stream: ext://sys.stdout\n",
      "      file:\n",
      "        class: logging.FileHandler\n",
      "        formatter: simple\n",
      "        filename: /logs/inference.log\n",
      "    root:\n",
      "      level: INFO\n",
      "      handlers:\n",
      "      - console\n",
      "    disable_existing_loggers: false\n",
      "    \n",
      "[NeMo I 2024-08-23 15:48:19 megatron_init:234] Rank 0 has data parallel group: [0]\n",
      "[NeMo I 2024-08-23 15:48:19 megatron_init:237] All data parallel group ranks: [[0]]\n",
      "[NeMo I 2024-08-23 15:48:19 megatron_init:238] Ranks 0 has data parallel rank: 0\n",
      "[NeMo I 2024-08-23 15:48:19 megatron_init:246] Rank 0 has model parallel group: [0]\n",
      "[NeMo I 2024-08-23 15:48:19 megatron_init:247] All model parallel group ranks: [[0]]\n",
      "[NeMo I 2024-08-23 15:48:19 megatron_init:257] Rank 0 has tensor model parallel group: [0]\n",
      "[NeMo I 2024-08-23 15:48:19 megatron_init:261] All tensor model parallel group ranks: [[0]]\n",
      "[NeMo I 2024-08-23 15:48:19 megatron_init:262] Rank 0 has tensor model parallel rank: 0\n",
      "[NeMo I 2024-08-23 15:48:19 megatron_init:276] Rank 0 has pipeline model parallel group: [0]\n",
      "[NeMo I 2024-08-23 15:48:19 megatron_init:288] Rank 0 has embedding group: [0]\n",
      "[NeMo I 2024-08-23 15:48:19 megatron_init:294] All pipeline model parallel group ranks: [[0]]\n",
      "[NeMo I 2024-08-23 15:48:19 megatron_init:295] Rank 0 has pipeline model parallel rank 0\n",
      "[NeMo I 2024-08-23 15:48:19 megatron_init:296] All embedding group ranks: [[0]]\n",
      "[NeMo I 2024-08-23 15:48:19 megatron_init:297] Rank 0 has embedding rank: 0\n",
      "[NeMo I 2024-08-23 15:48:19 tokenizer_utils:182] Getting HuggingFace AutoTokenizer with pretrained_model_name: facebook/esm2_t36_3B_UR50D\n",
      "[NeMo I 2024-08-23 15:48:19 megatron_base_model:264] Padded vocab_size: 128, original vocab_size: 33, dummy tokens: 95.\n"
     ]
    },
    {
     "name": "stderr",
     "output_type": "stream",
     "text": [
      "[NeMo W 2024-08-23 15:48:19 base:92] Using custom ESM2 Embeddings instead of the default NeMo version\n",
      "[NeMo W 2024-08-23 15:48:19 attention:87] Using custom ESM2 attention instead of the default NeMo version\n",
      "[NeMo W 2024-08-23 15:48:19 mlp:199] Using custom ESM2 GELU function instead of the default NeMo version\n",
      "[NeMo W 2024-08-23 15:48:19 attention:87] Using custom ESM2 attention instead of the default NeMo version\n",
      "[NeMo W 2024-08-23 15:48:19 mlp:199] Using custom ESM2 GELU function instead of the default NeMo version\n",
      "[NeMo W 2024-08-23 15:48:19 attention:87] Using custom ESM2 attention instead of the default NeMo version\n",
      "[NeMo W 2024-08-23 15:48:19 mlp:199] Using custom ESM2 GELU function instead of the default NeMo version\n",
      "[NeMo W 2024-08-23 15:48:19 attention:87] Using custom ESM2 attention instead of the default NeMo version\n",
      "[NeMo W 2024-08-23 15:48:19 mlp:199] Using custom ESM2 GELU function instead of the default NeMo version\n",
      "[NeMo W 2024-08-23 15:48:19 attention:87] Using custom ESM2 attention instead of the default NeMo version\n",
      "[NeMo W 2024-08-23 15:48:19 mlp:199] Using custom ESM2 GELU function instead of the default NeMo version\n",
      "[NeMo W 2024-08-23 15:48:19 attention:87] Using custom ESM2 attention instead of the default NeMo version\n",
      "[NeMo W 2024-08-23 15:48:19 mlp:199] Using custom ESM2 GELU function instead of the default NeMo version\n",
      "[NeMo W 2024-08-23 15:48:19 attention:87] Using custom ESM2 attention instead of the default NeMo version\n",
      "[NeMo W 2024-08-23 15:48:19 mlp:199] Using custom ESM2 GELU function instead of the default NeMo version\n",
      "[NeMo W 2024-08-23 15:48:20 attention:87] Using custom ESM2 attention instead of the default NeMo version\n",
      "[NeMo W 2024-08-23 15:48:20 mlp:199] Using custom ESM2 GELU function instead of the default NeMo version\n",
      "[NeMo W 2024-08-23 15:48:20 attention:87] Using custom ESM2 attention instead of the default NeMo version\n",
      "[NeMo W 2024-08-23 15:48:20 mlp:199] Using custom ESM2 GELU function instead of the default NeMo version\n",
      "[NeMo W 2024-08-23 15:48:20 attention:87] Using custom ESM2 attention instead of the default NeMo version\n",
      "[NeMo W 2024-08-23 15:48:20 mlp:199] Using custom ESM2 GELU function instead of the default NeMo version\n",
      "[NeMo W 2024-08-23 15:48:20 attention:87] Using custom ESM2 attention instead of the default NeMo version\n",
      "[NeMo W 2024-08-23 15:48:20 mlp:199] Using custom ESM2 GELU function instead of the default NeMo version\n",
      "[NeMo W 2024-08-23 15:48:20 attention:87] Using custom ESM2 attention instead of the default NeMo version\n",
      "[NeMo W 2024-08-23 15:48:20 mlp:199] Using custom ESM2 GELU function instead of the default NeMo version\n",
      "[NeMo W 2024-08-23 15:48:20 attention:87] Using custom ESM2 attention instead of the default NeMo version\n",
      "[NeMo W 2024-08-23 15:48:20 mlp:199] Using custom ESM2 GELU function instead of the default NeMo version\n",
      "[NeMo W 2024-08-23 15:48:20 attention:87] Using custom ESM2 attention instead of the default NeMo version\n",
      "[NeMo W 2024-08-23 15:48:20 mlp:199] Using custom ESM2 GELU function instead of the default NeMo version\n",
      "[NeMo W 2024-08-23 15:48:20 attention:87] Using custom ESM2 attention instead of the default NeMo version\n",
      "[NeMo W 2024-08-23 15:48:20 mlp:199] Using custom ESM2 GELU function instead of the default NeMo version\n",
      "[NeMo W 2024-08-23 15:48:20 attention:87] Using custom ESM2 attention instead of the default NeMo version\n",
      "[NeMo W 2024-08-23 15:48:20 mlp:199] Using custom ESM2 GELU function instead of the default NeMo version\n",
      "[NeMo W 2024-08-23 15:48:20 attention:87] Using custom ESM2 attention instead of the default NeMo version\n",
      "[NeMo W 2024-08-23 15:48:20 mlp:199] Using custom ESM2 GELU function instead of the default NeMo version\n",
      "[NeMo W 2024-08-23 15:48:20 attention:87] Using custom ESM2 attention instead of the default NeMo version\n",
      "[NeMo W 2024-08-23 15:48:20 mlp:199] Using custom ESM2 GELU function instead of the default NeMo version\n",
      "[NeMo W 2024-08-23 15:48:20 attention:87] Using custom ESM2 attention instead of the default NeMo version\n",
      "[NeMo W 2024-08-23 15:48:20 mlp:199] Using custom ESM2 GELU function instead of the default NeMo version\n",
      "[NeMo W 2024-08-23 15:48:20 attention:87] Using custom ESM2 attention instead of the default NeMo version\n",
      "[NeMo W 2024-08-23 15:48:20 mlp:199] Using custom ESM2 GELU function instead of the default NeMo version\n",
      "[NeMo W 2024-08-23 15:48:20 attention:87] Using custom ESM2 attention instead of the default NeMo version\n",
      "[NeMo W 2024-08-23 15:48:20 mlp:199] Using custom ESM2 GELU function instead of the default NeMo version\n",
      "[NeMo W 2024-08-23 15:48:20 attention:87] Using custom ESM2 attention instead of the default NeMo version\n",
      "[NeMo W 2024-08-23 15:48:20 mlp:199] Using custom ESM2 GELU function instead of the default NeMo version\n",
      "[NeMo W 2024-08-23 15:48:20 attention:87] Using custom ESM2 attention instead of the default NeMo version\n",
      "[NeMo W 2024-08-23 15:48:20 mlp:199] Using custom ESM2 GELU function instead of the default NeMo version\n",
      "[NeMo W 2024-08-23 15:48:20 attention:87] Using custom ESM2 attention instead of the default NeMo version\n",
      "[NeMo W 2024-08-23 15:48:20 mlp:199] Using custom ESM2 GELU function instead of the default NeMo version\n",
      "[NeMo W 2024-08-23 15:48:20 attention:87] Using custom ESM2 attention instead of the default NeMo version\n",
      "[NeMo W 2024-08-23 15:48:20 mlp:199] Using custom ESM2 GELU function instead of the default NeMo version\n",
      "[NeMo W 2024-08-23 15:48:20 attention:87] Using custom ESM2 attention instead of the default NeMo version\n",
      "[NeMo W 2024-08-23 15:48:20 mlp:199] Using custom ESM2 GELU function instead of the default NeMo version\n",
      "[NeMo W 2024-08-23 15:48:20 attention:87] Using custom ESM2 attention instead of the default NeMo version\n",
      "[NeMo W 2024-08-23 15:48:20 mlp:199] Using custom ESM2 GELU function instead of the default NeMo version\n",
      "[NeMo W 2024-08-23 15:48:20 attention:87] Using custom ESM2 attention instead of the default NeMo version\n",
      "[NeMo W 2024-08-23 15:48:20 mlp:199] Using custom ESM2 GELU function instead of the default NeMo version\n",
      "[NeMo W 2024-08-23 15:48:20 attention:87] Using custom ESM2 attention instead of the default NeMo version\n",
      "[NeMo W 2024-08-23 15:48:20 mlp:199] Using custom ESM2 GELU function instead of the default NeMo version\n",
      "[NeMo W 2024-08-23 15:48:20 attention:87] Using custom ESM2 attention instead of the default NeMo version\n",
      "[NeMo W 2024-08-23 15:48:20 mlp:199] Using custom ESM2 GELU function instead of the default NeMo version\n",
      "[NeMo W 2024-08-23 15:48:20 attention:87] Using custom ESM2 attention instead of the default NeMo version\n",
      "[NeMo W 2024-08-23 15:48:20 mlp:199] Using custom ESM2 GELU function instead of the default NeMo version\n",
      "[NeMo W 2024-08-23 15:48:20 attention:87] Using custom ESM2 attention instead of the default NeMo version\n",
      "[NeMo W 2024-08-23 15:48:20 mlp:199] Using custom ESM2 GELU function instead of the default NeMo version\n",
      "[NeMo W 2024-08-23 15:48:20 attention:87] Using custom ESM2 attention instead of the default NeMo version\n",
      "[NeMo W 2024-08-23 15:48:20 mlp:199] Using custom ESM2 GELU function instead of the default NeMo version\n",
      "[NeMo W 2024-08-23 15:48:20 attention:87] Using custom ESM2 attention instead of the default NeMo version\n",
      "[NeMo W 2024-08-23 15:48:20 mlp:199] Using custom ESM2 GELU function instead of the default NeMo version\n",
      "[NeMo W 2024-08-23 15:48:20 attention:87] Using custom ESM2 attention instead of the default NeMo version\n",
      "[NeMo W 2024-08-23 15:48:20 mlp:199] Using custom ESM2 GELU function instead of the default NeMo version\n",
      "[NeMo W 2024-08-23 15:48:20 attention:87] Using custom ESM2 attention instead of the default NeMo version\n",
      "[NeMo W 2024-08-23 15:48:20 mlp:199] Using custom ESM2 GELU function instead of the default NeMo version\n"
     ]
    },
    {
     "name": "stdout",
     "output_type": "stream",
     "text": [
      "[NeMo I 2024-08-23 15:48:28 nlp_overrides:401] Model ESM2nvModel was successfully restored from /workspace/bionemo/models/protein/esm2nv/esm2nv_3B_converted.nemo.\n",
      "Loaded a <class 'bionemo.model.protein.esm1nv.infer.ESM1nvInference'>\n"
     ]
    }
   ],
   "source": [
    "from bionemo.triton.utils import load_model_for_inference\n",
    "from bionemo.model.protein.esm1nv.infer import ESM1nvInference\n",
    "\n",
    "inferer = load_model_for_inference(cfg, interactive=True)\n",
    "\n",
    "print(f\"Loaded a {type(inferer)}\")\n",
    "assert isinstance(inferer, ESM1nvInference)"
   ]
  },
  {
   "cell_type": "markdown",
   "id": "90e5ffa4",
   "metadata": {},
   "source": [
    "### Turn off post_process\n",
    "\n",
    "After loading, we switch off post processing so that the inferer still returns hidden states like we expect."
   ]
  },
  {
   "cell_type": "code",
   "execution_count": 7,
   "id": "08965174",
   "metadata": {},
   "outputs": [],
   "source": [
    "inferer.model.model.post_process = False"
   ]
  },
  {
   "cell_type": "markdown",
   "id": "8296853f",
   "metadata": {},
   "source": [
    "### Sequence to Hidden States\n",
    "\n",
    "__`seq_to_hiddens`__ queries the model to fetch the encoder hiddens states for the input protein sequence. `pad_mask` is returned with `hidden_states` and contains padding information  "
   ]
  },
  {
   "cell_type": "code",
   "execution_count": 8,
   "id": "6b67b1eb",
   "metadata": {},
   "outputs": [
    {
     "name": "stdout",
     "output_type": "stream",
     "text": [
      "hidden_states.shape=torch.Size([2, 43, 2560])\n",
      "pad_masks.shape=torch.Size([2, 43])\n"
     ]
    }
   ],
   "source": [
    "hidden_states, pad_masks = inferer.seq_to_hiddens(seqs)\n",
    "print(f\"{hidden_states.shape=}\")\n",
    "print(f\"{pad_masks.shape=}\")\n",
    "assert tuple(hidden_states.shape) == (2, 43, 2560)  # ESM2nv has 2560 dimensions\n",
    "assert tuple(pad_masks.shape) == (2, 43)"
   ]
  },
  {
   "cell_type": "code",
   "execution_count": 9,
   "id": "50280b72",
   "metadata": {},
   "outputs": [
    {
     "data": {
      "text/plain": [
       "tensor([[False,  True,  True,  True,  True,  True,  True,  True,  True,  True,\n",
       "          True,  True,  True,  True,  True,  True,  True,  True,  True,  True,\n",
       "          True,  True,  True,  True,  True,  True,  True,  True,  True,  True,\n",
       "          True,  True,  True,  True,  True,  True,  True,  True,  True,  True,\n",
       "          True,  True, False],\n",
       "        [False,  True,  True,  True,  True,  True,  True,  True,  True,  True,\n",
       "          True,  True,  True,  True,  True,  True,  True,  True,  True,  True,\n",
       "          True,  True,  True,  True,  True,  True,  True,  True,  True,  True,\n",
       "          True,  True,  True,  True,  True,  True,  True,  True,  True,  True,\n",
       "         False, False, False]], device='cuda:0')"
      ]
     },
     "execution_count": 9,
     "metadata": {},
     "output_type": "execute_result"
    }
   ],
   "source": [
    "# Check pad_masks\n",
    "pad_masks"
   ]
  },
  {
   "cell_type": "markdown",
   "id": "d1408be6",
   "metadata": {},
   "source": [
    "### Language model head\n",
    "\n",
    "Helpers for working with the ESM2nv BERT LM head.\n",
    "\n",
    "The tokenizer has classpath: `nemo.collections.common.tokenizers.huggingface.auto_tokenizer.AutoTokenizer`\n",
    "\n",
    "The source code for this should be findable on the BioNeMo Docker image at:\n",
    "```\n",
    "/usr/local/lib/python3.10/dist-packages/nemo/collections/common/tokenizers/huggingface/auto_tokenizer.py\n",
    "```"
   ]
  },
  {
   "cell_type": "code",
   "execution_count": 10,
   "id": "3b2ca899",
   "metadata": {},
   "outputs": [
    {
     "data": {
      "text/plain": [
       "BertLMHead(\n",
       "  (dense): Linear(in_features=2560, out_features=2560, bias=True)\n",
       "  (layernorm): MixedFusedLayerNorm(torch.Size([2560]), eps=1e-05, elementwise_affine=True)\n",
       ")"
      ]
     },
     "execution_count": 10,
     "metadata": {},
     "output_type": "execute_result"
    }
   ],
   "source": [
    "# Check we have the lm_head\n",
    "inferer.model.model.lm_head"
   ]
  },
  {
   "cell_type": "code",
   "execution_count": 11,
   "id": "9b60de9e",
   "metadata": {},
   "outputs": [
    {
     "data": {
      "text/plain": [
       "['<cls>',\n",
       " '<pad>',\n",
       " '<eos>',\n",
       " '<unk>',\n",
       " 'L',\n",
       " 'A',\n",
       " 'G',\n",
       " 'V',\n",
       " 'S',\n",
       " 'E',\n",
       " 'R',\n",
       " 'T',\n",
       " 'I',\n",
       " 'D',\n",
       " 'P',\n",
       " 'K',\n",
       " 'Q',\n",
       " 'N',\n",
       " 'F',\n",
       " 'Y',\n",
       " 'M',\n",
       " 'H',\n",
       " 'W',\n",
       " 'C',\n",
       " 'X',\n",
       " 'B',\n",
       " 'U',\n",
       " 'Z',\n",
       " 'O',\n",
       " '.',\n",
       " '-',\n",
       " '<null_1>',\n",
       " '<mask>']"
      ]
     },
     "execution_count": 11,
     "metadata": {},
     "output_type": "execute_result"
    }
   ],
   "source": [
    "# Check vocabulary\n",
    "inferer.tokenizer.vocab"
   ]
  },
  {
   "cell_type": "code",
   "execution_count": 12,
   "id": "ca3b526f",
   "metadata": {},
   "outputs": [],
   "source": [
    "def hidden_states_to_logits(hidden_states):\n",
    "    \"\"\"Take hidden_states from inferer.seq_to_hiddens(seqs) and apply the LM head.\n",
    "    \n",
    "    hidden_states.shape: <n_batch, n_max_seq_length_for_batch, 2560 hidden state dimensions>\n",
    "    \n",
    "    The logit shape has a fixed length of 128 tokens, however, ESM2nv only uses a vocabulary of 33.\n",
    "    So, we pare down to only the relevant vocabulary classes.\n",
    "    \"\"\"\n",
    "    with autocast(enabled=inferer.model.enable_autocast):\n",
    "        lm_out = inferer.model.model.lm_head(hidden_states, inferer.model.model.word_embeddings_weight())\n",
    "    logits = lm_out[:, :, :inferer.tokenizer.vocab_size]\n",
    "    return logits"
   ]
  },
  {
   "cell_type": "markdown",
   "id": "12fed255",
   "metadata": {},
   "source": [
    "### Example 1a: Proba heatmap\n",
    "\n",
    "1. Get logits for a batch of seqs\n",
    "2. Pick a seq of interest\n",
    "3. Drop padding mask, which includes dropping SOS and EOS tokens too\n",
    "4. Apply softmax to convert logits to probabilities\n",
    "5. Make a fun heatmp viz"
   ]
  },
  {
   "cell_type": "code",
   "execution_count": 13,
   "id": "163ee36e",
   "metadata": {},
   "outputs": [
    {
     "data": {
      "text/plain": [
       "torch.Size([39, 33])"
      ]
     },
     "execution_count": 13,
     "metadata": {},
     "output_type": "execute_result"
    }
   ],
   "source": [
    "batch_logits = hidden_states_to_logits(hidden_states)\n",
    "\n",
    "i_seq_of_interest = 1\n",
    "logits = batch_logits[i_seq_of_interest]\n",
    "logits = logits[pad_masks[i_seq_of_interest]]\n",
    "\n",
    "logits.shape"
   ]
  },
  {
   "cell_type": "code",
   "execution_count": 14,
   "id": "d829b43e",
   "metadata": {},
   "outputs": [
    {
     "data": {
      "text/plain": [
       "Text(0.5, 0, 'Position')"
      ]
     },
     "execution_count": 14,
     "metadata": {},
     "output_type": "execute_result"
    },
    {
     "data": {
      "image/png": "[encoded data removed]",
      "text/plain": [
       "<Figure size 800x600 with 2 Axes>"
      ]
     },
     "metadata": {},
     "output_type": "display_data"
    }
   ],
   "source": [
    "probas = torch.softmax(logits, dim=-1).detach().cpu().numpy()\n",
    "\n",
    "fig, ax = plt.subplots(figsize=(8, 6))\n",
    "ms = ax.matshow(probas.T, cmap=\"viridis\")\n",
    "ax.set_yticks(range(len(inferer.tokenizer.vocab)))\n",
    "ax.set_yticklabels(inferer.tokenizer.vocab)\n",
    "fig.colorbar(ms)\n",
    "plt.ylabel(\"Token\")\n",
    "plt.xlabel(\"Position\")"
   ]
  },
  {
   "cell_type": "markdown",
   "id": "db02dc12",
   "metadata": {},
   "source": [
    "### Example 1b: Argmax\n",
    "\n",
    "1. Translate the logits/probas back into sequence space via argmax"
   ]
  },
  {
   "cell_type": "code",
   "execution_count": 15,
   "id": "d3b0abb1",
   "metadata": {},
   "outputs": [
    {
     "data": {
      "text/plain": [
       "'MIQSQINRNIRLDLADAILLSKAKKDLSFAEIADGTGLA'"
      ]
     },
     "metadata": {},
     "output_type": "display_data"
    },
    {
     "data": {
      "text/plain": [
       "'                                       '"
      ]
     },
     "metadata": {},
     "output_type": "display_data"
    },
    {
     "data": {
      "text/plain": [
       "'MIQSQINRNIRLDLADAILLSKAKKDLSFAEIADGTGLA'"
      ]
     },
     "metadata": {},
     "output_type": "display_data"
    }
   ],
   "source": [
    "# Argmax and compare prediction/reconstruction to true/input\n",
    "pred_idx_list = np.argmax(probas, axis=-1).tolist()\n",
    "true_idx_list = inferer.tokenizer.text_to_ids(seqs[i_seq_of_interest])\n",
    "\n",
    "pred_seq = inferer.tokenizer.ids_to_text(pred_idx_list).replace(\" \", \"\")\n",
    "true_seq = inferer.tokenizer.ids_to_text(true_idx_list).replace(\" \", \"\")\n",
    "\n",
    "display(pred_seq)\n",
    "display(\n",
    "    \"\".join(\n",
    "        [\" \" if a == b else \"|\" for a, b in zip(pred_seq, true_seq)]\n",
    "    )\n",
    ")\n",
    "display(true_seq)"
   ]
  },
  {
   "cell_type": "markdown",
   "id": "b79dd1ca",
   "metadata": {},
   "source": [
    "I guess it does pretty perfect for Nvidia's little peptide examples! Easy when there's no masking."
   ]
  },
  {
   "cell_type": "markdown",
   "id": "2d783a12",
   "metadata": {},
   "source": [
    "### Example 1c: Compute log-proba of the sequence\n",
    "\n",
    "Given the reconstruction may not always be perfect, but we do know the exact input, we pluck out the posterior probas of the input tokens.\n",
    "\n",
    "1. Extract the input probas\n",
    "2. Log transform\n",
    "3. Sum"
   ]
  },
  {
   "cell_type": "code",
   "execution_count": 16,
   "id": "04140921",
   "metadata": {},
   "outputs": [],
   "source": [
    "rows = np.arange(len(true_idx_list))\n",
    "cols = np.asarray(true_idx_list)"
   ]
  },
  {
   "cell_type": "code",
   "execution_count": 17,
   "id": "6f2551a4",
   "metadata": {},
   "outputs": [
    {
     "data": {
      "text/plain": [
       "-16.872187"
      ]
     },
     "execution_count": 17,
     "metadata": {},
     "output_type": "execute_result"
    }
   ],
   "source": [
    "# Log posterior probability\n",
    "seq_log_proba = np.log(probas[rows, cols]).sum()\n",
    "seq_log_proba"
   ]
  },
  {
   "cell_type": "code",
   "execution_count": 18,
   "id": "f4aeaf1c",
   "metadata": {},
   "outputs": [
    {
     "data": {
      "text/plain": [
       "0.6736497"
      ]
     },
     "execution_count": 18,
     "metadata": {},
     "output_type": "execute_result"
    }
   ],
   "source": [
    "# Arithmetic mean probability\n",
    "np.mean(probas[rows, cols])"
   ]
  },
  {
   "cell_type": "code",
   "execution_count": 19,
   "id": "5ad16036",
   "metadata": {},
   "outputs": [
    {
     "data": {
      "text/plain": [
       "0.64880687"
      ]
     },
     "execution_count": 19,
     "metadata": {},
     "output_type": "execute_result"
    }
   ],
   "source": [
    "# Geometric mean probability\n",
    "gmean(probas[rows, cols])"
   ]
  },
  {
   "cell_type": "markdown",
   "id": "89828233",
   "metadata": {},
   "source": [
    "### Example 2: Mask some individual positions\n",
    "\n",
    "1. Make some masks\n",
    "2. Run the whole shebang to get probas of the masked token(s)"
   ]
  },
  {
   "cell_type": "code",
   "execution_count": 20,
   "id": "f2196762",
   "metadata": {},
   "outputs": [],
   "source": [
    "MASK_TOKEN = \"<mask>\"\n",
    "\n",
    "seqs = [\n",
    "    \"MIQSQINRNIRLDLADAILLSKAKKDLSFAEIADGTGLA\",  # original unmasked sequence\n",
    "    \"MIQ\" + MASK_TOKEN + \"QINRNIRLDLADAILLSKAKKDLSFAEIADGTGLA\",\n",
    "    \"MIQSQINRNIRLDLADAILLSKAKKDLSFAEIADGT\" + MASK_TOKEN + \"LA\"\n",
    "]\n",
    "\n",
    "hidden_states, pad_masks = inferer.seq_to_hiddens(seqs)\n",
    "batch_logits = hidden_states_to_logits(hidden_states)"
   ]
  },
  {
   "cell_type": "code",
   "execution_count": 21,
   "id": "4b67e514",
   "metadata": {},
   "outputs": [
    {
     "data": {
      "text/plain": [
       "array([1.9166275e-07, 1.5486411e-09, 3.4502878e-07, 1.5426036e-09,\n",
       "       7.3410109e-02, 4.6226468e-02, 3.6018379e-02, 3.9589096e-02,\n",
       "       6.5328188e-02, 8.7341182e-02, 6.3079573e-02, 5.6578685e-02,\n",
       "       6.7858428e-02, 4.7990602e-02, 4.4281568e-02, 1.2072847e-01,\n",
       "       5.4917075e-02, 7.1816191e-02, 3.7468623e-02, 3.0051233e-02,\n",
       "       1.9892376e-02, 2.3158453e-02, 7.0716641e-03, 7.1327849e-03,\n",
       "       5.9859522e-05, 1.7830074e-07, 5.7323231e-08, 1.3913223e-07,\n",
       "       1.0480195e-08, 9.9807584e-09, 9.5423260e-09, 9.2668211e-09,\n",
       "       1.5486411e-09], dtype=float32)"
      ]
     },
     "execution_count": 21,
     "metadata": {},
     "output_type": "execute_result"
    }
   ],
   "source": [
    "i_seq_of_interest = 1\n",
    "logits = batch_logits[i_seq_of_interest]\n",
    "logits = logits[pad_masks[i_seq_of_interest]]\n",
    "\n",
    "probas = torch.softmax(logits, dim=-1).detach().cpu().numpy()\n",
    "probas[3]  # position of mask"
   ]
  },
  {
   "cell_type": "code",
   "execution_count": 22,
   "id": "0ba4a7b9",
   "metadata": {},
   "outputs": [
    {
     "data": {
      "text/plain": [
       "[('K', 15, 0.12072847),\n",
       " ('E', 9, 0.08734118),\n",
       " ('L', 4, 0.07341011),\n",
       " ('N', 17, 0.07181619),\n",
       " ('I', 12, 0.06785843),\n",
       " ('S', 8, 0.06532819),\n",
       " ('R', 10, 0.06307957),\n",
       " ('T', 11, 0.056578685),\n",
       " ('Q', 16, 0.054917075),\n",
       " ('D', 13, 0.0479906),\n",
       " ('A', 5, 0.046226468),\n",
       " ('P', 14, 0.04428157),\n",
       " ('V', 7, 0.039589096),\n",
       " ('F', 18, 0.037468623),\n",
       " ('G', 6, 0.03601838),\n",
       " ('Y', 19, 0.030051233),\n",
       " ('H', 21, 0.023158453),\n",
       " ('M', 20, 0.019892376),\n",
       " ('C', 23, 0.007132785),\n",
       " ('W', 22, 0.007071664),\n",
       " ('X', 24, 5.985952e-05),\n",
       " ('<eos>', 2, 3.4502878e-07),\n",
       " ('<cls>', 0, 1.9166275e-07),\n",
       " ('B', 25, 1.7830074e-07),\n",
       " ('Z', 27, 1.3913223e-07),\n",
       " ('U', 26, 5.732323e-08),\n",
       " ('O', 28, 1.0480195e-08),\n",
       " ('.', 29, 9.980758e-09),\n",
       " ('-', 30, 9.542326e-09),\n",
       " ('<null_1>', 31, 9.266821e-09),\n",
       " ('<pad>', 1, 1.5486411e-09),\n",
       " ('<mask>', 32, 1.5486411e-09),\n",
       " ('<unk>', 3, 1.5426036e-09)]"
      ]
     },
     "execution_count": 22,
     "metadata": {},
     "output_type": "execute_result"
    }
   ],
   "source": [
    "tmp_sort = sorted(enumerate(probas[3]), key=lambda x: x[1], reverse=True)\n",
    "tmp = [(inferer.tokenizer.vocab[i], i, p) for i, p in tmp_sort]\n",
    "tmp"
   ]
  },
  {
   "cell_type": "markdown",
   "id": "b9f736b3",
   "metadata": {},
   "source": [
    "Hmm, ranks the original amino acid (S) at 6-th most probable."
   ]
  },
  {
   "cell_type": "code",
   "execution_count": 23,
   "id": "31a88fca",
   "metadata": {},
   "outputs": [
    {
     "data": {
      "text/plain": [
       "array([2.0837189e-07, 1.6318511e-09, 6.6870302e-07, 1.6640366e-09,\n",
       "       5.7541151e-02, 5.4016158e-02, 2.8374764e-01, 3.8689706e-02,\n",
       "       5.4144058e-02, 4.3888409e-02, 5.2961290e-02, 3.1744529e-02,\n",
       "       4.1950762e-02, 4.8703197e-02, 2.4969662e-02, 6.0563575e-02,\n",
       "       2.7469456e-02, 6.0747180e-02, 3.2279260e-02, 2.5098775e-02,\n",
       "       1.2670239e-02, 2.8788622e-02, 6.4930846e-03, 1.3152466e-02,\n",
       "       3.7891296e-04, 4.4371561e-07, 2.6237984e-07, 2.0275142e-07,\n",
       "       1.4976942e-08, 8.8389509e-09, 1.0850882e-08, 1.1261116e-08,\n",
       "       1.6705494e-09], dtype=float32)"
      ]
     },
     "execution_count": 23,
     "metadata": {},
     "output_type": "execute_result"
    }
   ],
   "source": [
    "i_seq_of_interest = 2\n",
    "logits = batch_logits[i_seq_of_interest]\n",
    "logits = logits[pad_masks[i_seq_of_interest]]\n",
    "\n",
    "probas = torch.softmax(logits, dim=-1).detach().cpu().numpy()\n",
    "probas[-3]  # position of mask"
   ]
  },
  {
   "cell_type": "code",
   "execution_count": 24,
   "id": "14173f9b",
   "metadata": {},
   "outputs": [
    {
     "data": {
      "text/plain": [
       "[('G', 6, 0.28374764),\n",
       " ('N', 17, 0.06074718),\n",
       " ('K', 15, 0.060563575),\n",
       " ('L', 4, 0.05754115),\n",
       " ('S', 8, 0.05414406),\n",
       " ('A', 5, 0.054016158),\n",
       " ('R', 10, 0.05296129),\n",
       " ('D', 13, 0.048703197),\n",
       " ('E', 9, 0.04388841),\n",
       " ('I', 12, 0.041950762),\n",
       " ('V', 7, 0.038689706),\n",
       " ('F', 18, 0.03227926),\n",
       " ('T', 11, 0.03174453),\n",
       " ('H', 21, 0.028788622),\n",
       " ('Q', 16, 0.027469456),\n",
       " ('Y', 19, 0.025098775),\n",
       " ('P', 14, 0.024969662),\n",
       " ('C', 23, 0.013152466),\n",
       " ('M', 20, 0.012670239),\n",
       " ('W', 22, 0.0064930846),\n",
       " ('X', 24, 0.00037891296),\n",
       " ('<eos>', 2, 6.68703e-07),\n",
       " ('B', 25, 4.437156e-07),\n",
       " ('U', 26, 2.6237984e-07),\n",
       " ('<cls>', 0, 2.0837189e-07),\n",
       " ('Z', 27, 2.0275142e-07),\n",
       " ('O', 28, 1.4976942e-08),\n",
       " ('<null_1>', 31, 1.1261116e-08),\n",
       " ('-', 30, 1.0850882e-08),\n",
       " ('.', 29, 8.838951e-09),\n",
       " ('<mask>', 32, 1.6705494e-09),\n",
       " ('<unk>', 3, 1.6640366e-09),\n",
       " ('<pad>', 1, 1.6318511e-09)]"
      ]
     },
     "execution_count": 24,
     "metadata": {},
     "output_type": "execute_result"
    }
   ],
   "source": [
    "tmp_sort = sorted(enumerate(probas[-3]), key=lambda x: x[1], reverse=True)\n",
    "tmp = [(inferer.tokenizer.vocab[i], i, p) for i, p in tmp_sort]\n",
    "tmp"
   ]
  },
  {
   "cell_type": "markdown",
   "id": "a2bdee98",
   "metadata": {},
   "source": [
    "Seems to like the original amino acid (G) here as most probable."
   ]
  },
  {
   "cell_type": "markdown",
   "id": "38e49840",
   "metadata": {},
   "source": [
    "### Ignoring non-canonical amino acid tokens\n",
    "\n",
    "Often we only want our model to predict real amino acids, not the special tokens or unknowns. To do so, we can effectively mask tokens by adding negative infinity to the logits, forcing the softmax to yield zero probability for ignored tokens."
   ]
  },
  {
   "cell_type": "code",
   "execution_count": 25,
   "id": "90ac268c",
   "metadata": {},
   "outputs": [],
   "source": [
    "IDX_TO_TOKEN = inferer.tokenizer.vocab\n",
    "TOKEN_TO_IDX = {t: i for i, t in enumerate(IDX_TO_TOKEN)}"
   ]
  },
  {
   "cell_type": "code",
   "execution_count": 26,
   "id": "c7d27293",
   "metadata": {},
   "outputs": [
    {
     "data": {
      "text/plain": [
       "tensor([-inf, -inf, -inf, -inf, 0., 0., 0., 0., 0., 0., 0., 0., 0., 0., 0., 0., 0., 0., 0., 0., 0., 0., 0., 0.,\n",
       "        -inf, -inf, -inf, -inf, -inf, -inf, -inf, -inf, -inf])"
      ]
     },
     "execution_count": 26,
     "metadata": {},
     "output_type": "execute_result"
    }
   ],
   "source": [
    "mask_ignore = torch.zeros(len(IDX_TO_TOKEN), dtype=torch.float32)\n",
    "\n",
    "tokens_to_ignore = [\n",
    "   \"<cls>\", \"<eos>\", \"<null_1>\", \"<mask>\", \"<unk>\", \"<pad>\", \"-\", \".\", \"X\", \"B\", \"U\", \"Z\", \"O\"\n",
    "]\n",
    "\n",
    "for t in tokens_to_ignore:\n",
    "    mask_ignore[TOKEN_TO_IDX[t]] = -torch.inf\n",
    "    \n",
    "mask_ignore"
   ]
  },
  {
   "cell_type": "code",
   "execution_count": 27,
   "id": "a7446e21",
   "metadata": {},
   "outputs": [
    {
     "data": {
      "text/plain": [
       "array([0.        , 0.        , 0.        , 0.        , 0.05756307,\n",
       "       0.05403673, 0.2838557 , 0.03870444, 0.05416469, 0.04390512,\n",
       "       0.05298146, 0.03175662, 0.04196674, 0.04872175, 0.02497917,\n",
       "       0.06058664, 0.02747992, 0.06077031, 0.03229155, 0.02510833,\n",
       "       0.01267506, 0.02879959, 0.00649556, 0.01315747, 0.        ,\n",
       "       0.        , 0.        , 0.        , 0.        , 0.        ,\n",
       "       0.        , 0.        , 0.        ], dtype=float32)"
      ]
     },
     "execution_count": 27,
     "metadata": {},
     "output_type": "execute_result"
    }
   ],
   "source": [
    "i_seq_of_interest = 2\n",
    "logits = batch_logits[i_seq_of_interest]\n",
    "logits = logits[pad_masks[i_seq_of_interest]].detach().cpu()\n",
    "\n",
    "# Add the ignore mask\n",
    "probas = torch.softmax(logits + mask_ignore, dim=-1).detach().cpu().numpy()\n",
    "probas[-3]  # position of mask"
   ]
  },
  {
   "cell_type": "code",
   "execution_count": 28,
   "id": "352ac14d",
   "metadata": {},
   "outputs": [
    {
     "data": {
      "text/plain": [
       "[('G', 6, 0.2838557),\n",
       " ('N', 17, 0.06077031),\n",
       " ('K', 15, 0.06058664),\n",
       " ('L', 4, 0.057563066),\n",
       " ('S', 8, 0.054164685),\n",
       " ('A', 5, 0.05403673),\n",
       " ('R', 10, 0.05298146),\n",
       " ('D', 13, 0.04872175),\n",
       " ('E', 9, 0.04390512),\n",
       " ('I', 12, 0.04196674),\n",
       " ('V', 7, 0.038704436),\n",
       " ('F', 18, 0.032291554),\n",
       " ('T', 11, 0.031756617),\n",
       " ('H', 21, 0.028799586),\n",
       " ('Q', 16, 0.027479919),\n",
       " ('Y', 19, 0.025108332),\n",
       " ('P', 14, 0.02497917),\n",
       " ('C', 23, 0.013157475),\n",
       " ('M', 20, 0.012675064),\n",
       " ('W', 22, 0.0064955573),\n",
       " ('<cls>', 0, 0.0),\n",
       " ('<pad>', 1, 0.0),\n",
       " ('<eos>', 2, 0.0),\n",
       " ('<unk>', 3, 0.0),\n",
       " ('X', 24, 0.0),\n",
       " ('B', 25, 0.0),\n",
       " ('U', 26, 0.0),\n",
       " ('Z', 27, 0.0),\n",
       " ('O', 28, 0.0),\n",
       " ('.', 29, 0.0),\n",
       " ('-', 30, 0.0),\n",
       " ('<null_1>', 31, 0.0),\n",
       " ('<mask>', 32, 0.0)]"
      ]
     },
     "execution_count": 28,
     "metadata": {},
     "output_type": "execute_result"
    }
   ],
   "source": [
    "tmp_sort = sorted(enumerate(probas[-3]), key=lambda x: x[1], reverse=True)\n",
    "tmp = [(inferer.tokenizer.vocab[i], i, p) for i, p in tmp_sort]\n",
    "tmp"
   ]
  },
  {
   "cell_type": "markdown",
   "id": "d3cdcc2f",
   "metadata": {},
   "source": [
    "The tokens we wanted to ignore all have exactly zero probability!"
   ]
  },
  {
   "cell_type": "markdown",
   "id": "f327318e",
   "metadata": {},
   "source": [
    "### Temperature\n",
    "\n",
    "Sometimes we want to increase or decrease the randomness of our probabilities for sampling. This can be done easily by dividing logits by a \"temperature\" scalar prior to applying the softmax function. As temperature increases, the probabilities approach uniform, equally probable. As the temperature decreases, the probabilities approach argmax."
   ]
  },
  {
   "cell_type": "code",
   "execution_count": 29,
   "id": "a8da1d87",
   "metadata": {},
   "outputs": [
    {
     "data": {
      "text/plain": [
       "[('G', 6, 0.7146954),\n",
       " ('N', 17, 0.03275734),\n",
       " ('K', 15, 0.03255963),\n",
       " ('L', 4, 0.029390948),\n",
       " ('S', 8, 0.026023047),\n",
       " ('A', 5, 0.025900245),\n",
       " ('R', 10, 0.02489852),\n",
       " ('D', 13, 0.021055784),\n",
       " ('E', 9, 0.017098425),\n",
       " ('I', 12, 0.015621983),\n",
       " ('V', 7, 0.0132876225),\n",
       " ('F', 18, 0.009249189),\n",
       " ('T', 11, 0.008945287),\n",
       " ('H', 21, 0.007356957),\n",
       " ('Q', 16, 0.0066981767),\n",
       " ('Y', 19, 0.0055919266),\n",
       " ('P', 14, 0.0055345427),\n",
       " ('C', 23, 0.0015355743),\n",
       " ('M', 20, 0.0014250366),\n",
       " ('W', 22, 0.00037424723),\n",
       " ('<cls>', 0, 0.0),\n",
       " ('<pad>', 1, 0.0),\n",
       " ('<eos>', 2, 0.0),\n",
       " ('<unk>', 3, 0.0),\n",
       " ('X', 24, 0.0),\n",
       " ('B', 25, 0.0),\n",
       " ('U', 26, 0.0),\n",
       " ('Z', 27, 0.0),\n",
       " ('O', 28, 0.0),\n",
       " ('.', 29, 0.0),\n",
       " ('-', 30, 0.0),\n",
       " ('<null_1>', 31, 0.0),\n",
       " ('<mask>', 32, 0.0)]"
      ]
     },
     "execution_count": 29,
     "metadata": {},
     "output_type": "execute_result"
    }
   ],
   "source": [
    "# Reduce the temperature as compare to above\n",
    "temperature = 0.5\n",
    "\n",
    "i_seq_of_interest = 2\n",
    "logits = batch_logits[i_seq_of_interest]\n",
    "logits = logits[pad_masks[i_seq_of_interest]].detach().cpu()\n",
    "logits /= temperature\n",
    "\n",
    "# Add the ignore mask\n",
    "probas = torch.softmax(logits + mask_ignore, dim=-1).detach().cpu().numpy()\n",
    "\n",
    "tmp_sort = sorted(enumerate(probas[-3]), key=lambda x: x[1], reverse=True)\n",
    "tmp = [(inferer.tokenizer.vocab[i], i, p) for i, p in tmp_sort]\n",
    "tmp"
   ]
  },
  {
   "cell_type": "code",
   "execution_count": 30,
   "id": "67f6c42b",
   "metadata": {},
   "outputs": [
    {
     "data": {
      "text/plain": [
       "[('G', 6, 0.12961921),\n",
       " ('N', 17, 0.05997445),\n",
       " ('K', 15, 0.05988375),\n",
       " ('L', 4, 0.058370378),\n",
       " ('S', 8, 0.05662115),\n",
       " ('A', 5, 0.05655423),\n",
       " ('R', 10, 0.05599929),\n",
       " ('D', 13, 0.053700954),\n",
       " ('E', 9, 0.050977454),\n",
       " ('I', 12, 0.04983944),\n",
       " ('V', 7, 0.047863115),\n",
       " ('F', 18, 0.04371848),\n",
       " ('T', 11, 0.04335485),\n",
       " ('H', 21, 0.041287035),\n",
       " ('Q', 16, 0.040330008),\n",
       " ('Y', 19, 0.03855045),\n",
       " ('P', 14, 0.038451172),\n",
       " ('C', 23, 0.027906595),\n",
       " ('M', 20, 0.027390225),\n",
       " ('W', 22, 0.019607795),\n",
       " ('<cls>', 0, 0.0),\n",
       " ('<pad>', 1, 0.0),\n",
       " ('<eos>', 2, 0.0),\n",
       " ('<unk>', 3, 0.0),\n",
       " ('X', 24, 0.0),\n",
       " ('B', 25, 0.0),\n",
       " ('U', 26, 0.0),\n",
       " ('Z', 27, 0.0),\n",
       " ('O', 28, 0.0),\n",
       " ('.', 29, 0.0),\n",
       " ('-', 30, 0.0),\n",
       " ('<null_1>', 31, 0.0),\n",
       " ('<mask>', 32, 0.0)]"
      ]
     },
     "execution_count": 30,
     "metadata": {},
     "output_type": "execute_result"
    }
   ],
   "source": [
    "# Increase the temperature as compare to above\n",
    "temperature = 2.0\n",
    "\n",
    "i_seq_of_interest = 2\n",
    "logits = batch_logits[i_seq_of_interest]\n",
    "logits = logits[pad_masks[i_seq_of_interest]].detach().cpu()\n",
    "logits /= temperature\n",
    "\n",
    "# Add the ignore mask\n",
    "probas = torch.softmax(logits + mask_ignore, dim=-1).detach().cpu().numpy()\n",
    "\n",
    "tmp_sort = sorted(enumerate(probas[-3]), key=lambda x: x[1], reverse=True)\n",
    "tmp = [(inferer.tokenizer.vocab[i], i, p) for i, p in tmp_sort]\n",
    "tmp"
   ]
  },
  {
   "cell_type": "markdown",
   "id": "74732c0e",
   "metadata": {},
   "source": [
    "### Example 3: In-paint a bunch of masked tokens all in one go\n",
    "\n",
    "1. Mask a short contiguous part of a seq\n",
    "2. Unmask/in-paint all at once by taking the argmax\n",
    "3. Unmask/in-paint by sampling probabilities"
   ]
  },
  {
   "cell_type": "code",
   "execution_count": 31,
   "id": "03090ab5",
   "metadata": {},
   "outputs": [],
   "source": [
    "MASK_TOKEN = \"<mask>\"\n",
    "\n",
    "before = \"M\"\n",
    "n_contig = 8\n",
    "contig = \"\".join([MASK_TOKEN] * n_contig)\n",
    "after = \"IRLDLADAILLSKAKKDLSFAEIADGTGLA\"\n",
    "\n",
    "seqs = [\n",
    "    \"MIQSQINRNIRLDLADAILLSKAKKDLSFAEIADGTGLA\",  # original unmasked sequence\n",
    "    before + contig + after\n",
    "]\n",
    "\n",
    "hidden_states, pad_masks = inferer.seq_to_hiddens(seqs)\n",
    "batch_logits = hidden_states_to_logits(hidden_states)"
   ]
  },
  {
   "cell_type": "code",
   "execution_count": 32,
   "id": "e58b8e87",
   "metadata": {},
   "outputs": [],
   "source": [
    "# Use temperature and ignore mask\n",
    "temperature = 2.0\n",
    "\n",
    "i_seq_of_interest = 1\n",
    "logits = batch_logits[i_seq_of_interest]\n",
    "logits = logits[pad_masks[i_seq_of_interest]]\n",
    "logits /= temperature\n",
    "\n",
    "probas = torch.softmax(logits.cpu() + mask_ignore, dim=-1).detach().cpu().numpy()"
   ]
  },
  {
   "cell_type": "code",
   "execution_count": 33,
   "id": "c265aa33",
   "metadata": {},
   "outputs": [
    {
     "data": {
      "text/plain": [
       "'MAKLLLLEAIRLDLADAILLSKAKKDLSFAEIADGTGLA'"
      ]
     },
     "metadata": {},
     "output_type": "display_data"
    },
    {
     "data": {
      "text/plain": [
       "' ||||||||                              '"
      ]
     },
     "metadata": {},
     "output_type": "display_data"
    },
    {
     "data": {
      "text/plain": [
       "'MIQSQINRNIRLDLADAILLSKAKKDLSFAEIADGTGLA'"
      ]
     },
     "metadata": {},
     "output_type": "display_data"
    }
   ],
   "source": [
    "# argmax in-paint: only taken over the masked contig\n",
    "\n",
    "pred_idx_list = np.argmax(probas[len(before):len(before) + n_contig, :], axis=-1).tolist()\n",
    "in_paint = inferer.tokenizer.ids_to_text(pred_idx_list).replace(\" \", \"\")\n",
    "pred_seq = before + in_paint + after\n",
    "\n",
    "orig_seq = seqs[0]\n",
    "\n",
    "display(pred_seq)\n",
    "display(\n",
    "    \"\".join(\n",
    "        [\" \" if a == b else \"|\" for a, b in zip(pred_seq, orig_seq)]\n",
    "    )\n",
    ")\n",
    "display(orig_seq)"
   ]
  },
  {
   "cell_type": "code",
   "execution_count": 34,
   "id": "b59cd891",
   "metadata": {},
   "outputs": [],
   "source": [
    "foo = []\n",
    "for p in probas[len(before):len(before) + n_contig, :]:\n",
    "    i = np.random.choice(np.arange(len(p)), p=p)\n",
    "    foo.append(i)"
   ]
  },
  {
   "cell_type": "code",
   "execution_count": 35,
   "id": "70b4a305",
   "metadata": {},
   "outputs": [
    {
     "data": {
      "text/plain": [
       "'MKKEAYDRTIRLDLADAILLSKAKKDLSFAEIADGTGLA'"
      ]
     },
     "metadata": {},
     "output_type": "display_data"
    },
    {
     "data": {
      "text/plain": [
       "' |||||| |                              '"
      ]
     },
     "metadata": {},
     "output_type": "display_data"
    },
    {
     "data": {
      "text/plain": [
       "'MIQSQINRNIRLDLADAILLSKAKKDLSFAEIADGTGLA'"
      ]
     },
     "metadata": {},
     "output_type": "display_data"
    }
   ],
   "source": [
    "# probability sample in-paint: only taken over the masked contig\n",
    "\n",
    "np.random.seed(88888)\n",
    "\n",
    "pred_idx_list = []\n",
    "for p in probas[len(before):len(before) + n_contig, :]:\n",
    "    i = np.random.choice(np.arange(len(p)), p=p)\n",
    "    pred_idx_list.append(i)\n",
    "\n",
    "in_paint = inferer.tokenizer.ids_to_text(pred_idx_list).replace(\" \", \"\")\n",
    "pred_seq = before + in_paint + after\n",
    "\n",
    "orig_seq = seqs[0]\n",
    "\n",
    "display(pred_seq)\n",
    "display(\n",
    "    \"\".join(\n",
    "        [\" \" if a == b else \"|\" for a, b in zip(pred_seq, orig_seq)]\n",
    "    )\n",
    ")\n",
    "display(orig_seq)"
   ]
  },
  {
   "cell_type": "code",
   "execution_count": null,
   "id": "2aef2c73",
   "metadata": {},
   "outputs": [],
   "source": []
  }
 ],
 "metadata": {
  "kernelspec": {
   "display_name": "Python 3 (ipykernel)",
   "language": "python",
   "name": "python3"
  },
  "language_info": {
   "codemirror_mode": {
    "name": "ipython",
    "version": 3
   },
   "file_extension": ".py",
   "mimetype": "text/x-python",
   "name": "python",
   "nbconvert_exporter": "python",
   "pygments_lexer": "ipython3",
   "version": "3.10.12"
  },
  "vscode": {
   "interpreter": {
    "hash": "767d51c1340bd893661ea55ea3124f6de3c7a262a8b4abca0554b478b1e2ff90"
   }
  }
 },
 "nbformat": 4,
 "nbformat_minor": 5
}
