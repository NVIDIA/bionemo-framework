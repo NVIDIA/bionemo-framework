{
 "cells": [
  {
   "cell_type": "markdown",
   "id": "bfcc59c3",
   "metadata": {},
   "source": [
    "# Inference Sample for ESM1nv\n",
    "\n",
    "Copyright (c) 2022, NVIDIA CORPORATION. Licensed under the Apache License, Version 2.0 (the \"License\") you may not use this file except in compliance with the License. You may obtain a copy of the License at\n",
    "\n",
    "http://www.apache.org/licenses/LICENSE-2.0\n",
    "\n",
    "Unless required by applicable law or agreed to in writing, software distributed under the License is distributed on an \"AS IS\" BASIS, WITHOUT WARRANTIES OR CONDITIONS OF ANY KIND, either express or implied. See the License for the specific language governing permissions and limitations under the License.\n",
    "\n",
    "\n",
    "### Prerequisite\n",
    "\n",
    "- Linux OS\n",
    "- Pascal, Volta, Turing, or an NVIDIA Ampere architecture-based GPU.\n",
    "- NVIDIA Driver\n",
    "- Docker\n",
    "\n",
    "#### Import\n",
    "\n",
    "Components for inferencing are part of the BioNeMo ESM1nv source code. This notebook demonstrates the use of these components.\n",
    "\n",
    "__`ESMInferenceWrapper`__ implements __`seq_to_embedding`__ function to obtain encoder embeddings for the input protein sequence in text format. \n",
    "\n",
    "Note that gRPC limits request size to 4MB.\n",
    "\n"
   ]
  },
  {
   "cell_type": "code",
   "execution_count": 1,
   "id": "393cb84d",
   "metadata": {},
   "outputs": [],
   "source": [
    "from infer import ESMInferenceWrapper\n",
    "\n",
    "import logging\n",
    "import warnings\n",
    "warnings.filterwarnings('ignore')\n",
    "warnings.simplefilter('ignore')"
   ]
  },
  {
   "cell_type": "markdown",
   "id": "41b3021a",
   "metadata": {},
   "source": [
    "### Setup and Test Data\n",
    "\n",
    "__`ESMInferenceWrapper`__ is an adaptor that allows interaction with inference service.\n",
    "\n",
    "Please note that the batch size (number of sequences submitted for embedding inferencing), in other words, inference throughput, may be limited by the compute capacity of the inferencing node hosting the model. "
   ]
  },
  {
   "cell_type": "code",
   "execution_count": 2,
   "id": "409118a7",
   "metadata": {},
   "outputs": [],
   "source": [
    "connection = ESMInferenceWrapper()\n",
    "\n",
    "seqs = ['MSLKRKNIALIPAAGIGVRFGADKPKQYVEIGSKTVLEHVL', 'MIQSQINRNIRLDLADAILLSKAKKDLSFAEIADGTGLA']"
   ]
  },
  {
   "cell_type": "markdown",
   "id": "91845758",
   "metadata": {},
   "source": [
    "### Sequence to Embedding\n",
    "\n",
    "__`seq_to_embedding`__ queries the model to fetch the encoder embedding for the input protein sequence."
   ]
  },
  {
   "cell_type": "code",
   "execution_count": 3,
   "id": "9e233d01",
   "metadata": {},
   "outputs": [
    {
     "data": {
      "text/plain": [
       "torch.Size([2, 43, 768])"
      ]
     },
     "execution_count": 3,
     "metadata": {},
     "output_type": "execute_result"
    }
   ],
   "source": [
    "embeddings = connection.seq_to_embedding(seqs)\n",
    "embeddings.shape"
   ]
  }
 ],
 "metadata": {
  "kernelspec": {
   "display_name": "Python 3.8.10 64-bit",
   "language": "python",
   "name": "python3"
  },
  "language_info": {
   "codemirror_mode": {
    "name": "ipython",
    "version": 3
   },
   "file_extension": ".py",
   "mimetype": "text/x-python",
   "name": "python",
   "nbconvert_exporter": "python",
   "pygments_lexer": "ipython3",
   "version": "3.8.10"
  },
  "vscode": {
   "interpreter": {
    "hash": "31f2aee4e71d21fbe5cf8b01ff0e069b9275f58929596ceb00d14d90e3e16cd6"
   }
  }
 },
 "nbformat": 4,
 "nbformat_minor": 5
}
